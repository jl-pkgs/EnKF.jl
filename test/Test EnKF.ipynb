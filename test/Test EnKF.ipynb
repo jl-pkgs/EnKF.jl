{
 "cells": [
  {
   "cell_type": "code",
   "execution_count": 1,
   "metadata": {},
   "outputs": [
    {
     "name": "stderr",
     "output_type": "stream",
     "text": [
      "\u001b[32m\u001b[1m  Activating\u001b[22m\u001b[39m project at `d:\\GitHub\\jl-pkgs\\EnKF.jl`\n"
     ]
    }
   ],
   "source": [
    "using Pkg;\n",
    "Pkg.activate(\"..\")\n",
    "using EnKF"
   ]
  },
  {
   "cell_type": "code",
   "execution_count": 3,
   "metadata": {},
   "outputs": [],
   "source": [
    "using Revise\n",
    "using EnKF\n",
    "using Distributions\n",
    "using LinearAlgebra"
   ]
  },
  {
   "cell_type": "code",
   "execution_count": 4,
   "metadata": {},
   "outputs": [
    {
     "data": {
      "text/plain": [
       "RealMeasurementFunction()"
      ]
     },
     "metadata": {},
     "output_type": "display_data"
    }
   ],
   "source": [
    "f = PropagationFunction()\n",
    "m = MeasurementFunction()\n",
    "z = RealMeasurementFunction()"
   ]
  },
  {
   "cell_type": "code",
   "execution_count": 5,
   "metadata": {},
   "outputs": [],
   "source": [
    "function (::PropagationFunction)(t::Float64, ENS::EnsembleState{N, TS}) where {N, TS}\n",
    "    return ENS  \n",
    "end"
   ]
  },
  {
   "cell_type": "code",
   "execution_count": 6,
   "metadata": {},
   "outputs": [
    {
     "ename": "ErrorException",
     "evalue": "too many parameters for type EnsembleState",
     "output_type": "error",
     "traceback": [
      "too many parameters for type EnsembleState\n",
      "\n",
      "Stacktrace:\n",
      " [1] top-level scope\n",
      "   @ d:\\GitHub\\jl-pkgs\\EnKF.jl\\test\\jl_notebook_cell_df34fa98e69747e1a8f8a730347b8e2f_W4sZmlsZQ==.jl:1"
     ]
    }
   ],
   "source": [
    "function (::MeasurementFunction)(t::Float64, mENS::EnsembleState{N, NZ, TZ},  ENS::EnsembleState{N, TS}) where {N, TS, NZ, TZ}\n",
    "    fill!(mENS, 1.01*ones(NZ))\n",
    "    return mENS\n",
    "end"
   ]
  },
  {
   "cell_type": "code",
   "execution_count": 35,
   "metadata": {},
   "outputs": [],
   "source": [
    "function (::MeasurementFunction)(t::Float64, S::Array{TS,1}) where {TS}\n",
    "    return 1.05*ones(NZ)\n",
    "end"
   ]
  },
  {
   "cell_type": "code",
   "execution_count": 36,
   "metadata": {},
   "outputs": [],
   "source": [
    "function (::RealMeasurementFunction)(t::Float64, zENS::EnsembleState{N, TZ}) where {N, TZ} \n",
    "    fill!(zENS, 1.01*ones(NZ))\n",
    "    return zENS\n",
    "end"
   ]
  },
  {
   "cell_type": "code",
   "execution_count": 37,
   "metadata": {},
   "outputs": [],
   "source": [
    "# constantly(1)"
   ]
  },
  {
   "cell_type": "markdown",
   "metadata": {},
   "source": [
    "#### Ensemble Kalman filter"
   ]
  },
  {
   "cell_type": "code",
   "execution_count": 41,
   "metadata": {},
   "outputs": [
    {
     "data": {
      "text/plain": [
       "false"
      ]
     },
     "execution_count": 41,
     "metadata": {},
     "output_type": "execute_result"
    }
   ],
   "source": [
    "N = 10\n",
    "NS = 3\n",
    "TS = Float64\n",
    "NZ = 5\n",
    "TZ = Float64\n",
    "β = MultiplicativeInflation(NS, 1.01)\n",
    "ϵ = AdditiveInflation(NZ)\n",
    "isinflated = true\n",
    "isaugmented = false"
   ]
  },
  {
   "cell_type": "code",
   "execution_count": 42,
   "metadata": {},
   "outputs": [
    {
     "data": {
      "text/plain": [
       "ENKF{10,Float64,5,Float64}(PropagationFunction(), MultiplicativeInflation{3}(1.01), MeasurementFunction(), RealMeasurementFunction(), AdditiveInflation{5}(IsoNormal(\n",
       "dim: 5\n",
       "μ: [0.0, 0.0, 0.0, 0.0, 0.0]\n",
       "Σ: [1.0 0.0 … 0.0 0.0; 0.0 1.0 … 0.0 0.0; … ; 0.0 0.0 … 1.0 0.0; 0.0 0.0 … 0.0 1.0]\n",
       ")\n",
       "), true, false)"
      ]
     },
     "execution_count": 42,
     "metadata": {},
     "output_type": "execute_result"
    }
   ],
   "source": [
    "enkf = ENKF{N, TS, NZ, TZ}(f, β, m, z, ϵ, isinflated, isaugmented)"
   ]
  },
  {
   "cell_type": "code",
   "execution_count": 43,
   "metadata": {},
   "outputs": [
    {
     "data": {
      "text/plain": [
       "EnsembleState{10,Array{Float64,1}}(Array{Float64,1}[[0.0, 0.0, 0.0], [0.0, 0.0, 0.0], [0.0, 0.0, 0.0], [0.0, 0.0, 0.0], [0.0, 0.0, 0.0], [0.0, 0.0, 0.0], [0.0, 0.0, 0.0], [0.0, 0.0, 0.0], [0.0, 0.0, 0.0], [0.0, 0.0, 0.0]])"
      ]
     },
     "execution_count": 43,
     "metadata": {},
     "output_type": "execute_result"
    }
   ],
   "source": [
    "ens = EnsembleState(N, zeros(NS))"
   ]
  },
  {
   "cell_type": "markdown",
   "metadata": {},
   "source": [
    "#### Initialize each ensemble member"
   ]
  },
  {
   "cell_type": "code",
   "execution_count": 44,
   "metadata": {},
   "outputs": [
    {
     "data": {
      "text/plain": [
       "EnsembleState{10,Array{Float64,1}}(Array{Float64,1}[[-1.14367, -0.0277021, 0.0853983], [0.884677, -0.879113, 1.42037], [-1.51733, -0.844301, -1.41058], [-2.79547, -1.11874, -0.256039], [-0.966595, -0.823062, -0.690766], [-0.598018, -0.323214, -0.346194], [-0.277284, -0.416709, 0.693069], [-1.21544, 0.782157, -1.94301], [3.66612, 0.0805916, -1.01547], [0.403568, 0.982476, -0.39372]])"
      ]
     },
     "execution_count": 44,
     "metadata": {},
     "output_type": "execute_result"
    }
   ],
   "source": [
    "initialize!(ens,zeros(NS))"
   ]
  },
  {
   "cell_type": "markdown",
   "metadata": {},
   "source": [
    "#### Propagate each ensemble member"
   ]
  },
  {
   "cell_type": "code",
   "execution_count": 45,
   "metadata": {},
   "outputs": [
    {
     "data": {
      "text/plain": [
       "EnsembleState{10,Array{Float64,1}}(Array{Float64,1}[[-1.14367, -0.0277021, 0.0853983], [0.884677, -0.879113, 1.42037], [-1.51733, -0.844301, -1.41058], [-2.79547, -1.11874, -0.256039], [-0.966595, -0.823062, -0.690766], [-0.598018, -0.323214, -0.346194], [-0.277284, -0.416709, 0.693069], [-1.21544, 0.782157, -1.94301], [3.66612, 0.0805916, -1.01547], [0.403568, 0.982476, -0.39372]])"
      ]
     },
     "execution_count": 45,
     "metadata": {},
     "output_type": "execute_result"
    }
   ],
   "source": [
    "enkf.f(0.0, ens)"
   ]
  },
  {
   "cell_type": "markdown",
   "metadata": {},
   "source": [
    "#### Apply convariance inflation"
   ]
  },
  {
   "cell_type": "code",
   "execution_count": 46,
   "metadata": {},
   "outputs": [
    {
     "data": {
      "text/plain": [
       "EnsembleState{10,Array{Float64,1}}(Array{Float64,1}[[-1.15155, -0.0253915, 0.0901092], [0.897083, -0.885317, 1.43843], [-1.52894, -0.850156, -1.42083], [-2.81987, -1.12734, -0.254743], [-0.972701, -0.828706, -0.693817], [-0.600439, -0.323858, -0.345799], [-0.276498, -0.418288, 0.703856], [-1.22403, 0.792566, -1.95858], [3.70634, 0.0839851, -1.02177], [0.411163, 0.994888, -0.3938]])"
      ]
     },
     "execution_count": 46,
     "metadata": {},
     "output_type": "execute_result"
    }
   ],
   "source": [
    "if isinflated ==true\n",
    "        enkf.A(ens)\n",
    "end"
   ]
  },
  {
   "cell_type": "code",
   "execution_count": 47,
   "metadata": {},
   "outputs": [
    {
     "data": {
      "text/plain": [
       "EnsembleState{10,Array{Float64,1}}(Array{Float64,1}[[-1.15155, -0.0253915, 0.0901092], [0.897083, -0.885317, 1.43843], [-1.52894, -0.850156, -1.42083], [-2.81987, -1.12734, -0.254743], [-0.972701, -0.828706, -0.693817], [-0.600439, -0.323858, -0.345799], [-0.276498, -0.418288, 0.703856], [-1.22403, 0.792566, -1.95858], [3.70634, 0.0839851, -1.02177], [0.411163, 0.994888, -0.3938]])"
      ]
     },
     "execution_count": 47,
     "metadata": {},
     "output_type": "execute_result"
    }
   ],
   "source": [
    "ens"
   ]
  },
  {
   "cell_type": "markdown",
   "metadata": {},
   "source": [
    "#### Compute mean and deviation"
   ]
  },
  {
   "cell_type": "code",
   "execution_count": 48,
   "metadata": {},
   "outputs": [
    {
     "data": {
      "text/plain": [
       "3-element Array{Float64,1}:\n",
       " -0.35594398274321193\n",
       " -0.2587614500210512 \n",
       " -0.3856941530052703 "
      ]
     },
     "execution_count": 48,
     "metadata": {},
     "output_type": "execute_result"
    }
   ],
   "source": [
    "Ŝ = deepcopy(mean(ens))"
   ]
  },
  {
   "cell_type": "code",
   "execution_count": 49,
   "metadata": {},
   "outputs": [
    {
     "data": {
      "text/plain": [
       "(10, (3,))"
      ]
     },
     "execution_count": 49,
     "metadata": {},
     "output_type": "execute_result"
    }
   ],
   "source": [
    "size(ens)"
   ]
  },
  {
   "cell_type": "code",
   "execution_count": 51,
   "metadata": {},
   "outputs": [
    {
     "data": {
      "text/plain": [
       "10"
      ]
     },
     "execution_count": 51,
     "metadata": {},
     "output_type": "execute_result"
    }
   ],
   "source": [
    "length(ens)"
   ]
  },
  {
   "cell_type": "code",
   "execution_count": 54,
   "metadata": {},
   "outputs": [
    {
     "data": {
      "text/plain": [
       "3×10 Array{Float64,2}:\n",
       " -0.795605   1.25303   -1.173     …  -0.868089   4.06229    0.767107 \n",
       "  0.23337   -0.626555  -0.591394      1.05133    0.342747   1.25365  \n",
       "  0.475803   1.82412   -1.03513      -1.57289   -0.636076  -0.0081062"
      ]
     },
     "execution_count": 54,
     "metadata": {},
     "output_type": "execute_result"
    }
   ],
   "source": [
    "ensfluc = EnsembleState(ens.S)\n",
    "\n",
    "deviation(ensfluc, ens)\n",
    "A′ = hcat(ensfluc)"
   ]
  },
  {
   "cell_type": "code",
   "execution_count": 60,
   "metadata": {},
   "outputs": [
    {
     "data": {
      "text/plain": [
       "-5.880712583561376e-17"
      ]
     },
     "execution_count": 60,
     "metadata": {},
     "output_type": "execute_result"
    },
    {
     "name": "stderr",
     "output_type": "stream",
     "text": [
      "\u001b[91mArgumentError: Package Tokenize not found in current path:\u001b[39m\n",
      "\u001b[91m- Run `import Pkg; Pkg.add(\"Tokenize\")` to install the Tokenize package.\u001b[39m\n",
      "\n",
      "Stacktrace:\n",
      " [1] \u001b[1mrequire\u001b[22m\u001b[1m(\u001b[22m::Module, ::Symbol\u001b[1m)\u001b[22m at \u001b[1m./loading.jl:823\u001b[22m\n",
      " [2] \u001b[1meval\u001b[22m at \u001b[1m./boot.jl:328\u001b[22m [inlined]\n",
      " [3] \u001b[1mprepare_thunk\u001b[22m\u001b[1m(\u001b[22m::Module, ::Expr, ::Bool\u001b[1m)\u001b[22m at \u001b[1m/home/mathow/.julia/packages/JuliaInterpreter/Or807/src/construct.jl:355\u001b[22m\n",
      " [4] \u001b[1mprepare_thunk\u001b[22m\u001b[1m(\u001b[22m::Module, ::Expr, ::Bool\u001b[1m)\u001b[22m at \u001b[1m/home/mathow/.julia/packages/JuliaInterpreter/Or807/src/construct.jl:361\u001b[22m\n",
      " [5] \u001b[1mprepare_thunk\u001b[22m at \u001b[1m/home/mathow/.julia/packages/JuliaInterpreter/Or807/src/construct.jl:347\u001b[22m [inlined]\n",
      " [6] \u001b[1m#methods_by_execution!#9\u001b[22m\u001b[1m(\u001b[22m::Base.Iterators.Pairs{Symbol,Bool,Tuple{Symbol},NamedTuple{(:define,),Tuple{Bool}}}, ::Function, ::Any, ::Revise.CodeTrackingMethodInfo, ::Dict{Module,Array{Expr,1}}, ::Module, ::Expr\u001b[1m)\u001b[22m at \u001b[1m/home/mathow/.julia/packages/Revise/agmgx/src/lowered.jl:47\u001b[22m\n",
      " [7] \u001b[1m#methods_by_execution!\u001b[22m at \u001b[1m./none:0\u001b[22m [inlined]\n",
      " [8] \u001b[1m#eval_with_signatures#59\u001b[22m\u001b[1m(\u001b[22m::Bool, ::Base.Iterators.Pairs{Union{},Union{},Tuple{},NamedTuple{(),Tuple{}}}, ::Function, ::Module, ::Expr\u001b[1m)\u001b[22m at \u001b[1m/home/mathow/.julia/packages/Revise/agmgx/src/Revise.jl:344\u001b[22m\n",
      " [9] \u001b[1m#eval_with_signatures\u001b[22m at \u001b[1m/home/mathow/.julia/packages/Revise/agmgx/src/Revise.jl:0\u001b[22m [inlined]\n",
      " [10] \u001b[1m#instantiate_sigs!#60\u001b[22m\u001b[1m(\u001b[22m::Bool, ::Base.Iterators.Pairs{Union{},Union{},Tuple{},NamedTuple{(),Tuple{}}}, ::Function, ::OrderedCollections.OrderedDict{Module,OrderedCollections.OrderedDict{Revise.RelocatableExpr,Union{Nothing, Array{Any,1}}}}\u001b[1m)\u001b[22m at \u001b[1m/home/mathow/.julia/packages/Revise/agmgx/src/Revise.jl:352\u001b[22m\n",
      " [11] \u001b[1minstantiate_sigs!\u001b[22m at \u001b[1m/home/mathow/.julia/packages/Revise/agmgx/src/Revise.jl:349\u001b[22m [inlined]\n",
      " [12] \u001b[1mmaybe_parse_from_cache!\u001b[22m\u001b[1m(\u001b[22m::Revise.PkgData, ::String\u001b[1m)\u001b[22m at \u001b[1m/home/mathow/.julia/packages/Revise/agmgx/src/pkgs.jl:224\u001b[22m\n",
      " [13] \u001b[1m(::getfield(Revise, Symbol(\"##26#27\")){String})\u001b[22m\u001b[1m(\u001b[22m\u001b[1m)\u001b[22m at \u001b[1m/home/mathow/.julia/packages/Revise/agmgx/src/pkgs.jl:370\u001b[22m\n",
      " [14] \u001b[1mwith_logstate\u001b[22m\u001b[1m(\u001b[22m::getfield(Revise, Symbol(\"##26#27\")){String}, ::Base.CoreLogging.LogState\u001b[1m)\u001b[22m at \u001b[1m./logging.jl:395\u001b[22m\n",
      " [15] \u001b[1mwith_logger\u001b[22m at \u001b[1m./logging.jl:491\u001b[22m [inlined]\n",
      " [16] \u001b[1mwatch_manifest\u001b[22m\u001b[1m(\u001b[22m::String\u001b[1m)\u001b[22m at \u001b[1m/home/mathow/.julia/packages/Revise/agmgx/src/pkgs.jl:349\u001b[22m\n",
      " [17] \u001b[1m(::Revise.Rescheduler{typeof(Revise.watch_manifest),Tuple{String}})\u001b[22m\u001b[1m(\u001b[22m\u001b[1m)\u001b[22m at \u001b[1m/home/mathow/.julia/packages/Revise/agmgx/src/types.jl:235\u001b[22m\n",
      "while evaluating\n",
      "using Tokenize\n",
      "in module Main.CSTParser\n",
      "\u001b[91mArgumentError: Package Tokenize not found in current path:\u001b[39m\n",
      "\u001b[91m- Run `import Pkg; Pkg.add(\"Tokenize\")` to install the Tokenize package.\u001b[39m\n",
      "\n",
      "Stacktrace:\n",
      " [1] \u001b[1mrequire\u001b[22m\u001b[1m(\u001b[22m::Module, ::Symbol\u001b[1m)\u001b[22m at \u001b[1m./loading.jl:823\u001b[22m\n",
      " [2] \u001b[1meval\u001b[22m at \u001b[1m./boot.jl:328\u001b[22m [inlined]\n",
      " [3] \u001b[1mprepare_thunk\u001b[22m\u001b[1m(\u001b[22m::Module, ::Expr, ::Bool\u001b[1m)\u001b[22m at \u001b[1m/home/mathow/.julia/packages/JuliaInterpreter/Or807/src/construct.jl:355\u001b[22m\n",
      " [4] \u001b[1mprepare_thunk\u001b[22m\u001b[1m(\u001b[22m::Module, ::Expr, ::Bool\u001b[1m)\u001b[22m at \u001b[1m/home/mathow/.julia/packages/JuliaInterpreter/Or807/src/construct.jl:361\u001b[22m\n",
      " [5] \u001b[1mprepare_thunk\u001b[22m at \u001b[1m/home/mathow/.julia/packages/JuliaInterpreter/Or807/src/construct.jl:347\u001b[22m [inlined]\n",
      " [6] \u001b[1m#methods_by_execution!#9\u001b[22m\u001b[1m(\u001b[22m::Base.Iterators.Pairs{Symbol,Bool,Tuple{Symbol},NamedTuple{(:define,),Tuple{Bool}}}, ::Function, ::Any, ::Revise.CodeTrackingMethodInfo, ::Dict{Module,Array{Expr,1}}, ::Module, ::Expr\u001b[1m)\u001b[22m at \u001b[1m/home/mathow/.julia/packages/Revise/agmgx/src/lowered.jl:47\u001b[22m\n",
      " [7] \u001b[1m#methods_by_execution!\u001b[22m at \u001b[1m./none:0\u001b[22m [inlined]\n",
      " [8] \u001b[1m#eval_with_signatures#59\u001b[22m\u001b[1m(\u001b[22m::Bool, ::Base.Iterators.Pairs{Union{},Union{},Tuple{},NamedTuple{(),Tuple{}}}, ::Function, ::Module, ::Expr\u001b[1m)\u001b[22m at \u001b[1m/home/mathow/.julia/packages/Revise/agmgx/src/Revise.jl:344\u001b[22m\n",
      " [9] \u001b[1m#eval_with_signatures\u001b[22m at \u001b[1m/home/mathow/.julia/packages/Revise/agmgx/src/Revise.jl:0\u001b[22m [inlined]\n",
      " [10] \u001b[1m#instantiate_sigs!#60\u001b[22m\u001b[1m(\u001b[22m::Bool, ::Base.Iterators.Pairs{Union{},Union{},Tuple{},NamedTuple{(),Tuple{}}}, ::Function, ::OrderedCollections.OrderedDict{Module,OrderedCollections.OrderedDict{Revise.RelocatableExpr,Union{Nothing, Array{Any,1}}}}\u001b[1m)\u001b[22m at \u001b[1m/home/mathow/.julia/packages/Revise/agmgx/src/Revise.jl:352\u001b[22m\n",
      " [11] \u001b[1minstantiate_sigs!\u001b[22m at \u001b[1m/home/mathow/.julia/packages/Revise/agmgx/src/Revise.jl:349\u001b[22m [inlined]\n",
      " [12] \u001b[1mmaybe_parse_from_cache!\u001b[22m\u001b[1m(\u001b[22m::Revise.PkgData, ::String\u001b[1m)\u001b[22m at \u001b[1m/home/mathow/.julia/packages/Revise/agmgx/src/pkgs.jl:224\u001b[22m\n",
      " [13] \u001b[1m(::getfield(Revise, Symbol(\"##26#27\")){String})\u001b[22m\u001b[1m(\u001b[22m\u001b[1m)\u001b[22m at \u001b[1m/home/mathow/.julia/packages/Revise/agmgx/src/pkgs.jl:370\u001b[22m\n",
      " [14] \u001b[1mwith_logstate\u001b[22m\u001b[1m(\u001b[22m::getfield(Revise, Symbol(\"##26#27\")){String}, ::Base.CoreLogging.LogState\u001b[1m)\u001b[22m at \u001b[1m./logging.jl:395\u001b[22m\n",
      " [15] \u001b[1mwith_logger\u001b[22m at \u001b[1m./logging.jl:491\u001b[22m [inlined]\n",
      " [16] \u001b[1mwatch_manifest\u001b[22m\u001b[1m(\u001b[22m::String\u001b[1m)\u001b[22m at \u001b[1m/home/mathow/.julia/packages/Revise/agmgx/src/pkgs.jl:349\u001b[22m\n",
      " [17] \u001b[1m(::Revise.Rescheduler{typeof(Revise.watch_manifest),Tuple{String}})\u001b[22m\u001b[1m(\u001b[22m\u001b[1m)\u001b[22m at \u001b[1m/home/mathow/.julia/packages/Revise/agmgx/src/types.jl:235\u001b[22m\n",
      "while evaluating\n",
      "import Tokenize.Tokens\n",
      "in module Main.CSTParser\n",
      "\u001b[91mArgumentError: Package Tokenize not found in current path:\u001b[39m\n",
      "\u001b[91m- Run `import Pkg; Pkg.add(\"Tokenize\")` to install the Tokenize package.\u001b[39m\n",
      "\n",
      "Stacktrace:\n",
      " [1] \u001b[1mrequire\u001b[22m\u001b[1m(\u001b[22m::Module, ::Symbol\u001b[1m)\u001b[22m at \u001b[1m./loading.jl:823\u001b[22m\n",
      " [2] \u001b[1meval\u001b[22m at \u001b[1m./boot.jl:328\u001b[22m [inlined]\n",
      " [3] \u001b[1mprepare_thunk\u001b[22m\u001b[1m(\u001b[22m::Module, ::Expr, ::Bool\u001b[1m)\u001b[22m at \u001b[1m/home/mathow/.julia/packages/JuliaInterpreter/Or807/src/construct.jl:355\u001b[22m\n",
      " [4] \u001b[1mprepare_thunk\u001b[22m\u001b[1m(\u001b[22m::Module, ::Expr, ::Bool\u001b[1m)\u001b[22m at \u001b[1m/home/mathow/.julia/packages/JuliaInterpreter/Or807/src/construct.jl:361\u001b[22m\n",
      " [5] \u001b[1mprepare_thunk\u001b[22m at \u001b[1m/home/mathow/.julia/packages/JuliaInterpreter/Or807/src/construct.jl:347\u001b[22m [inlined]\n",
      " [6] \u001b[1m#methods_by_execution!#9\u001b[22m\u001b[1m(\u001b[22m::Base.Iterators.Pairs{Symbol,Bool,Tuple{Symbol},NamedTuple{(:define,),Tuple{Bool}}}, ::Function, ::Any, ::Revise.CodeTrackingMethodInfo, ::Dict{Module,Array{Expr,1}}, ::Module, ::Expr\u001b[1m)\u001b[22m at \u001b[1m/home/mathow/.julia/packages/Revise/agmgx/src/lowered.jl:47\u001b[22m\n",
      " [7] \u001b[1m#methods_by_execution!\u001b[22m at \u001b[1m./none:0\u001b[22m [inlined]\n",
      " [8] \u001b[1m#eval_with_signatures#59\u001b[22m\u001b[1m(\u001b[22m::Bool, ::Base.Iterators.Pairs{Union{},Union{},Tuple{},NamedTuple{(),Tuple{}}}, ::Function, ::Module, ::Expr\u001b[1m)\u001b[22m at \u001b[1m/home/mathow/.julia/packages/Revise/agmgx/src/Revise.jl:344\u001b[22m\n",
      " [9] \u001b[1m#eval_with_signatures\u001b[22m at \u001b[1m/home/mathow/.julia/packages/Revise/agmgx/src/Revise.jl:0\u001b[22m [inlined]\n",
      " [10] \u001b[1m#instantiate_sigs!#60\u001b[22m\u001b[1m(\u001b[22m::Bool, ::Base.Iterators.Pairs{Union{},Union{},Tuple{},NamedTuple{(),Tuple{}}}, ::Function, ::OrderedCollections.OrderedDict{Module,OrderedCollections.OrderedDict{Revise.RelocatableExpr,Union{Nothing, Array{Any,1}}}}\u001b[1m)\u001b[22m at \u001b[1m/home/mathow/.julia/packages/Revise/agmgx/src/Revise.jl:352\u001b[22m\n",
      " [11] \u001b[1minstantiate_sigs!\u001b[22m at \u001b[1m/home/mathow/.julia/packages/Revise/agmgx/src/Revise.jl:349\u001b[22m [inlined]\n",
      " [12] \u001b[1mmaybe_parse_from_cache!\u001b[22m\u001b[1m(\u001b[22m::Revise.PkgData, ::String\u001b[1m)\u001b[22m at \u001b[1m/home/mathow/.julia/packages/Revise/agmgx/src/pkgs.jl:224\u001b[22m\n",
      " [13] \u001b[1m(::getfield(Revise, Symbol(\"##26#27\")){String})\u001b[22m\u001b[1m(\u001b[22m\u001b[1m)\u001b[22m at \u001b[1m/home/mathow/.julia/packages/Revise/agmgx/src/pkgs.jl:370\u001b[22m\n",
      " [14] \u001b[1mwith_logstate\u001b[22m\u001b[1m(\u001b[22m::getfield(Revise, Symbol(\"##26#27\")){String}, ::Base.CoreLogging.LogState\u001b[1m)\u001b[22m at \u001b[1m./logging.jl:395\u001b[22m\n",
      " [15] \u001b[1mwith_logger\u001b[22m at \u001b[1m./logging.jl:491\u001b[22m [inlined]\n",
      " [16] \u001b[1mwatch_manifest\u001b[22m\u001b[1m(\u001b[22m::String\u001b[1m)\u001b[22m at \u001b[1m/home/mathow/.julia/packages/Revise/agmgx/src/pkgs.jl:349\u001b[22m\n",
      " [17] \u001b[1m(::Revise.Rescheduler{typeof(Revise.watch_manifest),Tuple{String}})\u001b[22m\u001b[1m(\u001b[22m\u001b[1m)\u001b[22m at \u001b[1m/home/mathow/.julia/packages/Revise/agmgx/src/types.jl:235\u001b[22m\n",
      "while evaluating\n",
      "import Tokenize.Tokens: RawToken, AbstractToken, iskeyword, isliteral, isoperator, untokenize\n",
      "in module Main.CSTParser\n",
      "\u001b[91mArgumentError: Package Tokenize not found in current path:\u001b[39m\n",
      "\u001b[91m- Run `import Pkg; Pkg.add(\"Tokenize\")` to install the Tokenize package.\u001b[39m\n",
      "\n",
      "Stacktrace:\n",
      " [1] \u001b[1mrequire\u001b[22m\u001b[1m(\u001b[22m::Module, ::Symbol\u001b[1m)\u001b[22m at \u001b[1m./loading.jl:823\u001b[22m\n",
      " [2] \u001b[1meval\u001b[22m at \u001b[1m./boot.jl:328\u001b[22m [inlined]\n",
      " [3] \u001b[1mprepare_thunk\u001b[22m\u001b[1m(\u001b[22m::Module, ::Expr, ::Bool\u001b[1m)\u001b[22m at \u001b[1m/home/mathow/.julia/packages/JuliaInterpreter/Or807/src/construct.jl:355\u001b[22m\n",
      " [4] \u001b[1mprepare_thunk\u001b[22m\u001b[1m(\u001b[22m::Module, ::Expr, ::Bool\u001b[1m)\u001b[22m at \u001b[1m/home/mathow/.julia/packages/JuliaInterpreter/Or807/src/construct.jl:361\u001b[22m\n",
      " [5] \u001b[1mprepare_thunk\u001b[22m at \u001b[1m/home/mathow/.julia/packages/JuliaInterpreter/Or807/src/construct.jl:347\u001b[22m [inlined]\n",
      " [6] \u001b[1m#methods_by_execution!#9\u001b[22m\u001b[1m(\u001b[22m::Base.Iterators.Pairs{Symbol,Bool,Tuple{Symbol},NamedTuple{(:define,),Tuple{Bool}}}, ::Function, ::Any, ::Revise.CodeTrackingMethodInfo, ::Dict{Module,Array{Expr,1}}, ::Module, ::Expr\u001b[1m)\u001b[22m at \u001b[1m/home/mathow/.julia/packages/Revise/agmgx/src/lowered.jl:47\u001b[22m\n",
      " [7] \u001b[1m#methods_by_execution!\u001b[22m at \u001b[1m./none:0\u001b[22m [inlined]\n",
      " [8] \u001b[1m#eval_with_signatures#59\u001b[22m\u001b[1m(\u001b[22m::Bool, ::Base.Iterators.Pairs{Union{},Union{},Tuple{},NamedTuple{(),Tuple{}}}, ::Function, ::Module, ::Expr\u001b[1m)\u001b[22m at \u001b[1m/home/mathow/.julia/packages/Revise/agmgx/src/Revise.jl:344\u001b[22m\n",
      " [9] \u001b[1m#eval_with_signatures\u001b[22m at \u001b[1m/home/mathow/.julia/packages/Revise/agmgx/src/Revise.jl:0\u001b[22m [inlined]\n",
      " [10] \u001b[1m#instantiate_sigs!#60\u001b[22m\u001b[1m(\u001b[22m::Bool, ::Base.Iterators.Pairs{Union{},Union{},Tuple{},NamedTuple{(),Tuple{}}}, ::Function, ::OrderedCollections.OrderedDict{Module,OrderedCollections.OrderedDict{Revise.RelocatableExpr,Union{Nothing, Array{Any,1}}}}\u001b[1m)\u001b[22m at \u001b[1m/home/mathow/.julia/packages/Revise/agmgx/src/Revise.jl:352\u001b[22m\n",
      " [11] \u001b[1minstantiate_sigs!\u001b[22m at \u001b[1m/home/mathow/.julia/packages/Revise/agmgx/src/Revise.jl:349\u001b[22m [inlined]\n",
      " [12] \u001b[1mmaybe_parse_from_cache!\u001b[22m\u001b[1m(\u001b[22m::Revise.PkgData, ::String\u001b[1m)\u001b[22m at \u001b[1m/home/mathow/.julia/packages/Revise/agmgx/src/pkgs.jl:224\u001b[22m\n",
      " [13] \u001b[1m(::getfield(Revise, Symbol(\"##26#27\")){String})\u001b[22m\u001b[1m(\u001b[22m\u001b[1m)\u001b[22m at \u001b[1m/home/mathow/.julia/packages/Revise/agmgx/src/pkgs.jl:370\u001b[22m\n",
      " [14] \u001b[1mwith_logstate\u001b[22m\u001b[1m(\u001b[22m::getfield(Revise, Symbol(\"##26#27\")){String}, ::Base.CoreLogging.LogState\u001b[1m)\u001b[22m at \u001b[1m./logging.jl:395\u001b[22m\n",
      " [15] \u001b[1mwith_logger\u001b[22m at \u001b[1m./logging.jl:491\u001b[22m [inlined]\n",
      " [16] \u001b[1mwatch_manifest\u001b[22m\u001b[1m(\u001b[22m::String\u001b[1m)\u001b[22m at \u001b[1m/home/mathow/.julia/packages/Revise/agmgx/src/pkgs.jl:349\u001b[22m\n",
      " [17] \u001b[1m(::Revise.Rescheduler{typeof(Revise.watch_manifest),Tuple{String}})\u001b[22m\u001b[1m(\u001b[22m\u001b[1m)\u001b[22m at \u001b[1m/home/mathow/.julia/packages/Revise/agmgx/src/types.jl:235\u001b[22m\n",
      "while evaluating\n",
      "import Tokenize.Lexers: Lexer, peekchar, iswhitespace\n",
      "in module Main.CSTParser\n"
     ]
    },
    {
     "name": "stderr",
     "output_type": "stream",
     "text": [
      "LoadError: \u001b[91mUndefVarError: @default not defined\u001b[39m\n",
      "Stacktrace:\n",
      " [1] top-level scope\n",
      " [2] \u001b[1mlower\u001b[22m at \u001b[1m./meta.jl:68\u001b[22m [inlined]\n",
      " [3] \u001b[1mprepare_thunk\u001b[22m\u001b[1m(\u001b[22m::Module, ::Expr, ::Bool\u001b[1m)\u001b[22m at \u001b[1m/home/mathow/.julia/packages/JuliaInterpreter/Or807/src/construct.jl:360\u001b[22m\n",
      " [4] \u001b[1mprepare_thunk\u001b[22m at \u001b[1m/home/mathow/.julia/packages/JuliaInterpreter/Or807/src/construct.jl:347\u001b[22m [inlined]\n",
      " [5] \u001b[1m#methods_by_execution!#9\u001b[22m\u001b[1m(\u001b[22m::Base.Iterators.Pairs{Symbol,Bool,Tuple{Symbol},NamedTuple{(:define,),Tuple{Bool}}}, ::Function, ::Any, ::Revise.CodeTrackingMethodInfo, ::Dict{Module,Array{Expr,1}}, ::Module, ::Expr\u001b[1m)\u001b[22m at \u001b[1m/home/mathow/.julia/packages/Revise/agmgx/src/lowered.jl:47\u001b[22m\n",
      " [6] \u001b[1m#methods_by_execution!\u001b[22m at \u001b[1m./none:0\u001b[22m [inlined]\n",
      " [7] \u001b[1m#eval_with_signatures#59\u001b[22m\u001b[1m(\u001b[22m::Bool, ::Base.Iterators.Pairs{Union{},Union{},Tuple{},NamedTuple{(),Tuple{}}}, ::Function, ::Module, ::Expr\u001b[1m)\u001b[22m at \u001b[1m/home/mathow/.julia/packages/Revise/agmgx/src/Revise.jl:344\u001b[22m\n",
      " [8] \u001b[1m#eval_with_signatures\u001b[22m at \u001b[1m/home/mathow/.julia/packages/Revise/agmgx/src/Revise.jl:0\u001b[22m [inlined]\n",
      " [9] \u001b[1m#instantiate_sigs!#60\u001b[22m\u001b[1m(\u001b[22m::Bool, ::Base.Iterators.Pairs{Union{},Union{},Tuple{},NamedTuple{(),Tuple{}}}, ::Function, ::OrderedCollections.OrderedDict{Module,OrderedCollections.OrderedDict{Revise.RelocatableExpr,Union{Nothing, Array{Any,1}}}}\u001b[1m)\u001b[22m at \u001b[1m/home/mathow/.julia/packages/Revise/agmgx/src/Revise.jl:352\u001b[22m\n",
      " [10] \u001b[1minstantiate_sigs!\u001b[22m at \u001b[1m/home/mathow/.julia/packages/Revise/agmgx/src/Revise.jl:349\u001b[22m [inlined]\n",
      " [11] \u001b[1mmaybe_parse_from_cache!\u001b[22m\u001b[1m(\u001b[22m::Revise.PkgData, ::String\u001b[1m)\u001b[22m at \u001b[1m/home/mathow/.julia/packages/Revise/agmgx/src/pkgs.jl:224\u001b[22m\n",
      " [12] \u001b[1m(::getfield(Revise, Symbol(\"##26#27\")){String})\u001b[22m\u001b[1m(\u001b[22m\u001b[1m)\u001b[22m at \u001b[1m/home/mathow/.julia/packages/Revise/agmgx/src/pkgs.jl:370\u001b[22m\n",
      " [13] \u001b[1mwith_logstate\u001b[22m\u001b[1m(\u001b[22m::getfield(Revise, Symbol(\"##26#27\")){String}, ::Base.CoreLogging.LogState\u001b[1m)\u001b[22m at \u001b[1m./logging.jl:395\u001b[22m\n",
      " [14] \u001b[1mwith_logger\u001b[22m at \u001b[1m./logging.jl:491\u001b[22m [inlined]\n",
      " [15] \u001b[1mwatch_manifest\u001b[22m\u001b[1m(\u001b[22m::String\u001b[1m)\u001b[22m at \u001b[1m/home/mathow/.julia/packages/Revise/agmgx/src/pkgs.jl:349\u001b[22m\n",
      " [16] \u001b[1m(::Revise.Rescheduler{typeof(Revise.watch_manifest),Tuple{String}})\u001b[22m\u001b[1m(\u001b[22m\u001b[1m)\u001b[22m at \u001b[1m/home/mathow/.julia/packages/Revise/agmgx/src/types.jl:235\u001b[22m\n",
      "in expression starting at /home/mathow/.julia/packages/CSTParser/i8cPl/src/CSTParser.jl:61\n",
      "while evaluating\n",
      "function parse_expression(ps::ParseState)\n",
      "    #= /home/mathow/.julia/packages/CSTParser/i8cPl/src/CSTParser.jl:42 =#\n",
      "    if (ps.nt).kind == Tokens.COMMA\n",
      "        #= /home/mathow/.julia/packages/CSTParser/i8cPl/src/CSTParser.jl:43 =#\n",
      "        ps.errored = true\n",
      "        #= /home/mathow/.julia/packages/CSTParser/i8cPl/src/CSTParser.jl:44 =#\n",
      "        ret = mErrorToken(mPUNCTUATION(next(ps)), UnexpectedToken)\n",
      "    elseif #= /home/mathow/.julia/packages/CSTParser/i8cPl/src/CSTParser.jl:45 =# (ps.nt).kind ∈ term_c && !((ps.nt).kind === Tokens.END && (ps.closer).square)\n",
      "        #= /home/mathow/.julia/packages/CSTParser/i8cPl/src/CSTParser.jl:46 =#\n",
      "        if match_closer(ps)\n",
      "            #= /home/mathow/.julia/packages/CSTParser/i8cPl/src/CSTParser.jl:48 =#\n",
      "            ps.errored = true\n",
      "            #= /home/mathow/.julia/packages/CSTParser/i8cPl/src/CSTParser.jl:49 =#\n",
      "            ret = mErrorToken(MissingCloser)\n",
      "        else\n",
      "            #= /home/mathow/.julia/packages/CSTParser/i8cPl/src/CSTParser.jl:51 =#\n",
      "            ps.errored = true\n",
      "            #= /home/mathow/.julia/packages/CSTParser/i8cPl/src/CSTParser.jl:52 =#\n",
      "            ret = mErrorToken(INSTANCE(next(ps)), UnexpectedToken)\n",
      "        end\n",
      "    else\n",
      "        #= /home/mathow/.julia/packages/CSTParser/i8cPl/src/CSTParser.jl:55 =#\n",
      "        next(ps)\n",
      "        #= /home/mathow/.julia/packages/CSTParser/i8cPl/src/CSTParser.jl:56 =#\n",
      "        if iskeyword((ps.t).kind) && (ps.t).kind != Tokens.DO\n",
      "            #= /home/mathow/.julia/packages/CSTParser/i8cPl/src/CSTParser.jl:57 =#\n",
      "            ret = parse_kw(ps)\n",
      "        elseif #= /home/mathow/.julia/packages/CSTParser/i8cPl/src/CSTParser.jl:58 =# (ps.t).kind == Tokens.LPAREN\n",
      "            #= /home/mathow/.julia/packages/CSTParser/i8cPl/src/CSTParser.jl:59 =#\n",
      "            ret = parse_paren(ps)\n",
      "        elseif #= /home/mathow/.julia/packages/CSTParser/i8cPl/src/CSTParser.jl:60 =# (ps.t).kind == Tokens.LSQUARE\n",
      "            #= /home/mathow/.julia/packages/CSTParser/i8cPl/src/CSTParser.jl:61 =#\n",
      "            ret = #= /home/mathow/.julia/packages/CSTParser/i8cPl/src/CSTParser.jl:61 =# @default(ps, parse_array(ps))\n",
      "        elseif #= /home/mathow/.julia/packages/CSTParser/i8cPl/src/CSTParser.jl:62 =# (ps.t).kind == Tokens.LBRACE\n",
      "            #= /home/mathow/.julia/packages/CSTParser/i8cPl/src/CSTParser.jl:63 =#\n",
      "            ret = #= /home/mathow/.julia/packages/CSTParser/i8cPl/src/CSTParser.jl:63 =# @default(ps, #= /home/mathow/.julia/packages/CSTParser/i8cPl/src/CSTParser.jl:63 =# @closebrace(ps, parse_braces(ps)))\n",
      "        elseif #= /home/mathow/.julia/packages/CSTParser/i8cPl/src/CSTParser.jl:64 =# isinstance(ps.t) || isoperator(ps.t)\n",
      "            #= /home/mathow/.julia/packages/CSTParser/i8cPl/src/CSTParser.jl:65 =#\n",
      "            if (ps.t).kind == Tokens.WHERE\n",
      "                #= /home/mathow/.julia/packages/CSTParser/i8cPl/src/CSTParser.jl:66 =#\n",
      "                ret = mIDENTIFIER(ps)\n",
      "            else\n",
      "                #= /home/mathow/.julia/packages/CSTParser/i8cPl/src/CSTParser.jl:68 =#\n",
      "                ret = INSTANCE(ps)\n",
      "            end\n",
      "            #= /home/mathow/.julia/packages/CSTParser/i8cPl/src/CSTParser.jl:70 =#\n",
      "            if is_colon(ret) && (ps.nt).kind != Tokens.COMMA\n",
      "                #= /home/mathow/.julia/packages/CSTParser/i8cPl/src/CSTParser.jl:71 =#\n",
      "                ret = parse_unary(ps, ret)\n",
      "            end\n",
      "        elseif #= /home/mathow/.julia/packages/CSTParser/i8cPl/src/CSTParser.jl:73 =# (ps.t).kind == Tokens.AT_SIGN\n",
      "            #= /home/mathow/.julia/packages/CSTParser/i8cPl/src/CSTParser.jl:74 =#\n",
      "            ret = parse_macrocall(ps)\n",
      "        else\n",
      "            #= /home/mathow/.julia/packages/CSTParser/i8cPl/src/CSTParser.jl:76 =#\n",
      "            ps.errored = true\n",
      "            #= /home/mathow/.julia/packages/CSTParser/i8cPl/src/CSTParser.jl:77 =#\n",
      "            ret = mErrorToken(INSTANCE(ps), UnexpectedToken)\n",
      "        end\n",
      "        #= /home/mathow/.julia/packages/CSTParser/i8cPl/src/CSTParser.jl:79 =#\n",
      "        while !(closer(ps))\n",
      "            #= /home/mathow/.julia/packages/CSTParser/i8cPl/src/CSTParser.jl:80 =#\n",
      "            ret = parse_compound(ps, ret)\n",
      "        end\n",
      "    end\n",
      "    #= /home/mathow/.julia/packages/CSTParser/i8cPl/src/CSTParser.jl:83 =#\n",
      "    return ret\n",
      "end\n",
      "in module Main.CSTParser\n",
      "LoadError: \u001b[91mUndefVarError: @default not defined\u001b[39m\n",
      "Stacktrace:\n",
      " [1] top-level scope\n",
      " [2] \u001b[1mlower\u001b[22m at \u001b[1m./meta.jl:68\u001b[22m [inlined]\n",
      " [3] \u001b[1mprepare_thunk\u001b[22m\u001b[1m(\u001b[22m::Module, ::Expr, ::Bool\u001b[1m)\u001b[22m at \u001b[1m/home/mathow/.julia/packages/JuliaInterpreter/Or807/src/construct.jl:360\u001b[22m\n",
      " [4] \u001b[1mprepare_thunk\u001b[22m at \u001b[1m/home/mathow/.julia/packages/JuliaInterpreter/Or807/src/construct.jl:347\u001b[22m [inlined]\n",
      " [5] \u001b[1m#methods_by_execution!#9\u001b[22m\u001b[1m(\u001b[22m::Base.Iterators.Pairs{Symbol,Bool,Tuple{Symbol},NamedTuple{(:define,),Tuple{Bool}}}, ::Function, ::Any, ::Revise.CodeTrackingMethodInfo, ::Dict{Module,Array{Expr,1}}, ::Module, ::Expr\u001b[1m)\u001b[22m at \u001b[1m/home/mathow/.julia/packages/Revise/agmgx/src/lowered.jl:47\u001b[22m\n",
      " [6] \u001b[1m#methods_by_execution!\u001b[22m at \u001b[1m./none:0\u001b[22m [inlined]\n",
      " [7] \u001b[1m#eval_with_signatures#59\u001b[22m\u001b[1m(\u001b[22m::Bool, ::Base.Iterators.Pairs{Union{},Union{},Tuple{},NamedTuple{(),Tuple{}}}, ::Function, ::Module, ::Expr\u001b[1m)\u001b[22m at \u001b[1m/home/mathow/.julia/packages/Revise/agmgx/src/Revise.jl:344\u001b[22m\n",
      " [8] \u001b[1m#eval_with_signatures\u001b[22m at \u001b[1m/home/mathow/.julia/packages/Revise/agmgx/src/Revise.jl:0\u001b[22m [inlined]\n",
      " [9] \u001b[1m#instantiate_sigs!#60\u001b[22m\u001b[1m(\u001b[22m::Bool, ::Base.Iterators.Pairs{Union{},Union{},Tuple{},NamedTuple{(),Tuple{}}}, ::Function, ::OrderedCollections.OrderedDict{Module,OrderedCollections.OrderedDict{Revise.RelocatableExpr,Union{Nothing, Array{Any,1}}}}\u001b[1m)\u001b[22m at \u001b[1m/home/mathow/.julia/packages/Revise/agmgx/src/Revise.jl:352\u001b[22m\n",
      " [10] \u001b[1minstantiate_sigs!\u001b[22m at \u001b[1m/home/mathow/.julia/packages/Revise/agmgx/src/Revise.jl:349\u001b[22m [inlined]\n",
      " [11] \u001b[1mmaybe_parse_from_cache!\u001b[22m\u001b[1m(\u001b[22m::Revise.PkgData, ::String\u001b[1m)\u001b[22m at \u001b[1m/home/mathow/.julia/packages/Revise/agmgx/src/pkgs.jl:224\u001b[22m\n",
      " [12] \u001b[1m(::getfield(Revise, Symbol(\"##26#27\")){String})\u001b[22m\u001b[1m(\u001b[22m\u001b[1m)\u001b[22m at \u001b[1m/home/mathow/.julia/packages/Revise/agmgx/src/pkgs.jl:370\u001b[22m\n",
      " [13] \u001b[1mwith_logstate\u001b[22m\u001b[1m(\u001b[22m::getfield(Revise, Symbol(\"##26#27\")){String}, ::Base.CoreLogging.LogState\u001b[1m)\u001b[22m at \u001b[1m./logging.jl:395\u001b[22m\n",
      " [14] \u001b[1mwith_logger\u001b[22m at \u001b[1m./logging.jl:491\u001b[22m [inlined]\n",
      " [15] \u001b[1mwatch_manifest\u001b[22m\u001b[1m(\u001b[22m::String\u001b[1m)\u001b[22m at \u001b[1m/home/mathow/.julia/packages/Revise/agmgx/src/pkgs.jl:349\u001b[22m\n",
      " [16] \u001b[1m(::Revise.Rescheduler{typeof(Revise.watch_manifest),Tuple{String}})\u001b[22m\u001b[1m(\u001b[22m\u001b[1m)\u001b[22m at \u001b[1m/home/mathow/.julia/packages/Revise/agmgx/src/types.jl:235\u001b[22m\n",
      "in expression starting at /home/mathow/.julia/packages/CSTParser/i8cPl/src/CSTParser.jl:90\n",
      "while evaluating\n",
      "function parse_compound(ps::ParseState, #= /home/mathow/.julia/packages/CSTParser/i8cPl/src/CSTParser.jl:86 =# @nospecialize(ret))\n",
      "    #= /home/mathow/.julia/packages/CSTParser/i8cPl/src/CSTParser.jl:87 =#\n",
      "    if (ps.nt).kind == Tokens.FOR\n",
      "        #= /home/mathow/.julia/packages/CSTParser/i8cPl/src/CSTParser.jl:88 =#\n",
      "        ret = parse_generator(ps, ret)\n",
      "    elseif #= /home/mathow/.julia/packages/CSTParser/i8cPl/src/CSTParser.jl:89 =# (ps.nt).kind == Tokens.DO\n",
      "        #= /home/mathow/.julia/packages/CSTParser/i8cPl/src/CSTParser.jl:90 =#\n",
      "        ret = #= /home/mathow/.julia/packages/CSTParser/i8cPl/src/CSTParser.jl:90 =# @default(ps, #= /home/mathow/.julia/packages/CSTParser/i8cPl/src/CSTParser.jl:90 =# @closer(ps, block, parse_do(ps, ret)))\n",
      "    elseif #= /home/mathow/.julia/packages/CSTParser/i8cPl/src/CSTParser.jl:91 =# isajuxtaposition(ps, ret)\n",
      "        #= /home/mathow/.julia/packages/CSTParser/i8cPl/src/CSTParser.jl:92 =#\n"
     ]
    },
    {
     "name": "stderr",
     "output_type": "stream",
     "text": [
      "        if is_number(ret) && last(ret.val) == '.'\n",
      "            #= /home/mathow/.julia/packages/CSTParser/i8cPl/src/CSTParser.jl:93 =#\n",
      "            ps.errored = true\n",
      "            #= /home/mathow/.julia/packages/CSTParser/i8cPl/src/CSTParser.jl:94 =#\n",
      "            ret = mErrorToken(ret, CannotJuxtapose)\n",
      "        end\n",
      "        #= /home/mathow/.julia/packages/CSTParser/i8cPl/src/CSTParser.jl:96 =#\n",
      "        op = mOPERATOR(0, 0, Tokens.STAR, false)\n",
      "        #= /home/mathow/.julia/packages/CSTParser/i8cPl/src/CSTParser.jl:97 =#\n",
      "        ret = parse_operator(ps, ret, op)\n",
      "    elseif #= /home/mathow/.julia/packages/CSTParser/i8cPl/src/CSTParser.jl:98 =# (ret.typ === x_Str || ret.typ === x_Cmd) && (ps.nt).kind == Tokens.IDENTIFIER\n",
      "        #= /home/mathow/.julia/packages/CSTParser/i8cPl/src/CSTParser.jl:99 =#\n",
      "        arg = mIDENTIFIER(next(ps))\n",
      "        #= /home/mathow/.julia/packages/CSTParser/i8cPl/src/CSTParser.jl:100 =#\n",
      "        push!(ret, mLITERAL(arg.fullspan, arg.span, val(ps.t, ps), Tokens.STRING))\n",
      "    elseif #= /home/mathow/.julia/packages/CSTParser/i8cPl/src/CSTParser.jl:101 =# (isidentifier(ret) || ret.typ === BinaryOpCall && is_dot(ret.args[2])) && ((ps.nt).kind == Tokens.STRING || ((ps.nt).kind == Tokens.TRIPLE_STRING || (ps.nt).kind == Tokens.CMD))\n",
      "        #= /home/mathow/.julia/packages/CSTParser/i8cPl/src/CSTParser.jl:102 =#\n",
      "        next(ps)\n",
      "        #= /home/mathow/.julia/packages/CSTParser/i8cPl/src/CSTParser.jl:103 =#\n",
      "        arg = parse_string_or_cmd(ps, ret)\n",
      "        #= /home/mathow/.julia/packages/CSTParser/i8cPl/src/CSTParser.jl:104 =#\n",
      "        head = if arg.kind == Tokens.CMD\n",
      "                x_Cmd\n",
      "            else\n",
      "                x_Str\n",
      "            end\n",
      "        #= /home/mathow/.julia/packages/CSTParser/i8cPl/src/CSTParser.jl:105 =#\n",
      "        ret = EXPR(head, EXPR[ret, arg])\n",
      "    elseif #= /home/mathow/.julia/packages/CSTParser/i8cPl/src/CSTParser.jl:106 =# (ps.nt).kind == Tokens.LPAREN\n",
      "        #= /home/mathow/.julia/packages/CSTParser/i8cPl/src/CSTParser.jl:107 =#\n",
      "        no_ws = !(isemptyws(ps.ws))\n",
      "        #= /home/mathow/.julia/packages/CSTParser/i8cPl/src/CSTParser.jl:108 =#\n",
      "        err_rng = (ps.t).endbyte + 2:(ps.nt).startbyte\n",
      "        #= /home/mathow/.julia/packages/CSTParser/i8cPl/src/CSTParser.jl:109 =#\n",
      "        ret = #= /home/mathow/.julia/packages/CSTParser/i8cPl/src/CSTParser.jl:109 =# @closeparen(ps, parse_call(ps, ret))\n",
      "        #= /home/mathow/.julia/packages/CSTParser/i8cPl/src/CSTParser.jl:110 =#\n",
      "        if no_ws && !(ret.typ === UnaryOpCall)\n",
      "            #= /home/mathow/.julia/packages/CSTParser/i8cPl/src/CSTParser.jl:111 =#\n",
      "            ps.errored = true\n",
      "            #= /home/mathow/.julia/packages/CSTParser/i8cPl/src/CSTParser.jl:112 =#\n",
      "            ret = mErrorToken(ret, UnexpectedWhiteSpace)\n",
      "        end\n",
      "    elseif #= /home/mathow/.julia/packages/CSTParser/i8cPl/src/CSTParser.jl:114 =# (ps.nt).kind == Tokens.LBRACE\n",
      "        #= /home/mathow/.julia/packages/CSTParser/i8cPl/src/CSTParser.jl:115 =#\n",
      "        if isemptyws(ps.ws)\n",
      "            #= /home/mathow/.julia/packages/CSTParser/i8cPl/src/CSTParser.jl:116 =#\n",
      "            ret = #= /home/mathow/.julia/packages/CSTParser/i8cPl/src/CSTParser.jl:116 =# @default(ps, #= /home/mathow/.julia/packages/CSTParser/i8cPl/src/CSTParser.jl:116 =# @nocloser(ps, inwhere, #= /home/mathow/.julia/packages/CSTParser/i8cPl/src/CSTParser.jl:116 =# @closebrace(ps, parse_curly(ps, ret))))\n",
      "        else\n",
      "            #= /home/mathow/.julia/packages/CSTParser/i8cPl/src/CSTParser.jl:118 =#\n",
      "            ps.errored = true\n",
      "            #= /home/mathow/.julia/packages/CSTParser/i8cPl/src/CSTParser.jl:119 =#\n",
      "            ret = mErrorToken(#= /home/mathow/.julia/packages/CSTParser/i8cPl/src/CSTParser.jl:119 =# @default(ps, #= /home/mathow/.julia/packages/CSTParser/i8cPl/src/CSTParser.jl:119 =# @nocloser(ps, inwhere, #= /home/mathow/.julia/packages/CSTParser/i8cPl/src/CSTParser.jl:119 =# @closebrace(ps, (parse_curly(ps, ret), UnexpectedWhiteSpace)))))\n",
      "        end\n",
      "    elseif #= /home/mathow/.julia/packages/CSTParser/i8cPl/src/CSTParser.jl:122 =# (ps.nt).kind == Tokens.LSQUARE && (isemptyws(ps.ws) && !(isoperator(ret)))\n",
      "        #= /home/mathow/.julia/packages/CSTParser/i8cPl/src/CSTParser.jl:123 =#\n",
      "        ret = #= /home/mathow/.julia/packages/CSTParser/i8cPl/src/CSTParser.jl:123 =# @default(ps, #= /home/mathow/.julia/packages/CSTParser/i8cPl/src/CSTParser.jl:123 =# @nocloser(ps, block, parse_ref(ps, ret)))\n",
      "    elseif #= /home/mathow/.julia/packages/CSTParser/i8cPl/src/CSTParser.jl:124 =# (ps.nt).kind == Tokens.COMMA\n",
      "        #= /home/mathow/.julia/packages/CSTParser/i8cPl/src/CSTParser.jl:125 =#\n",
      "        ret = parse_tuple(ps, ret)\n",
      "    elseif #= /home/mathow/.julia/packages/CSTParser/i8cPl/src/CSTParser.jl:126 =# isunaryop(ret) && (ps.nt).kind != Tokens.EQ\n",
      "        #= /home/mathow/.julia/packages/CSTParser/i8cPl/src/CSTParser.jl:127 =#\n",
      "        ret = parse_unary(ps, ret)\n",
      "    elseif #= /home/mathow/.julia/packages/CSTParser/i8cPl/src/CSTParser.jl:128 =# isoperator(ps.nt)\n",
      "        #= /home/mathow/.julia/packages/CSTParser/i8cPl/src/CSTParser.jl:129 =#\n",
      "        op = mOPERATOR(next(ps))\n",
      "        #= /home/mathow/.julia/packages/CSTParser/i8cPl/src/CSTParser.jl:130 =#\n",
      "        ret = parse_operator(ps, ret, op)\n",
      "    elseif #= /home/mathow/.julia/packages/CSTParser/i8cPl/src/CSTParser.jl:131 =# ret.typ === UnaryOpCall && is_prime(ret.args[2])\n",
      "        #= /home/mathow/.julia/packages/CSTParser/i8cPl/src/CSTParser.jl:133 =#\n",
      "        nextarg = #= /home/mathow/.julia/packages/CSTParser/i8cPl/src/CSTParser.jl:133 =# @precedence(ps, 11, parse_expression(ps))\n",
      "        #= /home/mathow/.julia/packages/CSTParser/i8cPl/src/CSTParser.jl:134 =#\n",
      "        ret = mBinaryOpCall(ret, mOPERATOR(0, 0, Tokens.STAR, false), nextarg)\n",
      "    elseif #= /home/mathow/.julia/packages/CSTParser/i8cPl/src/CSTParser.jl:138 =# (ps.nt).kind in (Tokens.RPAREN, Tokens.RSQUARE, Tokens.RBRACE)\n",
      "        #= /home/mathow/.julia/packages/CSTParser/i8cPl/src/CSTParser.jl:139 =#\n",
      "        ps.errored = true\n",
      "        #= /home/mathow/.julia/packages/CSTParser/i8cPl/src/CSTParser.jl:140 =#\n",
      "        ret = EXPR(ErrorToken, EXPR[ret, mErrorToken(mPUNCTUATION(next(ps)), Unknown)])\n",
      "    else\n",
      "        #= /home/mathow/.julia/packages/CSTParser/i8cPl/src/CSTParser.jl:142 =#\n",
      "        nextarg = parse_expression(ps)\n",
      "        #= /home/mathow/.julia/packages/CSTParser/i8cPl/src/CSTParser.jl:143 =#\n",
      "        ps.errored = true\n",
      "        #= /home/mathow/.julia/packages/CSTParser/i8cPl/src/CSTParser.jl:144 =#\n",
      "        ret = EXPR(ErrorToken, EXPR[ret, nextarg])\n",
      "    end\n",
      "    #= /home/mathow/.julia/packages/CSTParser/i8cPl/src/CSTParser.jl:146 =#\n",
      "    return ret\n",
      "end\n",
      "in module Main.CSTParser\n",
      "LoadError: \u001b[91mUndefVarError: @addctx not defined\u001b[39m\n",
      "Stacktrace:\n",
      " [1] top-level scope\n",
      " [2] \u001b[1mlower\u001b[22m at \u001b[1m./meta.jl:68\u001b[22m [inlined]\n",
      " [3] \u001b[1mprepare_thunk\u001b[22m\u001b[1m(\u001b[22m::Module, ::Expr, ::Bool\u001b[1m)\u001b[22m at \u001b[1m/home/mathow/.julia/packages/JuliaInterpreter/Or807/src/construct.jl:360\u001b[22m\n",
      " [4] \u001b[1mprepare_thunk\u001b[22m at \u001b[1m/home/mathow/.julia/packages/JuliaInterpreter/Or807/src/construct.jl:347\u001b[22m [inlined]\n",
      " [5] \u001b[1m#methods_by_execution!#9\u001b[22m\u001b[1m(\u001b[22m::Base.Iterators.Pairs{Symbol,Bool,Tuple{Symbol},NamedTuple{(:define,),Tuple{Bool}}}, ::Function, ::Any, ::Revise.CodeTrackingMethodInfo, ::Dict{Module,Array{Expr,1}}, ::Module, ::Expr\u001b[1m)\u001b[22m at \u001b[1m/home/mathow/.julia/packages/Revise/agmgx/src/lowered.jl:47\u001b[22m\n",
      " [6] \u001b[1m#methods_by_execution!\u001b[22m at \u001b[1m./none:0\u001b[22m [inlined]\n",
      " [7] \u001b[1m#eval_with_signatures#59\u001b[22m\u001b[1m(\u001b[22m::Bool, ::Base.Iterators.Pairs{Union{},Union{},Tuple{},NamedTuple{(),Tuple{}}}, ::Function, ::Module, ::Expr\u001b[1m)\u001b[22m at \u001b[1m/home/mathow/.julia/packages/Revise/agmgx/src/Revise.jl:344\u001b[22m\n",
      " [8] \u001b[1m#eval_with_signatures\u001b[22m at \u001b[1m/home/mathow/.julia/packages/Revise/agmgx/src/Revise.jl:0\u001b[22m [inlined]\n",
      " [9] \u001b[1m#instantiate_sigs!#60\u001b[22m\u001b[1m(\u001b[22m::Bool, ::Base.Iterators.Pairs{Union{},Union{},Tuple{},NamedTuple{(),Tuple{}}}, ::Function, ::OrderedCollections.OrderedDict{Module,OrderedCollections.OrderedDict{Revise.RelocatableExpr,Union{Nothing, Array{Any,1}}}}\u001b[1m)\u001b[22m at \u001b[1m/home/mathow/.julia/packages/Revise/agmgx/src/Revise.jl:352\u001b[22m\n",
      " [10] \u001b[1minstantiate_sigs!\u001b[22m at \u001b[1m/home/mathow/.julia/packages/Revise/agmgx/src/Revise.jl:349\u001b[22m [inlined]\n",
      " [11] \u001b[1mmaybe_parse_from_cache!\u001b[22m\u001b[1m(\u001b[22m::Revise.PkgData, ::String\u001b[1m)\u001b[22m at \u001b[1m/home/mathow/.julia/packages/Revise/agmgx/src/pkgs.jl:224\u001b[22m\n",
      " [12] \u001b[1m(::getfield(Revise, Symbol(\"##26#27\")){String})\u001b[22m\u001b[1m(\u001b[22m\u001b[1m)\u001b[22m at \u001b[1m/home/mathow/.julia/packages/Revise/agmgx/src/pkgs.jl:370\u001b[22m\n",
      " [13] \u001b[1mwith_logstate\u001b[22m\u001b[1m(\u001b[22m::getfield(Revise, Symbol(\"##26#27\")){String}, ::Base.CoreLogging.LogState\u001b[1m)\u001b[22m at \u001b[1m./logging.jl:395\u001b[22m\n",
      " [14] \u001b[1mwith_logger\u001b[22m at \u001b[1m./logging.jl:491\u001b[22m [inlined]\n",
      " [15] \u001b[1mwatch_manifest\u001b[22m\u001b[1m(\u001b[22m::String\u001b[1m)\u001b[22m at \u001b[1m/home/mathow/.julia/packages/Revise/agmgx/src/pkgs.jl:349\u001b[22m\n",
      " [16] \u001b[1m(::Revise.Rescheduler{typeof(Revise.watch_manifest),Tuple{String}})\u001b[22m\u001b[1m(\u001b[22m\u001b[1m)\u001b[22m at \u001b[1m/home/mathow/.julia/packages/Revise/agmgx/src/types.jl:235\u001b[22m\n",
      "in expression starting at /home/mathow/.julia/packages/CSTParser/i8cPl/src/CSTParser.jl:154\n",
      "while evaluating\n"
     ]
    },
    {
     "name": "stderr",
     "output_type": "stream",
     "text": [
      "#= /home/mathow/.julia/packages/CSTParser/i8cPl/src/CSTParser.jl:154 =# @addctx :paren function parse_paren(ps::ParseState)\n",
      "        #= /home/mathow/.julia/packages/CSTParser/i8cPl/src/CSTParser.jl:155 =#\n",
      "        args = EXPR[mPUNCTUATION(ps)]\n",
      "        #= /home/mathow/.julia/packages/CSTParser/i8cPl/src/CSTParser.jl:156 =#\n",
      "        #= /home/mathow/.julia/packages/CSTParser/i8cPl/src/CSTParser.jl:156 =# @closeparen ps #= /home/mathow/.julia/packages/CSTParser/i8cPl/src/CSTParser.jl:156 =# @default(ps, #= /home/mathow/.julia/packages/CSTParser/i8cPl/src/CSTParser.jl:156 =# @nocloser(ps, inwhere, parse_comma_sep(ps, args, false, true, true)))\n",
      "        #= /home/mathow/.julia/packages/CSTParser/i8cPl/src/CSTParser.jl:158 =#\n",
      "        if length(args) == 2 && (((ps.ws).kind != SemiColonWS || length(args) == 2 && (args[2]).typ === Block) && !((args[2]).typ === Parameters))\n",
      "            #= /home/mathow/.julia/packages/CSTParser/i8cPl/src/CSTParser.jl:159 =#\n",
      "            accept_rparen(ps, args)\n",
      "            #= /home/mathow/.julia/packages/CSTParser/i8cPl/src/CSTParser.jl:160 =#\n",
      "            ret = EXPR(InvisBrackets, args)\n",
      "        else\n",
      "            #= /home/mathow/.julia/packages/CSTParser/i8cPl/src/CSTParser.jl:162 =#\n",
      "            accept_rparen(ps, args)\n",
      "            #= /home/mathow/.julia/packages/CSTParser/i8cPl/src/CSTParser.jl:163 =#\n",
      "            ret = EXPR(TupleH, args)\n",
      "        end\n",
      "        #= /home/mathow/.julia/packages/CSTParser/i8cPl/src/CSTParser.jl:165 =#\n",
      "        return ret\n",
      "    end\n",
      "in module Main.CSTParser\n",
      "\u001b[91mUndefVarError: ParseState not defined\u001b[39m\n",
      "Stacktrace:\n",
      " [1] \u001b[1mmacro expansion\u001b[22m at \u001b[1m/home/mathow/.julia/packages/JuliaInterpreter/Or807/src/interpret.jl:64\u001b[22m [inlined]\n",
      " [2] \u001b[1mgetargs\u001b[22m\u001b[1m(\u001b[22m::Array{Any,1}, ::JuliaInterpreter.Frame\u001b[1m)\u001b[22m at \u001b[1m/home/mathow/.julia/packages/JuliaInterpreter/Or807/src/builtins.jl:8\u001b[22m\n",
      " [3] \u001b[1mmaybe_evaluate_builtin\u001b[22m\u001b[1m(\u001b[22m::JuliaInterpreter.Frame, ::Expr, ::Bool\u001b[1m)\u001b[22m at \u001b[1m/home/mathow/.julia/packages/JuliaInterpreter/Or807/src/builtins.jl:136\u001b[22m\n",
      " [4] \u001b[1m#evaluate_call_recurse!#37\u001b[22m\u001b[1m(\u001b[22m::Bool, ::Function, ::Any, ::JuliaInterpreter.Frame, ::Expr\u001b[1m)\u001b[22m at \u001b[1m/home/mathow/.julia/packages/JuliaInterpreter/Or807/src/interpret.jl:209\u001b[22m\n",
      " [5] \u001b[1mevaluate_call_recurse!\u001b[22m at \u001b[1m/home/mathow/.julia/packages/JuliaInterpreter/Or807/src/interpret.jl:206\u001b[22m [inlined]\n",
      " [6] \u001b[1meval_rhs\u001b[22m\u001b[1m(\u001b[22m::Any, ::JuliaInterpreter.Frame, ::Expr\u001b[1m)\u001b[22m at \u001b[1m/home/mathow/.julia/packages/JuliaInterpreter/Or807/src/interpret.jl:381\u001b[22m\n",
      " [7] \u001b[1mstep_expr!\u001b[22m\u001b[1m(\u001b[22m::Any, ::JuliaInterpreter.Frame, ::Any, ::Bool\u001b[1m)\u001b[22m at \u001b[1m/home/mathow/.julia/packages/JuliaInterpreter/Or807/src/interpret.jl:509\u001b[22m\n",
      " [8] \u001b[1msignature\u001b[22m\u001b[1m(\u001b[22m::Any, ::JuliaInterpreter.Frame, ::Any, ::Int64\u001b[1m)\u001b[22m at \u001b[1m/home/mathow/.julia/packages/LoweredCodeUtils/6EZqd/src/LoweredCodeUtils.jl:146\u001b[22m\n",
      " [9] \u001b[1m#methoddef!#3\u001b[22m\u001b[1m(\u001b[22m::Bool, ::Function, ::Any, ::Array{Any,1}, ::JuliaInterpreter.Frame, ::Any, ::Int64\u001b[1m)\u001b[22m at \u001b[1m/home/mathow/.julia/packages/LoweredCodeUtils/6EZqd/src/LoweredCodeUtils.jl:420\u001b[22m\n",
      " [10] \u001b[1m(::getfield(LoweredCodeUtils, Symbol(\"#kw##methoddef!\")))\u001b[22m\u001b[1m(\u001b[22m::NamedTuple{(:define,),Tuple{Bool}}, ::typeof(LoweredCodeUtils.methoddef!), ::Function, ::Array{Any,1}, ::JuliaInterpreter.Frame, ::Expr, ::Int64\u001b[1m)\u001b[22m at \u001b[1m./none:0\u001b[22m\n",
      " [11] \u001b[1m#methods_by_execution!#14\u001b[22m\u001b[1m(\u001b[22m::Bool, ::Bool, ::Function, ::Any, ::Revise.CodeTrackingMethodInfo, ::Dict{Module,Array{Expr,1}}, ::JuliaInterpreter.Frame\u001b[1m)\u001b[22m at \u001b[1m/home/mathow/.julia/packages/Revise/agmgx/src/lowered.jl:81\u001b[22m\n",
      " [12] \u001b[1m#methods_by_execution!\u001b[22m at \u001b[1m./none:0\u001b[22m [inlined]\n",
      " [13] \u001b[1m#methods_by_execution!#9\u001b[22m\u001b[1m(\u001b[22m::Base.Iterators.Pairs{Symbol,Bool,Tuple{Symbol},NamedTuple{(:define,),Tuple{Bool}}}, ::Function, ::Any, ::Revise.CodeTrackingMethodInfo, ::Dict{Module,Array{Expr,1}}, ::Module, ::Expr\u001b[1m)\u001b[22m at \u001b[1m/home/mathow/.julia/packages/Revise/agmgx/src/lowered.jl:49\u001b[22m\n",
      " [14] \u001b[1m#methods_by_execution!\u001b[22m at \u001b[1m./none:0\u001b[22m [inlined]\n",
      " [15] \u001b[1m#eval_with_signatures#59\u001b[22m\u001b[1m(\u001b[22m::Bool, ::Base.Iterators.Pairs{Union{},Union{},Tuple{},NamedTuple{(),Tuple{}}}, ::Function, ::Module, ::Expr\u001b[1m)\u001b[22m at \u001b[1m/home/mathow/.julia/packages/Revise/agmgx/src/Revise.jl:344\u001b[22m\n",
      " [16] \u001b[1m#eval_with_signatures\u001b[22m at \u001b[1m/home/mathow/.julia/packages/Revise/agmgx/src/Revise.jl:0\u001b[22m [inlined]\n",
      " [17] \u001b[1m#instantiate_sigs!#60\u001b[22m\u001b[1m(\u001b[22m::Bool, ::Base.Iterators.Pairs{Union{},Union{},Tuple{},NamedTuple{(),Tuple{}}}, ::Function, ::OrderedCollections.OrderedDict{Module,OrderedCollections.OrderedDict{Revise.RelocatableExpr,Union{Nothing, Array{Any,1}}}}\u001b[1m)\u001b[22m at \u001b[1m/home/mathow/.julia/packages/Revise/agmgx/src/Revise.jl:352\u001b[22m\n",
      " [18] \u001b[1minstantiate_sigs!\u001b[22m at \u001b[1m/home/mathow/.julia/packages/Revise/agmgx/src/Revise.jl:349\u001b[22m [inlined]\n",
      " [19] \u001b[1mmaybe_parse_from_cache!\u001b[22m\u001b[1m(\u001b[22m::Revise.PkgData, ::String\u001b[1m)\u001b[22m at \u001b[1m/home/mathow/.julia/packages/Revise/agmgx/src/pkgs.jl:224\u001b[22m\n",
      " [20] \u001b[1m(::getfield(Revise, Symbol(\"##26#27\")){String})\u001b[22m\u001b[1m(\u001b[22m\u001b[1m)\u001b[22m at \u001b[1m/home/mathow/.julia/packages/Revise/agmgx/src/pkgs.jl:370\u001b[22m\n",
      " [21] \u001b[1mwith_logstate\u001b[22m\u001b[1m(\u001b[22m::getfield(Revise, Symbol(\"##26#27\")){String}, ::Base.CoreLogging.LogState\u001b[1m)\u001b[22m at \u001b[1m./logging.jl:395\u001b[22m\n",
      " [22] \u001b[1mwith_logger\u001b[22m at \u001b[1m./logging.jl:491\u001b[22m [inlined]\n",
      " [23] \u001b[1mwatch_manifest\u001b[22m\u001b[1m(\u001b[22m::String\u001b[1m)\u001b[22m at \u001b[1m/home/mathow/.julia/packages/Revise/agmgx/src/pkgs.jl:349\u001b[22m\n",
      " [24] \u001b[1m(::Revise.Rescheduler{typeof(Revise.watch_manifest),Tuple{String}})\u001b[22m\u001b[1m(\u001b[22m\u001b[1m)\u001b[22m at \u001b[1m/home/mathow/.julia/packages/Revise/agmgx/src/types.jl:235\u001b[22m\n",
      "while evaluating\n",
      "function parse_doc(ps::ParseState)\n",
      "    #= /home/mathow/.julia/packages/CSTParser/i8cPl/src/CSTParser.jl:180 =#\n",
      "    if ((ps.nt).kind == Tokens.STRING || (ps.nt).kind == Tokens.TRIPLE_STRING) && !(isemptyws(ps.nws))\n",
      "        #= /home/mathow/.julia/packages/CSTParser/i8cPl/src/CSTParser.jl:181 =#\n",
      "        doc = mLITERAL(next(ps))\n",
      "        #= /home/mathow/.julia/packages/CSTParser/i8cPl/src/CSTParser.jl:182 =#\n",
      "        if (ps.nt).kind == Tokens.ENDMARKER || (ps.nt).kind == Tokens.END\n",
      "            #= /home/mathow/.julia/packages/CSTParser/i8cPl/src/CSTParser.jl:183 =#\n",
      "            return doc\n",
      "        elseif #= /home/mathow/.julia/packages/CSTParser/i8cPl/src/CSTParser.jl:184 =# isbinaryop(ps.nt) && !(closer(ps))\n",
      "            #= /home/mathow/.julia/packages/CSTParser/i8cPl/src/CSTParser.jl:185 =#\n",
      "            ret = parse_compound(ps, doc)\n",
      "            #= /home/mathow/.julia/packages/CSTParser/i8cPl/src/CSTParser.jl:186 =#\n",
      "            return ret\n",
      "        end\n",
      "        #= /home/mathow/.julia/packages/CSTParser/i8cPl/src/CSTParser.jl:189 =#\n",
      "        ret = parse_expression(ps)\n",
      "        #= /home/mathow/.julia/packages/CSTParser/i8cPl/src/CSTParser.jl:190 =#\n",
      "        ret = EXPR(MacroCall, EXPR[GlobalRefDOC(), doc, ret])\n",
      "    elseif #= /home/mathow/.julia/packages/CSTParser/i8cPl/src/CSTParser.jl:191 =# (ps.nt).kind == Tokens.IDENTIFIER && (val(ps.nt, ps) == \"doc\" && ((ps.nnt).kind == Tokens.STRING || (ps.nnt).kind == Tokens.TRIPLE_STRING))\n",
      "        #= /home/mathow/.julia/packages/CSTParser/i8cPl/src/CSTParser.jl:192 =#\n",
      "        doc = mIDENTIFIER(next(ps))\n",
      "        #= /home/mathow/.julia/packages/CSTParser/i8cPl/src/CSTParser.jl:193 =#\n",
      "        next(ps)\n",
      "        #= /home/mathow/.julia/packages/CSTParser/i8cPl/src/CSTParser.jl:194 =#\n",
      "        arg = parse_string_or_cmd(ps, doc)\n",
      "        #= /home/mathow/.julia/packages/CSTParser/i8cPl/src/CSTParser.jl:195 =#\n",
      "        doc = EXPR(x_Str, EXPR[doc, arg])\n",
      "        #= /home/mathow/.julia/packages/CSTParser/i8cPl/src/CSTParser.jl:196 =#\n",
      "        ret = parse_expression(ps)\n",
      "        #= /home/mathow/.julia/packages/CSTParser/i8cPl/src/CSTParser.jl:197 =#\n",
      "        ret = EXPR(MacroCall, EXPR[GlobalRefDOC(), doc, ret])\n",
      "    else\n",
      "        #= /home/mathow/.julia/packages/CSTParser/i8cPl/src/CSTParser.jl:199 =#\n",
      "        ret = parse_expression(ps)\n",
      "    end\n",
      "    #= /home/mathow/.julia/packages/CSTParser/i8cPl/src/CSTParser.jl:201 =#\n",
      "    return ret\n",
      "end\n",
      "in module Main.CSTParser\n",
      "\u001b[91mUndefVarError: ParseState not defined\u001b[39m\n",
      "Stacktrace:\n",
      " [1] \u001b[1mmacro expansion\u001b[22m at \u001b[1m/home/mathow/.julia/packages/JuliaInterpreter/Or807/src/interpret.jl:64\u001b[22m [inlined]\n",
      " [2] \u001b[1mgetargs\u001b[22m\u001b[1m(\u001b[22m::Array{Any,1}, ::JuliaInterpreter.Frame\u001b[1m)\u001b[22m at \u001b[1m/home/mathow/.julia/packages/JuliaInterpreter/Or807/src/builtins.jl:8\u001b[22m\n",
      " [3] \u001b[1mmaybe_evaluate_builtin\u001b[22m\u001b[1m(\u001b[22m::JuliaInterpreter.Frame, ::Expr, ::Bool\u001b[1m)\u001b[22m at \u001b[1m/home/mathow/.julia/packages/JuliaInterpreter/Or807/src/builtins.jl:136\u001b[22m\n",
      " [4] \u001b[1m#evaluate_call_recurse!#37\u001b[22m\u001b[1m(\u001b[22m::Bool, ::Function, ::Any, ::JuliaInterpreter.Frame, ::Expr\u001b[1m)\u001b[22m at \u001b[1m/home/mathow/.julia/packages/JuliaInterpreter/Or807/src/interpret.jl:209\u001b[22m\n",
      " [5] \u001b[1mevaluate_call_recurse!\u001b[22m at \u001b[1m/home/mathow/.julia/packages/JuliaInterpreter/Or807/src/interpret.jl:206\u001b[22m [inlined]\n",
      " [6] \u001b[1meval_rhs\u001b[22m\u001b[1m(\u001b[22m::Any, ::JuliaInterpreter.Frame, ::Expr\u001b[1m)\u001b[22m at \u001b[1m/home/mathow/.julia/packages/JuliaInterpreter/Or807/src/interpret.jl:381\u001b[22m\n",
      " [7] \u001b[1mstep_expr!\u001b[22m\u001b[1m(\u001b[22m::Any, ::JuliaInterpreter.Frame, ::Any, ::Bool\u001b[1m)\u001b[22m at \u001b[1m/home/mathow/.julia/packages/JuliaInterpreter/Or807/src/interpret.jl:509\u001b[22m\n",
      " [8] \u001b[1msignature\u001b[22m\u001b[1m(\u001b[22m::Any, ::JuliaInterpreter.Frame, ::Any, ::Int64\u001b[1m)\u001b[22m at \u001b[1m/home/mathow/.julia/packages/LoweredCodeUtils/6EZqd/src/LoweredCodeUtils.jl:146\u001b[22m\n",
      " [9] \u001b[1m#methoddef!#3\u001b[22m\u001b[1m(\u001b[22m::Bool, ::Function, ::Any, ::Array{Any,1}, ::JuliaInterpreter.Frame, ::Any, ::Int64\u001b[1m)\u001b[22m at \u001b[1m/home/mathow/.julia/packages/LoweredCodeUtils/6EZqd/src/LoweredCodeUtils.jl:420\u001b[22m\n",
      " [10] \u001b[1m(::getfield(LoweredCodeUtils, Symbol(\"#kw##methoddef!\")))\u001b[22m\u001b[1m(\u001b[22m::NamedTuple{(:define,),Tuple{Bool}}, ::typeof(LoweredCodeUtils.methoddef!), ::Function, ::Array{Any,1}, ::JuliaInterpreter.Frame, ::Expr, ::Int64\u001b[1m)\u001b[22m at \u001b[1m./none:0\u001b[22m\n",
      " [11] \u001b[1m#methods_by_execution!#14\u001b[22m\u001b[1m(\u001b[22m::Bool, ::Bool, ::Function, ::Any, ::Revise.CodeTrackingMethodInfo, ::Dict{Module,Array{Expr,1}}, ::JuliaInterpreter.Frame\u001b[1m)\u001b[22m at \u001b[1m/home/mathow/.julia/packages/Revise/agmgx/src/lowered.jl:81\u001b[22m\n",
      " [12] \u001b[1m#methods_by_execution!\u001b[22m at \u001b[1m./none:0\u001b[22m [inlined]\n",
      " [13] \u001b[1m#methods_by_execution!#9\u001b[22m\u001b[1m(\u001b[22m::Base.Iterators.Pairs{Symbol,Bool,Tuple{Symbol},NamedTuple{(:define,),Tuple{Bool}}}, ::Function, ::Any, ::Revise.CodeTrackingMethodInfo, ::Dict{Module,Array{Expr,1}}, ::Module, ::Expr\u001b[1m)\u001b[22m at \u001b[1m/home/mathow/.julia/packages/Revise/agmgx/src/lowered.jl:49\u001b[22m\n",
      " [14] \u001b[1m#methods_by_execution!\u001b[22m at \u001b[1m./none:0\u001b[22m [inlined]\n",
      " [15] \u001b[1m#eval_with_signatures#59\u001b[22m\u001b[1m(\u001b[22m::Bool, ::Base.Iterators.Pairs{Union{},Union{},Tuple{},NamedTuple{(),Tuple{}}}, ::Function, ::Module, ::Expr\u001b[1m)\u001b[22m at \u001b[1m/home/mathow/.julia/packages/Revise/agmgx/src/Revise.jl:344\u001b[22m\n",
      " [16] \u001b[1m#eval_with_signatures\u001b[22m at \u001b[1m/home/mathow/.julia/packages/Revise/agmgx/src/Revise.jl:0\u001b[22m [inlined]\n",
      " [17] \u001b[1m#instantiate_sigs!#60\u001b[22m\u001b[1m(\u001b[22m::Bool, ::Base.Iterators.Pairs{Union{},Union{},Tuple{},NamedTuple{(),Tuple{}}}, ::Function, ::OrderedCollections.OrderedDict{Module,OrderedCollections.OrderedDict{Revise.RelocatableExpr,Union{Nothing, Array{Any,1}}}}\u001b[1m)\u001b[22m at \u001b[1m/home/mathow/.julia/packages/Revise/agmgx/src/Revise.jl:352\u001b[22m\n",
      " [18] \u001b[1minstantiate_sigs!\u001b[22m at \u001b[1m/home/mathow/.julia/packages/Revise/agmgx/src/Revise.jl:349\u001b[22m [inlined]\n",
      " [19] \u001b[1mmaybe_parse_from_cache!\u001b[22m\u001b[1m(\u001b[22m::Revise.PkgData, ::String\u001b[1m)\u001b[22m at \u001b[1m/home/mathow/.julia/packages/Revise/agmgx/src/pkgs.jl:224\u001b[22m\n"
     ]
    },
    {
     "name": "stderr",
     "output_type": "stream",
     "text": [
      " [20] \u001b[1m(::getfield(Revise, Symbol(\"##26#27\")){String})\u001b[22m\u001b[1m(\u001b[22m\u001b[1m)\u001b[22m at \u001b[1m/home/mathow/.julia/packages/Revise/agmgx/src/pkgs.jl:370\u001b[22m\n",
      " [21] \u001b[1mwith_logstate\u001b[22m\u001b[1m(\u001b[22m::getfield(Revise, Symbol(\"##26#27\")){String}, ::Base.CoreLogging.LogState\u001b[1m)\u001b[22m at \u001b[1m./logging.jl:395\u001b[22m\n",
      " [22] \u001b[1mwith_logger\u001b[22m at \u001b[1m./logging.jl:491\u001b[22m [inlined]\n",
      " [23] \u001b[1mwatch_manifest\u001b[22m\u001b[1m(\u001b[22m::String\u001b[1m)\u001b[22m at \u001b[1m/home/mathow/.julia/packages/Revise/agmgx/src/pkgs.jl:349\u001b[22m\n",
      " [24] \u001b[1m(::Revise.Rescheduler{typeof(Revise.watch_manifest),Tuple{String}})\u001b[22m\u001b[1m(\u001b[22m\u001b[1m)\u001b[22m at \u001b[1m/home/mathow/.julia/packages/Revise/agmgx/src/types.jl:235\u001b[22m\n",
      "while evaluating\n",
      "function parse(ps::ParseState, cont=false)\n",
      "    #= /home/mathow/.julia/packages/CSTParser/i8cPl/src/CSTParser.jl:205 =#\n",
      "    if ((ps.l).io).size == 0\n",
      "        #= /home/mathow/.julia/packages/CSTParser/i8cPl/src/CSTParser.jl:206 =#\n",
      "        return (if cont\n",
      "                    EXPR(FileH, EXPR[])\n",
      "                else\n",
      "                    nothing\n",
      "                end, ps)\n",
      "    end\n",
      "    #= /home/mathow/.julia/packages/CSTParser/i8cPl/src/CSTParser.jl:208 =#\n",
      "    last_line = 0\n",
      "    #= /home/mathow/.julia/packages/CSTParser/i8cPl/src/CSTParser.jl:209 =#\n",
      "    curr_line = 0\n",
      "    #= /home/mathow/.julia/packages/CSTParser/i8cPl/src/CSTParser.jl:211 =#\n",
      "    if cont\n",
      "        #= /home/mathow/.julia/packages/CSTParser/i8cPl/src/CSTParser.jl:212 =#\n",
      "        top = EXPR(FileH, EXPR[])\n",
      "        #= /home/mathow/.julia/packages/CSTParser/i8cPl/src/CSTParser.jl:213 =#\n",
      "        if (ps.nt).kind == Tokens.WHITESPACE || (ps.nt).kind == Tokens.COMMENT\n",
      "            #= /home/mathow/.julia/packages/CSTParser/i8cPl/src/CSTParser.jl:214 =#\n",
      "            next(ps)\n",
      "            #= /home/mathow/.julia/packages/CSTParser/i8cPl/src/CSTParser.jl:215 =#\n",
      "            push!(top, mLITERAL((ps.nt).startbyte, (ps.nt).startbyte, \"\", Tokens.NOTHING))\n",
      "        end\n",
      "        #= /home/mathow/.julia/packages/CSTParser/i8cPl/src/CSTParser.jl:218 =#\n",
      "        while !(ps.done)\n",
      "            #= /home/mathow/.julia/packages/CSTParser/i8cPl/src/CSTParser.jl:219 =#\n",
      "            curr_line = (ps.nt).startpos[1]\n",
      "            #= /home/mathow/.julia/packages/CSTParser/i8cPl/src/CSTParser.jl:220 =#\n",
      "            ret = parse_doc(ps)\n",
      "            #= /home/mathow/.julia/packages/CSTParser/i8cPl/src/CSTParser.jl:223 =#\n",
      "            if curr_line == last_line && (last(top.args)).typ === TopLevel\n",
      "                #= /home/mathow/.julia/packages/CSTParser/i8cPl/src/CSTParser.jl:224 =#\n",
      "                push!(last(top.args), ret)\n",
      "            elseif #= /home/mathow/.julia/packages/CSTParser/i8cPl/src/CSTParser.jl:225 =# (ps.ws).kind == SemiColonWS\n",
      "                #= /home/mathow/.julia/packages/CSTParser/i8cPl/src/CSTParser.jl:226 =#\n",
      "                push!(top, EXPR(TopLevel, EXPR[ret]))\n",
      "            else\n",
      "                #= /home/mathow/.julia/packages/CSTParser/i8cPl/src/CSTParser.jl:228 =#\n",
      "                push!(top, ret)\n",
      "            end\n",
      "            #= /home/mathow/.julia/packages/CSTParser/i8cPl/src/CSTParser.jl:230 =#\n",
      "            last_line = curr_line\n",
      "        end\n",
      "    else\n",
      "        #= /home/mathow/.julia/packages/CSTParser/i8cPl/src/CSTParser.jl:233 =#\n",
      "        if (ps.nt).kind == Tokens.WHITESPACE || (ps.nt).kind == Tokens.COMMENT\n",
      "            #= /home/mathow/.julia/packages/CSTParser/i8cPl/src/CSTParser.jl:234 =#\n",
      "            next(ps)\n",
      "            #= /home/mathow/.julia/packages/CSTParser/i8cPl/src/CSTParser.jl:235 =#\n",
      "            top = mLITERAL((ps.nt).startbyte, (ps.nt).startbyte, \"\", Tokens.NOTHING)\n",
      "        else\n",
      "            #= /home/mathow/.julia/packages/CSTParser/i8cPl/src/CSTParser.jl:237 =#\n",
      "            top = parse_doc(ps)\n",
      "            #= /home/mathow/.julia/packages/CSTParser/i8cPl/src/CSTParser.jl:238 =#\n",
      "            last_line = (ps.nt).startpos[1]\n",
      "            #= /home/mathow/.julia/packages/CSTParser/i8cPl/src/CSTParser.jl:239 =#\n",
      "            if (ps.ws).kind == SemiColonWS\n",
      "                #= /home/mathow/.julia/packages/CSTParser/i8cPl/src/CSTParser.jl:240 =#\n",
      "                top = EXPR(TopLevel, EXPR[top])\n",
      "                #= /home/mathow/.julia/packages/CSTParser/i8cPl/src/CSTParser.jl:241 =#\n",
      "                while (ps.ws).kind == SemiColonWS && ((ps.nt).startpos[1] == last_line && (ps.nt).kind != Tokens.ENDMARKER)\n",
      "                    #= /home/mathow/.julia/packages/CSTParser/i8cPl/src/CSTParser.jl:242 =#\n",
      "                    ret = parse_doc(ps)\n",
      "                    #= /home/mathow/.julia/packages/CSTParser/i8cPl/src/CSTParser.jl:243 =#\n",
      "                    push!(top, ret)\n",
      "                    #= /home/mathow/.julia/packages/CSTParser/i8cPl/src/CSTParser.jl:244 =#\n",
      "                    last_line = (ps.nt).startpos[1]\n",
      "                end\n",
      "            end\n",
      "        end\n",
      "    end\n",
      "    #= /home/mathow/.julia/packages/CSTParser/i8cPl/src/CSTParser.jl:250 =#\n",
      "    return (top, ps)\n",
      "end\n",
      "in module Main.CSTParser\n",
      "\u001b[91mArgumentError: Package JuliaInterpreter not found in current path:\u001b[39m\n",
      "\u001b[91m- Run `import Pkg; Pkg.add(\"JuliaInterpreter\")` to install the JuliaInterpreter package.\u001b[39m\n",
      "\n",
      "Stacktrace:\n",
      " [1] \u001b[1mrequire\u001b[22m\u001b[1m(\u001b[22m::Module, ::Symbol\u001b[1m)\u001b[22m at \u001b[1m./loading.jl:823\u001b[22m\n",
      " [2] \u001b[1meval\u001b[22m at \u001b[1m./boot.jl:328\u001b[22m [inlined]\n",
      " [3] \u001b[1mprepare_thunk\u001b[22m\u001b[1m(\u001b[22m::Module, ::Expr, ::Bool\u001b[1m)\u001b[22m at \u001b[1m/home/mathow/.julia/packages/JuliaInterpreter/Or807/src/construct.jl:355\u001b[22m\n",
      " [4] \u001b[1mprepare_thunk\u001b[22m\u001b[1m(\u001b[22m::Module, ::Expr, ::Bool\u001b[1m)\u001b[22m at \u001b[1m/home/mathow/.julia/packages/JuliaInterpreter/Or807/src/construct.jl:361\u001b[22m\n",
      " [5] \u001b[1mprepare_thunk\u001b[22m at \u001b[1m/home/mathow/.julia/packages/JuliaInterpreter/Or807/src/construct.jl:347\u001b[22m [inlined]\n",
      " [6] \u001b[1m#methods_by_execution!#9\u001b[22m\u001b[1m(\u001b[22m::Base.Iterators.Pairs{Symbol,Bool,Tuple{Symbol},NamedTuple{(:define,),Tuple{Bool}}}, ::Function, ::Any, ::Revise.CodeTrackingMethodInfo, ::Dict{Module,Array{Expr,1}}, ::Module, ::Expr\u001b[1m)\u001b[22m at \u001b[1m/home/mathow/.julia/packages/Revise/agmgx/src/lowered.jl:47\u001b[22m\n",
      " [7] \u001b[1m#methods_by_execution!\u001b[22m at \u001b[1m./none:0\u001b[22m [inlined]\n",
      " [8] \u001b[1m#eval_with_signatures#59\u001b[22m\u001b[1m(\u001b[22m::Bool, ::Base.Iterators.Pairs{Union{},Union{},Tuple{},NamedTuple{(),Tuple{}}}, ::Function, ::Module, ::Expr\u001b[1m)\u001b[22m at \u001b[1m/home/mathow/.julia/packages/Revise/agmgx/src/Revise.jl:344\u001b[22m\n",
      " [9] \u001b[1m#eval_with_signatures\u001b[22m at \u001b[1m/home/mathow/.julia/packages/Revise/agmgx/src/Revise.jl:0\u001b[22m [inlined]\n",
      " [10] \u001b[1m#instantiate_sigs!#60\u001b[22m\u001b[1m(\u001b[22m::Bool, ::Base.Iterators.Pairs{Union{},Union{},Tuple{},NamedTuple{(),Tuple{}}}, ::Function, ::OrderedCollections.OrderedDict{Module,OrderedCollections.OrderedDict{Revise.RelocatableExpr,Union{Nothing, Array{Any,1}}}}\u001b[1m)\u001b[22m at \u001b[1m/home/mathow/.julia/packages/Revise/agmgx/src/Revise.jl:352\u001b[22m\n",
      " [11] \u001b[1minstantiate_sigs!\u001b[22m at \u001b[1m/home/mathow/.julia/packages/Revise/agmgx/src/Revise.jl:349\u001b[22m [inlined]\n",
      " [12] \u001b[1mmaybe_parse_from_cache!\u001b[22m\u001b[1m(\u001b[22m::Revise.PkgData, ::String\u001b[1m)\u001b[22m at \u001b[1m/home/mathow/.julia/packages/Revise/agmgx/src/pkgs.jl:224\u001b[22m\n",
      " [13] \u001b[1m(::getfield(Revise, Symbol(\"##26#27\")){String})\u001b[22m\u001b[1m(\u001b[22m\u001b[1m)\u001b[22m at \u001b[1m/home/mathow/.julia/packages/Revise/agmgx/src/pkgs.jl:370\u001b[22m\n",
      " [14] \u001b[1mwith_logstate\u001b[22m\u001b[1m(\u001b[22m::getfield(Revise, Symbol(\"##26#27\")){String}, ::Base.CoreLogging.LogState\u001b[1m)\u001b[22m at \u001b[1m./logging.jl:395\u001b[22m\n",
      " [15] \u001b[1mwith_logger\u001b[22m at \u001b[1m./logging.jl:491\u001b[22m [inlined]\n",
      " [16] \u001b[1mwatch_manifest\u001b[22m\u001b[1m(\u001b[22m::String\u001b[1m)\u001b[22m at \u001b[1m/home/mathow/.julia/packages/Revise/agmgx/src/pkgs.jl:349\u001b[22m\n",
      " [17] \u001b[1m(::Revise.Rescheduler{typeof(Revise.watch_manifest),Tuple{String}})\u001b[22m\u001b[1m(\u001b[22m\u001b[1m)\u001b[22m at \u001b[1m/home/mathow/.julia/packages/Revise/agmgx/src/types.jl:235\u001b[22m\n",
      "while evaluating\n",
      "using JuliaInterpreter\n",
      "in module Main.LoweredCodeUtils\n",
      "\u001b[91mArgumentError: Package JuliaInterpreter not found in current path:\u001b[39m\n",
      "\u001b[91m- Run `import Pkg; Pkg.add(\"JuliaInterpreter\")` to install the JuliaInterpreter package.\u001b[39m\n",
      "\n",
      "Stacktrace:\n",
      " [1] \u001b[1mrequire\u001b[22m\u001b[1m(\u001b[22m::Module, ::Symbol\u001b[1m)\u001b[22m at \u001b[1m./loading.jl:823\u001b[22m\n",
      " [2] \u001b[1meval\u001b[22m at \u001b[1m./boot.jl:328\u001b[22m [inlined]\n",
      " [3] \u001b[1mprepare_thunk\u001b[22m\u001b[1m(\u001b[22m::Module, ::Expr, ::Bool\u001b[1m)\u001b[22m at \u001b[1m/home/mathow/.julia/packages/JuliaInterpreter/Or807/src/construct.jl:355\u001b[22m\n",
      " [4] \u001b[1mprepare_thunk\u001b[22m\u001b[1m(\u001b[22m::Module, ::Expr, ::Bool\u001b[1m)\u001b[22m at \u001b[1m/home/mathow/.julia/packages/JuliaInterpreter/Or807/src/construct.jl:361\u001b[22m\n",
      " [5] \u001b[1mprepare_thunk\u001b[22m at \u001b[1m/home/mathow/.julia/packages/JuliaInterpreter/Or807/src/construct.jl:347\u001b[22m [inlined]\n",
      " [6] \u001b[1m#methods_by_execution!#9\u001b[22m\u001b[1m(\u001b[22m::Base.Iterators.Pairs{Symbol,Bool,Tuple{Symbol},NamedTuple{(:define,),Tuple{Bool}}}, ::Function, ::Any, ::Revise.CodeTrackingMethodInfo, ::Dict{Module,Array{Expr,1}}, ::Module, ::Expr\u001b[1m)\u001b[22m at \u001b[1m/home/mathow/.julia/packages/Revise/agmgx/src/lowered.jl:47\u001b[22m\n",
      " [7] \u001b[1m#methods_by_execution!\u001b[22m at \u001b[1m./none:0\u001b[22m [inlined]\n",
      " [8] \u001b[1m#eval_with_signatures#59\u001b[22m\u001b[1m(\u001b[22m::Bool, ::Base.Iterators.Pairs{Union{},Union{},Tuple{},NamedTuple{(),Tuple{}}}, ::Function, ::Module, ::Expr\u001b[1m)\u001b[22m at \u001b[1m/home/mathow/.julia/packages/Revise/agmgx/src/Revise.jl:344\u001b[22m\n",
      " [9] \u001b[1m#eval_with_signatures\u001b[22m at \u001b[1m/home/mathow/.julia/packages/Revise/agmgx/src/Revise.jl:0\u001b[22m [inlined]\n",
      " [10] \u001b[1m#instantiate_sigs!#60\u001b[22m\u001b[1m(\u001b[22m::Bool, ::Base.Iterators.Pairs{Union{},Union{},Tuple{},NamedTuple{(),Tuple{}}}, ::Function, ::OrderedCollections.OrderedDict{Module,OrderedCollections.OrderedDict{Revise.RelocatableExpr,Union{Nothing, Array{Any,1}}}}\u001b[1m)\u001b[22m at \u001b[1m/home/mathow/.julia/packages/Revise/agmgx/src/Revise.jl:352\u001b[22m\n",
      " [11] \u001b[1minstantiate_sigs!\u001b[22m at \u001b[1m/home/mathow/.julia/packages/Revise/agmgx/src/Revise.jl:349\u001b[22m [inlined]\n",
      " [12] \u001b[1mmaybe_parse_from_cache!\u001b[22m\u001b[1m(\u001b[22m::Revise.PkgData, ::String\u001b[1m)\u001b[22m at \u001b[1m/home/mathow/.julia/packages/Revise/agmgx/src/pkgs.jl:224\u001b[22m\n",
      " [13] \u001b[1m(::getfield(Revise, Symbol(\"##26#27\")){String})\u001b[22m\u001b[1m(\u001b[22m\u001b[1m)\u001b[22m at \u001b[1m/home/mathow/.julia/packages/Revise/agmgx/src/pkgs.jl:370\u001b[22m\n",
      " [14] \u001b[1mwith_logstate\u001b[22m\u001b[1m(\u001b[22m::getfield(Revise, Symbol(\"##26#27\")){String}, ::Base.CoreLogging.LogState\u001b[1m)\u001b[22m at \u001b[1m./logging.jl:395\u001b[22m\n",
      " [15] \u001b[1mwith_logger\u001b[22m at \u001b[1m./logging.jl:491\u001b[22m [inlined]\n",
      " [16] \u001b[1mwatch_manifest\u001b[22m\u001b[1m(\u001b[22m::String\u001b[1m)\u001b[22m at \u001b[1m/home/mathow/.julia/packages/Revise/agmgx/src/pkgs.jl:349\u001b[22m\n",
      " [17] \u001b[1m(::Revise.Rescheduler{typeof(Revise.watch_manifest),Tuple{String}})\u001b[22m\u001b[1m(\u001b[22m\u001b[1m)\u001b[22m at \u001b[1m/home/mathow/.julia/packages/Revise/agmgx/src/types.jl:235\u001b[22m\n",
      "while evaluating\n",
      "using JuliaInterpreter: SSAValue, SlotNumber, Frame\n",
      "in module Main.LoweredCodeUtils\n",
      "\u001b[91mArgumentError: Package JuliaInterpreter not found in current path:\u001b[39m\n",
      "\u001b[91m- Run `import Pkg; Pkg.add(\"JuliaInterpreter\")` to install the JuliaInterpreter package.\u001b[39m\n",
      "\n",
      "Stacktrace:\n",
      " [1] \u001b[1mrequire\u001b[22m\u001b[1m(\u001b[22m::Module, ::Symbol\u001b[1m)\u001b[22m at \u001b[1m./loading.jl:823\u001b[22m\n",
      " [2] \u001b[1meval\u001b[22m at \u001b[1m./boot.jl:328\u001b[22m [inlined]\n",
      " [3] \u001b[1mprepare_thunk\u001b[22m\u001b[1m(\u001b[22m::Module, ::Expr, ::Bool\u001b[1m)\u001b[22m at \u001b[1m/home/mathow/.julia/packages/JuliaInterpreter/Or807/src/construct.jl:355\u001b[22m\n",
      " [4] \u001b[1mprepare_thunk\u001b[22m\u001b[1m(\u001b[22m::Module, ::Expr, ::Bool\u001b[1m)\u001b[22m at \u001b[1m/home/mathow/.julia/packages/JuliaInterpreter/Or807/src/construct.jl:361\u001b[22m\n",
      " [5] \u001b[1mprepare_thunk\u001b[22m at \u001b[1m/home/mathow/.julia/packages/JuliaInterpreter/Or807/src/construct.jl:347\u001b[22m [inlined]\n",
      " [6] \u001b[1m#methods_by_execution!#9\u001b[22m\u001b[1m(\u001b[22m::Base.Iterators.Pairs{Symbol,Bool,Tuple{Symbol},NamedTuple{(:define,),Tuple{Bool}}}, ::Function, ::Any, ::Revise.CodeTrackingMethodInfo, ::Dict{Module,Array{Expr,1}}, ::Module, ::Expr\u001b[1m)\u001b[22m at \u001b[1m/home/mathow/.julia/packages/Revise/agmgx/src/lowered.jl:47\u001b[22m\n",
      " [7] \u001b[1m#methods_by_execution!\u001b[22m at \u001b[1m./none:0\u001b[22m [inlined]\n",
      " [8] \u001b[1m#eval_with_signatures#59\u001b[22m\u001b[1m(\u001b[22m::Bool, ::Base.Iterators.Pairs{Union{},Union{},Tuple{},NamedTuple{(),Tuple{}}}, ::Function, ::Module, ::Expr\u001b[1m)\u001b[22m at \u001b[1m/home/mathow/.julia/packages/Revise/agmgx/src/Revise.jl:344\u001b[22m\n",
      " [9] \u001b[1m#eval_with_signatures\u001b[22m at \u001b[1m/home/mathow/.julia/packages/Revise/agmgx/src/Revise.jl:0\u001b[22m [inlined]\n",
      " [10] \u001b[1m#instantiate_sigs!#60\u001b[22m\u001b[1m(\u001b[22m::Bool, ::Base.Iterators.Pairs{Union{},Union{},Tuple{},NamedTuple{(),Tuple{}}}, ::Function, ::OrderedCollections.OrderedDict{Module,OrderedCollections.OrderedDict{Revise.RelocatableExpr,Union{Nothing, Array{Any,1}}}}\u001b[1m)\u001b[22m at \u001b[1m/home/mathow/.julia/packages/Revise/agmgx/src/Revise.jl:352\u001b[22m\n",
      " [11] \u001b[1minstantiate_sigs!\u001b[22m at \u001b[1m/home/mathow/.julia/packages/Revise/agmgx/src/Revise.jl:349\u001b[22m [inlined]\n",
      " [12] \u001b[1mmaybe_parse_from_cache!\u001b[22m\u001b[1m(\u001b[22m::Revise.PkgData, ::String\u001b[1m)\u001b[22m at \u001b[1m/home/mathow/.julia/packages/Revise/agmgx/src/pkgs.jl:224\u001b[22m\n",
      " [13] \u001b[1m(::getfield(Revise, Symbol(\"##26#27\")){String})\u001b[22m\u001b[1m(\u001b[22m\u001b[1m)\u001b[22m at \u001b[1m/home/mathow/.julia/packages/Revise/agmgx/src/pkgs.jl:370\u001b[22m\n",
      " [14] \u001b[1mwith_logstate\u001b[22m\u001b[1m(\u001b[22m::getfield(Revise, Symbol(\"##26#27\")){String}, ::Base.CoreLogging.LogState\u001b[1m)\u001b[22m at \u001b[1m./logging.jl:395\u001b[22m\n",
      " [15] \u001b[1mwith_logger\u001b[22m at \u001b[1m./logging.jl:491\u001b[22m [inlined]\n",
      " [16] \u001b[1mwatch_manifest\u001b[22m\u001b[1m(\u001b[22m::String\u001b[1m)\u001b[22m at \u001b[1m/home/mathow/.julia/packages/Revise/agmgx/src/pkgs.jl:349\u001b[22m\n",
      " [17] \u001b[1m(::Revise.Rescheduler{typeof(Revise.watch_manifest),Tuple{String}})\u001b[22m\u001b[1m(\u001b[22m\u001b[1m)\u001b[22m at \u001b[1m/home/mathow/.julia/packages/Revise/agmgx/src/types.jl:235\u001b[22m\n",
      "while evaluating\n",
      "using JuliaInterpreter: @lookup, moduleof, pc_expr, step_expr!, is_global_ref, whichtt, next_until!, finish_and_return!, nstatements, codelocation\n",
      "in module Main.LoweredCodeUtils\n",
      "\u001b[91mUndefVarError: Frame not defined\u001b[39m\n",
      "Stacktrace:\n",
      " [1] \u001b[1mmacro expansion\u001b[22m at \u001b[1m/home/mathow/.julia/packages/JuliaInterpreter/Or807/src/interpret.jl:64\u001b[22m [inlined]\n",
      " [2] \u001b[1mgetargs\u001b[22m\u001b[1m(\u001b[22m::Array{Any,1}, ::JuliaInterpreter.Frame\u001b[1m)\u001b[22m at \u001b[1m/home/mathow/.julia/packages/JuliaInterpreter/Or807/src/builtins.jl:8\u001b[22m\n",
      " [3] \u001b[1mmaybe_evaluate_builtin\u001b[22m\u001b[1m(\u001b[22m::JuliaInterpreter.Frame, ::Expr, ::Bool\u001b[1m)\u001b[22m at \u001b[1m/home/mathow/.julia/packages/JuliaInterpreter/Or807/src/builtins.jl:136\u001b[22m\n",
      " [4] \u001b[1m#evaluate_call_recurse!#37\u001b[22m\u001b[1m(\u001b[22m::Bool, ::Function, ::Any, ::JuliaInterpreter.Frame, ::Expr\u001b[1m)\u001b[22m at \u001b[1m/home/mathow/.julia/packages/JuliaInterpreter/Or807/src/interpret.jl:209\u001b[22m\n",
      " [5] \u001b[1mevaluate_call_recurse!\u001b[22m at \u001b[1m/home/mathow/.julia/packages/JuliaInterpreter/Or807/src/interpret.jl:206\u001b[22m [inlined]\n",
      " [6] \u001b[1meval_rhs\u001b[22m\u001b[1m(\u001b[22m::Any, ::JuliaInterpreter.Frame, ::Expr\u001b[1m)\u001b[22m at \u001b[1m/home/mathow/.julia/packages/JuliaInterpreter/Or807/src/interpret.jl:381\u001b[22m\n",
      " [7] \u001b[1mstep_expr!\u001b[22m\u001b[1m(\u001b[22m::Any, ::JuliaInterpreter.Frame, ::Any, ::Bool\u001b[1m)\u001b[22m at \u001b[1m/home/mathow/.julia/packages/JuliaInterpreter/Or807/src/interpret.jl:509\u001b[22m\n",
      " [8] \u001b[1msignature\u001b[22m\u001b[1m(\u001b[22m::Any, ::JuliaInterpreter.Frame, ::Any, ::Int64\u001b[1m)\u001b[22m at \u001b[1m/home/mathow/.julia/packages/LoweredCodeUtils/6EZqd/src/LoweredCodeUtils.jl:146\u001b[22m\n"
     ]
    },
    {
     "name": "stderr",
     "output_type": "stream",
     "text": [
      " [9] \u001b[1m#methoddef!#3\u001b[22m\u001b[1m(\u001b[22m::Bool, ::Function, ::Any, ::Array{Any,1}, ::JuliaInterpreter.Frame, ::Any, ::Int64\u001b[1m)\u001b[22m at \u001b[1m/home/mathow/.julia/packages/LoweredCodeUtils/6EZqd/src/LoweredCodeUtils.jl:420\u001b[22m\n",
      " [10] \u001b[1m(::getfield(LoweredCodeUtils, Symbol(\"#kw##methoddef!\")))\u001b[22m\u001b[1m(\u001b[22m::NamedTuple{(:define,),Tuple{Bool}}, ::typeof(LoweredCodeUtils.methoddef!), ::Function, ::Array{Any,1}, ::JuliaInterpreter.Frame, ::Expr, ::Int64\u001b[1m)\u001b[22m at \u001b[1m./none:0\u001b[22m\n",
      " [11] \u001b[1m#methods_by_execution!#14\u001b[22m\u001b[1m(\u001b[22m::Bool, ::Bool, ::Function, ::Any, ::Revise.CodeTrackingMethodInfo, ::Dict{Module,Array{Expr,1}}, ::JuliaInterpreter.Frame\u001b[1m)\u001b[22m at \u001b[1m/home/mathow/.julia/packages/Revise/agmgx/src/lowered.jl:81\u001b[22m\n",
      " [12] \u001b[1m#methods_by_execution!\u001b[22m at \u001b[1m./none:0\u001b[22m [inlined]\n",
      " [13] \u001b[1m#methods_by_execution!#9\u001b[22m\u001b[1m(\u001b[22m::Base.Iterators.Pairs{Symbol,Bool,Tuple{Symbol},NamedTuple{(:define,),Tuple{Bool}}}, ::Function, ::Any, ::Revise.CodeTrackingMethodInfo, ::Dict{Module,Array{Expr,1}}, ::Module, ::Expr\u001b[1m)\u001b[22m at \u001b[1m/home/mathow/.julia/packages/Revise/agmgx/src/lowered.jl:49\u001b[22m\n",
      " [14] \u001b[1m#methods_by_execution!\u001b[22m at \u001b[1m./none:0\u001b[22m [inlined]\n",
      " [15] \u001b[1m#eval_with_signatures#59\u001b[22m\u001b[1m(\u001b[22m::Bool, ::Base.Iterators.Pairs{Union{},Union{},Tuple{},NamedTuple{(),Tuple{}}}, ::Function, ::Module, ::Expr\u001b[1m)\u001b[22m at \u001b[1m/home/mathow/.julia/packages/Revise/agmgx/src/Revise.jl:344\u001b[22m\n",
      " [16] \u001b[1m#eval_with_signatures\u001b[22m at \u001b[1m/home/mathow/.julia/packages/Revise/agmgx/src/Revise.jl:0\u001b[22m [inlined]\n",
      " [17] \u001b[1m#instantiate_sigs!#60\u001b[22m\u001b[1m(\u001b[22m::Bool, ::Base.Iterators.Pairs{Union{},Union{},Tuple{},NamedTuple{(),Tuple{}}}, ::Function, ::OrderedCollections.OrderedDict{Module,OrderedCollections.OrderedDict{Revise.RelocatableExpr,Union{Nothing, Array{Any,1}}}}\u001b[1m)\u001b[22m at \u001b[1m/home/mathow/.julia/packages/Revise/agmgx/src/Revise.jl:352\u001b[22m\n",
      " [18] \u001b[1minstantiate_sigs!\u001b[22m at \u001b[1m/home/mathow/.julia/packages/Revise/agmgx/src/Revise.jl:349\u001b[22m [inlined]\n",
      " [19] \u001b[1mmaybe_parse_from_cache!\u001b[22m\u001b[1m(\u001b[22m::Revise.PkgData, ::String\u001b[1m)\u001b[22m at \u001b[1m/home/mathow/.julia/packages/Revise/agmgx/src/pkgs.jl:224\u001b[22m\n",
      " [20] \u001b[1m(::getfield(Revise, Symbol(\"##26#27\")){String})\u001b[22m\u001b[1m(\u001b[22m\u001b[1m)\u001b[22m at \u001b[1m/home/mathow/.julia/packages/Revise/agmgx/src/pkgs.jl:370\u001b[22m\n",
      " [21] \u001b[1mwith_logstate\u001b[22m\u001b[1m(\u001b[22m::getfield(Revise, Symbol(\"##26#27\")){String}, ::Base.CoreLogging.LogState\u001b[1m)\u001b[22m at \u001b[1m./logging.jl:395\u001b[22m\n",
      " [22] \u001b[1mwith_logger\u001b[22m at \u001b[1m./logging.jl:491\u001b[22m [inlined]\n",
      " [23] \u001b[1mwatch_manifest\u001b[22m\u001b[1m(\u001b[22m::String\u001b[1m)\u001b[22m at \u001b[1m/home/mathow/.julia/packages/Revise/agmgx/src/pkgs.jl:349\u001b[22m\n",
      " [24] \u001b[1m(::Revise.Rescheduler{typeof(Revise.watch_manifest),Tuple{String}})\u001b[22m\u001b[1m(\u001b[22m\u001b[1m)\u001b[22m at \u001b[1m/home/mathow/.julia/packages/Revise/agmgx/src/types.jl:235\u001b[22m\n",
      "while evaluating\n",
      "ismethod(frame::Frame) = begin\n",
      "        #= /home/mathow/.julia/packages/LoweredCodeUtils/6EZqd/src/LoweredCodeUtils.jl:40 =#\n",
      "        ismethod(pc_expr(frame))\n",
      "    end\n",
      "in module Main.LoweredCodeUtils\n",
      "LoadError: \u001b[91mUndefVarError: @lookup not defined\u001b[39m\n",
      "Stacktrace:\n",
      " [1] top-level scope\n",
      " [2] \u001b[1mlower\u001b[22m at \u001b[1m./meta.jl:68\u001b[22m [inlined]\n",
      " [3] \u001b[1mprepare_thunk\u001b[22m\u001b[1m(\u001b[22m::Module, ::Expr, ::Bool\u001b[1m)\u001b[22m at \u001b[1m/home/mathow/.julia/packages/JuliaInterpreter/Or807/src/construct.jl:360\u001b[22m\n",
      " [4] \u001b[1mprepare_thunk\u001b[22m at \u001b[1m/home/mathow/.julia/packages/JuliaInterpreter/Or807/src/construct.jl:347\u001b[22m [inlined]\n",
      " [5] \u001b[1m#methods_by_execution!#9\u001b[22m\u001b[1m(\u001b[22m::Base.Iterators.Pairs{Symbol,Bool,Tuple{Symbol},NamedTuple{(:define,),Tuple{Bool}}}, ::Function, ::Any, ::Revise.CodeTrackingMethodInfo, ::Dict{Module,Array{Expr,1}}, ::Module, ::Expr\u001b[1m)\u001b[22m at \u001b[1m/home/mathow/.julia/packages/Revise/agmgx/src/lowered.jl:47\u001b[22m\n",
      " [6] \u001b[1m#methods_by_execution!\u001b[22m at \u001b[1m./none:0\u001b[22m [inlined]\n",
      " [7] \u001b[1m#eval_with_signatures#59\u001b[22m\u001b[1m(\u001b[22m::Bool, ::Base.Iterators.Pairs{Union{},Union{},Tuple{},NamedTuple{(),Tuple{}}}, ::Function, ::Module, ::Expr\u001b[1m)\u001b[22m at \u001b[1m/home/mathow/.julia/packages/Revise/agmgx/src/Revise.jl:344\u001b[22m\n",
      " [8] \u001b[1m#eval_with_signatures\u001b[22m at \u001b[1m/home/mathow/.julia/packages/Revise/agmgx/src/Revise.jl:0\u001b[22m [inlined]\n",
      " [9] \u001b[1m#instantiate_sigs!#60\u001b[22m\u001b[1m(\u001b[22m::Bool, ::Base.Iterators.Pairs{Union{},Union{},Tuple{},NamedTuple{(),Tuple{}}}, ::Function, ::OrderedCollections.OrderedDict{Module,OrderedCollections.OrderedDict{Revise.RelocatableExpr,Union{Nothing, Array{Any,1}}}}\u001b[1m)\u001b[22m at \u001b[1m/home/mathow/.julia/packages/Revise/agmgx/src/Revise.jl:352\u001b[22m\n",
      " [10] \u001b[1minstantiate_sigs!\u001b[22m at \u001b[1m/home/mathow/.julia/packages/Revise/agmgx/src/Revise.jl:349\u001b[22m [inlined]\n",
      " [11] \u001b[1mmaybe_parse_from_cache!\u001b[22m\u001b[1m(\u001b[22m::Revise.PkgData, ::String\u001b[1m)\u001b[22m at \u001b[1m/home/mathow/.julia/packages/Revise/agmgx/src/pkgs.jl:224\u001b[22m\n",
      " [12] \u001b[1m(::getfield(Revise, Symbol(\"##26#27\")){String})\u001b[22m\u001b[1m(\u001b[22m\u001b[1m)\u001b[22m at \u001b[1m/home/mathow/.julia/packages/Revise/agmgx/src/pkgs.jl:370\u001b[22m\n",
      " [13] \u001b[1mwith_logstate\u001b[22m\u001b[1m(\u001b[22m::getfield(Revise, Symbol(\"##26#27\")){String}, ::Base.CoreLogging.LogState\u001b[1m)\u001b[22m at \u001b[1m./logging.jl:395\u001b[22m\n",
      " [14] \u001b[1mwith_logger\u001b[22m at \u001b[1m./logging.jl:491\u001b[22m [inlined]\n",
      " [15] \u001b[1mwatch_manifest\u001b[22m\u001b[1m(\u001b[22m::String\u001b[1m)\u001b[22m at \u001b[1m/home/mathow/.julia/packages/Revise/agmgx/src/pkgs.jl:349\u001b[22m\n",
      " [16] \u001b[1m(::Revise.Rescheduler{typeof(Revise.watch_manifest),Tuple{String}})\u001b[22m\u001b[1m(\u001b[22m\u001b[1m)\u001b[22m at \u001b[1m/home/mathow/.julia/packages/Revise/agmgx/src/types.jl:235\u001b[22m\n",
      "in expression starting at /home/mathow/.julia/packages/LoweredCodeUtils/6EZqd/src/LoweredCodeUtils.jl:151\n",
      "while evaluating\n",
      "function signature(#= /home/mathow/.julia/packages/LoweredCodeUtils/6EZqd/src/LoweredCodeUtils.jl:135 =# @nospecialize(recurse), frame::Frame, #= /home/mathow/.julia/packages/LoweredCodeUtils/6EZqd/src/LoweredCodeUtils.jl:135 =# @nospecialize(stmt), pc)\n",
      "    #= /home/mathow/.julia/packages/LoweredCodeUtils/6EZqd/src/LoweredCodeUtils.jl:136 =#\n",
      "    mod = moduleof(frame)\n",
      "    #= /home/mathow/.julia/packages/LoweredCodeUtils/6EZqd/src/LoweredCodeUtils.jl:137 =#\n",
      "    lastpc = (frame.pc = pc)\n",
      "    #= /home/mathow/.julia/packages/LoweredCodeUtils/6EZqd/src/LoweredCodeUtils.jl:138 =#\n",
      "    while !(isexpr(stmt, :method, 3))\n",
      "        #= /home/mathow/.julia/packages/LoweredCodeUtils/6EZqd/src/LoweredCodeUtils.jl:139 =#\n",
      "        if isexpr(stmt, :thunk) && isanonymous_typedef(stmt.args[1])\n",
      "            #= /home/mathow/.julia/packages/LoweredCodeUtils/6EZqd/src/LoweredCodeUtils.jl:140 =#\n",
      "            lastpc = (pc = define_anonymous(recurse, frame, stmt))\n",
      "        elseif #= /home/mathow/.julia/packages/LoweredCodeUtils/6EZqd/src/LoweredCodeUtils.jl:141 =# isexpr(stmt, :call) && (JuliaInterpreter.is_quotenode(stmt.args[1], Core.Typeof) && begin\n",
      "                        sym = stmt.args[2]\n",
      "                        #= /home/mathow/.julia/packages/LoweredCodeUtils/6EZqd/src/LoweredCodeUtils.jl:142 =#\n",
      "                        sym isa Symbol && !(isdefined(mod, sym))\n",
      "                    end)\n",
      "            #= /home/mathow/.julia/packages/LoweredCodeUtils/6EZqd/src/LoweredCodeUtils.jl:143 =#\n",
      "            return (nothing, pc)\n",
      "        else\n",
      "            #= /home/mathow/.julia/packages/LoweredCodeUtils/6EZqd/src/LoweredCodeUtils.jl:145 =#\n",
      "            lastpc = pc\n",
      "            #= /home/mathow/.julia/packages/LoweredCodeUtils/6EZqd/src/LoweredCodeUtils.jl:146 =#\n",
      "            pc = step_expr!(recurse, frame, stmt, true)\n",
      "            #= /home/mathow/.julia/packages/LoweredCodeUtils/6EZqd/src/LoweredCodeUtils.jl:147 =#\n",
      "            pc === nothing && return (nothing, lastpc)\n",
      "        end\n",
      "        #= /home/mathow/.julia/packages/LoweredCodeUtils/6EZqd/src/LoweredCodeUtils.jl:149 =#\n",
      "        stmt = pc_expr(frame, pc)\n",
      "    end\n",
      "    #= /home/mathow/.julia/packages/LoweredCodeUtils/6EZqd/src/LoweredCodeUtils.jl:151 =#\n",
      "    sigsv = #= /home/mathow/.julia/packages/LoweredCodeUtils/6EZqd/src/LoweredCodeUtils.jl:151 =# @lookup(frame, stmt.args[2])::SimpleVector\n",
      "    #= /home/mathow/.julia/packages/LoweredCodeUtils/6EZqd/src/LoweredCodeUtils.jl:152 =#\n",
      "    sigt = signature(sigsv)\n",
      "    #= /home/mathow/.julia/packages/LoweredCodeUtils/6EZqd/src/LoweredCodeUtils.jl:153 =#\n",
      "    return (sigt, lastpc)\n",
      "end\n",
      "in module Main.LoweredCodeUtils\n",
      "\u001b[91mUndefVarError: Frame not defined\u001b[39m\n"
     ]
    },
    {
     "name": "stderr",
     "output_type": "stream",
     "text": [
      "Stacktrace:\n",
      " [1] \u001b[1mmacro expansion\u001b[22m at \u001b[1m/home/mathow/.julia/packages/JuliaInterpreter/Or807/src/interpret.jl:64\u001b[22m [inlined]\n",
      " [2] \u001b[1mgetargs\u001b[22m\u001b[1m(\u001b[22m::Array{Any,1}, ::JuliaInterpreter.Frame\u001b[1m)\u001b[22m at \u001b[1m/home/mathow/.julia/packages/JuliaInterpreter/Or807/src/builtins.jl:8\u001b[22m\n",
      " [3] \u001b[1mmaybe_evaluate_builtin\u001b[22m\u001b[1m(\u001b[22m::JuliaInterpreter.Frame, ::Expr, ::Bool\u001b[1m)\u001b[22m at \u001b[1m/home/mathow/.julia/packages/JuliaInterpreter/Or807/src/builtins.jl:136\u001b[22m\n",
      " [4] \u001b[1m#evaluate_call_recurse!#37\u001b[22m\u001b[1m(\u001b[22m::Bool, ::Function, ::Any, ::JuliaInterpreter.Frame, ::Expr\u001b[1m)\u001b[22m at \u001b[1m/home/mathow/.julia/packages/JuliaInterpreter/Or807/src/interpret.jl:209\u001b[22m\n",
      " [5] \u001b[1mevaluate_call_recurse!\u001b[22m at \u001b[1m/home/mathow/.julia/packages/JuliaInterpreter/Or807/src/interpret.jl:206\u001b[22m [inlined]\n",
      " [6] \u001b[1meval_rhs\u001b[22m\u001b[1m(\u001b[22m::Any, ::JuliaInterpreter.Frame, ::Expr\u001b[1m)\u001b[22m at \u001b[1m/home/mathow/.julia/packages/JuliaInterpreter/Or807/src/interpret.jl:381\u001b[22m\n",
      " [7] \u001b[1mstep_expr!\u001b[22m\u001b[1m(\u001b[22m::Any, ::JuliaInterpreter.Frame, ::Any, ::Bool\u001b[1m)\u001b[22m at \u001b[1m/home/mathow/.julia/packages/JuliaInterpreter/Or807/src/interpret.jl:509\u001b[22m\n",
      " [8] \u001b[1msignature\u001b[22m\u001b[1m(\u001b[22m::Any, ::JuliaInterpreter.Frame, ::Any, ::Int64\u001b[1m)\u001b[22m at \u001b[1m/home/mathow/.julia/packages/LoweredCodeUtils/6EZqd/src/LoweredCodeUtils.jl:146\u001b[22m\n",
      " [9] \u001b[1m#methoddef!#3\u001b[22m\u001b[1m(\u001b[22m::Bool, ::Function, ::Any, ::Array{Any,1}, ::JuliaInterpreter.Frame, ::Any, ::Int64\u001b[1m)\u001b[22m at \u001b[1m/home/mathow/.julia/packages/LoweredCodeUtils/6EZqd/src/LoweredCodeUtils.jl:420\u001b[22m\n",
      " [10] \u001b[1m(::getfield(LoweredCodeUtils, Symbol(\"#kw##methoddef!\")))\u001b[22m\u001b[1m(\u001b[22m::NamedTuple{(:define,),Tuple{Bool}}, ::typeof(LoweredCodeUtils.methoddef!), ::Function, ::Array{Any,1}, ::JuliaInterpreter.Frame, ::Expr, ::Int64\u001b[1m)\u001b[22m at \u001b[1m./none:0\u001b[22m\n",
      " [11] \u001b[1m#methods_by_execution!#14\u001b[22m\u001b[1m(\u001b[22m::Bool, ::Bool, ::Function, ::Any, ::Revise.CodeTrackingMethodInfo, ::Dict{Module,Array{Expr,1}}, ::JuliaInterpreter.Frame\u001b[1m)\u001b[22m at \u001b[1m/home/mathow/.julia/packages/Revise/agmgx/src/lowered.jl:81\u001b[22m\n",
      " [12] \u001b[1m#methods_by_execution!\u001b[22m at \u001b[1m./none:0\u001b[22m [inlined]\n",
      " [13] \u001b[1m#methods_by_execution!#9\u001b[22m\u001b[1m(\u001b[22m::Base.Iterators.Pairs{Symbol,Bool,Tuple{Symbol},NamedTuple{(:define,),Tuple{Bool}}}, ::Function, ::Any, ::Revise.CodeTrackingMethodInfo, ::Dict{Module,Array{Expr,1}}, ::Module, ::Expr\u001b[1m)\u001b[22m at \u001b[1m/home/mathow/.julia/packages/Revise/agmgx/src/lowered.jl:49\u001b[22m\n",
      " [14] \u001b[1m#methods_by_execution!\u001b[22m at \u001b[1m./none:0\u001b[22m [inlined]\n",
      " [15] \u001b[1m#eval_with_signatures#59\u001b[22m\u001b[1m(\u001b[22m::Bool, ::Base.Iterators.Pairs{Union{},Union{},Tuple{},NamedTuple{(),Tuple{}}}, ::Function, ::Module, ::Expr\u001b[1m)\u001b[22m at \u001b[1m/home/mathow/.julia/packages/Revise/agmgx/src/Revise.jl:344\u001b[22m\n",
      " [16] \u001b[1m#eval_with_signatures\u001b[22m at \u001b[1m/home/mathow/.julia/packages/Revise/agmgx/src/Revise.jl:0\u001b[22m [inlined]\n",
      " [17] \u001b[1m#instantiate_sigs!#60\u001b[22m\u001b[1m(\u001b[22m::Bool, ::Base.Iterators.Pairs{Union{},Union{},Tuple{},NamedTuple{(),Tuple{}}}, ::Function, ::OrderedCollections.OrderedDict{Module,OrderedCollections.OrderedDict{Revise.RelocatableExpr,Union{Nothing, Array{Any,1}}}}\u001b[1m)\u001b[22m at \u001b[1m/home/mathow/.julia/packages/Revise/agmgx/src/Revise.jl:352\u001b[22m\n",
      " [18] \u001b[1minstantiate_sigs!\u001b[22m at \u001b[1m/home/mathow/.julia/packages/Revise/agmgx/src/Revise.jl:349\u001b[22m [inlined]\n",
      " [19] \u001b[1mmaybe_parse_from_cache!\u001b[22m\u001b[1m(\u001b[22m::Revise.PkgData, ::String\u001b[1m)\u001b[22m at \u001b[1m/home/mathow/.julia/packages/Revise/agmgx/src/pkgs.jl:224\u001b[22m\n",
      " [20] \u001b[1m(::getfield(Revise, Symbol(\"##26#27\")){String})\u001b[22m\u001b[1m(\u001b[22m\u001b[1m)\u001b[22m at \u001b[1m/home/mathow/.julia/packages/Revise/agmgx/src/pkgs.jl:370\u001b[22m\n",
      " [21] \u001b[1mwith_logstate\u001b[22m\u001b[1m(\u001b[22m::getfield(Revise, Symbol(\"##26#27\")){String}, ::Base.CoreLogging.LogState\u001b[1m)\u001b[22m at \u001b[1m./logging.jl:395\u001b[22m\n",
      " [22] \u001b[1mwith_logger\u001b[22m at \u001b[1m./logging.jl:491\u001b[22m [inlined]\n",
      " [23] \u001b[1mwatch_manifest\u001b[22m\u001b[1m(\u001b[22m::String\u001b[1m)\u001b[22m at \u001b[1m/home/mathow/.julia/packages/Revise/agmgx/src/pkgs.jl:349\u001b[22m\n",
      " [24] \u001b[1m(::Revise.Rescheduler{typeof(Revise.watch_manifest),Tuple{String}})\u001b[22m\u001b[1m(\u001b[22m\u001b[1m)\u001b[22m at \u001b[1m/home/mathow/.julia/packages/Revise/agmgx/src/types.jl:235\u001b[22m\n",
      "while evaluating\n",
      "signature(#= /home/mathow/.julia/packages/LoweredCodeUtils/6EZqd/src/LoweredCodeUtils.jl:155 =# @nospecialize(recurse), frame::Frame, pc) = begin\n",
      "        #= /home/mathow/.julia/packages/LoweredCodeUtils/6EZqd/src/LoweredCodeUtils.jl:155 =#\n",
      "        signature(recurse, frame, pc_expr(frame, pc), pc)\n",
      "    end\n",
      "in module Main.LoweredCodeUtils\n",
      "\u001b[91mUndefVarError: Frame not defined\u001b[39m\n",
      "Stacktrace:\n",
      " [1] \u001b[1mmacro expansion\u001b[22m at \u001b[1m/home/mathow/.julia/packages/JuliaInterpreter/Or807/src/interpret.jl:64\u001b[22m [inlined]\n",
      " [2] \u001b[1mgetargs\u001b[22m\u001b[1m(\u001b[22m::Array{Any,1}, ::JuliaInterpreter.Frame\u001b[1m)\u001b[22m at \u001b[1m/home/mathow/.julia/packages/JuliaInterpreter/Or807/src/builtins.jl:8\u001b[22m\n",
      " [3] \u001b[1mmaybe_evaluate_builtin\u001b[22m\u001b[1m(\u001b[22m::JuliaInterpreter.Frame, ::Expr, ::Bool\u001b[1m)\u001b[22m at \u001b[1m/home/mathow/.julia/packages/JuliaInterpreter/Or807/src/builtins.jl:136\u001b[22m\n",
      " [4] \u001b[1m#evaluate_call_recurse!#37\u001b[22m\u001b[1m(\u001b[22m::Bool, ::Function, ::Any, ::JuliaInterpreter.Frame, ::Expr\u001b[1m)\u001b[22m at \u001b[1m/home/mathow/.julia/packages/JuliaInterpreter/Or807/src/interpret.jl:209\u001b[22m\n",
      " [5] \u001b[1mevaluate_call_recurse!\u001b[22m at \u001b[1m/home/mathow/.julia/packages/JuliaInterpreter/Or807/src/interpret.jl:206\u001b[22m [inlined]\n",
      " [6] \u001b[1meval_rhs\u001b[22m\u001b[1m(\u001b[22m::Any, ::JuliaInterpreter.Frame, ::Expr\u001b[1m)\u001b[22m at \u001b[1m/home/mathow/.julia/packages/JuliaInterpreter/Or807/src/interpret.jl:381\u001b[22m\n",
      " [7] \u001b[1mstep_expr!\u001b[22m\u001b[1m(\u001b[22m::Any, ::JuliaInterpreter.Frame, ::Any, ::Bool\u001b[1m)\u001b[22m at \u001b[1m/home/mathow/.julia/packages/JuliaInterpreter/Or807/src/interpret.jl:509\u001b[22m\n",
      " [8] \u001b[1msignature\u001b[22m\u001b[1m(\u001b[22m::Any, ::JuliaInterpreter.Frame, ::Any, ::Int64\u001b[1m)\u001b[22m at \u001b[1m/home/mathow/.julia/packages/LoweredCodeUtils/6EZqd/src/LoweredCodeUtils.jl:146\u001b[22m\n",
      " [9] \u001b[1m#methoddef!#3\u001b[22m\u001b[1m(\u001b[22m::Bool, ::Function, ::Any, ::Array{Any,1}, ::JuliaInterpreter.Frame, ::Any, ::Int64\u001b[1m)\u001b[22m at \u001b[1m/home/mathow/.julia/packages/LoweredCodeUtils/6EZqd/src/LoweredCodeUtils.jl:420\u001b[22m\n",
      " [10] \u001b[1m(::getfield(LoweredCodeUtils, Symbol(\"#kw##methoddef!\")))\u001b[22m\u001b[1m(\u001b[22m::NamedTuple{(:define,),Tuple{Bool}}, ::typeof(LoweredCodeUtils.methoddef!), ::Function, ::Array{Any,1}, ::JuliaInterpreter.Frame, ::Expr, ::Int64\u001b[1m)\u001b[22m at \u001b[1m./none:0\u001b[22m\n",
      " [11] \u001b[1m#methods_by_execution!#14\u001b[22m\u001b[1m(\u001b[22m::Bool, ::Bool, ::Function, ::Any, ::Revise.CodeTrackingMethodInfo, ::Dict{Module,Array{Expr,1}}, ::JuliaInterpreter.Frame\u001b[1m)\u001b[22m at \u001b[1m/home/mathow/.julia/packages/Revise/agmgx/src/lowered.jl:81\u001b[22m\n",
      " [12] \u001b[1m#methods_by_execution!\u001b[22m at \u001b[1m./none:0\u001b[22m [inlined]\n",
      " [13] \u001b[1m#methods_by_execution!#9\u001b[22m\u001b[1m(\u001b[22m::Base.Iterators.Pairs{Symbol,Bool,Tuple{Symbol},NamedTuple{(:define,),Tuple{Bool}}}, ::Function, ::Any, ::Revise.CodeTrackingMethodInfo, ::Dict{Module,Array{Expr,1}}, ::Module, ::Expr\u001b[1m)\u001b[22m at \u001b[1m/home/mathow/.julia/packages/Revise/agmgx/src/lowered.jl:49\u001b[22m\n",
      " [14] \u001b[1m#methods_by_execution!\u001b[22m at \u001b[1m./none:0\u001b[22m [inlined]\n",
      " [15] \u001b[1m#eval_with_signatures#59\u001b[22m\u001b[1m(\u001b[22m::Bool, ::Base.Iterators.Pairs{Union{},Union{},Tuple{},NamedTuple{(),Tuple{}}}, ::Function, ::Module, ::Expr\u001b[1m)\u001b[22m at \u001b[1m/home/mathow/.julia/packages/Revise/agmgx/src/Revise.jl:344\u001b[22m\n",
      " [16] \u001b[1m#eval_with_signatures\u001b[22m at \u001b[1m/home/mathow/.julia/packages/Revise/agmgx/src/Revise.jl:0\u001b[22m [inlined]\n",
      " [17] \u001b[1m#instantiate_sigs!#60\u001b[22m\u001b[1m(\u001b[22m::Bool, ::Base.Iterators.Pairs{Union{},Union{},Tuple{},NamedTuple{(),Tuple{}}}, ::Function, ::OrderedCollections.OrderedDict{Module,OrderedCollections.OrderedDict{Revise.RelocatableExpr,Union{Nothing, Array{Any,1}}}}\u001b[1m)\u001b[22m at \u001b[1m/home/mathow/.julia/packages/Revise/agmgx/src/Revise.jl:352\u001b[22m\n",
      " [18] \u001b[1minstantiate_sigs!\u001b[22m at \u001b[1m/home/mathow/.julia/packages/Revise/agmgx/src/Revise.jl:349\u001b[22m [inlined]\n",
      " [19] \u001b[1mmaybe_parse_from_cache!\u001b[22m\u001b[1m(\u001b[22m::Revise.PkgData, ::String\u001b[1m)\u001b[22m at \u001b[1m/home/mathow/.julia/packages/Revise/agmgx/src/pkgs.jl:224\u001b[22m\n",
      " [20] \u001b[1m(::getfield(Revise, Symbol(\"##26#27\")){String})\u001b[22m\u001b[1m(\u001b[22m\u001b[1m)\u001b[22m at \u001b[1m/home/mathow/.julia/packages/Revise/agmgx/src/pkgs.jl:370\u001b[22m\n",
      " [21] \u001b[1mwith_logstate\u001b[22m\u001b[1m(\u001b[22m::getfield(Revise, Symbol(\"##26#27\")){String}, ::Base.CoreLogging.LogState\u001b[1m)\u001b[22m at \u001b[1m./logging.jl:395\u001b[22m\n",
      " [22] \u001b[1mwith_logger\u001b[22m at \u001b[1m./logging.jl:491\u001b[22m [inlined]\n",
      " [23] \u001b[1mwatch_manifest\u001b[22m\u001b[1m(\u001b[22m::String\u001b[1m)\u001b[22m at \u001b[1m/home/mathow/.julia/packages/Revise/agmgx/src/pkgs.jl:349\u001b[22m\n",
      " [24] \u001b[1m(::Revise.Rescheduler{typeof(Revise.watch_manifest),Tuple{String}})\u001b[22m\u001b[1m(\u001b[22m\u001b[1m)\u001b[22m at \u001b[1m/home/mathow/.julia/packages/Revise/agmgx/src/types.jl:235\u001b[22m\n",
      "while evaluating\n",
      "signature(frame::Frame, pc) = begin\n",
      "        #= /home/mathow/.julia/packages/LoweredCodeUtils/6EZqd/src/LoweredCodeUtils.jl:156 =#\n",
      "        signature(finish_and_return!, frame, pc)\n",
      "    end\n",
      "in module Main.LoweredCodeUtils\n",
      "\u001b[91mUndefVarError: Frame not defined\u001b[39m\n",
      "Stacktrace:\n",
      " [1] \u001b[1mmacro expansion\u001b[22m at \u001b[1m/home/mathow/.julia/packages/JuliaInterpreter/Or807/src/interpret.jl:64\u001b[22m [inlined]\n",
      " [2] \u001b[1mgetargs\u001b[22m\u001b[1m(\u001b[22m::Array{Any,1}, ::JuliaInterpreter.Frame\u001b[1m)\u001b[22m at \u001b[1m/home/mathow/.julia/packages/JuliaInterpreter/Or807/src/builtins.jl:8\u001b[22m\n",
      " [3] \u001b[1mmaybe_evaluate_builtin\u001b[22m\u001b[1m(\u001b[22m::JuliaInterpreter.Frame, ::Expr, ::Bool\u001b[1m)\u001b[22m at \u001b[1m/home/mathow/.julia/packages/JuliaInterpreter/Or807/src/builtins.jl:136\u001b[22m\n",
      " [4] \u001b[1m#evaluate_call_recurse!#37\u001b[22m\u001b[1m(\u001b[22m::Bool, ::Function, ::Any, ::JuliaInterpreter.Frame, ::Expr\u001b[1m)\u001b[22m at \u001b[1m/home/mathow/.julia/packages/JuliaInterpreter/Or807/src/interpret.jl:209\u001b[22m\n",
      " [5] \u001b[1mevaluate_call_recurse!\u001b[22m at \u001b[1m/home/mathow/.julia/packages/JuliaInterpreter/Or807/src/interpret.jl:206\u001b[22m [inlined]\n",
      " [6] \u001b[1meval_rhs\u001b[22m\u001b[1m(\u001b[22m::Any, ::JuliaInterpreter.Frame, ::Expr\u001b[1m)\u001b[22m at \u001b[1m/home/mathow/.julia/packages/JuliaInterpreter/Or807/src/interpret.jl:381\u001b[22m\n",
      " [7] \u001b[1mstep_expr!\u001b[22m\u001b[1m(\u001b[22m::Any, ::JuliaInterpreter.Frame, ::Any, ::Bool\u001b[1m)\u001b[22m at \u001b[1m/home/mathow/.julia/packages/JuliaInterpreter/Or807/src/interpret.jl:509\u001b[22m\n"
     ]
    },
    {
     "name": "stderr",
     "output_type": "stream",
     "text": [
      " [8] \u001b[1msignature\u001b[22m\u001b[1m(\u001b[22m::Any, ::JuliaInterpreter.Frame, ::Any, ::Int64\u001b[1m)\u001b[22m at \u001b[1m/home/mathow/.julia/packages/LoweredCodeUtils/6EZqd/src/LoweredCodeUtils.jl:146\u001b[22m\n",
      " [9] \u001b[1m#methoddef!#3\u001b[22m\u001b[1m(\u001b[22m::Bool, ::Function, ::Any, ::Array{Any,1}, ::JuliaInterpreter.Frame, ::Any, ::Int64\u001b[1m)\u001b[22m at \u001b[1m/home/mathow/.julia/packages/LoweredCodeUtils/6EZqd/src/LoweredCodeUtils.jl:420\u001b[22m\n",
      " [10] \u001b[1m(::getfield(LoweredCodeUtils, Symbol(\"#kw##methoddef!\")))\u001b[22m\u001b[1m(\u001b[22m::NamedTuple{(:define,),Tuple{Bool}}, ::typeof(LoweredCodeUtils.methoddef!), ::Function, ::Array{Any,1}, ::JuliaInterpreter.Frame, ::Expr, ::Int64\u001b[1m)\u001b[22m at \u001b[1m./none:0\u001b[22m\n",
      " [11] \u001b[1m#methods_by_execution!#14\u001b[22m\u001b[1m(\u001b[22m::Bool, ::Bool, ::Function, ::Any, ::Revise.CodeTrackingMethodInfo, ::Dict{Module,Array{Expr,1}}, ::JuliaInterpreter.Frame\u001b[1m)\u001b[22m at \u001b[1m/home/mathow/.julia/packages/Revise/agmgx/src/lowered.jl:81\u001b[22m\n",
      " [12] \u001b[1m#methods_by_execution!\u001b[22m at \u001b[1m./none:0\u001b[22m [inlined]\n",
      " [13] \u001b[1m#methods_by_execution!#9\u001b[22m\u001b[1m(\u001b[22m::Base.Iterators.Pairs{Symbol,Bool,Tuple{Symbol},NamedTuple{(:define,),Tuple{Bool}}}, ::Function, ::Any, ::Revise.CodeTrackingMethodInfo, ::Dict{Module,Array{Expr,1}}, ::Module, ::Expr\u001b[1m)\u001b[22m at \u001b[1m/home/mathow/.julia/packages/Revise/agmgx/src/lowered.jl:49\u001b[22m\n",
      " [14] \u001b[1m#methods_by_execution!\u001b[22m at \u001b[1m./none:0\u001b[22m [inlined]\n",
      " [15] \u001b[1m#eval_with_signatures#59\u001b[22m\u001b[1m(\u001b[22m::Bool, ::Base.Iterators.Pairs{Union{},Union{},Tuple{},NamedTuple{(),Tuple{}}}, ::Function, ::Module, ::Expr\u001b[1m)\u001b[22m at \u001b[1m/home/mathow/.julia/packages/Revise/agmgx/src/Revise.jl:344\u001b[22m\n",
      " [16] \u001b[1m#eval_with_signatures\u001b[22m at \u001b[1m/home/mathow/.julia/packages/Revise/agmgx/src/Revise.jl:0\u001b[22m [inlined]\n",
      " [17] \u001b[1m#instantiate_sigs!#60\u001b[22m\u001b[1m(\u001b[22m::Bool, ::Base.Iterators.Pairs{Union{},Union{},Tuple{},NamedTuple{(),Tuple{}}}, ::Function, ::OrderedCollections.OrderedDict{Module,OrderedCollections.OrderedDict{Revise.RelocatableExpr,Union{Nothing, Array{Any,1}}}}\u001b[1m)\u001b[22m at \u001b[1m/home/mathow/.julia/packages/Revise/agmgx/src/Revise.jl:352\u001b[22m\n",
      " [18] \u001b[1minstantiate_sigs!\u001b[22m at \u001b[1m/home/mathow/.julia/packages/Revise/agmgx/src/Revise.jl:349\u001b[22m [inlined]\n",
      " [19] \u001b[1mmaybe_parse_from_cache!\u001b[22m\u001b[1m(\u001b[22m::Revise.PkgData, ::String\u001b[1m)\u001b[22m at \u001b[1m/home/mathow/.julia/packages/Revise/agmgx/src/pkgs.jl:224\u001b[22m\n",
      " [20] \u001b[1m(::getfield(Revise, Symbol(\"##26#27\")){String})\u001b[22m\u001b[1m(\u001b[22m\u001b[1m)\u001b[22m at \u001b[1m/home/mathow/.julia/packages/Revise/agmgx/src/pkgs.jl:370\u001b[22m\n",
      " [21] \u001b[1mwith_logstate\u001b[22m\u001b[1m(\u001b[22m::getfield(Revise, Symbol(\"##26#27\")){String}, ::Base.CoreLogging.LogState\u001b[1m)\u001b[22m at \u001b[1m./logging.jl:395\u001b[22m\n",
      " [22] \u001b[1mwith_logger\u001b[22m at \u001b[1m./logging.jl:491\u001b[22m [inlined]\n",
      " [23] \u001b[1mwatch_manifest\u001b[22m\u001b[1m(\u001b[22m::String\u001b[1m)\u001b[22m at \u001b[1m/home/mathow/.julia/packages/Revise/agmgx/src/pkgs.jl:349\u001b[22m\n",
      " [24] \u001b[1m(::Revise.Rescheduler{typeof(Revise.watch_manifest),Tuple{String}})\u001b[22m\u001b[1m(\u001b[22m\u001b[1m)\u001b[22m at \u001b[1m/home/mathow/.julia/packages/Revise/agmgx/src/types.jl:235\u001b[22m\n",
      "while evaluating\n",
      "function methoddef!(#= /home/mathow/.julia/packages/LoweredCodeUtils/6EZqd/src/LoweredCodeUtils.jl:349 =# @nospecialize(recurse), signatures, frame::Frame, #= /home/mathow/.julia/packages/LoweredCodeUtils/6EZqd/src/LoweredCodeUtils.jl:349 =# @nospecialize(stmt), pc::Int; define=true)\n",
      "    #= /home/mathow/.julia/packages/LoweredCodeUtils/6EZqd/src/LoweredCodeUtils.jl:350 =#\n",
      "    framecode = frame.framecode\n",
      "    #= /home/mathow/.julia/packages/LoweredCodeUtils/6EZqd/src/LoweredCodeUtils.jl:351 =#\n",
      "    if ismethod3(stmt)\n",
      "        #= /home/mathow/.julia/packages/LoweredCodeUtils/6EZqd/src/LoweredCodeUtils.jl:352 =#\n",
      "        pc3 = pc\n",
      "        #= /home/mathow/.julia/packages/LoweredCodeUtils/6EZqd/src/LoweredCodeUtils.jl:353 =#\n",
      "        (sigt, pc) = signature(recurse, frame, stmt, pc)\n",
      "        #= /home/mathow/.julia/packages/LoweredCodeUtils/6EZqd/src/LoweredCodeUtils.jl:354 =#\n",
      "        if sigt === nothing && define\n",
      "            #= /home/mathow/.julia/packages/LoweredCodeUtils/6EZqd/src/LoweredCodeUtils.jl:355 =#\n",
      "            step_expr!(recurse, frame, stmt, true)\n",
      "        end\n",
      "        #= /home/mathow/.julia/packages/LoweredCodeUtils/6EZqd/src/LoweredCodeUtils.jl:357 =#\n",
      "        (sigt, pc) = signature(recurse, frame, stmt, pc)\n",
      "        #= /home/mathow/.julia/packages/LoweredCodeUtils/6EZqd/src/LoweredCodeUtils.jl:358 =#\n",
      "        meth = whichtt(sigt)\n",
      "        #= /home/mathow/.julia/packages/LoweredCodeUtils/6EZqd/src/LoweredCodeUtils.jl:359 =#\n",
      "        if meth === nothing && define\n",
      "            #= /home/mathow/.julia/packages/LoweredCodeUtils/6EZqd/src/LoweredCodeUtils.jl:360 =#\n",
      "            step_expr!(recurse, frame, stmt, true)\n",
      "            #= /home/mathow/.julia/packages/LoweredCodeUtils/6EZqd/src/LoweredCodeUtils.jl:361 =#\n",
      "            meth = whichtt(sigt)\n",
      "        end\n",
      "        #= /home/mathow/.julia/packages/LoweredCodeUtils/6EZqd/src/LoweredCodeUtils.jl:363 =#\n",
      "        if meth isa Method\n",
      "            #= /home/mathow/.julia/packages/LoweredCodeUtils/6EZqd/src/LoweredCodeUtils.jl:364 =#\n",
      "            push!(signatures, meth.sig)\n",
      "        elseif #= /home/mathow/.julia/packages/LoweredCodeUtils/6EZqd/src/LoweredCodeUtils.jl:365 =# stmt.args[1] == false\n",
      "            #= /home/mathow/.julia/packages/LoweredCodeUtils/6EZqd/src/LoweredCodeUtils.jl:367 =#\n",
      "            pc = step_expr!(recurse, frame, stmt, true)\n",
      "            #= /home/mathow/.julia/packages/LoweredCodeUtils/6EZqd/src/LoweredCodeUtils.jl:368 =#\n",
      "            meth = whichtt(sigt)\n",
      "            #= /home/mathow/.julia/packages/LoweredCodeUtils/6EZqd/src/LoweredCodeUtils.jl:369 =#\n",
      "            meth isa Method && push!(signatures, meth.sig)\n",
      "            #= /home/mathow/.julia/packages/LoweredCodeUtils/6EZqd/src/LoweredCodeUtils.jl:370 =#\n",
      "            return (pc, pc3)\n",
      "        else\n",
      "            #= /home/mathow/.julia/packages/LoweredCodeUtils/6EZqd/src/LoweredCodeUtils.jl:373 =#\n",
      "            code = framecode.src\n",
      "            #= /home/mathow/.julia/packages/LoweredCodeUtils/6EZqd/src/LoweredCodeUtils.jl:374 =#\n",
      "            codeloc = codelocation(code, pc)\n",
      "            #= /home/mathow/.julia/packages/LoweredCodeUtils/6EZqd/src/LoweredCodeUtils.jl:375 =#\n",
      "            loc = code.linetable[codeloc]\n",
      "            #= /home/mathow/.julia/packages/LoweredCodeUtils/6EZqd/src/LoweredCodeUtils.jl:376 =#\n",
      "            ft = Base.unwrap_unionall((Base.unwrap_unionall(sigt)).parameters[1])\n",
      "            #= /home/mathow/.julia/packages/LoweredCodeUtils/6EZqd/src/LoweredCodeUtils.jl:377 =#\n",
      "            if !(startswith(String((ft.name).name), \"##\"))\n",
      "                #= /home/mathow/.julia/packages/LoweredCodeUtils/6EZqd/src/LoweredCodeUtils.jl:378 =#\n",
      "                #= /home/mathow/.julia/packages/LoweredCodeUtils/6EZqd/src/LoweredCodeUtils.jl:378 =# @warn \"file $(loc.file), line $(loc.line): no method found for $(sigt)\"\n",
      "            end\n",
      "        end\n",
      "        #= /home/mathow/.julia/packages/LoweredCodeUtils/6EZqd/src/LoweredCodeUtils.jl:381 =#\n",
      "        frame.pc = pc\n",
      "        #= /home/mathow/.julia/packages/LoweredCodeUtils/6EZqd/src/LoweredCodeUtils.jl:382 =#\n",
      "        return (if define\n",
      "                    step_expr!(recurse, frame, stmt, true)\n",
      "                else\n",
      "                    next_or_nothing!(frame)\n",
      "                end, pc3)\n",
      "    end\n",
      "    #= /home/mathow/.julia/packages/LoweredCodeUtils/6EZqd/src/LoweredCodeUtils.jl:384 =#\n",
      "    ismethod1(stmt) || error(\"expected method opening, got \", stmt)\n",
      "    #= /home/mathow/.julia/packages/LoweredCodeUtils/6EZqd/src/LoweredCodeUtils.jl:385 =#\n",
      "    name = stmt.args[1]\n",
      "    #= /home/mathow/.julia/packages/LoweredCodeUtils/6EZqd/src/LoweredCodeUtils.jl:386 =#\n",
      "    if name isa Bool\n",
      "        #= /home/mathow/.julia/packages/LoweredCodeUtils/6EZqd/src/LoweredCodeUtils.jl:387 =#\n",
      "        error(\"not valid for anonymous methods\")\n",
      "    end\n",
      "    #= /home/mathow/.julia/packages/LoweredCodeUtils/6EZqd/src/LoweredCodeUtils.jl:389 =#\n",
      "    parentname = get_parentname(name)\n",
      "    #= /home/mathow/.julia/packages/LoweredCodeUtils/6EZqd/src/LoweredCodeUtils.jl:390 =#\n",
      "    pcinc = 1\n",
      "    #= /home/mathow/.julia/packages/LoweredCodeUtils/6EZqd/src/LoweredCodeUtils.jl:391 =#\n",
      "    nextstmt = pc_expr(frame, pc + pcinc)\n",
      "    #= /home/mathow/.julia/packages/LoweredCodeUtils/6EZqd/src/LoweredCodeUtils.jl:392 =#\n",
      "    while ismethod1(nextstmt) || isexpr(nextstmt, :global)\n",
      "        #= /home/mathow/.julia/packages/LoweredCodeUtils/6EZqd/src/LoweredCodeUtils.jl:393 =#\n",
      "        if ismethod1(nextstmt)\n",
      "            #= /home/mathow/.julia/packages/LoweredCodeUtils/6EZqd/src/LoweredCodeUtils.jl:394 =#\n",
      "            name = nextstmt.args[1]\n",
      "        end\n",
      "        #= /home/mathow/.julia/packages/LoweredCodeUtils/6EZqd/src/LoweredCodeUtils.jl:396 =#\n",
      "        pcinc += 1\n",
      "        #= /home/mathow/.julia/packages/LoweredCodeUtils/6EZqd/src/LoweredCodeUtils.jl:397 =#\n",
      "        nextstmt = pc_expr(frame, pc + pcinc)\n",
      "    end\n",
      "    #= /home/mathow/.julia/packages/LoweredCodeUtils/6EZqd/src/LoweredCodeUtils.jl:399 =#\n",
      "    if !define && (String(name))[1] == '#'\n",
      "        #= /home/mathow/.julia/packages/LoweredCodeUtils/6EZqd/src/LoweredCodeUtils.jl:403 =#\n",
      "        pc0 = pc\n",
      "        #= /home/mathow/.julia/packages/LoweredCodeUtils/6EZqd/src/LoweredCodeUtils.jl:404 =#\n",
      "        idx1 = findall(ismethod1, ((frame.framecode).src).code)\n",
      "        #= /home/mathow/.julia/packages/LoweredCodeUtils/6EZqd/src/LoweredCodeUtils.jl:405 =#\n",
      "        idx1 = idx1[idx1 .>= pc]\n",
      "        #= /home/mathow/.julia/packages/LoweredCodeUtils/6EZqd/src/LoweredCodeUtils.jl:406 =#\n",
      "        hashhash = map((idx->begin\n",
      "                        #= /home/mathow/.julia/packages/LoweredCodeUtils/6EZqd/src/LoweredCodeUtils.jl:406 =#\n",
      "                        startswith(String((pc_expr(frame, idx)).args[1]), '#')\n",
      "                    end), idx1)\n",
      "        #= /home/mathow/.julia/packages/LoweredCodeUtils/6EZqd/src/LoweredCodeUtils.jl:407 =#\n",
      "        idx1 = idx1[hashhash]\n",
      "        #= /home/mathow/.julia/packages/LoweredCodeUtils/6EZqd/src/LoweredCodeUtils.jl:408 =#\n",
      "        i = length(idx1)\n",
      "        #= /home/mathow/.julia/packages/LoweredCodeUtils/6EZqd/src/LoweredCodeUtils.jl:409 =#\n",
      "        while i > 1\n",
      "            #= /home/mathow/.julia/packages/LoweredCodeUtils/6EZqd/src/LoweredCodeUtils.jl:410 =#\n",
      "            frame.pc = idx1[i]\n",
      "            #= /home/mathow/.julia/packages/LoweredCodeUtils/6EZqd/src/LoweredCodeUtils.jl:411 =#\n",
      "            methoddef!(recurse, [], frame, frame.pc; define=define)\n",
      "            #= /home/mathow/.julia/packages/LoweredCodeUtils/6EZqd/src/LoweredCodeUtils.jl:412 =#\n",
      "            i -= 1\n",
      "        end\n",
      "        #= /home/mathow/.julia/packages/LoweredCodeUtils/6EZqd/src/LoweredCodeUtils.jl:414 =#\n",
      "        frame.pc = pc0\n",
      "    end\n",
      "    #= /home/mathow/.julia/packages/LoweredCodeUtils/6EZqd/src/LoweredCodeUtils.jl:416 =#\n",
      "    if name != parentname && !define\n",
      "        #= /home/mathow/.julia/packages/LoweredCodeUtils/6EZqd/src/LoweredCodeUtils.jl:417 =#\n",
      "        (name, endpc) = correct_name!(recurse, frame, pc, name, parentname)\n",
      "    end\n",
      "    #= /home/mathow/.julia/packages/LoweredCodeUtils/6EZqd/src/LoweredCodeUtils.jl:419 =#\n",
      "    while true\n",
      "        #= /home/mathow/.julia/packages/LoweredCodeUtils/6EZqd/src/LoweredCodeUtils.jl:420 =#\n",
      "        (sigt, pc) = signature(recurse, frame, stmt, pc)\n",
      "        #= /home/mathow/.julia/packages/LoweredCodeUtils/6EZqd/src/LoweredCodeUtils.jl:421 =#\n",
      "        stmt = pc_expr(frame, pc)\n",
      "        #= /home/mathow/.julia/packages/LoweredCodeUtils/6EZqd/src/LoweredCodeUtils.jl:422 =#\n",
      "        while !(isexpr(stmt, :method, 3))\n",
      "            #= /home/mathow/.julia/packages/LoweredCodeUtils/6EZqd/src/LoweredCodeUtils.jl:423 =#\n",
      "            pc = next_or_nothing(frame, pc)\n",
      "            #= /home/mathow/.julia/packages/LoweredCodeUtils/6EZqd/src/LoweredCodeUtils.jl:424 =#\n",
      "            pc === nothing && return nothing\n",
      "            #= /home/mathow/.julia/packages/LoweredCodeUtils/6EZqd/src/LoweredCodeUtils.jl:425 =#\n",
      "            stmt = pc_expr(frame, pc)\n",
      "        end\n",
      "        #= /home/mathow/.julia/packages/LoweredCodeUtils/6EZqd/src/LoweredCodeUtils.jl:427 =#\n",
      "        pc3 = pc\n",
      "        #= /home/mathow/.julia/packages/LoweredCodeUtils/6EZqd/src/LoweredCodeUtils.jl:428 =#\n",
      "        name3 = stmt.args[1]\n",
      "        #= /home/mathow/.julia/packages/LoweredCodeUtils/6EZqd/src/LoweredCodeUtils.jl:429 =#\n",
      "        (sigt === nothing && begin\n",
      "                    error(\"expected a signature\")\n",
      "                    #= /home/mathow/.julia/packages/LoweredCodeUtils/6EZqd/src/LoweredCodeUtils.jl:429 =#\n",
      "                    return next_or_nothing(frame, pc)\n",
      "                end, pc3)\n",
      "        #= /home/mathow/.julia/packages/LoweredCodeUtils/6EZqd/src/LoweredCodeUtils.jl:432 =#\n",
      "        frame.pc = pc\n",
      "        #= /home/mathow/.julia/packages/LoweredCodeUtils/6EZqd/src/LoweredCodeUtils.jl:433 =#\n",
      "        pc = if define\n",
      "                step_expr!(recurse, frame, stmt, true)\n",
      "            else\n",
      "                next_or_nothing!(frame)\n",
      "            end\n",
      "        #= /home/mathow/.julia/packages/LoweredCodeUtils/6EZqd/src/LoweredCodeUtils.jl:434 =#\n",
      "        meth = whichtt(sigt)\n",
      "        #= /home/mathow/.julia/packages/LoweredCodeUtils/6EZqd/src/LoweredCodeUtils.jl:435 =#\n",
      "        meth isa Method && push!(signatures, meth.sig)\n",
      "        #= /home/mathow/.julia/packages/LoweredCodeUtils/6EZqd/src/LoweredCodeUtils.jl:436 =#\n",
      "        name == name3 && return (pc, pc3)\n",
      "        #= /home/mathow/.julia/packages/LoweredCodeUtils/6EZqd/src/LoweredCodeUtils.jl:437 =#\n",
      "        stmt = pc_expr(frame, pc)\n",
      "    end\n",
      "end\n",
      "in module Main.LoweredCodeUtils\n",
      "\u001b[91mUndefVarError: Frame not defined\u001b[39m\n",
      "Stacktrace:\n",
      " [1] \u001b[1mmacro expansion\u001b[22m at \u001b[1m/home/mathow/.julia/packages/JuliaInterpreter/Or807/src/interpret.jl:64\u001b[22m [inlined]\n",
      " [2] \u001b[1mgetargs\u001b[22m\u001b[1m(\u001b[22m::Array{Any,1}, ::JuliaInterpreter.Frame\u001b[1m)\u001b[22m at \u001b[1m/home/mathow/.julia/packages/JuliaInterpreter/Or807/src/builtins.jl:8\u001b[22m\n",
      " [3] \u001b[1mmaybe_evaluate_builtin\u001b[22m\u001b[1m(\u001b[22m::JuliaInterpreter.Frame, ::Expr, ::Bool\u001b[1m)\u001b[22m at \u001b[1m/home/mathow/.julia/packages/JuliaInterpreter/Or807/src/builtins.jl:136\u001b[22m\n",
      " [4] \u001b[1m#evaluate_call_recurse!#37\u001b[22m\u001b[1m(\u001b[22m::Bool, ::Function, ::Any, ::JuliaInterpreter.Frame, ::Expr\u001b[1m)\u001b[22m at \u001b[1m/home/mathow/.julia/packages/JuliaInterpreter/Or807/src/interpret.jl:209\u001b[22m\n",
      " [5] \u001b[1mevaluate_call_recurse!\u001b[22m at \u001b[1m/home/mathow/.julia/packages/JuliaInterpreter/Or807/src/interpret.jl:206\u001b[22m [inlined]\n",
      " [6] \u001b[1meval_rhs\u001b[22m\u001b[1m(\u001b[22m::Any, ::JuliaInterpreter.Frame, ::Expr\u001b[1m)\u001b[22m at \u001b[1m/home/mathow/.julia/packages/JuliaInterpreter/Or807/src/interpret.jl:381\u001b[22m\n",
      " [7] \u001b[1mstep_expr!\u001b[22m\u001b[1m(\u001b[22m::Any, ::JuliaInterpreter.Frame, ::Any, ::Bool\u001b[1m)\u001b[22m at \u001b[1m/home/mathow/.julia/packages/JuliaInterpreter/Or807/src/interpret.jl:509\u001b[22m\n",
      " [8] \u001b[1msignature\u001b[22m\u001b[1m(\u001b[22m::Any, ::JuliaInterpreter.Frame, ::Any, ::Int64\u001b[1m)\u001b[22m at \u001b[1m/home/mathow/.julia/packages/LoweredCodeUtils/6EZqd/src/LoweredCodeUtils.jl:146\u001b[22m\n",
      " [9] \u001b[1m#methoddef!#3\u001b[22m\u001b[1m(\u001b[22m::Bool, ::Function, ::Any, ::Array{Any,1}, ::JuliaInterpreter.Frame, ::Any, ::Int64\u001b[1m)\u001b[22m at \u001b[1m/home/mathow/.julia/packages/LoweredCodeUtils/6EZqd/src/LoweredCodeUtils.jl:420\u001b[22m\n",
      " [10] \u001b[1m(::getfield(LoweredCodeUtils, Symbol(\"#kw##methoddef!\")))\u001b[22m\u001b[1m(\u001b[22m::NamedTuple{(:define,),Tuple{Bool}}, ::typeof(LoweredCodeUtils.methoddef!), ::Function, ::Array{Any,1}, ::JuliaInterpreter.Frame, ::Expr, ::Int64\u001b[1m)\u001b[22m at \u001b[1m./none:0\u001b[22m\n",
      " [11] \u001b[1m#methods_by_execution!#14\u001b[22m\u001b[1m(\u001b[22m::Bool, ::Bool, ::Function, ::Any, ::Revise.CodeTrackingMethodInfo, ::Dict{Module,Array{Expr,1}}, ::JuliaInterpreter.Frame\u001b[1m)\u001b[22m at \u001b[1m/home/mathow/.julia/packages/Revise/agmgx/src/lowered.jl:81\u001b[22m\n",
      " [12] \u001b[1m#methods_by_execution!\u001b[22m at \u001b[1m./none:0\u001b[22m [inlined]\n",
      " [13] \u001b[1m#methods_by_execution!#9\u001b[22m\u001b[1m(\u001b[22m::Base.Iterators.Pairs{Symbol,Bool,Tuple{Symbol},NamedTuple{(:define,),Tuple{Bool}}}, ::Function, ::Any, ::Revise.CodeTrackingMethodInfo, ::Dict{Module,Array{Expr,1}}, ::Module, ::Expr\u001b[1m)\u001b[22m at \u001b[1m/home/mathow/.julia/packages/Revise/agmgx/src/lowered.jl:49\u001b[22m\n",
      " [14] \u001b[1m#methods_by_execution!\u001b[22m at \u001b[1m./none:0\u001b[22m [inlined]\n",
      " [15] \u001b[1m#eval_with_signatures#59\u001b[22m\u001b[1m(\u001b[22m::Bool, ::Base.Iterators.Pairs{Union{},Union{},Tuple{},NamedTuple{(),Tuple{}}}, ::Function, ::Module, ::Expr\u001b[1m)\u001b[22m at \u001b[1m/home/mathow/.julia/packages/Revise/agmgx/src/Revise.jl:344\u001b[22m\n",
      " [16] \u001b[1m#eval_with_signatures\u001b[22m at \u001b[1m/home/mathow/.julia/packages/Revise/agmgx/src/Revise.jl:0\u001b[22m [inlined]\n",
      " [17] \u001b[1m#instantiate_sigs!#60\u001b[22m\u001b[1m(\u001b[22m::Bool, ::Base.Iterators.Pairs{Union{},Union{},Tuple{},NamedTuple{(),Tuple{}}}, ::Function, ::OrderedCollections.OrderedDict{Module,OrderedCollections.OrderedDict{Revise.RelocatableExpr,Union{Nothing, Array{Any,1}}}}\u001b[1m)\u001b[22m at \u001b[1m/home/mathow/.julia/packages/Revise/agmgx/src/Revise.jl:352\u001b[22m\n",
      " [18] \u001b[1minstantiate_sigs!\u001b[22m at \u001b[1m/home/mathow/.julia/packages/Revise/agmgx/src/Revise.jl:349\u001b[22m [inlined]\n",
      " [19] \u001b[1mmaybe_parse_from_cache!\u001b[22m\u001b[1m(\u001b[22m::Revise.PkgData, ::String\u001b[1m)\u001b[22m at \u001b[1m/home/mathow/.julia/packages/Revise/agmgx/src/pkgs.jl:224\u001b[22m\n"
     ]
    },
    {
     "name": "stderr",
     "output_type": "stream",
     "text": [
      " [20] \u001b[1m(::getfield(Revise, Symbol(\"##26#27\")){String})\u001b[22m\u001b[1m(\u001b[22m\u001b[1m)\u001b[22m at \u001b[1m/home/mathow/.julia/packages/Revise/agmgx/src/pkgs.jl:370\u001b[22m\n",
      " [21] \u001b[1mwith_logstate\u001b[22m\u001b[1m(\u001b[22m::getfield(Revise, Symbol(\"##26#27\")){String}, ::Base.CoreLogging.LogState\u001b[1m)\u001b[22m at \u001b[1m./logging.jl:395\u001b[22m\n",
      " [22] \u001b[1mwith_logger\u001b[22m at \u001b[1m./logging.jl:491\u001b[22m [inlined]\n",
      " [23] \u001b[1mwatch_manifest\u001b[22m\u001b[1m(\u001b[22m::String\u001b[1m)\u001b[22m at \u001b[1m/home/mathow/.julia/packages/Revise/agmgx/src/pkgs.jl:349\u001b[22m\n",
      " [24] \u001b[1m(::Revise.Rescheduler{typeof(Revise.watch_manifest),Tuple{String}})\u001b[22m\u001b[1m(\u001b[22m\u001b[1m)\u001b[22m at \u001b[1m/home/mathow/.julia/packages/Revise/agmgx/src/types.jl:235\u001b[22m\n",
      "while evaluating\n",
      "methoddef!(#= /home/mathow/.julia/packages/LoweredCodeUtils/6EZqd/src/LoweredCodeUtils.jl:440 =# @nospecialize(recurse), signatures, frame::Frame, pc::Int; define=true) = begin\n",
      "        #= /home/mathow/.julia/packages/LoweredCodeUtils/6EZqd/src/LoweredCodeUtils.jl:440 =#\n",
      "        methoddef!(recurse, signatures, frame, pc_expr(frame, pc), pc; define=define)\n",
      "    end\n",
      "in module Main.LoweredCodeUtils\n",
      "\u001b[91mUndefVarError: Frame not defined\u001b[39m\n",
      "Stacktrace:\n",
      " [1] \u001b[1mmacro expansion\u001b[22m at \u001b[1m/home/mathow/.julia/packages/JuliaInterpreter/Or807/src/interpret.jl:64\u001b[22m [inlined]\n",
      " [2] \u001b[1mgetargs\u001b[22m\u001b[1m(\u001b[22m::Array{Any,1}, ::JuliaInterpreter.Frame\u001b[1m)\u001b[22m at \u001b[1m/home/mathow/.julia/packages/JuliaInterpreter/Or807/src/builtins.jl:8\u001b[22m\n",
      " [3] \u001b[1mmaybe_evaluate_builtin\u001b[22m\u001b[1m(\u001b[22m::JuliaInterpreter.Frame, ::Expr, ::Bool\u001b[1m)\u001b[22m at \u001b[1m/home/mathow/.julia/packages/JuliaInterpreter/Or807/src/builtins.jl:136\u001b[22m\n",
      " [4] \u001b[1m#evaluate_call_recurse!#37\u001b[22m\u001b[1m(\u001b[22m::Bool, ::Function, ::Any, ::JuliaInterpreter.Frame, ::Expr\u001b[1m)\u001b[22m at \u001b[1m/home/mathow/.julia/packages/JuliaInterpreter/Or807/src/interpret.jl:209\u001b[22m\n",
      " [5] \u001b[1mevaluate_call_recurse!\u001b[22m at \u001b[1m/home/mathow/.julia/packages/JuliaInterpreter/Or807/src/interpret.jl:206\u001b[22m [inlined]\n",
      " [6] \u001b[1meval_rhs\u001b[22m\u001b[1m(\u001b[22m::Any, ::JuliaInterpreter.Frame, ::Expr\u001b[1m)\u001b[22m at \u001b[1m/home/mathow/.julia/packages/JuliaInterpreter/Or807/src/interpret.jl:381\u001b[22m\n",
      " [7] \u001b[1mstep_expr!\u001b[22m\u001b[1m(\u001b[22m::Any, ::JuliaInterpreter.Frame, ::Any, ::Bool\u001b[1m)\u001b[22m at \u001b[1m/home/mathow/.julia/packages/JuliaInterpreter/Or807/src/interpret.jl:509\u001b[22m\n",
      " [8] \u001b[1msignature\u001b[22m\u001b[1m(\u001b[22m::Any, ::JuliaInterpreter.Frame, ::Any, ::Int64\u001b[1m)\u001b[22m at \u001b[1m/home/mathow/.julia/packages/LoweredCodeUtils/6EZqd/src/LoweredCodeUtils.jl:146\u001b[22m\n",
      " [9] \u001b[1m#methoddef!#3\u001b[22m\u001b[1m(\u001b[22m::Bool, ::Function, ::Any, ::Array{Any,1}, ::JuliaInterpreter.Frame, ::Any, ::Int64\u001b[1m)\u001b[22m at \u001b[1m/home/mathow/.julia/packages/LoweredCodeUtils/6EZqd/src/LoweredCodeUtils.jl:420\u001b[22m\n",
      " [10] \u001b[1m(::getfield(LoweredCodeUtils, Symbol(\"#kw##methoddef!\")))\u001b[22m\u001b[1m(\u001b[22m::NamedTuple{(:define,),Tuple{Bool}}, ::typeof(LoweredCodeUtils.methoddef!), ::Function, ::Array{Any,1}, ::JuliaInterpreter.Frame, ::Expr, ::Int64\u001b[1m)\u001b[22m at \u001b[1m./none:0\u001b[22m\n",
      " [11] \u001b[1m#methods_by_execution!#14\u001b[22m\u001b[1m(\u001b[22m::Bool, ::Bool, ::Function, ::Any, ::Revise.CodeTrackingMethodInfo, ::Dict{Module,Array{Expr,1}}, ::JuliaInterpreter.Frame\u001b[1m)\u001b[22m at \u001b[1m/home/mathow/.julia/packages/Revise/agmgx/src/lowered.jl:81\u001b[22m\n",
      " [12] \u001b[1m#methods_by_execution!\u001b[22m at \u001b[1m./none:0\u001b[22m [inlined]\n",
      " [13] \u001b[1m#methods_by_execution!#9\u001b[22m\u001b[1m(\u001b[22m::Base.Iterators.Pairs{Symbol,Bool,Tuple{Symbol},NamedTuple{(:define,),Tuple{Bool}}}, ::Function, ::Any, ::Revise.CodeTrackingMethodInfo, ::Dict{Module,Array{Expr,1}}, ::Module, ::Expr\u001b[1m)\u001b[22m at \u001b[1m/home/mathow/.julia/packages/Revise/agmgx/src/lowered.jl:49\u001b[22m\n",
      " [14] \u001b[1m#methods_by_execution!\u001b[22m at \u001b[1m./none:0\u001b[22m [inlined]\n",
      " [15] \u001b[1m#eval_with_signatures#59\u001b[22m\u001b[1m(\u001b[22m::Bool, ::Base.Iterators.Pairs{Union{},Union{},Tuple{},NamedTuple{(),Tuple{}}}, ::Function, ::Module, ::Expr\u001b[1m)\u001b[22m at \u001b[1m/home/mathow/.julia/packages/Revise/agmgx/src/Revise.jl:344\u001b[22m\n",
      " [16] \u001b[1m#eval_with_signatures\u001b[22m at \u001b[1m/home/mathow/.julia/packages/Revise/agmgx/src/Revise.jl:0\u001b[22m [inlined]\n",
      " [17] \u001b[1m#instantiate_sigs!#60\u001b[22m\u001b[1m(\u001b[22m::Bool, ::Base.Iterators.Pairs{Union{},Union{},Tuple{},NamedTuple{(),Tuple{}}}, ::Function, ::OrderedCollections.OrderedDict{Module,OrderedCollections.OrderedDict{Revise.RelocatableExpr,Union{Nothing, Array{Any,1}}}}\u001b[1m)\u001b[22m at \u001b[1m/home/mathow/.julia/packages/Revise/agmgx/src/Revise.jl:352\u001b[22m\n",
      " [18] \u001b[1minstantiate_sigs!\u001b[22m at \u001b[1m/home/mathow/.julia/packages/Revise/agmgx/src/Revise.jl:349\u001b[22m [inlined]\n",
      " [19] \u001b[1mmaybe_parse_from_cache!\u001b[22m\u001b[1m(\u001b[22m::Revise.PkgData, ::String\u001b[1m)\u001b[22m at \u001b[1m/home/mathow/.julia/packages/Revise/agmgx/src/pkgs.jl:224\u001b[22m\n",
      " [20] \u001b[1m(::getfield(Revise, Symbol(\"##26#27\")){String})\u001b[22m\u001b[1m(\u001b[22m\u001b[1m)\u001b[22m at \u001b[1m/home/mathow/.julia/packages/Revise/agmgx/src/pkgs.jl:370\u001b[22m\n",
      " [21] \u001b[1mwith_logstate\u001b[22m\u001b[1m(\u001b[22m::getfield(Revise, Symbol(\"##26#27\")){String}, ::Base.CoreLogging.LogState\u001b[1m)\u001b[22m at \u001b[1m./logging.jl:395\u001b[22m\n",
      " [22] \u001b[1mwith_logger\u001b[22m at \u001b[1m./logging.jl:491\u001b[22m [inlined]\n",
      " [23] \u001b[1mwatch_manifest\u001b[22m\u001b[1m(\u001b[22m::String\u001b[1m)\u001b[22m at \u001b[1m/home/mathow/.julia/packages/Revise/agmgx/src/pkgs.jl:349\u001b[22m\n",
      " [24] \u001b[1m(::Revise.Rescheduler{typeof(Revise.watch_manifest),Tuple{String}})\u001b[22m\u001b[1m(\u001b[22m\u001b[1m)\u001b[22m at \u001b[1m/home/mathow/.julia/packages/Revise/agmgx/src/types.jl:235\u001b[22m\n",
      "while evaluating\n",
      "function methoddef!(#= /home/mathow/.julia/packages/LoweredCodeUtils/6EZqd/src/LoweredCodeUtils.jl:442 =# @nospecialize(recurse), signatures, frame::Frame; define=true)\n",
      "    #= /home/mathow/.julia/packages/LoweredCodeUtils/6EZqd/src/LoweredCodeUtils.jl:443 =#\n",
      "    pc = frame.pc\n",
      "    #= /home/mathow/.julia/packages/LoweredCodeUtils/6EZqd/src/LoweredCodeUtils.jl:444 =#\n",
      "    stmt = pc_expr(frame, pc)\n",
      "    #= /home/mathow/.julia/packages/LoweredCodeUtils/6EZqd/src/LoweredCodeUtils.jl:445 =#\n",
      "    if !(ismethod(stmt))\n",
      "        #= /home/mathow/.julia/packages/LoweredCodeUtils/6EZqd/src/LoweredCodeUtils.jl:446 =#\n",
      "        pc = next_until!(ismethod, recurse, frame, true)\n",
      "    end\n",
      "    #= /home/mathow/.julia/packages/LoweredCodeUtils/6EZqd/src/LoweredCodeUtils.jl:448 =#\n",
      "    pc === nothing && error(\"pc at end of frame without finding a method\")\n",
      "    #= /home/mathow/.julia/packages/LoweredCodeUtils/6EZqd/src/LoweredCodeUtils.jl:449 =#\n",
      "    methoddef!(recurse, signatures, frame, pc; define=define)\n",
      "end\n",
      "in module Main.LoweredCodeUtils\n",
      "\u001b[91mUndefVarError: Frame not defined\u001b[39m\n",
      "Stacktrace:\n",
      " [1] \u001b[1mmacro expansion\u001b[22m at \u001b[1m/home/mathow/.julia/packages/JuliaInterpreter/Or807/src/interpret.jl:64\u001b[22m [inlined]\n",
      " [2] \u001b[1mgetargs\u001b[22m\u001b[1m(\u001b[22m::Array{Any,1}, ::JuliaInterpreter.Frame\u001b[1m)\u001b[22m at \u001b[1m/home/mathow/.julia/packages/JuliaInterpreter/Or807/src/builtins.jl:8\u001b[22m\n",
      " [3] \u001b[1mmaybe_evaluate_builtin\u001b[22m\u001b[1m(\u001b[22m::JuliaInterpreter.Frame, ::Expr, ::Bool\u001b[1m)\u001b[22m at \u001b[1m/home/mathow/.julia/packages/JuliaInterpreter/Or807/src/builtins.jl:136\u001b[22m\n",
      " [4] \u001b[1m#evaluate_call_recurse!#37\u001b[22m\u001b[1m(\u001b[22m::Bool, ::Function, ::Any, ::JuliaInterpreter.Frame, ::Expr\u001b[1m)\u001b[22m at \u001b[1m/home/mathow/.julia/packages/JuliaInterpreter/Or807/src/interpret.jl:209\u001b[22m\n",
      " [5] \u001b[1mevaluate_call_recurse!\u001b[22m at \u001b[1m/home/mathow/.julia/packages/JuliaInterpreter/Or807/src/interpret.jl:206\u001b[22m [inlined]\n",
      " [6] \u001b[1meval_rhs\u001b[22m\u001b[1m(\u001b[22m::Any, ::JuliaInterpreter.Frame, ::Expr\u001b[1m)\u001b[22m at \u001b[1m/home/mathow/.julia/packages/JuliaInterpreter/Or807/src/interpret.jl:381\u001b[22m\n",
      " [7] \u001b[1mstep_expr!\u001b[22m\u001b[1m(\u001b[22m::Any, ::JuliaInterpreter.Frame, ::Any, ::Bool\u001b[1m)\u001b[22m at \u001b[1m/home/mathow/.julia/packages/JuliaInterpreter/Or807/src/interpret.jl:509\u001b[22m\n",
      " [8] \u001b[1msignature\u001b[22m\u001b[1m(\u001b[22m::Any, ::JuliaInterpreter.Frame, ::Any, ::Int64\u001b[1m)\u001b[22m at \u001b[1m/home/mathow/.julia/packages/LoweredCodeUtils/6EZqd/src/LoweredCodeUtils.jl:146\u001b[22m\n",
      " [9] \u001b[1m#methoddef!#3\u001b[22m\u001b[1m(\u001b[22m::Bool, ::Function, ::Any, ::Array{Any,1}, ::JuliaInterpreter.Frame, ::Any, ::Int64\u001b[1m)\u001b[22m at \u001b[1m/home/mathow/.julia/packages/LoweredCodeUtils/6EZqd/src/LoweredCodeUtils.jl:420\u001b[22m\n",
      " [10] \u001b[1m(::getfield(LoweredCodeUtils, Symbol(\"#kw##methoddef!\")))\u001b[22m\u001b[1m(\u001b[22m::NamedTuple{(:define,),Tuple{Bool}}, ::typeof(LoweredCodeUtils.methoddef!), ::Function, ::Array{Any,1}, ::JuliaInterpreter.Frame, ::Expr, ::Int64\u001b[1m)\u001b[22m at \u001b[1m./none:0\u001b[22m\n",
      " [11] \u001b[1m#methods_by_execution!#14\u001b[22m\u001b[1m(\u001b[22m::Bool, ::Bool, ::Function, ::Any, ::Revise.CodeTrackingMethodInfo, ::Dict{Module,Array{Expr,1}}, ::JuliaInterpreter.Frame\u001b[1m)\u001b[22m at \u001b[1m/home/mathow/.julia/packages/Revise/agmgx/src/lowered.jl:81\u001b[22m\n",
      " [12] \u001b[1m#methods_by_execution!\u001b[22m at \u001b[1m./none:0\u001b[22m [inlined]\n",
      " [13] \u001b[1m#methods_by_execution!#9\u001b[22m\u001b[1m(\u001b[22m::Base.Iterators.Pairs{Symbol,Bool,Tuple{Symbol},NamedTuple{(:define,),Tuple{Bool}}}, ::Function, ::Any, ::Revise.CodeTrackingMethodInfo, ::Dict{Module,Array{Expr,1}}, ::Module, ::Expr\u001b[1m)\u001b[22m at \u001b[1m/home/mathow/.julia/packages/Revise/agmgx/src/lowered.jl:49\u001b[22m\n",
      " [14] \u001b[1m#methods_by_execution!\u001b[22m at \u001b[1m./none:0\u001b[22m [inlined]\n",
      " [15] \u001b[1m#eval_with_signatures#59\u001b[22m\u001b[1m(\u001b[22m::Bool, ::Base.Iterators.Pairs{Union{},Union{},Tuple{},NamedTuple{(),Tuple{}}}, ::Function, ::Module, ::Expr\u001b[1m)\u001b[22m at \u001b[1m/home/mathow/.julia/packages/Revise/agmgx/src/Revise.jl:344\u001b[22m\n",
      " [16] \u001b[1m#eval_with_signatures\u001b[22m at \u001b[1m/home/mathow/.julia/packages/Revise/agmgx/src/Revise.jl:0\u001b[22m [inlined]\n"
     ]
    },
    {
     "name": "stderr",
     "output_type": "stream",
     "text": [
      " [17] \u001b[1m#instantiate_sigs!#60\u001b[22m\u001b[1m(\u001b[22m::Bool, ::Base.Iterators.Pairs{Union{},Union{},Tuple{},NamedTuple{(),Tuple{}}}, ::Function, ::OrderedCollections.OrderedDict{Module,OrderedCollections.OrderedDict{Revise.RelocatableExpr,Union{Nothing, Array{Any,1}}}}\u001b[1m)\u001b[22m at \u001b[1m/home/mathow/.julia/packages/Revise/agmgx/src/Revise.jl:352\u001b[22m\n",
      " [18] \u001b[1minstantiate_sigs!\u001b[22m at \u001b[1m/home/mathow/.julia/packages/Revise/agmgx/src/Revise.jl:349\u001b[22m [inlined]\n",
      " [19] \u001b[1mmaybe_parse_from_cache!\u001b[22m\u001b[1m(\u001b[22m::Revise.PkgData, ::String\u001b[1m)\u001b[22m at \u001b[1m/home/mathow/.julia/packages/Revise/agmgx/src/pkgs.jl:224\u001b[22m\n",
      " [20] \u001b[1m(::getfield(Revise, Symbol(\"##26#27\")){String})\u001b[22m\u001b[1m(\u001b[22m\u001b[1m)\u001b[22m at \u001b[1m/home/mathow/.julia/packages/Revise/agmgx/src/pkgs.jl:370\u001b[22m\n",
      " [21] \u001b[1mwith_logstate\u001b[22m\u001b[1m(\u001b[22m::getfield(Revise, Symbol(\"##26#27\")){String}, ::Base.CoreLogging.LogState\u001b[1m)\u001b[22m at \u001b[1m./logging.jl:395\u001b[22m\n",
      " [22] \u001b[1mwith_logger\u001b[22m at \u001b[1m./logging.jl:491\u001b[22m [inlined]\n",
      " [23] \u001b[1mwatch_manifest\u001b[22m\u001b[1m(\u001b[22m::String\u001b[1m)\u001b[22m at \u001b[1m/home/mathow/.julia/packages/Revise/agmgx/src/pkgs.jl:349\u001b[22m\n",
      " [24] \u001b[1m(::Revise.Rescheduler{typeof(Revise.watch_manifest),Tuple{String}})\u001b[22m\u001b[1m(\u001b[22m\u001b[1m)\u001b[22m at \u001b[1m/home/mathow/.julia/packages/Revise/agmgx/src/types.jl:235\u001b[22m\n",
      "while evaluating\n",
      "methoddef!(signatures, frame::Frame; define=true) = begin\n",
      "        #= /home/mathow/.julia/packages/LoweredCodeUtils/6EZqd/src/LoweredCodeUtils.jl:451 =#\n",
      "        methoddef!(finish_and_return!, signatures, frame; define=define)\n",
      "    end\n",
      "in module Main.LoweredCodeUtils\n",
      "\u001b[91mUndefVarError: Frame not defined\u001b[39m\n",
      "Stacktrace:\n",
      " [1] \u001b[1mmacro expansion\u001b[22m at \u001b[1m/home/mathow/.julia/packages/JuliaInterpreter/Or807/src/interpret.jl:64\u001b[22m [inlined]\n",
      " [2] \u001b[1mgetargs\u001b[22m\u001b[1m(\u001b[22m::Array{Any,1}, ::JuliaInterpreter.Frame\u001b[1m)\u001b[22m at \u001b[1m/home/mathow/.julia/packages/JuliaInterpreter/Or807/src/builtins.jl:8\u001b[22m\n",
      " [3] \u001b[1mmaybe_evaluate_builtin\u001b[22m\u001b[1m(\u001b[22m::JuliaInterpreter.Frame, ::Expr, ::Bool\u001b[1m)\u001b[22m at \u001b[1m/home/mathow/.julia/packages/JuliaInterpreter/Or807/src/builtins.jl:136\u001b[22m\n",
      " [4] \u001b[1m#evaluate_call_recurse!#37\u001b[22m\u001b[1m(\u001b[22m::Bool, ::Function, ::Any, ::JuliaInterpreter.Frame, ::Expr\u001b[1m)\u001b[22m at \u001b[1m/home/mathow/.julia/packages/JuliaInterpreter/Or807/src/interpret.jl:209\u001b[22m\n",
      " [5] \u001b[1mevaluate_call_recurse!\u001b[22m at \u001b[1m/home/mathow/.julia/packages/JuliaInterpreter/Or807/src/interpret.jl:206\u001b[22m [inlined]\n",
      " [6] \u001b[1meval_rhs\u001b[22m\u001b[1m(\u001b[22m::Any, ::JuliaInterpreter.Frame, ::Expr\u001b[1m)\u001b[22m at \u001b[1m/home/mathow/.julia/packages/JuliaInterpreter/Or807/src/interpret.jl:381\u001b[22m\n",
      " [7] \u001b[1mstep_expr!\u001b[22m\u001b[1m(\u001b[22m::Any, ::JuliaInterpreter.Frame, ::Any, ::Bool\u001b[1m)\u001b[22m at \u001b[1m/home/mathow/.julia/packages/JuliaInterpreter/Or807/src/interpret.jl:509\u001b[22m\n",
      " [8] \u001b[1msignature\u001b[22m\u001b[1m(\u001b[22m::Any, ::JuliaInterpreter.Frame, ::Any, ::Int64\u001b[1m)\u001b[22m at \u001b[1m/home/mathow/.julia/packages/LoweredCodeUtils/6EZqd/src/LoweredCodeUtils.jl:146\u001b[22m\n",
      " [9] \u001b[1m#methoddef!#3\u001b[22m\u001b[1m(\u001b[22m::Bool, ::Function, ::Any, ::Array{Any,1}, ::JuliaInterpreter.Frame, ::Any, ::Int64\u001b[1m)\u001b[22m at \u001b[1m/home/mathow/.julia/packages/LoweredCodeUtils/6EZqd/src/LoweredCodeUtils.jl:420\u001b[22m\n",
      " [10] \u001b[1m(::getfield(LoweredCodeUtils, Symbol(\"#kw##methoddef!\")))\u001b[22m\u001b[1m(\u001b[22m::NamedTuple{(:define,),Tuple{Bool}}, ::typeof(LoweredCodeUtils.methoddef!), ::Function, ::Array{Any,1}, ::JuliaInterpreter.Frame, ::Expr, ::Int64\u001b[1m)\u001b[22m at \u001b[1m./none:0\u001b[22m\n",
      " [11] \u001b[1m#methods_by_execution!#14\u001b[22m\u001b[1m(\u001b[22m::Bool, ::Bool, ::Function, ::Any, ::Revise.CodeTrackingMethodInfo, ::Dict{Module,Array{Expr,1}}, ::JuliaInterpreter.Frame\u001b[1m)\u001b[22m at \u001b[1m/home/mathow/.julia/packages/Revise/agmgx/src/lowered.jl:81\u001b[22m\n",
      " [12] \u001b[1m#methods_by_execution!\u001b[22m at \u001b[1m./none:0\u001b[22m [inlined]\n",
      " [13] \u001b[1m#methods_by_execution!#9\u001b[22m\u001b[1m(\u001b[22m::Base.Iterators.Pairs{Symbol,Bool,Tuple{Symbol},NamedTuple{(:define,),Tuple{Bool}}}, ::Function, ::Any, ::Revise.CodeTrackingMethodInfo, ::Dict{Module,Array{Expr,1}}, ::Module, ::Expr\u001b[1m)\u001b[22m at \u001b[1m/home/mathow/.julia/packages/Revise/agmgx/src/lowered.jl:49\u001b[22m\n",
      " [14] \u001b[1m#methods_by_execution!\u001b[22m at \u001b[1m./none:0\u001b[22m [inlined]\n",
      " [15] \u001b[1m#eval_with_signatures#59\u001b[22m\u001b[1m(\u001b[22m::Bool, ::Base.Iterators.Pairs{Union{},Union{},Tuple{},NamedTuple{(),Tuple{}}}, ::Function, ::Module, ::Expr\u001b[1m)\u001b[22m at \u001b[1m/home/mathow/.julia/packages/Revise/agmgx/src/Revise.jl:344\u001b[22m\n",
      " [16] \u001b[1m#eval_with_signatures\u001b[22m at \u001b[1m/home/mathow/.julia/packages/Revise/agmgx/src/Revise.jl:0\u001b[22m [inlined]\n",
      " [17] \u001b[1m#instantiate_sigs!#60\u001b[22m\u001b[1m(\u001b[22m::Bool, ::Base.Iterators.Pairs{Union{},Union{},Tuple{},NamedTuple{(),Tuple{}}}, ::Function, ::OrderedCollections.OrderedDict{Module,OrderedCollections.OrderedDict{Revise.RelocatableExpr,Union{Nothing, Array{Any,1}}}}\u001b[1m)\u001b[22m at \u001b[1m/home/mathow/.julia/packages/Revise/agmgx/src/Revise.jl:352\u001b[22m\n",
      " [18] \u001b[1minstantiate_sigs!\u001b[22m at \u001b[1m/home/mathow/.julia/packages/Revise/agmgx/src/Revise.jl:349\u001b[22m [inlined]\n",
      " [19] \u001b[1mmaybe_parse_from_cache!\u001b[22m\u001b[1m(\u001b[22m::Revise.PkgData, ::String\u001b[1m)\u001b[22m at \u001b[1m/home/mathow/.julia/packages/Revise/agmgx/src/pkgs.jl:224\u001b[22m\n",
      " [20] \u001b[1m(::getfield(Revise, Symbol(\"##26#27\")){String})\u001b[22m\u001b[1m(\u001b[22m\u001b[1m)\u001b[22m at \u001b[1m/home/mathow/.julia/packages/Revise/agmgx/src/pkgs.jl:370\u001b[22m\n",
      " [21] \u001b[1mwith_logstate\u001b[22m\u001b[1m(\u001b[22m::getfield(Revise, Symbol(\"##26#27\")){String}, ::Base.CoreLogging.LogState\u001b[1m)\u001b[22m at \u001b[1m./logging.jl:395\u001b[22m\n",
      " [22] \u001b[1mwith_logger\u001b[22m at \u001b[1m./logging.jl:491\u001b[22m [inlined]\n",
      " [23] \u001b[1mwatch_manifest\u001b[22m\u001b[1m(\u001b[22m::String\u001b[1m)\u001b[22m at \u001b[1m/home/mathow/.julia/packages/Revise/agmgx/src/pkgs.jl:349\u001b[22m\n",
      " [24] \u001b[1m(::Revise.Rescheduler{typeof(Revise.watch_manifest),Tuple{String}})\u001b[22m\u001b[1m(\u001b[22m\u001b[1m)\u001b[22m at \u001b[1m/home/mathow/.julia/packages/Revise/agmgx/src/types.jl:235\u001b[22m\n",
      "while evaluating\n",
      "function methoddefs!(#= /home/mathow/.julia/packages/LoweredCodeUtils/6EZqd/src/LoweredCodeUtils.jl:454 =# @nospecialize(recurse), signatures, frame::Frame, pc; define=true)\n",
      "    #= /home/mathow/.julia/packages/LoweredCodeUtils/6EZqd/src/LoweredCodeUtils.jl:455 =#\n",
      "    ret = methoddef!(recurse, signatures, frame, pc; define=define)\n",
      "    #= /home/mathow/.julia/packages/LoweredCodeUtils/6EZqd/src/LoweredCodeUtils.jl:456 =#\n",
      "    pc = if ret === nothing\n",
      "            ret\n",
      "        else\n",
      "            ret[1]\n",
      "        end\n",
      "    #= /home/mathow/.julia/packages/LoweredCodeUtils/6EZqd/src/LoweredCodeUtils.jl:457 =#\n",
      "    return _methoddefs!(recurse, signatures, frame, pc; define=define)\n",
      "end\n",
      "in module Main.LoweredCodeUtils\n",
      "\u001b[91mUndefVarError: Frame not defined\u001b[39m\n",
      "Stacktrace:\n",
      " [1] \u001b[1mmacro expansion\u001b[22m at \u001b[1m/home/mathow/.julia/packages/JuliaInterpreter/Or807/src/interpret.jl:64\u001b[22m [inlined]\n",
      " [2] \u001b[1mgetargs\u001b[22m\u001b[1m(\u001b[22m::Array{Any,1}, ::JuliaInterpreter.Frame\u001b[1m)\u001b[22m at \u001b[1m/home/mathow/.julia/packages/JuliaInterpreter/Or807/src/builtins.jl:8\u001b[22m\n",
      " [3] \u001b[1mmaybe_evaluate_builtin\u001b[22m\u001b[1m(\u001b[22m::JuliaInterpreter.Frame, ::Expr, ::Bool\u001b[1m)\u001b[22m at \u001b[1m/home/mathow/.julia/packages/JuliaInterpreter/Or807/src/builtins.jl:136\u001b[22m\n",
      " [4] \u001b[1m#evaluate_call_recurse!#37\u001b[22m\u001b[1m(\u001b[22m::Bool, ::Function, ::Any, ::JuliaInterpreter.Frame, ::Expr\u001b[1m)\u001b[22m at \u001b[1m/home/mathow/.julia/packages/JuliaInterpreter/Or807/src/interpret.jl:209\u001b[22m\n",
      " [5] \u001b[1mevaluate_call_recurse!\u001b[22m at \u001b[1m/home/mathow/.julia/packages/JuliaInterpreter/Or807/src/interpret.jl:206\u001b[22m [inlined]\n",
      " [6] \u001b[1meval_rhs\u001b[22m\u001b[1m(\u001b[22m::Any, ::JuliaInterpreter.Frame, ::Expr\u001b[1m)\u001b[22m at \u001b[1m/home/mathow/.julia/packages/JuliaInterpreter/Or807/src/interpret.jl:381\u001b[22m\n",
      " [7] \u001b[1mstep_expr!\u001b[22m\u001b[1m(\u001b[22m::Any, ::JuliaInterpreter.Frame, ::Any, ::Bool\u001b[1m)\u001b[22m at \u001b[1m/home/mathow/.julia/packages/JuliaInterpreter/Or807/src/interpret.jl:509\u001b[22m\n",
      " [8] \u001b[1msignature\u001b[22m\u001b[1m(\u001b[22m::Any, ::JuliaInterpreter.Frame, ::Any, ::Int64\u001b[1m)\u001b[22m at \u001b[1m/home/mathow/.julia/packages/LoweredCodeUtils/6EZqd/src/LoweredCodeUtils.jl:146\u001b[22m\n",
      " [9] \u001b[1m#methoddef!#3\u001b[22m\u001b[1m(\u001b[22m::Bool, ::Function, ::Any, ::Array{Any,1}, ::JuliaInterpreter.Frame, ::Any, ::Int64\u001b[1m)\u001b[22m at \u001b[1m/home/mathow/.julia/packages/LoweredCodeUtils/6EZqd/src/LoweredCodeUtils.jl:420\u001b[22m\n",
      " [10] \u001b[1m(::getfield(LoweredCodeUtils, Symbol(\"#kw##methoddef!\")))\u001b[22m\u001b[1m(\u001b[22m::NamedTuple{(:define,),Tuple{Bool}}, ::typeof(LoweredCodeUtils.methoddef!), ::Function, ::Array{Any,1}, ::JuliaInterpreter.Frame, ::Expr, ::Int64\u001b[1m)\u001b[22m at \u001b[1m./none:0\u001b[22m\n",
      " [11] \u001b[1m#methods_by_execution!#14\u001b[22m\u001b[1m(\u001b[22m::Bool, ::Bool, ::Function, ::Any, ::Revise.CodeTrackingMethodInfo, ::Dict{Module,Array{Expr,1}}, ::JuliaInterpreter.Frame\u001b[1m)\u001b[22m at \u001b[1m/home/mathow/.julia/packages/Revise/agmgx/src/lowered.jl:81\u001b[22m\n",
      " [12] \u001b[1m#methods_by_execution!\u001b[22m at \u001b[1m./none:0\u001b[22m [inlined]\n",
      " [13] \u001b[1m#methods_by_execution!#9\u001b[22m\u001b[1m(\u001b[22m::Base.Iterators.Pairs{Symbol,Bool,Tuple{Symbol},NamedTuple{(:define,),Tuple{Bool}}}, ::Function, ::Any, ::Revise.CodeTrackingMethodInfo, ::Dict{Module,Array{Expr,1}}, ::Module, ::Expr\u001b[1m)\u001b[22m at \u001b[1m/home/mathow/.julia/packages/Revise/agmgx/src/lowered.jl:49\u001b[22m\n",
      " [14] \u001b[1m#methods_by_execution!\u001b[22m at \u001b[1m./none:0\u001b[22m [inlined]\n",
      " [15] \u001b[1m#eval_with_signatures#59\u001b[22m\u001b[1m(\u001b[22m::Bool, ::Base.Iterators.Pairs{Union{},Union{},Tuple{},NamedTuple{(),Tuple{}}}, ::Function, ::Module, ::Expr\u001b[1m)\u001b[22m at \u001b[1m/home/mathow/.julia/packages/Revise/agmgx/src/Revise.jl:344\u001b[22m\n",
      " [16] \u001b[1m#eval_with_signatures\u001b[22m at \u001b[1m/home/mathow/.julia/packages/Revise/agmgx/src/Revise.jl:0\u001b[22m [inlined]\n",
      " [17] \u001b[1m#instantiate_sigs!#60\u001b[22m\u001b[1m(\u001b[22m::Bool, ::Base.Iterators.Pairs{Union{},Union{},Tuple{},NamedTuple{(),Tuple{}}}, ::Function, ::OrderedCollections.OrderedDict{Module,OrderedCollections.OrderedDict{Revise.RelocatableExpr,Union{Nothing, Array{Any,1}}}}\u001b[1m)\u001b[22m at \u001b[1m/home/mathow/.julia/packages/Revise/agmgx/src/Revise.jl:352\u001b[22m\n",
      " [18] \u001b[1minstantiate_sigs!\u001b[22m at \u001b[1m/home/mathow/.julia/packages/Revise/agmgx/src/Revise.jl:349\u001b[22m [inlined]\n",
      " [19] \u001b[1mmaybe_parse_from_cache!\u001b[22m\u001b[1m(\u001b[22m::Revise.PkgData, ::String\u001b[1m)\u001b[22m at \u001b[1m/home/mathow/.julia/packages/Revise/agmgx/src/pkgs.jl:224\u001b[22m\n",
      " [20] \u001b[1m(::getfield(Revise, Symbol(\"##26#27\")){String})\u001b[22m\u001b[1m(\u001b[22m\u001b[1m)\u001b[22m at \u001b[1m/home/mathow/.julia/packages/Revise/agmgx/src/pkgs.jl:370\u001b[22m\n"
     ]
    },
    {
     "name": "stderr",
     "output_type": "stream",
     "text": [
      " [21] \u001b[1mwith_logstate\u001b[22m\u001b[1m(\u001b[22m::getfield(Revise, Symbol(\"##26#27\")){String}, ::Base.CoreLogging.LogState\u001b[1m)\u001b[22m at \u001b[1m./logging.jl:395\u001b[22m\n",
      " [22] \u001b[1mwith_logger\u001b[22m at \u001b[1m./logging.jl:491\u001b[22m [inlined]\n",
      " [23] \u001b[1mwatch_manifest\u001b[22m\u001b[1m(\u001b[22m::String\u001b[1m)\u001b[22m at \u001b[1m/home/mathow/.julia/packages/Revise/agmgx/src/pkgs.jl:349\u001b[22m\n",
      " [24] \u001b[1m(::Revise.Rescheduler{typeof(Revise.watch_manifest),Tuple{String}})\u001b[22m\u001b[1m(\u001b[22m\u001b[1m)\u001b[22m at \u001b[1m/home/mathow/.julia/packages/Revise/agmgx/src/types.jl:235\u001b[22m\n",
      "while evaluating\n",
      "function methoddefs!(#= /home/mathow/.julia/packages/LoweredCodeUtils/6EZqd/src/LoweredCodeUtils.jl:459 =# @nospecialize(recurse), signatures, frame::Frame; define=true)\n",
      "    #= /home/mathow/.julia/packages/LoweredCodeUtils/6EZqd/src/LoweredCodeUtils.jl:460 =#\n",
      "    ret = methoddef!(recurse, signatures, frame; define=define)\n",
      "    #= /home/mathow/.julia/packages/LoweredCodeUtils/6EZqd/src/LoweredCodeUtils.jl:461 =#\n",
      "    pc = if ret === nothing\n",
      "            ret\n",
      "        else\n",
      "            ret[1]\n",
      "        end\n",
      "    #= /home/mathow/.julia/packages/LoweredCodeUtils/6EZqd/src/LoweredCodeUtils.jl:462 =#\n",
      "    return _methoddefs!(recurse, signatures, frame, pc; define=define)\n",
      "end\n",
      "in module Main.LoweredCodeUtils\n",
      "\u001b[91mUndefVarError: Frame not defined\u001b[39m\n",
      "Stacktrace:\n",
      " [1] \u001b[1mmacro expansion\u001b[22m at \u001b[1m/home/mathow/.julia/packages/JuliaInterpreter/Or807/src/interpret.jl:64\u001b[22m [inlined]\n",
      " [2] \u001b[1mgetargs\u001b[22m\u001b[1m(\u001b[22m::Array{Any,1}, ::JuliaInterpreter.Frame\u001b[1m)\u001b[22m at \u001b[1m/home/mathow/.julia/packages/JuliaInterpreter/Or807/src/builtins.jl:8\u001b[22m\n",
      " [3] \u001b[1mmaybe_evaluate_builtin\u001b[22m\u001b[1m(\u001b[22m::JuliaInterpreter.Frame, ::Expr, ::Bool\u001b[1m)\u001b[22m at \u001b[1m/home/mathow/.julia/packages/JuliaInterpreter/Or807/src/builtins.jl:136\u001b[22m\n",
      " [4] \u001b[1m#evaluate_call_recurse!#37\u001b[22m\u001b[1m(\u001b[22m::Bool, ::Function, ::Any, ::JuliaInterpreter.Frame, ::Expr\u001b[1m)\u001b[22m at \u001b[1m/home/mathow/.julia/packages/JuliaInterpreter/Or807/src/interpret.jl:209\u001b[22m\n",
      " [5] \u001b[1mevaluate_call_recurse!\u001b[22m at \u001b[1m/home/mathow/.julia/packages/JuliaInterpreter/Or807/src/interpret.jl:206\u001b[22m [inlined]\n",
      " [6] \u001b[1meval_rhs\u001b[22m\u001b[1m(\u001b[22m::Any, ::JuliaInterpreter.Frame, ::Expr\u001b[1m)\u001b[22m at \u001b[1m/home/mathow/.julia/packages/JuliaInterpreter/Or807/src/interpret.jl:381\u001b[22m\n",
      " [7] \u001b[1mstep_expr!\u001b[22m\u001b[1m(\u001b[22m::Any, ::JuliaInterpreter.Frame, ::Any, ::Bool\u001b[1m)\u001b[22m at \u001b[1m/home/mathow/.julia/packages/JuliaInterpreter/Or807/src/interpret.jl:509\u001b[22m\n",
      " [8] \u001b[1msignature\u001b[22m\u001b[1m(\u001b[22m::Any, ::JuliaInterpreter.Frame, ::Any, ::Int64\u001b[1m)\u001b[22m at \u001b[1m/home/mathow/.julia/packages/LoweredCodeUtils/6EZqd/src/LoweredCodeUtils.jl:146\u001b[22m\n",
      " [9] \u001b[1m#methoddef!#3\u001b[22m\u001b[1m(\u001b[22m::Bool, ::Function, ::Any, ::Array{Any,1}, ::JuliaInterpreter.Frame, ::Any, ::Int64\u001b[1m)\u001b[22m at \u001b[1m/home/mathow/.julia/packages/LoweredCodeUtils/6EZqd/src/LoweredCodeUtils.jl:420\u001b[22m\n",
      " [10] \u001b[1m(::getfield(LoweredCodeUtils, Symbol(\"#kw##methoddef!\")))\u001b[22m\u001b[1m(\u001b[22m::NamedTuple{(:define,),Tuple{Bool}}, ::typeof(LoweredCodeUtils.methoddef!), ::Function, ::Array{Any,1}, ::JuliaInterpreter.Frame, ::Expr, ::Int64\u001b[1m)\u001b[22m at \u001b[1m./none:0\u001b[22m\n",
      " [11] \u001b[1m#methods_by_execution!#14\u001b[22m\u001b[1m(\u001b[22m::Bool, ::Bool, ::Function, ::Any, ::Revise.CodeTrackingMethodInfo, ::Dict{Module,Array{Expr,1}}, ::JuliaInterpreter.Frame\u001b[1m)\u001b[22m at \u001b[1m/home/mathow/.julia/packages/Revise/agmgx/src/lowered.jl:81\u001b[22m\n",
      " [12] \u001b[1m#methods_by_execution!\u001b[22m at \u001b[1m./none:0\u001b[22m [inlined]\n",
      " [13] \u001b[1m#methods_by_execution!#9\u001b[22m\u001b[1m(\u001b[22m::Base.Iterators.Pairs{Symbol,Bool,Tuple{Symbol},NamedTuple{(:define,),Tuple{Bool}}}, ::Function, ::Any, ::Revise.CodeTrackingMethodInfo, ::Dict{Module,Array{Expr,1}}, ::Module, ::Expr\u001b[1m)\u001b[22m at \u001b[1m/home/mathow/.julia/packages/Revise/agmgx/src/lowered.jl:49\u001b[22m\n",
      " [14] \u001b[1m#methods_by_execution!\u001b[22m at \u001b[1m./none:0\u001b[22m [inlined]\n",
      " [15] \u001b[1m#eval_with_signatures#59\u001b[22m\u001b[1m(\u001b[22m::Bool, ::Base.Iterators.Pairs{Union{},Union{},Tuple{},NamedTuple{(),Tuple{}}}, ::Function, ::Module, ::Expr\u001b[1m)\u001b[22m at \u001b[1m/home/mathow/.julia/packages/Revise/agmgx/src/Revise.jl:344\u001b[22m\n",
      " [16] \u001b[1m#eval_with_signatures\u001b[22m at \u001b[1m/home/mathow/.julia/packages/Revise/agmgx/src/Revise.jl:0\u001b[22m [inlined]\n",
      " [17] \u001b[1m#instantiate_sigs!#60\u001b[22m\u001b[1m(\u001b[22m::Bool, ::Base.Iterators.Pairs{Union{},Union{},Tuple{},NamedTuple{(),Tuple{}}}, ::Function, ::OrderedCollections.OrderedDict{Module,OrderedCollections.OrderedDict{Revise.RelocatableExpr,Union{Nothing, Array{Any,1}}}}\u001b[1m)\u001b[22m at \u001b[1m/home/mathow/.julia/packages/Revise/agmgx/src/Revise.jl:352\u001b[22m\n",
      " [18] \u001b[1minstantiate_sigs!\u001b[22m at \u001b[1m/home/mathow/.julia/packages/Revise/agmgx/src/Revise.jl:349\u001b[22m [inlined]\n",
      " [19] \u001b[1mmaybe_parse_from_cache!\u001b[22m\u001b[1m(\u001b[22m::Revise.PkgData, ::String\u001b[1m)\u001b[22m at \u001b[1m/home/mathow/.julia/packages/Revise/agmgx/src/pkgs.jl:224\u001b[22m\n",
      " [20] \u001b[1m(::getfield(Revise, Symbol(\"##26#27\")){String})\u001b[22m\u001b[1m(\u001b[22m\u001b[1m)\u001b[22m at \u001b[1m/home/mathow/.julia/packages/Revise/agmgx/src/pkgs.jl:370\u001b[22m\n",
      " [21] \u001b[1mwith_logstate\u001b[22m\u001b[1m(\u001b[22m::getfield(Revise, Symbol(\"##26#27\")){String}, ::Base.CoreLogging.LogState\u001b[1m)\u001b[22m at \u001b[1m./logging.jl:395\u001b[22m\n",
      " [22] \u001b[1mwith_logger\u001b[22m at \u001b[1m./logging.jl:491\u001b[22m [inlined]\n",
      " [23] \u001b[1mwatch_manifest\u001b[22m\u001b[1m(\u001b[22m::String\u001b[1m)\u001b[22m at \u001b[1m/home/mathow/.julia/packages/Revise/agmgx/src/pkgs.jl:349\u001b[22m\n",
      " [24] \u001b[1m(::Revise.Rescheduler{typeof(Revise.watch_manifest),Tuple{String}})\u001b[22m\u001b[1m(\u001b[22m\u001b[1m)\u001b[22m at \u001b[1m/home/mathow/.julia/packages/Revise/agmgx/src/types.jl:235\u001b[22m\n",
      "while evaluating\n",
      "methoddefs!(signatures, frame::Frame; define=true) = begin\n",
      "        #= /home/mathow/.julia/packages/LoweredCodeUtils/6EZqd/src/LoweredCodeUtils.jl:464 =#\n",
      "        methoddefs!(finish_and_return!, signatures, frame; define=define)\n",
      "    end\n",
      "in module Main.LoweredCodeUtils\n",
      "\u001b[91mUndefVarError: Frame not defined\u001b[39m\n",
      "Stacktrace:\n",
      " [1] \u001b[1mmacro expansion\u001b[22m at \u001b[1m/home/mathow/.julia/packages/JuliaInterpreter/Or807/src/interpret.jl:64\u001b[22m [inlined]\n",
      " [2] \u001b[1mgetargs\u001b[22m\u001b[1m(\u001b[22m::Array{Any,1}, ::JuliaInterpreter.Frame\u001b[1m)\u001b[22m at \u001b[1m/home/mathow/.julia/packages/JuliaInterpreter/Or807/src/builtins.jl:8\u001b[22m\n",
      " [3] \u001b[1mmaybe_evaluate_builtin\u001b[22m\u001b[1m(\u001b[22m::JuliaInterpreter.Frame, ::Expr, ::Bool\u001b[1m)\u001b[22m at \u001b[1m/home/mathow/.julia/packages/JuliaInterpreter/Or807/src/builtins.jl:136\u001b[22m\n",
      " [4] \u001b[1m#evaluate_call_recurse!#37\u001b[22m\u001b[1m(\u001b[22m::Bool, ::Function, ::Any, ::JuliaInterpreter.Frame, ::Expr\u001b[1m)\u001b[22m at \u001b[1m/home/mathow/.julia/packages/JuliaInterpreter/Or807/src/interpret.jl:209\u001b[22m\n",
      " [5] \u001b[1mevaluate_call_recurse!\u001b[22m at \u001b[1m/home/mathow/.julia/packages/JuliaInterpreter/Or807/src/interpret.jl:206\u001b[22m [inlined]\n",
      " [6] \u001b[1meval_rhs\u001b[22m\u001b[1m(\u001b[22m::Any, ::JuliaInterpreter.Frame, ::Expr\u001b[1m)\u001b[22m at \u001b[1m/home/mathow/.julia/packages/JuliaInterpreter/Or807/src/interpret.jl:381\u001b[22m\n",
      " [7] \u001b[1mstep_expr!\u001b[22m\u001b[1m(\u001b[22m::Any, ::JuliaInterpreter.Frame, ::Any, ::Bool\u001b[1m)\u001b[22m at \u001b[1m/home/mathow/.julia/packages/JuliaInterpreter/Or807/src/interpret.jl:509\u001b[22m\n",
      " [8] \u001b[1msignature\u001b[22m\u001b[1m(\u001b[22m::Any, ::JuliaInterpreter.Frame, ::Any, ::Int64\u001b[1m)\u001b[22m at \u001b[1m/home/mathow/.julia/packages/LoweredCodeUtils/6EZqd/src/LoweredCodeUtils.jl:146\u001b[22m\n",
      " [9] \u001b[1m#methoddef!#3\u001b[22m\u001b[1m(\u001b[22m::Bool, ::Function, ::Any, ::Array{Any,1}, ::JuliaInterpreter.Frame, ::Any, ::Int64\u001b[1m)\u001b[22m at \u001b[1m/home/mathow/.julia/packages/LoweredCodeUtils/6EZqd/src/LoweredCodeUtils.jl:420\u001b[22m\n",
      " [10] \u001b[1m(::getfield(LoweredCodeUtils, Symbol(\"#kw##methoddef!\")))\u001b[22m\u001b[1m(\u001b[22m::NamedTuple{(:define,),Tuple{Bool}}, ::typeof(LoweredCodeUtils.methoddef!), ::Function, ::Array{Any,1}, ::JuliaInterpreter.Frame, ::Expr, ::Int64\u001b[1m)\u001b[22m at \u001b[1m./none:0\u001b[22m\n",
      " [11] \u001b[1m#methods_by_execution!#14\u001b[22m\u001b[1m(\u001b[22m::Bool, ::Bool, ::Function, ::Any, ::Revise.CodeTrackingMethodInfo, ::Dict{Module,Array{Expr,1}}, ::JuliaInterpreter.Frame\u001b[1m)\u001b[22m at \u001b[1m/home/mathow/.julia/packages/Revise/agmgx/src/lowered.jl:81\u001b[22m\n",
      " [12] \u001b[1m#methods_by_execution!\u001b[22m at \u001b[1m./none:0\u001b[22m [inlined]\n",
      " [13] \u001b[1m#methods_by_execution!#9\u001b[22m\u001b[1m(\u001b[22m::Base.Iterators.Pairs{Symbol,Bool,Tuple{Symbol},NamedTuple{(:define,),Tuple{Bool}}}, ::Function, ::Any, ::Revise.CodeTrackingMethodInfo, ::Dict{Module,Array{Expr,1}}, ::Module, ::Expr\u001b[1m)\u001b[22m at \u001b[1m/home/mathow/.julia/packages/Revise/agmgx/src/lowered.jl:49\u001b[22m\n",
      " [14] \u001b[1m#methods_by_execution!\u001b[22m at \u001b[1m./none:0\u001b[22m [inlined]\n",
      " [15] \u001b[1m#eval_with_signatures#59\u001b[22m\u001b[1m(\u001b[22m::Bool, ::Base.Iterators.Pairs{Union{},Union{},Tuple{},NamedTuple{(),Tuple{}}}, ::Function, ::Module, ::Expr\u001b[1m)\u001b[22m at \u001b[1m/home/mathow/.julia/packages/Revise/agmgx/src/Revise.jl:344\u001b[22m\n",
      " [16] \u001b[1m#eval_with_signatures\u001b[22m at \u001b[1m/home/mathow/.julia/packages/Revise/agmgx/src/Revise.jl:0\u001b[22m [inlined]\n",
      " [17] \u001b[1m#instantiate_sigs!#60\u001b[22m\u001b[1m(\u001b[22m::Bool, ::Base.Iterators.Pairs{Union{},Union{},Tuple{},NamedTuple{(),Tuple{}}}, ::Function, ::OrderedCollections.OrderedDict{Module,OrderedCollections.OrderedDict{Revise.RelocatableExpr,Union{Nothing, Array{Any,1}}}}\u001b[1m)\u001b[22m at \u001b[1m/home/mathow/.julia/packages/Revise/agmgx/src/Revise.jl:352\u001b[22m\n",
      " [18] \u001b[1minstantiate_sigs!\u001b[22m at \u001b[1m/home/mathow/.julia/packages/Revise/agmgx/src/Revise.jl:349\u001b[22m [inlined]\n",
      " [19] \u001b[1mmaybe_parse_from_cache!\u001b[22m\u001b[1m(\u001b[22m::Revise.PkgData, ::String\u001b[1m)\u001b[22m at \u001b[1m/home/mathow/.julia/packages/Revise/agmgx/src/pkgs.jl:224\u001b[22m\n",
      " [20] \u001b[1m(::getfield(Revise, Symbol(\"##26#27\")){String})\u001b[22m\u001b[1m(\u001b[22m\u001b[1m)\u001b[22m at \u001b[1m/home/mathow/.julia/packages/Revise/agmgx/src/pkgs.jl:370\u001b[22m\n",
      " [21] \u001b[1mwith_logstate\u001b[22m\u001b[1m(\u001b[22m::getfield(Revise, Symbol(\"##26#27\")){String}, ::Base.CoreLogging.LogState\u001b[1m)\u001b[22m at \u001b[1m./logging.jl:395\u001b[22m\n",
      " [22] \u001b[1mwith_logger\u001b[22m at \u001b[1m./logging.jl:491\u001b[22m [inlined]\n",
      " [23] \u001b[1mwatch_manifest\u001b[22m\u001b[1m(\u001b[22m::String\u001b[1m)\u001b[22m at \u001b[1m/home/mathow/.julia/packages/Revise/agmgx/src/pkgs.jl:349\u001b[22m\n",
      " [24] \u001b[1m(::Revise.Rescheduler{typeof(Revise.watch_manifest),Tuple{String}})\u001b[22m\u001b[1m(\u001b[22m\u001b[1m)\u001b[22m at \u001b[1m/home/mathow/.julia/packages/Revise/agmgx/src/types.jl:235\u001b[22m\n",
      "while evaluating\n",
      "function _methoddefs!(#= /home/mathow/.julia/packages/LoweredCodeUtils/6EZqd/src/LoweredCodeUtils.jl:467 =# @nospecialize(recurse), signatures, frame::Frame, pc; define=define)\n",
      "    #= /home/mathow/.julia/packages/LoweredCodeUtils/6EZqd/src/LoweredCodeUtils.jl:468 =#\n",
      "    while pc !== nothing\n"
     ]
    },
    {
     "name": "stderr",
     "output_type": "stream",
     "text": [
      "        #= /home/mathow/.julia/packages/LoweredCodeUtils/6EZqd/src/LoweredCodeUtils.jl:469 =#\n",
      "        stmt = pc_expr(frame, pc)\n",
      "        #= /home/mathow/.julia/packages/LoweredCodeUtils/6EZqd/src/LoweredCodeUtils.jl:470 =#\n",
      "        if !(ismethod(stmt))\n",
      "            #= /home/mathow/.julia/packages/LoweredCodeUtils/6EZqd/src/LoweredCodeUtils.jl:471 =#\n",
      "            pc = next_until!(ismethod, recurse, frame, true)\n",
      "        end\n",
      "        #= /home/mathow/.julia/packages/LoweredCodeUtils/6EZqd/src/LoweredCodeUtils.jl:473 =#\n",
      "        pc === nothing && break\n",
      "        #= /home/mathow/.julia/packages/LoweredCodeUtils/6EZqd/src/LoweredCodeUtils.jl:474 =#\n",
      "        ret = methoddef!(recurse, signatures, frame, pc; define=define)\n",
      "        #= /home/mathow/.julia/packages/LoweredCodeUtils/6EZqd/src/LoweredCodeUtils.jl:475 =#\n",
      "        pc = if ret === nothing\n",
      "                ret\n",
      "            else\n",
      "                ret[1]\n",
      "            end\n",
      "    end\n",
      "    #= /home/mathow/.julia/packages/LoweredCodeUtils/6EZqd/src/LoweredCodeUtils.jl:477 =#\n",
      "    return pc\n",
      "end\n",
      "in module Main.LoweredCodeUtils\n",
      "\u001b[91mArgumentError: Package CodeTracking not found in current path:\u001b[39m\n",
      "\u001b[91m- Run `import Pkg; Pkg.add(\"CodeTracking\")` to install the CodeTracking package.\u001b[39m\n",
      "\n",
      "Stacktrace:\n",
      " [1] \u001b[1mrequire\u001b[22m\u001b[1m(\u001b[22m::Module, ::Symbol\u001b[1m)\u001b[22m at \u001b[1m./loading.jl:823\u001b[22m\n",
      " [2] \u001b[1meval\u001b[22m at \u001b[1m./boot.jl:328\u001b[22m [inlined]\n",
      " [3] \u001b[1mprepare_thunk\u001b[22m\u001b[1m(\u001b[22m::Module, ::Expr, ::Bool\u001b[1m)\u001b[22m at \u001b[1m/home/mathow/.julia/packages/JuliaInterpreter/Or807/src/construct.jl:355\u001b[22m\n",
      " [4] \u001b[1mprepare_thunk\u001b[22m\u001b[1m(\u001b[22m::Module, ::Expr, ::Bool\u001b[1m)\u001b[22m at \u001b[1m/home/mathow/.julia/packages/JuliaInterpreter/Or807/src/construct.jl:361\u001b[22m\n",
      " [5] \u001b[1mprepare_thunk\u001b[22m at \u001b[1m/home/mathow/.julia/packages/JuliaInterpreter/Or807/src/construct.jl:347\u001b[22m [inlined]\n",
      " [6] \u001b[1m#methods_by_execution!#9\u001b[22m\u001b[1m(\u001b[22m::Base.Iterators.Pairs{Symbol,Bool,Tuple{Symbol},NamedTuple{(:define,),Tuple{Bool}}}, ::Function, ::Any, ::Revise.CodeTrackingMethodInfo, ::Dict{Module,Array{Expr,1}}, ::Module, ::Expr\u001b[1m)\u001b[22m at \u001b[1m/home/mathow/.julia/packages/Revise/agmgx/src/lowered.jl:47\u001b[22m\n",
      " [7] \u001b[1m#methods_by_execution!\u001b[22m at \u001b[1m./none:0\u001b[22m [inlined]\n",
      " [8] \u001b[1m#eval_with_signatures#59\u001b[22m\u001b[1m(\u001b[22m::Bool, ::Base.Iterators.Pairs{Union{},Union{},Tuple{},NamedTuple{(),Tuple{}}}, ::Function, ::Module, ::Expr\u001b[1m)\u001b[22m at \u001b[1m/home/mathow/.julia/packages/Revise/agmgx/src/Revise.jl:344\u001b[22m\n",
      " [9] \u001b[1m#eval_with_signatures\u001b[22m at \u001b[1m/home/mathow/.julia/packages/Revise/agmgx/src/Revise.jl:0\u001b[22m [inlined]\n",
      " [10] \u001b[1m#instantiate_sigs!#60\u001b[22m\u001b[1m(\u001b[22m::Bool, ::Base.Iterators.Pairs{Union{},Union{},Tuple{},NamedTuple{(),Tuple{}}}, ::Function, ::OrderedCollections.OrderedDict{Module,OrderedCollections.OrderedDict{Revise.RelocatableExpr,Union{Nothing, Array{Any,1}}}}\u001b[1m)\u001b[22m at \u001b[1m/home/mathow/.julia/packages/Revise/agmgx/src/Revise.jl:352\u001b[22m\n",
      " [11] \u001b[1minstantiate_sigs!\u001b[22m at \u001b[1m/home/mathow/.julia/packages/Revise/agmgx/src/Revise.jl:349\u001b[22m [inlined]\n",
      " [12] \u001b[1mmaybe_parse_from_cache!\u001b[22m\u001b[1m(\u001b[22m::Revise.PkgData, ::String\u001b[1m)\u001b[22m at \u001b[1m/home/mathow/.julia/packages/Revise/agmgx/src/pkgs.jl:224\u001b[22m\n",
      " [13] \u001b[1m(::getfield(Revise, Symbol(\"##26#27\")){String})\u001b[22m\u001b[1m(\u001b[22m\u001b[1m)\u001b[22m at \u001b[1m/home/mathow/.julia/packages/Revise/agmgx/src/pkgs.jl:370\u001b[22m\n",
      " [14] \u001b[1mwith_logstate\u001b[22m\u001b[1m(\u001b[22m::getfield(Revise, Symbol(\"##26#27\")){String}, ::Base.CoreLogging.LogState\u001b[1m)\u001b[22m at \u001b[1m./logging.jl:395\u001b[22m\n",
      " [15] \u001b[1mwith_logger\u001b[22m at \u001b[1m./logging.jl:491\u001b[22m [inlined]\n",
      " [16] \u001b[1mwatch_manifest\u001b[22m\u001b[1m(\u001b[22m::String\u001b[1m)\u001b[22m at \u001b[1m/home/mathow/.julia/packages/Revise/agmgx/src/pkgs.jl:349\u001b[22m\n",
      " [17] \u001b[1m(::Revise.Rescheduler{typeof(Revise.watch_manifest),Tuple{String}})\u001b[22m\u001b[1m(\u001b[22m\u001b[1m)\u001b[22m at \u001b[1m/home/mathow/.julia/packages/Revise/agmgx/src/types.jl:235\u001b[22m\n",
      "while evaluating\n",
      "using CodeTracking\n",
      "in module Main.JuliaInterpreter\n",
      "\u001b[91mUndefVarError: _precompile_ not defined\u001b[39m\n",
      "Stacktrace:\n",
      " [1] \u001b[1mmacro expansion\u001b[22m at \u001b[1m/home/mathow/.julia/packages/JuliaInterpreter/Or807/src/interpret.jl:64\u001b[22m [inlined]\n",
      " [2] \u001b[1m#methods_by_execution!#14\u001b[22m\u001b[1m(\u001b[22m::Bool, ::Bool, ::Function, ::Any, ::Revise.CodeTrackingMethodInfo, ::Dict{Module,Array{Expr,1}}, ::JuliaInterpreter.Frame\u001b[1m)\u001b[22m at \u001b[1m/home/mathow/.julia/packages/Revise/agmgx/src/lowered.jl:125\u001b[22m\n",
      " [3] \u001b[1m#methods_by_execution!\u001b[22m at \u001b[1m./none:0\u001b[22m [inlined]\n",
      " [4] \u001b[1m#methods_by_execution!#9\u001b[22m\u001b[1m(\u001b[22m::Base.Iterators.Pairs{Symbol,Bool,Tuple{Symbol},NamedTuple{(:define,),Tuple{Bool}}}, ::Function, ::Any, ::Revise.CodeTrackingMethodInfo, ::Dict{Module,Array{Expr,1}}, ::Module, ::Expr\u001b[1m)\u001b[22m at \u001b[1m/home/mathow/.julia/packages/Revise/agmgx/src/lowered.jl:49\u001b[22m\n",
      " [5] \u001b[1m#methods_by_execution!\u001b[22m at \u001b[1m./none:0\u001b[22m [inlined]\n",
      " [6] \u001b[1m#eval_with_signatures#59\u001b[22m\u001b[1m(\u001b[22m::Bool, ::Base.Iterators.Pairs{Union{},Union{},Tuple{},NamedTuple{(),Tuple{}}}, ::Function, ::Module, ::Expr\u001b[1m)\u001b[22m at \u001b[1m/home/mathow/.julia/packages/Revise/agmgx/src/Revise.jl:344\u001b[22m\n",
      " [7] \u001b[1m#eval_with_signatures\u001b[22m at \u001b[1m/home/mathow/.julia/packages/Revise/agmgx/src/Revise.jl:0\u001b[22m [inlined]\n",
      " [8] \u001b[1m#instantiate_sigs!#60\u001b[22m\u001b[1m(\u001b[22m::Bool, ::Base.Iterators.Pairs{Union{},Union{},Tuple{},NamedTuple{(),Tuple{}}}, ::Function, ::OrderedCollections.OrderedDict{Module,OrderedCollections.OrderedDict{Revise.RelocatableExpr,Union{Nothing, Array{Any,1}}}}\u001b[1m)\u001b[22m at \u001b[1m/home/mathow/.julia/packages/Revise/agmgx/src/Revise.jl:352\u001b[22m\n",
      " [9] \u001b[1minstantiate_sigs!\u001b[22m at \u001b[1m/home/mathow/.julia/packages/Revise/agmgx/src/Revise.jl:349\u001b[22m [inlined]\n",
      " [10] \u001b[1mmaybe_parse_from_cache!\u001b[22m\u001b[1m(\u001b[22m::Revise.PkgData, ::String\u001b[1m)\u001b[22m at \u001b[1m/home/mathow/.julia/packages/Revise/agmgx/src/pkgs.jl:224\u001b[22m\n",
      " [11] \u001b[1m(::getfield(Revise, Symbol(\"##26#27\")){String})\u001b[22m\u001b[1m(\u001b[22m\u001b[1m)\u001b[22m at \u001b[1m/home/mathow/.julia/packages/Revise/agmgx/src/pkgs.jl:370\u001b[22m\n",
      " [12] \u001b[1mwith_logstate\u001b[22m\u001b[1m(\u001b[22m::getfield(Revise, Symbol(\"##26#27\")){String}, ::Base.CoreLogging.LogState\u001b[1m)\u001b[22m at \u001b[1m./logging.jl:395\u001b[22m\n",
      " [13] \u001b[1mwith_logger\u001b[22m at \u001b[1m./logging.jl:491\u001b[22m [inlined]\n",
      " [14] \u001b[1mwatch_manifest\u001b[22m\u001b[1m(\u001b[22m::String\u001b[1m)\u001b[22m at \u001b[1m/home/mathow/.julia/packages/Revise/agmgx/src/pkgs.jl:349\u001b[22m\n",
      " [15] \u001b[1m(::Revise.Rescheduler{typeof(Revise.watch_manifest),Tuple{String}})\u001b[22m\u001b[1m(\u001b[22m\u001b[1m)\u001b[22m at \u001b[1m/home/mathow/.julia/packages/Revise/agmgx/src/types.jl:235\u001b[22m\n",
      "while evaluating\n",
      "_precompile_()\n",
      "in module Main.JuliaInterpreter\n"
     ]
    }
   ],
   "source": [
    "mean(A′[3,:])"
   ]
  },
  {
   "cell_type": "markdown",
   "metadata": {},
   "source": [
    "#### Compute measurement"
   ]
  },
  {
   "cell_type": "code",
   "execution_count": 22,
   "metadata": {},
   "outputs": [
    {
     "data": {
      "text/plain": [
       "5×10 Array{Float64,2}:\n",
       " 1.01  1.01  1.01  1.01  1.01  1.01  1.01  1.01  1.01  1.01\n",
       " 1.01  1.01  1.01  1.01  1.01  1.01  1.01  1.01  1.01  1.01\n",
       " 1.01  1.01  1.01  1.01  1.01  1.01  1.01  1.01  1.01  1.01\n",
       " 1.01  1.01  1.01  1.01  1.01  1.01  1.01  1.01  1.01  1.01\n",
       " 1.01  1.01  1.01  1.01  1.01  1.01  1.01  1.01  1.01  1.01"
      ]
     },
     "execution_count": 22,
     "metadata": {},
     "output_type": "execute_result"
    }
   ],
   "source": [
    "mens = EnsembleState((N, NZ))\n",
    "enkf.m(0.0, mens, ens)\n",
    "Â = hcat(deepcopy(mens))"
   ]
  },
  {
   "cell_type": "markdown",
   "metadata": {},
   "source": [
    "#### Compute deviation from measurement of the mean"
   ]
  },
  {
   "cell_type": "code",
   "execution_count": 23,
   "metadata": {},
   "outputs": [
    {
     "data": {
      "text/plain": [
       "5×10 Array{Float64,2}:\n",
       " -0.04  -0.04  -0.04  -0.04  -0.04  -0.04  -0.04  -0.04  -0.04  -0.04\n",
       " -0.04  -0.04  -0.04  -0.04  -0.04  -0.04  -0.04  -0.04  -0.04  -0.04\n",
       " -0.04  -0.04  -0.04  -0.04  -0.04  -0.04  -0.04  -0.04  -0.04  -0.04\n",
       " -0.04  -0.04  -0.04  -0.04  -0.04  -0.04  -0.04  -0.04  -0.04  -0.04\n",
       " -0.04  -0.04  -0.04  -0.04  -0.04  -0.04  -0.04  -0.04  -0.04  -0.04"
      ]
     },
     "execution_count": 23,
     "metadata": {},
     "output_type": "execute_result"
    }
   ],
   "source": [
    "Â′  = Â .- enkf.m(0.0, mean(ens))"
   ]
  },
  {
   "cell_type": "markdown",
   "metadata": {},
   "source": [
    "#### Get actual measurements"
   ]
  },
  {
   "cell_type": "code",
   "execution_count": 24,
   "metadata": {},
   "outputs": [
    {
     "data": {
      "text/plain": [
       "EnsembleState{10,5,Float64}(Array{Float64,1}[[1.01, 1.01, 1.01, 1.01, 1.01], [1.01, 1.01, 1.01, 1.01, 1.01], [1.01, 1.01, 1.01, 1.01, 1.01], [1.01, 1.01, 1.01, 1.01, 1.01], [1.01, 1.01, 1.01, 1.01, 1.01], [1.01, 1.01, 1.01, 1.01, 1.01], [1.01, 1.01, 1.01, 1.01, 1.01], [1.01, 1.01, 1.01, 1.01, 1.01], [1.01, 1.01, 1.01, 1.01, 1.01], [1.01, 1.01, 1.01, 1.01, 1.01]])"
      ]
     },
     "execution_count": 24,
     "metadata": {},
     "output_type": "execute_result"
    }
   ],
   "source": [
    "zens = EnsembleState((N, NZ))\n",
    "M = 1.01*ones(NZ)\n",
    "enkf.z(0.0, zens)"
   ]
  },
  {
   "cell_type": "code",
   "execution_count": 25,
   "metadata": {},
   "outputs": [
    {
     "data": {
      "text/plain": [
       "EnsembleState{10,5,Float64}(Array{Float64,1}[[1.01, 1.01, 1.01, 1.01, 1.01], [1.01, 1.01, 1.01, 1.01, 1.01], [1.01, 1.01, 1.01, 1.01, 1.01], [1.01, 1.01, 1.01, 1.01, 1.01], [1.01, 1.01, 1.01, 1.01, 1.01], [1.01, 1.01, 1.01, 1.01, 1.01], [1.01, 1.01, 1.01, 1.01, 1.01], [1.01, 1.01, 1.01, 1.01, 1.01], [1.01, 1.01, 1.01, 1.01, 1.01], [1.01, 1.01, 1.01, 1.01, 1.01]])"
      ]
     },
     "execution_count": 25,
     "metadata": {},
     "output_type": "execute_result"
    }
   ],
   "source": [
    "zens"
   ]
  },
  {
   "cell_type": "markdown",
   "metadata": {},
   "source": [
    "#### Perturb actual measurement"
   ]
  },
  {
   "cell_type": "code",
   "execution_count": 26,
   "metadata": {},
   "outputs": [
    {
     "data": {
      "text/plain": [
       "EnsembleState{10,5,Float64}(Array{Float64,1}[[0.0729845, 0.360457, -0.595656, 0.716097, 0.919471], [2.74959, -0.0355739, 1.31031, 2.60403, 1.68868], [1.45465, 2.6402, 1.70232, 1.74599, -0.185757], [0.362484, 1.56684, 0.312665, 0.3011, 0.751375], [0.904745, 1.60629, 1.1223, -0.0596881, 1.59135], [0.728292, 1.84237, 1.72193, 1.3386, 1.17733], [1.2322, -0.00757869, 1.11979, 0.118813, 1.16315], [1.31645, 1.37846, 0.955742, 0.87712, 0.531026], [3.05504, 2.95354, 0.415102, 0.241278, 0.493672], [1.11261, 0.30206, -0.274355, 1.48479, 3.04099]])"
      ]
     },
     "execution_count": 26,
     "metadata": {},
     "output_type": "execute_result"
    }
   ],
   "source": [
    "ϵ(zens)"
   ]
  },
  {
   "cell_type": "markdown",
   "metadata": {},
   "source": [
    "#### Construct representer matrix and vectors"
   ]
  },
  {
   "cell_type": "code",
   "execution_count": 27,
   "metadata": {},
   "outputs": [
    {
     "data": {
      "text/plain": [
       "5×10 Array{Float64,2}:\n",
       "  0.0729845   2.74959     1.45465   …  1.31645   3.05504    1.11261 \n",
       "  0.360457   -0.0355739   2.6402       1.37846   2.95354    0.30206 \n",
       " -0.595656    1.31031     1.70232      0.955742  0.415102  -0.274355\n",
       "  0.716097    2.60403     1.74599      0.87712   0.241278   1.48479 \n",
       "  0.919471    1.68868    -0.185757     0.531026  0.493672   3.04099 "
      ]
     },
     "execution_count": 27,
     "metadata": {},
     "output_type": "execute_result"
    }
   ],
   "source": [
    "D = hcat(zens)"
   ]
  },
  {
   "cell_type": "code",
   "execution_count": 28,
   "metadata": {},
   "outputs": [
    {
     "data": {
      "text/plain": [
       "5×5 Array{Float64,2}:\n",
       " 1.0  0.0  0.0  0.0  0.0\n",
       " 0.0  1.0  0.0  0.0  0.0\n",
       " 0.0  0.0  1.0  0.0  0.0\n",
       " 0.0  0.0  0.0  1.0  0.0\n",
       " 0.0  0.0  0.0  0.0  1.0"
      ]
     },
     "execution_count": 28,
     "metadata": {},
     "output_type": "execute_result"
    }
   ],
   "source": [
    "cov(ϵ)"
   ]
  },
  {
   "cell_type": "code",
   "execution_count": 29,
   "metadata": {},
   "outputs": [
    {
     "data": {
      "text/plain": [
       "5×5 Array{Float64,2}:\n",
       " 9.016  0.016  0.016  0.016  0.016\n",
       " 0.016  9.016  0.016  0.016  0.016\n",
       " 0.016  0.016  9.016  0.016  0.016\n",
       " 0.016  0.016  0.016  9.016  0.016\n",
       " 0.016  0.016  0.016  0.016  9.016"
      ]
     },
     "execution_count": 29,
     "metadata": {},
     "output_type": "execute_result"
    }
   ],
   "source": [
    "(Â′*Â′') + (N-1)*cov(ϵ)*I"
   ]
  },
  {
   "cell_type": "code",
   "execution_count": 30,
   "metadata": {},
   "outputs": [
    {
     "name": "stdout",
     "output_type": "stream",
     "text": [
      "  2.355029 seconds (3.41 M allocations: 162.133 MiB, 4.94% gc time)\n"
     ]
    },
    {
     "data": {
      "text/plain": [
       "5×10 Array{Float64,2}:\n",
       " -0.103413     0.192648   0.0489536  …   0.0340488    0.226814    0.01128  \n",
       " -0.0714712   -0.116815   0.180682       0.0409387    0.215536   -0.0787806\n",
       " -0.177706     0.032728   0.0764729     -0.00603039  -0.0665127  -0.142827 \n",
       " -0.0319556    0.176475   0.0813245     -0.0147661   -0.0858264   0.0526339\n",
       " -0.00935846   0.074769  -0.133314      -0.0532211   -0.0577827   0.225545 "
      ]
     },
     "execution_count": 30,
     "metadata": {},
     "output_type": "execute_result"
    }
   ],
   "source": [
    "@time b = ((Â′*Â′') + (N-1)*cov(ϵ)*I) \\ (D - Â)"
   ]
  },
  {
   "cell_type": "code",
   "execution_count": 31,
   "metadata": {},
   "outputs": [
    {
     "name": "stdout",
     "output_type": "stream",
     "text": [
      "  0.010382 seconds (4.05 k allocations: 225.549 KiB)\n"
     ]
    },
    {
     "data": {
      "text/plain": [
       "3×10 Array{Float64,2}:\n",
       "  1.76096e-18  -1.60853e-18  -1.13605e-18  …  -1.03819e-18  -3.03333e-19\n",
       " -8.9827e-19    8.20512e-19   5.79501e-19      5.29581e-19   1.5473e-19 \n",
       "  1.36895e-18  -1.25044e-18  -8.83147e-19     -8.0707e-19   -2.35806e-19"
      ]
     },
     "execution_count": 31,
     "metadata": {},
     "output_type": "execute_result"
    }
   ],
   "source": [
    "@time Bᵀb = (A′*Â′')*b"
   ]
  },
  {
   "cell_type": "markdown",
   "metadata": {},
   "source": [
    "#### Analysis step"
   ]
  },
  {
   "cell_type": "code",
   "execution_count": 32,
   "metadata": {},
   "outputs": [
    {
     "data": {
      "text/plain": [
       "EnsembleState{10,3,Float64}(Array{Float64,1}[[-2.41591, 0.154592, 0.699435], [0.642284, 0.412356, 0.895485], [-0.627419, -0.999034, 1.13618], [1.06616, 0.200668, -1.81217], [2.52441, 0.76541, 0.950722], [-0.391827, 0.826463, -0.90361], [-1.25095, 0.344904, -2.04859], [1.11846, -0.31089, 0.157741], [-0.644366, 0.860481, -0.0346485], [-0.643458, -1.09681, 0.0802098]])"
      ]
     },
     "execution_count": 32,
     "metadata": {},
     "output_type": "execute_result"
    }
   ],
   "source": [
    "ens  += cut(Bᵀb)"
   ]
  },
  {
   "cell_type": "code",
   "execution_count": 33,
   "metadata": {},
   "outputs": [
    {
     "data": {
      "text/plain": [
       "TupleProduct{2,Continuous,Tuple{Normal{Float64},Truncated{Normal{Float64},Continuous}}}(\n",
       "v: (Normal{Float64}(μ=0.0, σ=1.0), Truncated(Normal{Float64}(μ=0.0, σ=1.0), range=(-0.1, 0.1)))\n",
       ")\n"
      ]
     },
     "execution_count": 33,
     "metadata": {},
     "output_type": "execute_result"
    }
   ],
   "source": [
    "TP = TupleProduct((Normal(), TruncatedNormal(0.0,1.0,-0.1,0.1)))"
   ]
  },
  {
   "cell_type": "code",
   "execution_count": 34,
   "metadata": {},
   "outputs": [
    {
     "data": {
      "text/plain": [
       "true"
      ]
     },
     "execution_count": 34,
     "metadata": {},
     "output_type": "execute_result"
    }
   ],
   "source": [
    "typeof(TP)<:MultivariateDistribution"
   ]
  }
 ],
 "metadata": {
  "@webio": {
   "lastCommId": null,
   "lastKernelId": null
  },
  "kernelspec": {
   "display_name": "Julia 1.11.3",
   "language": "julia",
   "name": "julia-1.11"
  },
  "language_info": {
   "file_extension": ".jl",
   "mimetype": "application/julia",
   "name": "julia",
   "version": "1.11.3"
  }
 },
 "nbformat": 4,
 "nbformat_minor": 2
}
