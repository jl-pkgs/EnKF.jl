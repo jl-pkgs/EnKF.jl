{
 "cells": [
  {
   "cell_type": "code",
   "execution_count": null,
   "metadata": {},
   "outputs": [
    {
     "name": "stdout",
     "output_type": "stream",
     "text": [
      "\u001b[32m\u001b[1mActivating\u001b[22m\u001b[39m environment at `/media/mat/HDD/EnKF/Project.toml`\n"
     ]
    }
   ],
   "source": [
    "# using Pkg;\n",
    "# Pkg.activate(\"..\")\n",
    "# using EnKF"
   ]
  },
  {
   "cell_type": "code",
   "execution_count": 1,
   "metadata": {},
   "outputs": [],
   "source": [
    "# using Revise\n",
    "# using EnKF\n",
    "using LinearAlgebra"
   ]
  },
  {
   "cell_type": "code",
   "execution_count": 2,
   "metadata": {},
   "outputs": [
    {
     "data": {
      "text/plain": [
       "3×3 Matrix{Float64}:\n",
       "  4.0  -3.0  -3.0\n",
       "  3.0  -2.0  -3.0\n",
       " -1.0   1.0   2.0"
      ]
     },
     "metadata": {},
     "output_type": "display_data"
    }
   ],
   "source": [
    "A = [4.0 -3.0 -3.0; 3.0 -2.0 -3.0; -1.0 1.0 2.0]"
   ]
  },
  {
   "cell_type": "code",
   "execution_count": 5,
   "metadata": {},
   "outputs": [
    {
     "data": {
      "text/plain": [
       "3×3 Diagonal{Float64, Vector{Float64}}:\n",
       " 1.0   ⋅    ⋅ \n",
       "  ⋅   1.0   ⋅ \n",
       "  ⋅    ⋅   2.0"
      ]
     },
     "metadata": {},
     "output_type": "display_data"
    }
   ],
   "source": [
    "U = eigen(A).vectors\n",
    "Σ = Diagonal(real(eigen(A).values))"
   ]
  },
  {
   "cell_type": "code",
   "execution_count": 6,
   "metadata": {},
   "outputs": [
    {
     "data": {
      "text/plain": [
       "3×3 Matrix{ComplexF64}:\n",
       "  1.03328-1.38778e-17im  0.957915-0.0733132im    -1.01163+0.0257125im\n",
       " 0.957915+0.0733132im     1.03328+1.38778e-17im  -1.01163-0.0257125im\n",
       " -1.01163-0.0257125im    -1.01163+0.0257125im     1.05263+0.0im"
      ]
     },
     "metadata": {},
     "output_type": "display_data"
    }
   ],
   "source": [
    "U'*Σ*U"
   ]
  },
  {
   "cell_type": "code",
   "execution_count": 7,
   "metadata": {},
   "outputs": [
    {
     "name": "stdout",
     "output_type": "stream",
     "text": [
      "  0.000075 seconds (32 allocations: 4.594 KiB)\n"
     ]
    },
    {
     "data": {
      "text/plain": [
       "Eigen{ComplexF64, ComplexF64, Matrix{ComplexF64}, Vector{ComplexF64}}\n",
       "values:\n",
       "3-element Vector{ComplexF64}:\n",
       " 1.0000000000000004 - 6.004449063730081e-16im\n",
       " 1.0000000000000004 + 6.004449063730081e-16im\n",
       " 1.9999999999999996 + 0.0im\n",
       "vectors:\n",
       "3×3 Matrix{ComplexF64}:\n",
       "  -0.61497-0.112078im   -0.61497+0.112078im   0.688247+0.0im\n",
       " -0.758924-0.0im       -0.758924+0.0im        0.688247+0.0im\n",
       "  0.143954-0.112078im   0.143954+0.112078im  -0.229416+0.0im"
      ]
     },
     "metadata": {},
     "output_type": "display_data"
    }
   ],
   "source": [
    "@time Σ, U = eigen([4.0 -3.0 -3.0; 3.0 -2.0 -3.0; -1.0 1.0 2.0])"
   ]
  },
  {
   "cell_type": "code",
   "execution_count": 8,
   "metadata": {},
   "outputs": [
    {
     "data": {
      "text/plain": [
       "3-element Vector{ComplexF64}:\n",
       " 1.0000000000000004 - 6.004449063730081e-16im\n",
       " 1.0000000000000004 + 6.004449063730081e-16im\n",
       " 1.9999999999999996 + 0.0im"
      ]
     },
     "metadata": {},
     "output_type": "display_data"
    }
   ],
   "source": [
    "Σ"
   ]
  },
  {
   "cell_type": "code",
   "execution_count": 9,
   "metadata": {},
   "outputs": [
    {
     "data": {
      "text/plain": [
       "3×3 Matrix{Float64}:\n",
       "  0.0           0.0           0.0\n",
       "  2.22045e-15  -1.77636e-15  -3.10862e-15\n",
       " -4.44089e-16   4.44089e-16   4.44089e-16"
      ]
     },
     "metadata": {},
     "output_type": "display_data"
    }
   ],
   "source": [
    "real(U*Diagonal(Σ)*inv(U))-A"
   ]
  }
 ],
 "metadata": {
  "kernelspec": {
   "display_name": "Julia 1.11.3",
   "language": "julia",
   "name": "julia-1.11"
  },
  "language_info": {
   "file_extension": ".jl",
   "mimetype": "application/julia",
   "name": "julia",
   "version": "1.11.3"
  }
 },
 "nbformat": 4,
 "nbformat_minor": 2
}
