{
 "cells": [
  {
   "cell_type": "code",
   "execution_count": 3,
   "metadata": {},
   "outputs": [
    {
     "name": "stdout",
     "output_type": "stream",
     "text": [
      "42\n"
     ]
    }
   ],
   "source": [
    "# # 定义结构体 Hello\n",
    "struct Hello\n",
    "  x::Float64\n",
    "end\n",
    "\n",
    "# 定义 Hello 类型的调用函数\n",
    "function (::Hello)(x::T) where T\n",
    "  return x\n",
    "end\n",
    "\n",
    "# 创建一个 Hello 类型的实例\n",
    "h = Hello(3.14)\n",
    "\n",
    "# 调用 Hello 实例，传递一个参数\n",
    "result = h(42)  # 此时 'x' 为 42，返回值为 42\n",
    "println(result)  # 输出：42"
   ]
  }
 ],
 "metadata": {
  "kernelspec": {
   "display_name": "Julia 1.11.3",
   "language": "julia",
   "name": "julia-1.11"
  },
  "language_info": {
   "file_extension": ".jl",
   "mimetype": "application/julia",
   "name": "julia",
   "version": "1.11.3"
  }
 },
 "nbformat": 4,
 "nbformat_minor": 2
}
