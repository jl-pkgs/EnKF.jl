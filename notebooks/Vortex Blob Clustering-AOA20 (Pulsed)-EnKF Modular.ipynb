{
 "cells": [
  {
   "cell_type": "code",
   "execution_count": null,
   "metadata": {},
   "outputs": [
    {
     "data": {
      "text/plain": [
       "\"/media/mat/HDD/EnKF/Project.toml\""
      ]
     },
     "execution_count": 1,
     "metadata": {},
     "output_type": "execute_result"
    }
   ],
   "source": [
    "using Pkg;\n",
    "Pkg.activate(\"..\")\n",
    "using EnKF"
   ]
  },
  {
   "cell_type": "code",
   "execution_count": 2,
   "metadata": {},
   "outputs": [],
   "source": [
    "using Revise\n",
    "using EnKF\n",
    "using Distributions\n",
    "using DocStringExtensions\n",
    "# using Lazy"
   ]
  },
  {
   "cell_type": "code",
   "execution_count": 3,
   "metadata": {
    "scrolled": true
   },
   "outputs": [
    {
     "name": "stderr",
     "output_type": "stream",
     "text": [
      "┌ Info: Recompiling stale cache file /home/mat/.julia/compiled/v1.1/PotentialFlow/79Lvj.ji for PotentialFlow [73af2aaf-3f58-5b29-82a9-435ecf827f5b]\n",
      "└ @ Base loading.jl:1184\n"
     ]
    }
   ],
   "source": [
    "using PotentialFlow\n",
    "import PotentialFlow.Utils: @get"
   ]
  },
  {
   "cell_type": "code",
   "execution_count": 4,
   "metadata": {},
   "outputs": [],
   "source": [
    "using ProgressMeter\n",
    "using LinearAlgebra\n",
    "using Statistics\n",
    "# using PlotUtils"
   ]
  },
  {
   "cell_type": "code",
   "execution_count": 5,
   "metadata": {},
   "outputs": [
    {
     "data": {
      "text/plain": [
       "Plots.PyPlotBackend()"
      ]
     },
     "execution_count": 5,
     "metadata": {},
     "output_type": "execute_result"
    }
   ],
   "source": [
    "using Plots\n",
    "default(tickfont = font(\"CMU Serif\", 9), \n",
    "        titlefont = font(\"CMU Serif\", 14), \n",
    "        guidefont = font(\"CMU Serif\", 12),\n",
    "        legendfont = font(\"CMU Serif\", 10),\n",
    "        grid = false)\n",
    "clibrary(:colorbrewer)\n",
    "pyplot()"
   ]
  },
  {
   "cell_type": "code",
   "execution_count": 6,
   "metadata": {},
   "outputs": [],
   "source": [
    "# if !Plots.is_installed(\"PyPlot\")\n",
    "#     Pkg.add(\"PyPlot\")\n",
    "# end\n",
    "# withenv(\"PYTHON\" => \"\") do\n",
    "#     Pkg.build(\"PyPlot\")\n",
    "# end"
   ]
  },
  {
   "cell_type": "markdown",
   "metadata": {},
   "source": [
    "## Load CFD Data"
   ]
  },
  {
   "cell_type": "code",
   "execution_count": 7,
   "metadata": {},
   "outputs": [],
   "source": [
    "using FileIO\n",
    "using Interpolations"
   ]
  },
  {
   "cell_type": "code",
   "execution_count": 8,
   "metadata": {},
   "outputs": [
    {
     "name": "stderr",
     "output_type": "stream",
     "text": [
      "┌ Info: Recompiling stale cache file /home/mat/.julia/compiled/v1.1/JLD2/O1EyT.ji for JLD2 [033835bb-8acc-5ee8-8aae-3f567f8a3819]\n",
      "└ @ Base loading.jl:1184\n"
     ]
    },
    {
     "data": {
      "text/plain": [
       "Dict{String,Any} with 6 entries:\n",
       "  \"pressure\"  => Dict{String,Any}(\"t\"=>0.05:0.05:10.0,\"edges\"=>(-0.5, 0.5),\"s\"=…\n",
       "  \"Re\"        => 500\n",
       "  \"aoa\"       => 0.349066\n",
       "  \"force\"     => Dict{String,Any}(\"t\"=>0.001:0.001:10.0,\"F\"=>Complex{Float64}[-…\n",
       "  \"vorticity\" => Dict{String,Any}(\"x\"=>[-0.996, -0.992, -0.988, -0.984, -0.98, …\n",
       "  \"actuation\" => ((3.0, 4.0), 0.01)"
      ]
     },
     "execution_count": 8,
     "metadata": {},
     "output_type": "execute_result"
    }
   ],
   "source": [
    "# re500_data = load(expanduser(\"/home/matmat/Documents/PhD/VortexModel/DarwinVortex/data/re500_aoa20.jld2\")) # No Pulse\n",
    "# re500_data = load(expanduser(\"~/Documents/Research/data/rey500_pulse01_data.jld2\"))\n",
    "re500_data = load(expanduser(\"/media/mat/HDD/VortexModels/data/rey500_aoa20_2pulse01_data.jld2\"))"
   ]
  },
  {
   "cell_type": "code",
   "execution_count": 9,
   "metadata": {},
   "outputs": [],
   "source": [
    "## Old version 0.6\n",
    "# pressure_data = let pressure = -re500_data[\"pressure\"][\"p\"],\n",
    "#     T = re500_data[\"pressure\"][\"t\"],\n",
    "#     s = re500_data[\"pressure\"][\"s\"],\n",
    "#     le = re500_data[\"pressure\"][\"edges\"][1]\n",
    "    \n",
    "    \n",
    "#     scale(interpolate(pressure, BSpline(Cubic(Line())), OnGrid()), sign(le)*s, T)\n",
    "# end;"
   ]
  },
  {
   "cell_type": "code",
   "execution_count": 10,
   "metadata": {},
   "outputs": [],
   "source": [
    "pressure_data = let pressure = -re500_data[\"pressure\"][\"p\"],\n",
    "    T = re500_data[\"pressure\"][\"t\"],\n",
    "    s = re500_data[\"pressure\"][\"s\"],\n",
    "    le = re500_data[\"pressure\"][\"edges\"][1]\n",
    "    \n",
    "#     scale(interpolate(reverse(pressure, dims = 1), BSpline(Cubic(Line(OnGrid())))), \n",
    "#         reverse(sign(le)*s, dims = 1), T, extrapolation  = Flat())\n",
    "    CubicSplineInterpolation((reverse(sign(le)*s), T),reverse(pressure, dims = 1), extrapolation_bc =  Line())\n",
    "end;"
   ]
  },
  {
   "cell_type": "code",
   "execution_count": 11,
   "metadata": {},
   "outputs": [
    {
     "data": {
      "text/plain": [
       "-0.23260800496897818"
      ]
     },
     "execution_count": 11,
     "metadata": {},
     "output_type": "execute_result"
    }
   ],
   "source": [
    "pressure_data(-0.4,0.0)"
   ]
  },
  {
   "cell_type": "code",
   "execution_count": 12,
   "metadata": {},
   "outputs": [
    {
     "data": {
      "text/plain": [
       "-1.1639155392089846"
      ]
     },
     "execution_count": 12,
     "metadata": {},
     "output_type": "execute_result"
    }
   ],
   "source": [
    "pressure_data(0.1,2.0)"
   ]
  },
  {
   "cell_type": "code",
   "execution_count": 13,
   "metadata": {},
   "outputs": [
    {
     "data": {
      "text/plain": [
       "cfd_pressure (generic function with 1 method)"
      ]
     },
     "execution_count": 13,
     "metadata": {},
     "output_type": "execute_result"
    }
   ],
   "source": [
    "function cfd_pressure(t, taps, config, pressure_data)\n",
    "    s = [-0.5config.L*cos(n*π/(config.N-1)) for n in taps]\n",
    "    [pressure_data(i,t) for i in s]\n",
    "end"
   ]
  },
  {
   "cell_type": "code",
   "execution_count": 14,
   "metadata": {},
   "outputs": [
    {
     "data": {
      "text/plain": [
       "Config(512, 1.0, 1.0 + 0.0im, 0.3490658503988659, 0.005, 0.01, true)"
      ]
     },
     "execution_count": 14,
     "metadata": {},
     "output_type": "execute_result"
    }
   ],
   "source": [
    "struct Config\n",
    "    N::Int\n",
    "    L::Float64\n",
    "    ċ::ComplexF64\n",
    "    α::Float64\n",
    "    δ::Float64\n",
    "    Δt::Float64\n",
    "    transfer::Bool\n",
    "end\n",
    "config = let N = 512, L = 1.0, ċ = 1.0,\n",
    "             α = π/9, δ = 5e-3, Δt = 1e-2\n",
    "\n",
    "    Config(N, L, ċ, α, δ, Δt, true)\n",
    "end"
   ]
  },
  {
   "cell_type": "code",
   "execution_count": 15,
   "metadata": {},
   "outputs": [
    {
     "data": {
      "text/plain": [
       "0.0:0.01:5.0"
      ]
     },
     "execution_count": 15,
     "metadata": {},
     "output_type": "execute_result"
    }
   ],
   "source": [
    "tf = 5.0\n",
    "pressure_taps = 10:10:config.N-10\n",
    "T = 0:config.Δt:tf"
   ]
  },
  {
   "cell_type": "code",
   "execution_count": 16,
   "metadata": {},
   "outputs": [],
   "source": [
    "using ColorSchemes"
   ]
  },
  {
   "cell_type": "code",
   "execution_count": 17,
   "metadata": {},
   "outputs": [
    {
     "data": {
      "image/svg+xml": [
       "<?xml version=\"1.0\" encoding=\"UTF-8\"?>\n",
       "<!DOCTYPE svg PUBLIC \"-//W3C//DTD SVG 1.1//EN\"\n",
       " \"http://www.w3.org/Graphics/SVG/1.1/DTD/svg11.dtd\">\n",
       "<svg xmlns=\"http://www.w3.org/2000/svg\" version=\"1.1\"\n",
       "     width=\"180.0mm\" height=\"25.0mm\"\n",
       "     shape-rendering=\"crispEdges\">\n",
       "<rect x=\"0.0mm\" y=\"0.0mm\"\n",
       "      width=\"17.0mm\" height=\"24.0mm\"\n",
       "      fill=\"#2A48EF\" stroke=\"none\" />\n",
       "<rect x=\"18.0mm\" y=\"0.0mm\"\n",
       "      width=\"17.0mm\" height=\"24.0mm\"\n",
       "      fill=\"#5B92F2\" stroke=\"none\" />\n",
       "<rect x=\"36.0mm\" y=\"0.0mm\"\n",
       "      width=\"17.0mm\" height=\"24.0mm\"\n",
       "      fill=\"#8BC8F6\" stroke=\"none\" />\n",
       "<rect x=\"54.0mm\" y=\"0.0mm\"\n",
       "      width=\"17.0mm\" height=\"24.0mm\"\n",
       "      fill=\"#B6ECFA\" stroke=\"none\" />\n",
       "<rect x=\"72.0mm\" y=\"0.0mm\"\n",
       "      width=\"17.0mm\" height=\"24.0mm\"\n",
       "      fill=\"#DDFEFD\" stroke=\"none\" />\n",
       "<rect x=\"90.0mm\" y=\"0.0mm\"\n",
       "      width=\"17.0mm\" height=\"24.0mm\"\n",
       "      fill=\"#FEFED3\" stroke=\"none\" />\n",
       "<rect x=\"108.0mm\" y=\"0.0mm\"\n",
       "      width=\"17.0mm\" height=\"24.0mm\"\n",
       "      fill=\"#FAF1A7\" stroke=\"none\" />\n",
       "<rect x=\"126.0mm\" y=\"0.0mm\"\n",
       "      width=\"17.0mm\" height=\"24.0mm\"\n",
       "      fill=\"#F1D17A\" stroke=\"none\" />\n",
       "<rect x=\"144.0mm\" y=\"0.0mm\"\n",
       "      width=\"17.0mm\" height=\"24.0mm\"\n",
       "      fill=\"#E49F4F\" stroke=\"none\" />\n",
       "<rect x=\"162.0mm\" y=\"0.0mm\"\n",
       "      width=\"17.0mm\" height=\"24.0mm\"\n",
       "      fill=\"#D85E31\" stroke=\"none\" />\n",
       "</svg>"
      ],
      "text/plain": [
       "ColorScheme(RGB{Float64}[RGB{Float64}(0.165698,0.282261,0.936187), RGB{Float64}(0.358007,0.574105,0.948836), RGB{Float64}(0.546319,0.783703,0.966583), RGB{Float64}(0.713848,0.924666,0.981842), RGB{Float64}(0.866087,0.99559,0.992172), RGB{Float64}(0.997223,0.994827,0.825925), RGB{Float64}(0.981765,0.945724,0.654917), RGB{Float64}(0.943297,0.818753,0.479667), RGB{Float64}(0.894942,0.622553,0.310567), RGB{Float64}(0.845274,0.369528,0.19115)], \"general\", \"\")"
      ]
     },
     "execution_count": 17,
     "metadata": {},
     "output_type": "execute_result"
    }
   ],
   "source": [
    "ColorSchemes.lighttemperaturemap"
   ]
  },
  {
   "cell_type": "code",
   "execution_count": 18,
   "metadata": {},
   "outputs": [
    {
     "data": {
      "image/svg+xml": [
       "<?xml version=\"1.0\" encoding=\"UTF-8\"?>\n",
       "<!DOCTYPE svg PUBLIC \"-//W3C//DTD SVG 1.1//EN\"\n",
       " \"http://www.w3.org/Graphics/SVG/1.1/DTD/svg11.dtd\">\n",
       "<svg xmlns=\"http://www.w3.org/2000/svg\" version=\"1.1\"\n",
       "     width=\"180.0mm\" height=\"25.0mm\"\n",
       "     shape-rendering=\"crispEdges\">\n",
       "<rect x=\"0.0mm\" y=\"0.0mm\"\n",
       "      width=\"19.0mm\" height=\"24.0mm\"\n",
       "      fill=\"#4575B4\" stroke=\"none\" />\n",
       "<rect x=\"20.0mm\" y=\"0.0mm\"\n",
       "      width=\"19.0mm\" height=\"24.0mm\"\n",
       "      fill=\"#74ADD1\" stroke=\"none\" />\n",
       "<rect x=\"40.0mm\" y=\"0.0mm\"\n",
       "      width=\"19.0mm\" height=\"24.0mm\"\n",
       "      fill=\"#ABD9E9\" stroke=\"none\" />\n",
       "<rect x=\"60.0mm\" y=\"0.0mm\"\n",
       "      width=\"19.0mm\" height=\"24.0mm\"\n",
       "      fill=\"#E0F3F8\" stroke=\"none\" />\n",
       "<rect x=\"80.0mm\" y=\"0.0mm\"\n",
       "      width=\"19.0mm\" height=\"24.0mm\"\n",
       "      fill=\"#FFFFBF\" stroke=\"none\" />\n",
       "<rect x=\"100.0mm\" y=\"0.0mm\"\n",
       "      width=\"19.0mm\" height=\"24.0mm\"\n",
       "      fill=\"#FEE090\" stroke=\"none\" />\n",
       "<rect x=\"120.0mm\" y=\"0.0mm\"\n",
       "      width=\"19.0mm\" height=\"24.0mm\"\n",
       "      fill=\"#FDAE61\" stroke=\"none\" />\n",
       "<rect x=\"140.0mm\" y=\"0.0mm\"\n",
       "      width=\"19.0mm\" height=\"24.0mm\"\n",
       "      fill=\"#F46D43\" stroke=\"none\" />\n",
       "<rect x=\"160.0mm\" y=\"0.0mm\"\n",
       "      width=\"19.0mm\" height=\"24.0mm\"\n",
       "      fill=\"#D73027\" stroke=\"none\" />\n",
       "</svg>"
      ],
      "text/plain": [
       "ColorScheme(RGB{Float64}[RGB{Float64}(0.271,0.459,0.706), RGB{Float64}(0.455,0.678,0.82), RGB{Float64}(0.671,0.851,0.914), RGB{Float64}(0.878,0.953,0.973), RGB{Float64}(1.0,1.0,0.749), RGB{Float64}(0.996,0.878,0.565), RGB{Float64}(0.992,0.682,0.38), RGB{Float64}(0.957,0.427,0.263), RGB{Float64}(0.843,0.188,0.153)], \"colorbrewer2\", \"red through yellow to blue\")"
      ]
     },
     "execution_count": 18,
     "metadata": {},
     "output_type": "execute_result"
    }
   ],
   "source": [
    "reverse(ColorSchemes.RdYlBu_9)"
   ]
  },
  {
   "cell_type": "code",
   "execution_count": 19,
   "metadata": {},
   "outputs": [
    {
     "data": {
      "image/svg+xml": [
       "<?xml version=\"1.0\" encoding=\"UTF-8\"?>\n",
       "<!DOCTYPE svg PUBLIC \"-//W3C//DTD SVG 1.1//EN\"\n",
       " \"http://www.w3.org/Graphics/SVG/1.1/DTD/svg11.dtd\">\n",
       "<svg xmlns=\"http://www.w3.org/2000/svg\" version=\"1.1\"\n",
       "     width=\"180.0mm\" height=\"25.0mm\"\n",
       "     shape-rendering=\"crispEdges\">\n",
       "<rect x=\"0.0mm\" y=\"0.0mm\"\n",
       "      width=\"9.588235294117647mm\" height=\"24.0mm\"\n",
       "      fill=\"#DB2122\" stroke=\"none\" />\n",
       "<rect x=\"10.588235294117647mm\" y=\"0.0mm\"\n",
       "      width=\"9.588235294117647mm\" height=\"24.0mm\"\n",
       "      fill=\"#E04B29\" stroke=\"none\" />\n",
       "<rect x=\"21.176470588235293mm\" y=\"0.0mm\"\n",
       "      width=\"9.588235294117647mm\" height=\"24.0mm\"\n",
       "      fill=\"#E67431\" stroke=\"none\" />\n",
       "<rect x=\"31.764705882352942mm\" y=\"0.0mm\"\n",
       "      width=\"9.588235294117647mm\" height=\"24.0mm\"\n",
       "      fill=\"#E69537\" stroke=\"none\" />\n",
       "<rect x=\"42.35294117647059mm\" y=\"0.0mm\"\n",
       "      width=\"9.588235294117647mm\" height=\"24.0mm\"\n",
       "      fill=\"#DCAB3C\" stroke=\"none\" />\n",
       "<rect x=\"52.94117647058823mm\" y=\"0.0mm\"\n",
       "      width=\"9.588235294117647mm\" height=\"24.0mm\"\n",
       "      fill=\"#CBB843\" stroke=\"none\" />\n",
       "<rect x=\"63.529411764705884mm\" y=\"0.0mm\"\n",
       "      width=\"9.588235294117647mm\" height=\"24.0mm\"\n",
       "      fill=\"#B4BD4C\" stroke=\"none\" />\n",
       "<rect x=\"74.11764705882352mm\" y=\"0.0mm\"\n",
       "      width=\"9.588235294117647mm\" height=\"24.0mm\"\n",
       "      fill=\"#9BBE5B\" stroke=\"none\" />\n",
       "<rect x=\"84.70588235294117mm\" y=\"0.0mm\"\n",
       "      width=\"9.588235294117647mm\" height=\"24.0mm\"\n",
       "      fill=\"#83BA70\" stroke=\"none\" />\n",
       "<rect x=\"95.29411764705883mm\" y=\"0.0mm\"\n",
       "      width=\"9.588235294117647mm\" height=\"24.0mm\"\n",
       "      fill=\"#6EB38A\" stroke=\"none\" />\n",
       "<rect x=\"105.88235294117646mm\" y=\"0.0mm\"\n",
       "      width=\"9.588235294117647mm\" height=\"24.0mm\"\n",
       "      fill=\"#5CA7A5\" stroke=\"none\" />\n",
       "<rect x=\"116.47058823529412mm\" y=\"0.0mm\"\n",
       "      width=\"9.588235294117647mm\" height=\"24.0mm\"\n",
       "      fill=\"#4E95BD\" stroke=\"none\" />\n",
       "<rect x=\"127.05882352941177mm\" y=\"0.0mm\"\n",
       "      width=\"9.588235294117647mm\" height=\"24.0mm\"\n",
       "      fill=\"#447CCD\" stroke=\"none\" />\n",
       "<rect x=\"137.64705882352942mm\" y=\"0.0mm\"\n",
       "      width=\"9.588235294117647mm\" height=\"24.0mm\"\n",
       "      fill=\"#3E5CD0\" stroke=\"none\" />\n",
       "<rect x=\"148.23529411764704mm\" y=\"0.0mm\"\n",
       "      width=\"9.588235294117647mm\" height=\"24.0mm\"\n",
       "      fill=\"#4039C4\" stroke=\"none\" />\n",
       "<rect x=\"158.8235294117647mm\" y=\"0.0mm\"\n",
       "      width=\"9.588235294117647mm\" height=\"24.0mm\"\n",
       "      fill=\"#4F1EA9\" stroke=\"none\" />\n",
       "<rect x=\"169.41176470588235mm\" y=\"0.0mm\"\n",
       "      width=\"9.588235294117647mm\" height=\"24.0mm\"\n",
       "      fill=\"#781C86\" stroke=\"none\" />\n",
       "</svg>"
      ],
      "text/plain": [
       "ColorScheme(RGB{Float64}[RGB{Float64}(0.857359,0.131106,0.132128), RGB{Float64}(0.878107,0.293208,0.160481), RGB{Float64}(0.902853,0.453964,0.192014), RGB{Float64}(0.901014,0.582826,0.216542), RGB{Float64}(0.863512,0.670771,0.236564), RGB{Float64}(0.794549,0.721158,0.260829), RGB{Float64}(0.705038,0.742591,0.299167), RGB{Float64}(0.607651,0.743718,0.358588), RGB{Float64}(0.513417,0.72992,0.440682), RGB{Float64}(0.429842,0.701849,0.540321), RGB{Float64}(0.36048,0.655759,0.645692), RGB{Float64}(0.305919,0.585575,0.739666), RGB{Float64}(0.266122,0.486664,0.802529), RGB{Float64}(0.24408,0.361242,0.816084), RGB{Float64}(0.250728,0.225386,0.769152), RGB{Float64}(0.31106,0.11758,0.664469), RGB{Float64}(0.471412,0.108766,0.527016)], \"general\", \"\")"
      ]
     },
     "execution_count": 19,
     "metadata": {},
     "output_type": "execute_result"
    }
   ],
   "source": [
    "reverse(ColorSchemes.rainbow)"
   ]
  },
  {
   "cell_type": "code",
   "execution_count": null,
   "metadata": {},
   "outputs": [],
   "source": []
  },
  {
   "cell_type": "code",
   "execution_count": 20,
   "metadata": {},
   "outputs": [
    {
     "data": {
      "image/png": "[encoded data removed]"
     },
     "execution_count": 20,
     "metadata": {},
     "output_type": "execute_result"
    },
    {
     "name": "stderr",
     "output_type": "stream",
     "text": [
      "sys:1: UserWarning: The following kwargs were not used by contour: 'label'\n",
      "findfont: Font family ['CMU Serif'] not found. Falling back to DejaVu Sans.\n",
      "findfont: Font family ['CMU Serif'] not found. Falling back to DejaVu Sans.\n",
      "findfont: Font family ['CMU Serif'] not found. Falling back to DejaVu Sans.\n"
     ]
    }
   ],
   "source": [
    "sch = ColorSchemes.RdYlBu_9.colors\n",
    "let s = [-0.5config.L*cos(θ) for θ in range(0.0, stop = π, length = config.N)][pressure_taps],\n",
    "    #model_pressures = hcat((measure_state(mean(states[i+1]), t, config, pressure_taps) for (i,t) in enumerate(T))...),\n",
    "    cfd_pressures = 2hcat((cfd_pressure(t, pressure_taps, config, pressure_data) for t in T)...)\n",
    "        \n",
    "    plt = plot(size = (800, 400))\n",
    "    contourf!(T, s, cfd_pressures, title = [\"\\$\\\\mathrm{Re} = 500\\$ CFD\" \"EnKF Mean\"],\n",
    "        levels = range(-4.0, stop = 1, length = 161), clims = (-4, 1), color = cgrad(sch), xlabel = \"Convective Time\",\n",
    "        #levels = linspace(-2, 2, 151), clims = (-2, 0.5), color = cgrad(reverse(colormap(:rainbow))), xlabel = [\"Convective Time\"],\n",
    "        yticks = ([0.5, -0.5], [\"LE\", \"TE\"]), background_color_inside = sch[1],colorbar_title=\"Pressure\")\n",
    "        #yticks = ([0.5, -0.5], [\"LE\", \"TE\"]), background_color_inside = colormap(:rainbow)[end], colorbar_title=\"Pressure\")\n",
    "    contour!(T, s, cfd_pressures,levels=0:0,seriescolor=:black)\n",
    "end\n",
    "# savefig(\"test1.pdf\")\n",
    "# savefig(\"EnKF\\ Results/Re500/2pulse01/no_inflation/pressure_comparison.pdf\")"
   ]
  },
  {
   "cell_type": "markdown",
   "metadata": {},
   "source": [
    "## Model Formulation"
   ]
  },
  {
   "cell_type": "markdown",
   "metadata": {},
   "source": [
    "We have a flat plate that is translating at a fixed angle of attack and velocity.\n",
    "We also use a constant blob radius on all of our vortex elements"
   ]
  },
  {
   "cell_type": "code",
   "execution_count": 21,
   "metadata": {},
   "outputs": [],
   "source": [
    "struct Config\n",
    "    N::Int\n",
    "    L::Float64\n",
    "    ċ::ComplexF64\n",
    "    α::Float64\n",
    "    δ::Float64\n",
    "    Δt::Float64\n",
    "    transfer::Bool\n",
    "end"
   ]
  },
  {
   "cell_type": "code",
   "execution_count": 22,
   "metadata": {},
   "outputs": [
    {
     "data": {
      "text/plain": [
       "regen_forces (generic function with 1 method)"
      ]
     },
     "execution_count": 22,
     "metadata": {},
     "output_type": "execute_result"
    }
   ],
   "source": [
    "include(\"/media/mat/HDD/VortexModels/SparseVortex/Jupyter notebooks/merging_model.jl\")"
   ]
  },
  {
   "cell_type": "markdown",
   "metadata": {},
   "source": [
    "#### Define propagation function f with merging"
   ]
  },
  {
   "cell_type": "code",
   "execution_count": 23,
   "metadata": {},
   "outputs": [],
   "source": [
    "function (::PropagationFunction)(t::Float64, ENS::EnsembleState{N, TS}) where {N, TS}\n",
    "\n",
    "    empty_inds = Vector{Int}[]\n",
    "    len = Int[]\n",
    "    ensnew = []\n",
    "    # predicted_states (with merging)\n",
    "    states = deepcopy(ENS.S)\n",
    "    for (i, state) in enumerate(states)\n",
    "        new_state = state_equation(state, t, config)\n",
    "        new_blobs, lesp, tesp = state_to_blobs(new_state, config.δ)\n",
    "        push!(empty_inds, findall(b -> circulation(b) == 0, new_blobs))\n",
    "        push!(len, length(new_blobs))\n",
    "        push!(ensnew, new_state)\n",
    "    end\n",
    "  \n",
    "    # trim zeros\n",
    "    @assert all(len .== len[1])\n",
    "    toremove = intersect(empty_inds...)\n",
    "    tokeep = filter(i -> i ∉ toremove, 1:len[1])\n",
    "    for (i, state) in enumerate(ensnew)\n",
    "        new_blobs, lesp, tesp = state_to_blobs(state, config.δ)\n",
    "        ensnew[i] = blobs_to_state(new_blobs[tokeep], lesp, tesp)\n",
    "    end\n",
    "\n",
    "    # Wrap into an EnsembleState variable\n",
    "    ENS.S .= deepcopy(ensnew)\n",
    " \n",
    "    return ENS\n",
    "    #################### OLD VERSION #####################################\n",
    "#         # predicted_states (with merging)\n",
    "#     for (i, state) in enumerate(states[end-1])\n",
    "#         new_state = state_equation(state, t, config)\n",
    "#         new_blobs, lesp, tesp = state_to_blobs(new_state, config.δ)\n",
    "#         push!(empty_inds, findall(b -> circulation(b) == 0, new_blobs))\n",
    "#         push!(len, length(new_blobs))\n",
    "#         push!(states[end], new_state)\n",
    "#     end\n",
    "    \n",
    "#     # trim zeros\n",
    "#     @assert all(len .== len[1])\n",
    "#     toremove = intersect(empty_inds...)\n",
    "#     tokeep = filter(i -> i ∉ toremove, 1:len[1])\n",
    "#     for (i, state) in enumerate(states[end])\n",
    "#         new_blobs, lesp, tesp = state_to_blobs(state, config.δ)\n",
    "#         states[end][i] = blobs_to_state(new_blobs[tokeep], lesp, tesp)\n",
    "#     end\n",
    "# end\n",
    "    \n",
    "end"
   ]
  },
  {
   "cell_type": "code",
   "execution_count": 24,
   "metadata": {},
   "outputs": [
    {
     "data": {
      "text/plain": [
       "PropagationFunction()"
      ]
     },
     "execution_count": 24,
     "metadata": {},
     "output_type": "execute_result"
    }
   ],
   "source": [
    "fprop = PropagationFunction()"
   ]
  },
  {
   "cell_type": "code",
   "execution_count": 25,
   "metadata": {},
   "outputs": [],
   "source": [
    "# @time f(0.0, ens)"
   ]
  },
  {
   "cell_type": "code",
   "execution_count": 26,
   "metadata": {
    "scrolled": false
   },
   "outputs": [],
   "source": [
    "# @time size(ens)"
   ]
  },
  {
   "cell_type": "markdown",
   "metadata": {},
   "source": [
    "#### Define measurement function m "
   ]
  },
  {
   "cell_type": "code",
   "execution_count": 27,
   "metadata": {},
   "outputs": [],
   "source": [
    "function (::MeasurementFunction)(t::Float64, s::TS) where TS\n",
    "    return measure_state(s, t, config, pressure_taps)\n",
    "end"
   ]
  },
  {
   "cell_type": "code",
   "execution_count": 28,
   "metadata": {},
   "outputs": [
    {
     "data": {
      "text/plain": [
       "MeasurementFunction()"
      ]
     },
     "execution_count": 28,
     "metadata": {},
     "output_type": "execute_result"
    }
   ],
   "source": [
    "m = MeasurementFunction()"
   ]
  },
  {
   "cell_type": "markdown",
   "metadata": {},
   "source": [
    "#### Define real measurement function z"
   ]
  },
  {
   "cell_type": "code",
   "execution_count": 29,
   "metadata": {},
   "outputs": [],
   "source": [
    "function (::RealMeasurementFunction)(t::Float64, ENS::EnsembleState{N, TZ}) where {N, TZ}\n",
    "    \n",
    "    real_meas = cfd_pressure(t, pressure_taps, config, pressure_data)\n",
    "    \n",
    "    fill!(ENS, real_meas)\n",
    "    \n",
    "    return ENS\n",
    "end"
   ]
  },
  {
   "cell_type": "code",
   "execution_count": 30,
   "metadata": {},
   "outputs": [
    {
     "data": {
      "text/plain": [
       "RealMeasurementFunction()"
      ]
     },
     "execution_count": 30,
     "metadata": {},
     "output_type": "execute_result"
    }
   ],
   "source": [
    "z = RealMeasurementFunction()"
   ]
  },
  {
   "cell_type": "code",
   "execution_count": 31,
   "metadata": {},
   "outputs": [
    {
     "data": {
      "text/plain": [
       "Config(512, 1.0, 1.0 + 0.0im, 0.3490658503988659, 0.005, 0.01, true)"
      ]
     },
     "execution_count": 31,
     "metadata": {},
     "output_type": "execute_result"
    }
   ],
   "source": [
    "config"
   ]
  },
  {
   "cell_type": "markdown",
   "metadata": {},
   "source": [
    "#### Covariance inflation"
   ]
  },
  {
   "cell_type": "code",
   "execution_count": 32,
   "metadata": {},
   "outputs": [
    {
     "data": {
      "text/plain": [
       "1.01"
      ]
     },
     "execution_count": 32,
     "metadata": {},
     "output_type": "execute_result"
    }
   ],
   "source": [
    "β = 1.01"
   ]
  },
  {
   "cell_type": "code",
   "execution_count": 33,
   "metadata": {},
   "outputs": [
    {
     "data": {
      "text/plain": [
       "additive (generic function with 1 method)"
      ]
     },
     "execution_count": 33,
     "metadata": {},
     "output_type": "execute_result"
    }
   ],
   "source": [
    "function additive(NS, αp, αΓ, αlesp, αtesp)\n",
    "    V = zeros(NS)\n",
    "    \n",
    "     if NS > 5\n",
    "        for i in 1:3:NS-3\n",
    "            V[i:i+1] = [αp, αp]\n",
    "            V[i+2]   = αΓ\n",
    "        end\n",
    "\n",
    "        # Covariance for LESP\n",
    "        V[end-1] = αlesp\n",
    "\n",
    "        # Covariance for TESP\n",
    "         V[end] = αtesp\n",
    "    end\n",
    "    \n",
    "    return V\n",
    "end"
   ]
  },
  {
   "cell_type": "code",
   "execution_count": 34,
   "metadata": {},
   "outputs": [],
   "source": [
    "# function (RI::RecipeInflation)(ENS::EnsembleState{N, TS}) where {N, TS}\n",
    "#     # unwrap parameters\n",
    "#     αp, αΓ, αlesp, αtesp, β = RI.p\n",
    "    \n",
    "#     # get size of a member\n",
    "#     NS = size(ENS.S[1])[1]\n",
    "    \n",
    "#     # construct inflation distribution\n",
    "#     A  = MultiAdditiveInflation(NS, β, MvNormal(zeros(NS),\n",
    "#         additive(NS, αp, αΓ, αlesp, αtesp)))\n",
    "    \n",
    "#     return A(ENS)\n",
    "# end"
   ]
  },
  {
   "cell_type": "code",
   "execution_count": 35,
   "metadata": {},
   "outputs": [],
   "source": [
    "function (RI::RecipeInflation)(ENS::EnsembleState{N, TS}) where {N, TS}\n",
    "    # unwrap parameters\n",
    "    αp, αΓ, αlesp, αtesp, β, n = RI.p\n",
    "    \n",
    "    n = ceil(Int, n)\n",
    "    \n",
    "    # get size of a member\n",
    "    NS = size(ENS.S[1])[1]\n",
    "    \n",
    "    Ŝ = mean(deepcopy(ENS))\n",
    "     \n",
    "    # Covariance inflation\n",
    "    for (_,s) in enumerate(ENS.S)\n",
    "        s .= Ŝ .+ β*(s .- Ŝ)\n",
    "        # don't perturb the state at the 4 first time steps\n",
    "        if n > 5\n",
    "        for i in 1:3:size(Ŝ, 1)-3\n",
    "            s[i:i+1] += αp*randn(2)\n",
    "            s[i+2]   += αΓ*randn()\n",
    "        end\n",
    "            s[end-1] = s[end-1] + αlesp*randn()\n",
    "            s[end] = s[end] + αtesp*randn()\n",
    "        end\n",
    "    end\n",
    "    \n",
    "    return ENS\n",
    "end"
   ]
  },
  {
   "cell_type": "code",
   "execution_count": 36,
   "metadata": {},
   "outputs": [
    {
     "data": {
      "text/plain": [
       "RecipeInflation(Real[1.0e-5, 1.0e-5, 5.0e-5, 0.0, 1.01, 0.0])"
      ]
     },
     "execution_count": 36,
     "metadata": {},
     "output_type": "execute_result"
    }
   ],
   "source": [
    "ri = RecipeInflation([1e-5,1e-5, 5e-5,0.0, β, 0])"
   ]
  },
  {
   "cell_type": "code",
   "execution_count": null,
   "metadata": {},
   "outputs": [],
   "source": []
  },
  {
   "cell_type": "code",
   "execution_count": 37,
   "metadata": {},
   "outputs": [],
   "source": [
    "function (::FilteringFunction)(ENS::EnsembleState{N, TS}) where {N, TS}\n",
    "    \n",
    "    for s in ENS.S\n",
    "        clamp(s[end-1],0.0,3.0)\n",
    "    end\n",
    "    return ENS\n",
    "end"
   ]
  },
  {
   "cell_type": "code",
   "execution_count": 38,
   "metadata": {},
   "outputs": [
    {
     "data": {
      "text/plain": [
       "FilteringFunction()"
      ]
     },
     "execution_count": 38,
     "metadata": {},
     "output_type": "execute_result"
    }
   ],
   "source": [
    "g = FilteringFunction()"
   ]
  },
  {
   "cell_type": "markdown",
   "metadata": {},
   "source": [
    "#### Initialize config"
   ]
  },
  {
   "cell_type": "code",
   "execution_count": 39,
   "metadata": {},
   "outputs": [
    {
     "data": {
      "text/plain": [
       "Config(512, 1.0, 1.0 + 0.0im, 0.3490658503988659, 0.005, 0.01, true)"
      ]
     },
     "execution_count": 39,
     "metadata": {},
     "output_type": "execute_result"
    }
   ],
   "source": [
    "config = let N = 512, L = 1.0, ċ = 1.0,\n",
    "             α = π/9, δ = 5e-3, Δt = 1e-2\n",
    "\n",
    "    Config(N, L, ċ, α, δ, Δt, true)\n",
    "end"
   ]
  },
  {
   "cell_type": "code",
   "execution_count": 40,
   "metadata": {},
   "outputs": [
    {
     "data": {
      "text/plain": [
       "0.0:0.01:5.0"
      ]
     },
     "execution_count": 40,
     "metadata": {},
     "output_type": "execute_result"
    }
   ],
   "source": [
    "N = 50 #50\n",
    "NZ = 50\n",
    "isinflated = true\n",
    "isfiltered = true\n",
    "isaugmented = true\n",
    "\n",
    "tf = 5.0\n",
    "pressure_taps = 10:10:config.N-10\n",
    "T = 0:config.Δt:tf"
   ]
  },
  {
   "cell_type": "code",
   "execution_count": 41,
   "metadata": {},
   "outputs": [
    {
     "data": {
      "text/plain": [
       "AdditiveInflation{50}(IsoNormal(\n",
       "dim: 50\n",
       "μ: [0.0, 0.0, 0.0, 0.0, 0.0, 0.0, 0.0, 0.0, 0.0, 0.0  …  0.0, 0.0, 0.0, 0.0, 0.0, 0.0, 0.0, 0.0, 0.0, 0.0]\n",
       "Σ: [1.0e-8 0.0 … 0.0 0.0; 0.0 1.0e-8 … 0.0 0.0; … ; 0.0 0.0 … 1.0e-8 0.0; 0.0 0.0 … 0.0 1.0e-8]\n",
       ")\n",
       ")"
      ]
     },
     "execution_count": 41,
     "metadata": {},
     "output_type": "execute_result"
    }
   ],
   "source": [
    "ϵ = AdditiveInflation(MvNormal(zeros(NZ), 1.0*10^-4*I))"
   ]
  },
  {
   "cell_type": "markdown",
   "metadata": {},
   "source": [
    "#### Distribution perturbation initial state"
   ]
  },
  {
   "cell_type": "code",
   "execution_count": 49,
   "metadata": {},
   "outputs": [
    {
     "data": {
      "text/plain": [
       "0.0001"
      ]
     },
     "execution_count": 49,
     "metadata": {},
     "output_type": "execute_result"
    }
   ],
   "source": [
    "lesp₀ = 0.5 #0.5\n",
    "tesp₀ = 0.0\n",
    "lesprand = 0.1 #0.1\n",
    "Distx₀ = TupleProduct((TruncatedNormal(lesp₀, lesprand, 0.0, 3.0),\n",
    "            Normal(tesp₀, 0.0)))\n",
    "ens = initialize(N, Distx₀)\n",
    "\n",
    "states = [deepcopy(ens.S)]#[map((a,b) -> [a, b], lesps, tesps)];\n",
    "\n",
    "covs = [];\n",
    "\n",
    "η = 1e-4"
   ]
  },
  {
   "cell_type": "code",
   "execution_count": 50,
   "metadata": {},
   "outputs": [],
   "source": [
    "enkf = ENKF(N, NZ, fprop, ri, g, m, z, ϵ; isenkf = true, isinflated = isinflated, isfiltered = isfiltered,\n",
    "    isaugmented = isaugmented);"
   ]
  },
  {
   "cell_type": "code",
   "execution_count": 51,
   "metadata": {
    "scrolled": true
   },
   "outputs": [
    {
     "name": "stderr",
     "output_type": "stream",
     "text": [
      "\u001b[32mProgress: 100%|█████████████████████████████████████████| Time: 0:01:30\u001b[39m\n"
     ]
    }
   ],
   "source": [
    "tf = 5.0\n",
    "pressure_taps = 10:10:config.N-10\n",
    "T = 0:config.Δt:tf\n",
    "η = 1e-4\n",
    "α = 1.01\n",
    "isenkf = true\n",
    "\n",
    "@showprogress for (n,t) in enumerate(T)\n",
    "    \n",
    "    push!(states, [])\n",
    "    global ens\n",
    "#     global states\n",
    "##########################################################################\n",
    "    \"Propagate each ensemble member\"\n",
    "#     ens = EnsembleState(deepcopy(states[end]))\n",
    "    enkf.f(t, ens)\n",
    "\n",
    "    \n",
    "    \n",
    "    \n",
    "#     push!(states, [])\n",
    "#     empty_inds = Vector{Int}[]\n",
    "#     len = Int[]\n",
    "    \n",
    "#     # predicted_states (with merging)\n",
    "#     for (i, state) in enumerate(states[end-1])\n",
    "#         new_state = state_equation(state, t, config)\n",
    "#         new_blobs, lesp, tesp = state_to_blobs(new_state, config.δ)\n",
    "#         push!(empty_inds, findall(b -> circulation(b) == 0, new_blobs))\n",
    "#         push!(len, length(new_blobs))\n",
    "#         push!(states[end], new_state)\n",
    "#     end\n",
    "    \n",
    "#     # trim zeros\n",
    "#     @assert all(len .== len[1])\n",
    "#     toremove = intersect(empty_inds...)\n",
    "#     tokeep = filter(i -> i ∉ toremove, 1:len[1])\n",
    "#     for (i, state) in enumerate(states[end])\n",
    "#         new_blobs, lesp, tesp = state_to_blobs(state, config.δ)\n",
    "#         states[end][i] = blobs_to_state(new_blobs[tokeep], lesp, tesp)\n",
    "#     end\n",
    "    \n",
    "\n",
    "\n",
    "##########################################################################\n",
    "    \"Covariance inflation if 'isinflated==true' \"\n",
    "    \n",
    "#     ens = EnsembleState(deepcopy(states[end]))\n",
    "    \n",
    "    ri.p[6] = deepcopy(n)\n",
    "    \n",
    "    if enkf.isinflated ==true\n",
    "        enkf.A(ens)\n",
    "    end\n",
    "    \n",
    "    \"State filtering if 'isfiltered==true' \"\n",
    "    if enkf.isfiltered ==true\n",
    "        enkf.G(ens)\n",
    "    end\n",
    "    \n",
    "#     states[end] = deepcopy(ens.S)\n",
    "    \n",
    "    \n",
    "#     mean_state = mean(states[end])\n",
    "    \n",
    "#     # Covariance inflation\n",
    "#     for (j,x) in enumerate(states[end])\n",
    "#         x .= mean_state .+ 1.01*(x .- mean_state)\n",
    "#         if n > 5\n",
    "#         for i in 1:3:size(mean_state, 1)-3\n",
    "#             x[i:i+1] += 1e-5*randn(2)\n",
    "#             x[i+2]   += 1e-5*randn()\n",
    "#         end\n",
    "#                 x[end-1] = clamp(x[end-1] + 5e-5*randn(), 0.0, 3.0)\n",
    "#         end\n",
    "#     end\n",
    "    \n",
    "###########################################################################\n",
    "    \"Compute mean and deviation\"\n",
    "#     ens = EnsembleState(deepcopy(states[end]))\n",
    "#     ensbis = deepcopy(ens)\n",
    "\n",
    "    ensfluc = EnsembleState(N, ens.S[1])\n",
    "\n",
    "    deviation(ensfluc, ens)\n",
    "    \n",
    "#     println(norm(ens.S - ensbis.S))\n",
    "\n",
    "    A′ = hcat(ensfluc)\n",
    "    \n",
    "    # Compute deviation from mean state\n",
    "\n",
    "    \n",
    "#     mean_state .= mean(ens)\n",
    "    \n",
    "#     mean_state .= mean(states[end])\n",
    "#     A′ = hcat(states[end]...)\n",
    "#     A′ .-= mean_state\n",
    "    \n",
    "#     println(norm(A′ - A′temp))\n",
    "\n",
    "\n",
    "##########################################################################    \n",
    "    \"Compute measurement\"\n",
    "    \n",
    "    mens = EnsembleState(N, zeros(NZ))\n",
    "    \n",
    "#     ens = EnsembleState(deepcopy(states[end]))\n",
    "    \n",
    "    for (i, s) in enumerate(ens.S)\n",
    "        mens.S[i] .= enkf.m(t, deepcopy(s))\n",
    "    end\n",
    "    \n",
    "    \n",
    "    # compute measurements\n",
    "#     P = [measure_state(s, t, config, pressure_taps) for s in states[end]]\n",
    "    \n",
    "#     println(norm(hcat(deepcopy(mens)) - hcat(P...)))\n",
    "    \n",
    "###########################################################################    \n",
    "    Â = hcat(deepcopy(mens))\n",
    "#     # println(\"good measurement\")\n",
    "\n",
    "    \"Compute deviation from measurement of the mean\"\n",
    "    \n",
    "    Ŝ = mean(deepcopy(ens))\n",
    "    Â′  = Â .- enkf.m(t, Ŝ)\n",
    "    \n",
    "    # compute deviation from measurement of the mean\n",
    "#     Â = hcat(P...)\n",
    "#     Â′= Â .- measure_state(mean_state, t, config, pressure_taps)\n",
    "\n",
    "#     println(norm(Â′ - Âtemp′))\n",
    "##########################################################################    \n",
    "    \"Get actual measurement\"\n",
    "    zens = EnsembleState(N, zeros(NZ))\n",
    "    enkf.z(t+config.Δt, zens)\n",
    "# Dtemp = hcat(zens)    \n",
    "    \n",
    "#     # get actual measurements\n",
    "# D = repeat(cfd_pressure(t+config.Δt, pressure_taps, config, pressure_data), 1, ensemble_size)\n",
    "\n",
    "# print(norm(D-Dtemp))\n",
    "    \n",
    "##########################################################################    \n",
    "    \"Perturb actual measurement\"\n",
    "    enkf.ϵ(zens)\n",
    "\n",
    "    D = hcat(zens)\n",
    "    \n",
    "    \n",
    "#     # perturbe actual measurements\n",
    "#     E = η*randn(size(Â′))\n",
    "#     D .+= E\n",
    "    \n",
    "    \n",
    "\n",
    "##########################################################################\n",
    "    \"Analysis step with representers, Evensen, Leeuwen et al. 1998\"\n",
    "\n",
    "#     if enkf.isaugmented ==true\n",
    "#     \"Construct representers\"\n",
    "\n",
    "    b = ((Â′*Â′') + (N-1)*(cov(enkf.ϵ))*I) \\ (D - Â)\n",
    "#     println(norm())\n",
    "\n",
    "    Bᵀb = (A′*Â′')*b\n",
    "    \n",
    "#     b = ((Â′*Â′') + (ensemble_size-1)*(η^2)*I) \\ (D - Â)\n",
    "#     Bᵀb = (A′*Â′')*b\n",
    "    \n",
    "#     println(norm(Bᵀbtemp-Bᵀb))\n",
    "    \n",
    "    \n",
    "    # print(size(Bᵀb))\n",
    "    # print(size(ens))\n",
    "    \n",
    "    \n",
    "###########################################################################\n",
    "    \"Analysis step\"\n",
    "    \n",
    "#     ens = EnsembleState(deepcopy(states[end]))\n",
    "    ens += cut(Bᵀb)\n",
    "\n",
    "\n",
    "    \"State filtering if 'isfiltered==true' \"\n",
    "    if enkf.isfiltered ==true\n",
    "        enkf.G(ens)\n",
    "    end\n",
    "    \n",
    "    \n",
    "    states[end] = deepcopy(ens.S)\n",
    "    \n",
    "#     for i in 1:ensemble_size\n",
    "#         states[end][i] .+= Bᵀb[:,i]\n",
    "#         states[end][i][end-1] = clamp(states[end][i][end-1], 0, 3)\n",
    "#     end\n",
    "    \n",
    "#     mean_state .= mean(states[end])\n",
    "    \n",
    "#     println(norm(mean_state - mean(deepcopy(ens))))\n",
    "\n",
    "#     end\n",
    "\n",
    "#     return t+Δt, ens\n",
    "#     push!(ttab, t + config.Δt)\n",
    "#     push!(enstab, deepcopy(states))\n",
    "end"
   ]
  },
  {
   "cell_type": "code",
   "execution_count": 52,
   "metadata": {},
   "outputs": [
    {
     "data": {
      "image/png": "[encoded data removed]"
     },
     "execution_count": 52,
     "metadata": {},
     "output_type": "execute_result"
    }
   ],
   "source": [
    "f = regen_forces(T, mean.(states), config);\n",
    "plot(re500_data[\"force\"][\"t\"], abs.(re500_data[\"force\"][\"F\"]), label = \"\\$\\\\mathrm{Re} = 500\\$ CFD\", xlim = (0,5),\n",
    "legend = false, linewidth = 2)\n",
    "plot!(T, 2abs.(f)[1:end-1], ylim = (0, 3), label = \"EnKF Mean\", ylabel=\"\\$F_n\\$\", xlabel = \"Convective Time\", size = (600, 300),\n",
    "linewidth = 2, linestyle = :dash)\n",
    "# savefig(\"EnKF\\ Results/Re500/2pulse01/no_inflation/force.pdf\")"
   ]
  },
  {
   "cell_type": "code",
   "execution_count": 215,
   "metadata": {},
   "outputs": [
    {
     "data": {
      "image/png": "[encoded data removed]"
     },
     "execution_count": 215,
     "metadata": {},
     "output_type": "execute_result"
    }
   ],
   "source": [
    "f = regen_forces(T, mean.(states), config);\n",
    "plot(re500_data[\"force\"][\"t\"], abs.(re500_data[\"force\"][\"F\"]), label = \"\\$\\\\mathrm{Re} = 500\\$ CFD\", xlim = (0,5),\n",
    "legend = false, linewidth = 2)\n",
    "plot!(T, 2abs.(f)[1:end-1], ylim = (0, 3), label = \"EnKF Mean\", ylabel=\"\\$F_n\\$\", xlabel = \"Convective Time\", size = (600, 300),\n",
    "linewidth = 2, linestyle = :dash)\n",
    "# savefig(\"EnKF\\ Results/Re500/2pulse01/no_inflation/force.pdf\")"
   ]
  },
  {
   "cell_type": "code",
   "execution_count": 135,
   "metadata": {},
   "outputs": [
    {
     "name": "stderr",
     "output_type": "stream",
     "text": [
      "\u001b[32mProgress: 100%|█████████████████████████████████████████| Time: 0:01:21\u001b[39m\n"
     ]
    }
   ],
   "source": [
    "@showprogress for (n,t) in enumerate(T)\n",
    "    ri.p[6] = deepcopy(n)\n",
    "    global ens\n",
    "    t, ens = enkf(t, config.Δt, ens)\n",
    "    \n",
    "    push!(states, deepcopy(ens.S))\n",
    "    # push!(enstab, ens.S)\n",
    "    # push!(ttab, deepcopy(t))\n",
    "end"
   ]
  },
  {
   "cell_type": "code",
   "execution_count": 137,
   "metadata": {},
   "outputs": [
    {
     "data": {
      "image/png": "[encoded data removed]"
     },
     "execution_count": 137,
     "metadata": {},
     "output_type": "execute_result"
    },
    {
     "name": "stderr",
     "output_type": "stream",
     "text": [
      "\u001b[91mUndefVarError: HAVE_CHOLMOD not defined\u001b[39m\n",
      "Stacktrace:\n",
      " [1] \u001b[1mstep_expr!\u001b[22m\u001b[1m(\u001b[22m::Any, ::JuliaInterpreter.Frame, ::Any, ::Bool\u001b[1m)\u001b[22m at \u001b[1m/home/mat/.julia/packages/JuliaInterpreter/VHjfX/src/interpret.jl:64\u001b[22m\n",
      " [2] \u001b[1m#methods_by_execution!#14\u001b[22m\u001b[1m(\u001b[22m::Bool, ::Bool, ::Function, ::Any, ::Revise.CodeTrackingMethodInfo, ::Dict{Module,Array{Expr,1}}, ::JuliaInterpreter.Frame\u001b[1m)\u001b[22m at \u001b[1m/home/mat/.julia/packages/Revise/agmgx/src/lowered.jl:195\u001b[22m\n",
      " [3] \u001b[1m#methods_by_execution!\u001b[22m at \u001b[1m./none:0\u001b[22m [inlined]\n",
      " [4] \u001b[1m#methods_by_execution!#9\u001b[22m\u001b[1m(\u001b[22m::Base.Iterators.Pairs{Symbol,Bool,Tuple{Symbol},NamedTuple{(:define,),Tuple{Bool}}}, ::Function, ::Any, ::Revise.CodeTrackingMethodInfo, ::Dict{Module,Array{Expr,1}}, ::Module, ::Expr\u001b[1m)\u001b[22m at \u001b[1m/home/mat/.julia/packages/Revise/agmgx/src/lowered.jl:49\u001b[22m\n",
      " [5] \u001b[1m#methods_by_execution!\u001b[22m at \u001b[1m./none:0\u001b[22m [inlined]\n",
      " [6] \u001b[1m#eval_with_signatures#59\u001b[22m\u001b[1m(\u001b[22m::Bool, ::Base.Iterators.Pairs{Union{},Union{},Tuple{},NamedTuple{(),Tuple{}}}, ::Function, ::Module, ::Expr\u001b[1m)\u001b[22m at \u001b[1m/home/mat/.julia/packages/Revise/agmgx/src/Revise.jl:344\u001b[22m\n",
      " [7] \u001b[1m#eval_with_signatures\u001b[22m at \u001b[1m/home/mat/.julia/packages/Revise/agmgx/src/Revise.jl:0\u001b[22m [inlined]\n",
      " [8] \u001b[1m#instantiate_sigs!#60\u001b[22m\u001b[1m(\u001b[22m::Bool, ::Base.Iterators.Pairs{Union{},Union{},Tuple{},NamedTuple{(),Tuple{}}}, ::Function, ::OrderedCollections.OrderedDict{Module,OrderedCollections.OrderedDict{Revise.RelocatableExpr,Union{Nothing, Array{Any,1}}}}\u001b[1m)\u001b[22m at \u001b[1m/home/mat/.julia/packages/Revise/agmgx/src/Revise.jl:352\u001b[22m\n",
      " [9] \u001b[1minstantiate_sigs!\u001b[22m at \u001b[1m/home/mat/.julia/packages/Revise/agmgx/src/Revise.jl:349\u001b[22m [inlined]\n",
      " [10] \u001b[1mmaybe_parse_from_cache!\u001b[22m\u001b[1m(\u001b[22m::Revise.PkgData, ::String\u001b[1m)\u001b[22m at \u001b[1m/home/mat/.julia/packages/Revise/agmgx/src/pkgs.jl:224\u001b[22m\n",
      " [11] \u001b[1m(::getfield(Revise, Symbol(\"##26#27\")){String})\u001b[22m\u001b[1m(\u001b[22m\u001b[1m)\u001b[22m at \u001b[1m/home/mat/.julia/packages/Revise/agmgx/src/pkgs.jl:370\u001b[22m\n",
      " [12] \u001b[1mwith_logstate\u001b[22m\u001b[1m(\u001b[22m::getfield(Revise, Symbol(\"##26#27\")){String}, ::Base.CoreLogging.LogState\u001b[1m)\u001b[22m at \u001b[1m./logging.jl:395\u001b[22m\n",
      " [13] \u001b[1mwith_logger\u001b[22m at \u001b[1m./logging.jl:491\u001b[22m [inlined]\n",
      " [14] \u001b[1mwatch_manifest\u001b[22m\u001b[1m(\u001b[22m::String\u001b[1m)\u001b[22m at \u001b[1m/home/mat/.julia/packages/Revise/agmgx/src/pkgs.jl:349\u001b[22m\n",
      " [15] \u001b[1m(::Revise.Rescheduler{typeof(Revise.watch_manifest),Tuple{String}})\u001b[22m\u001b[1m(\u001b[22m\u001b[1m)\u001b[22m at \u001b[1m/home/mat/.julia/packages/Revise/agmgx/src/types.jl:235\u001b[22m\n",
      "while evaluating\n",
      "if HAVE_CHOLMOD\n",
      "    #= /home/mat/.julia/packages/PDMats/wrX6J/src/PDMats.jl:52 =#\n",
      "    include(\"pdsparsemat.jl\")\n",
      "end\n",
      "in module Main.PDMats\n",
      "\u001b[91mUndefVarError: Lexers not defined\u001b[39m\n",
      "Stacktrace:\n",
      " [1] \u001b[1meval\u001b[22m at \u001b[1m./boot.jl:328\u001b[22m [inlined]\n",
      " [2] \u001b[1mprepare_thunk\u001b[22m\u001b[1m(\u001b[22m::Module, ::Expr, ::Bool\u001b[1m)\u001b[22m at \u001b[1m/home/mat/.julia/packages/JuliaInterpreter/VHjfX/src/construct.jl:355\u001b[22m\n",
      " [3] \u001b[1mprepare_thunk\u001b[22m\u001b[1m(\u001b[22m::Module, ::Expr, ::Bool\u001b[1m)\u001b[22m at \u001b[1m/home/mat/.julia/packages/JuliaInterpreter/VHjfX/src/construct.jl:361\u001b[22m\n",
      " [4] \u001b[1mprepare_thunk\u001b[22m at \u001b[1m/home/mat/.julia/packages/JuliaInterpreter/VHjfX/src/construct.jl:347\u001b[22m [inlined]\n",
      " [5] \u001b[1m#methods_by_execution!#9\u001b[22m\u001b[1m(\u001b[22m::Base.Iterators.Pairs{Symbol,Bool,Tuple{Symbol},NamedTuple{(:define,),Tuple{Bool}}}, ::Function, ::Any, ::Revise.CodeTrackingMethodInfo, ::Dict{Module,Array{Expr,1}}, ::Module, ::Expr\u001b[1m)\u001b[22m at \u001b[1m/home/mat/.julia/packages/Revise/agmgx/src/lowered.jl:47\u001b[22m\n",
      " [6] \u001b[1m#methods_by_execution!\u001b[22m at \u001b[1m./none:0\u001b[22m [inlined]\n",
      " [7] \u001b[1m#eval_with_signatures#59\u001b[22m\u001b[1m(\u001b[22m::Bool, ::Base.Iterators.Pairs{Union{},Union{},Tuple{},NamedTuple{(),Tuple{}}}, ::Function, ::Module, ::Expr\u001b[1m)\u001b[22m at \u001b[1m/home/mat/.julia/packages/Revise/agmgx/src/Revise.jl:344\u001b[22m\n",
      " [8] \u001b[1m#eval_with_signatures\u001b[22m at \u001b[1m/home/mat/.julia/packages/Revise/agmgx/src/Revise.jl:0\u001b[22m [inlined]\n",
      " [9] \u001b[1m#instantiate_sigs!#60\u001b[22m\u001b[1m(\u001b[22m::Bool, ::Base.Iterators.Pairs{Union{},Union{},Tuple{},NamedTuple{(),Tuple{}}}, ::Function, ::OrderedCollections.OrderedDict{Module,OrderedCollections.OrderedDict{Revise.RelocatableExpr,Union{Nothing, Array{Any,1}}}}\u001b[1m)\u001b[22m at \u001b[1m/home/mat/.julia/packages/Revise/agmgx/src/Revise.jl:352\u001b[22m\n",
      " [10] \u001b[1minstantiate_sigs!\u001b[22m at \u001b[1m/home/mat/.julia/packages/Revise/agmgx/src/Revise.jl:349\u001b[22m [inlined]\n",
      " [11] \u001b[1mmaybe_parse_from_cache!\u001b[22m\u001b[1m(\u001b[22m::Revise.PkgData, ::String\u001b[1m)\u001b[22m at \u001b[1m/home/mat/.julia/packages/Revise/agmgx/src/pkgs.jl:224\u001b[22m\n",
      " [12] \u001b[1m(::getfield(Revise, Symbol(\"##26#27\")){String})\u001b[22m\u001b[1m(\u001b[22m\u001b[1m)\u001b[22m at \u001b[1m/home/mat/.julia/packages/Revise/agmgx/src/pkgs.jl:370\u001b[22m\n",
      " [13] \u001b[1mwith_logstate\u001b[22m\u001b[1m(\u001b[22m::getfield(Revise, Symbol(\"##26#27\")){String}, ::Base.CoreLogging.LogState\u001b[1m)\u001b[22m at \u001b[1m./logging.jl:395\u001b[22m\n",
      " [14] \u001b[1mwith_logger\u001b[22m at \u001b[1m./logging.jl:491\u001b[22m [inlined]\n",
      " [15] \u001b[1mwatch_manifest\u001b[22m\u001b[1m(\u001b[22m::String\u001b[1m)\u001b[22m at \u001b[1m/home/mat/.julia/packages/Revise/agmgx/src/pkgs.jl:349\u001b[22m\n",
      " [16] \u001b[1m(::Revise.Rescheduler{typeof(Revise.watch_manifest),Tuple{String}})\u001b[22m\u001b[1m(\u001b[22m\u001b[1m)\u001b[22m at \u001b[1m/home/mat/.julia/packages/Revise/agmgx/src/types.jl:235\u001b[22m\n",
      "while evaluating\n",
      "import .Lexers: tokenize\n",
      "in module Main.Tokenize\n",
      "\u001b[91mUndefVarError: Tokens not defined\u001b[39m\n",
      "Stacktrace:\n",
      " [1] \u001b[1meval\u001b[22m at \u001b[1m./boot.jl:328\u001b[22m [inlined]\n",
      " [2] \u001b[1mprepare_thunk\u001b[22m\u001b[1m(\u001b[22m::Module, ::Expr, ::Bool\u001b[1m)\u001b[22m at \u001b[1m/home/mat/.julia/packages/JuliaInterpreter/VHjfX/src/construct.jl:355\u001b[22m\n",
      " [3] \u001b[1mprepare_thunk\u001b[22m\u001b[1m(\u001b[22m::Module, ::Expr, ::Bool\u001b[1m)\u001b[22m at \u001b[1m/home/mat/.julia/packages/JuliaInterpreter/VHjfX/src/construct.jl:361\u001b[22m\n",
      " [4] \u001b[1mprepare_thunk\u001b[22m at \u001b[1m/home/mat/.julia/packages/JuliaInterpreter/VHjfX/src/construct.jl:347\u001b[22m [inlined]\n",
      " [5] \u001b[1m#methods_by_execution!#9\u001b[22m\u001b[1m(\u001b[22m::Base.Iterators.Pairs{Symbol,Bool,Tuple{Symbol},NamedTuple{(:define,),Tuple{Bool}}}, ::Function, ::Any, ::Revise.CodeTrackingMethodInfo, ::Dict{Module,Array{Expr,1}}, ::Module, ::Expr\u001b[1m)\u001b[22m at \u001b[1m/home/mat/.julia/packages/Revise/agmgx/src/lowered.jl:47\u001b[22m\n",
      " [6] \u001b[1m#methods_by_execution!\u001b[22m at \u001b[1m./none:0\u001b[22m [inlined]\n",
      " [7] \u001b[1m#eval_with_signatures#59\u001b[22m\u001b[1m(\u001b[22m::Bool, ::Base.Iterators.Pairs{Union{},Union{},Tuple{},NamedTuple{(),Tuple{}}}, ::Function, ::Module, ::Expr\u001b[1m)\u001b[22m at \u001b[1m/home/mat/.julia/packages/Revise/agmgx/src/Revise.jl:344\u001b[22m\n",
      " [8] \u001b[1m#eval_with_signatures\u001b[22m at \u001b[1m/home/mat/.julia/packages/Revise/agmgx/src/Revise.jl:0\u001b[22m [inlined]\n",
      " [9] \u001b[1m#instantiate_sigs!#60\u001b[22m\u001b[1m(\u001b[22m::Bool, ::Base.Iterators.Pairs{Union{},Union{},Tuple{},NamedTuple{(),Tuple{}}}, ::Function, ::OrderedCollections.OrderedDict{Module,OrderedCollections.OrderedDict{Revise.RelocatableExpr,Union{Nothing, Array{Any,1}}}}\u001b[1m)\u001b[22m at \u001b[1m/home/mat/.julia/packages/Revise/agmgx/src/Revise.jl:352\u001b[22m\n",
      " [10] \u001b[1minstantiate_sigs!\u001b[22m at \u001b[1m/home/mat/.julia/packages/Revise/agmgx/src/Revise.jl:349\u001b[22m [inlined]\n",
      " [11] \u001b[1mmaybe_parse_from_cache!\u001b[22m\u001b[1m(\u001b[22m::Revise.PkgData, ::String\u001b[1m)\u001b[22m at \u001b[1m/home/mat/.julia/packages/Revise/agmgx/src/pkgs.jl:224\u001b[22m\n",
      " [12] \u001b[1m(::getfield(Revise, Symbol(\"##26#27\")){String})\u001b[22m\u001b[1m(\u001b[22m\u001b[1m)\u001b[22m at \u001b[1m/home/mat/.julia/packages/Revise/agmgx/src/pkgs.jl:370\u001b[22m\n",
      " [13] \u001b[1mwith_logstate\u001b[22m\u001b[1m(\u001b[22m::getfield(Revise, Symbol(\"##26#27\")){String}, ::Base.CoreLogging.LogState\u001b[1m)\u001b[22m at \u001b[1m./logging.jl:395\u001b[22m\n",
      " [14] \u001b[1mwith_logger\u001b[22m at \u001b[1m./logging.jl:491\u001b[22m [inlined]\n",
      " [15] \u001b[1mwatch_manifest\u001b[22m\u001b[1m(\u001b[22m::String\u001b[1m)\u001b[22m at \u001b[1m/home/mat/.julia/packages/Revise/agmgx/src/pkgs.jl:349\u001b[22m\n",
      " [16] \u001b[1m(::Revise.Rescheduler{typeof(Revise.watch_manifest),Tuple{String}})\u001b[22m\u001b[1m(\u001b[22m\u001b[1m)\u001b[22m at \u001b[1m/home/mat/.julia/packages/Revise/agmgx/src/types.jl:235\u001b[22m\n",
      "while evaluating\n",
      "import .Tokens: untokenize\n",
      "in module Main.Tokenize\n",
      "\u001b[91mUndefVarError: _precompile_ not defined\u001b[39m\n",
      "Stacktrace:\n",
      " [1] \u001b[1mmacro expansion\u001b[22m at \u001b[1m/home/mat/.julia/packages/JuliaInterpreter/VHjfX/src/interpret.jl:64\u001b[22m [inlined]\n",
      " [2] \u001b[1m#methods_by_execution!#14\u001b[22m\u001b[1m(\u001b[22m::Bool, ::Bool, ::Function, ::Any, ::Revise.CodeTrackingMethodInfo, ::Dict{Module,Array{Expr,1}}, ::JuliaInterpreter.Frame\u001b[1m)\u001b[22m at \u001b[1m/home/mat/.julia/packages/Revise/agmgx/src/lowered.jl:125\u001b[22m\n",
      " [3] \u001b[1m#methods_by_execution!\u001b[22m at \u001b[1m./none:0\u001b[22m [inlined]\n",
      " [4] \u001b[1m#methods_by_execution!#9\u001b[22m\u001b[1m(\u001b[22m::Base.Iterators.Pairs{Symbol,Bool,Tuple{Symbol},NamedTuple{(:define,),Tuple{Bool}}}, ::Function, ::Any, ::Revise.CodeTrackingMethodInfo, ::Dict{Module,Array{Expr,1}}, ::Module, ::Expr\u001b[1m)\u001b[22m at \u001b[1m/home/mat/.julia/packages/Revise/agmgx/src/lowered.jl:49\u001b[22m\n",
      " [5] \u001b[1m#methods_by_execution!\u001b[22m at \u001b[1m./none:0\u001b[22m [inlined]\n",
      " [6] \u001b[1m#eval_with_signatures#59\u001b[22m\u001b[1m(\u001b[22m::Bool, ::Base.Iterators.Pairs{Union{},Union{},Tuple{},NamedTuple{(),Tuple{}}}, ::Function, ::Module, ::Expr\u001b[1m)\u001b[22m at \u001b[1m/home/mat/.julia/packages/Revise/agmgx/src/Revise.jl:344\u001b[22m\n",
      " [7] \u001b[1m#eval_with_signatures\u001b[22m at \u001b[1m/home/mat/.julia/packages/Revise/agmgx/src/Revise.jl:0\u001b[22m [inlined]\n",
      " [8] \u001b[1m#instantiate_sigs!#60\u001b[22m\u001b[1m(\u001b[22m::Bool, ::Base.Iterators.Pairs{Union{},Union{},Tuple{},NamedTuple{(),Tuple{}}}, ::Function, ::OrderedCollections.OrderedDict{Module,OrderedCollections.OrderedDict{Revise.RelocatableExpr,Union{Nothing, Array{Any,1}}}}\u001b[1m)\u001b[22m at \u001b[1m/home/mat/.julia/packages/Revise/agmgx/src/Revise.jl:352\u001b[22m\n",
      " [9] \u001b[1minstantiate_sigs!\u001b[22m at \u001b[1m/home/mat/.julia/packages/Revise/agmgx/src/Revise.jl:349\u001b[22m [inlined]\n",
      " [10] \u001b[1mmaybe_parse_from_cache!\u001b[22m\u001b[1m(\u001b[22m::Revise.PkgData, ::String\u001b[1m)\u001b[22m at \u001b[1m/home/mat/.julia/packages/Revise/agmgx/src/pkgs.jl:224\u001b[22m\n",
      " [11] \u001b[1m(::getfield(Revise, Symbol(\"##26#27\")){String})\u001b[22m\u001b[1m(\u001b[22m\u001b[1m)\u001b[22m at \u001b[1m/home/mat/.julia/packages/Revise/agmgx/src/pkgs.jl:370\u001b[22m\n",
      " [12] \u001b[1mwith_logstate\u001b[22m\u001b[1m(\u001b[22m::getfield(Revise, Symbol(\"##26#27\")){String}, ::Base.CoreLogging.LogState\u001b[1m)\u001b[22m at \u001b[1m./logging.jl:395\u001b[22m\n",
      " [13] \u001b[1mwith_logger\u001b[22m at \u001b[1m./logging.jl:491\u001b[22m [inlined]\n",
      " [14] \u001b[1mwatch_manifest\u001b[22m\u001b[1m(\u001b[22m::String\u001b[1m)\u001b[22m at \u001b[1m/home/mat/.julia/packages/Revise/agmgx/src/pkgs.jl:349\u001b[22m\n",
      " [15] \u001b[1m(::Revise.Rescheduler{typeof(Revise.watch_manifest),Tuple{String}})\u001b[22m\u001b[1m(\u001b[22m\u001b[1m)\u001b[22m at \u001b[1m/home/mat/.julia/packages/Revise/agmgx/src/types.jl:235\u001b[22m\n",
      "while evaluating\n",
      "_precompile_()\n",
      "in module Main.Tokenize\n",
      "\u001b[91mArgumentError: Package BandedMatrices not found in current path:\u001b[39m\n",
      "\u001b[91m- Run `import Pkg; Pkg.add(\"BandedMatrices\")` to install the BandedMatrices package.\u001b[39m\n"
     ]
    },
    {
     "name": "stderr",
     "output_type": "stream",
     "text": [
      "\n",
      "Stacktrace:\n",
      " [1] \u001b[1mrequire\u001b[22m\u001b[1m(\u001b[22m::Module, ::Symbol\u001b[1m)\u001b[22m at \u001b[1m./loading.jl:823\u001b[22m\n",
      " [2] \u001b[1meval\u001b[22m at \u001b[1m./boot.jl:328\u001b[22m [inlined]\n",
      " [3] \u001b[1mprepare_thunk\u001b[22m\u001b[1m(\u001b[22m::Module, ::Expr, ::Bool\u001b[1m)\u001b[22m at \u001b[1m/home/mat/.julia/packages/JuliaInterpreter/VHjfX/src/construct.jl:355\u001b[22m\n",
      " [4] \u001b[1mprepare_thunk\u001b[22m\u001b[1m(\u001b[22m::Module, ::Expr, ::Bool\u001b[1m)\u001b[22m at \u001b[1m/home/mat/.julia/packages/JuliaInterpreter/VHjfX/src/construct.jl:361\u001b[22m\n",
      " [5] \u001b[1mprepare_thunk\u001b[22m at \u001b[1m/home/mat/.julia/packages/JuliaInterpreter/VHjfX/src/construct.jl:347\u001b[22m [inlined]\n",
      " [6] \u001b[1m#methods_by_execution!#9\u001b[22m\u001b[1m(\u001b[22m::Base.Iterators.Pairs{Symbol,Bool,Tuple{Symbol},NamedTuple{(:define,),Tuple{Bool}}}, ::Function, ::Any, ::Revise.CodeTrackingMethodInfo, ::Dict{Module,Array{Expr,1}}, ::Module, ::Expr\u001b[1m)\u001b[22m at \u001b[1m/home/mat/.julia/packages/Revise/agmgx/src/lowered.jl:47\u001b[22m\n",
      " [7] \u001b[1m#methods_by_execution!\u001b[22m at \u001b[1m./none:0\u001b[22m [inlined]\n",
      " [8] \u001b[1m#eval_with_signatures#59\u001b[22m\u001b[1m(\u001b[22m::Bool, ::Base.Iterators.Pairs{Union{},Union{},Tuple{},NamedTuple{(),Tuple{}}}, ::Function, ::Module, ::Expr\u001b[1m)\u001b[22m at \u001b[1m/home/mat/.julia/packages/Revise/agmgx/src/Revise.jl:344\u001b[22m\n",
      " [9] \u001b[1m#eval_with_signatures\u001b[22m at \u001b[1m/home/mat/.julia/packages/Revise/agmgx/src/Revise.jl:0\u001b[22m [inlined]\n",
      " [10] \u001b[1m#instantiate_sigs!#60\u001b[22m\u001b[1m(\u001b[22m::Bool, ::Base.Iterators.Pairs{Union{},Union{},Tuple{},NamedTuple{(),Tuple{}}}, ::Function, ::OrderedCollections.OrderedDict{Module,OrderedCollections.OrderedDict{Revise.RelocatableExpr,Union{Nothing, Array{Any,1}}}}\u001b[1m)\u001b[22m at \u001b[1m/home/mat/.julia/packages/Revise/agmgx/src/Revise.jl:352\u001b[22m\n",
      " [11] \u001b[1minstantiate_sigs!\u001b[22m at \u001b[1m/home/mat/.julia/packages/Revise/agmgx/src/Revise.jl:349\u001b[22m [inlined]\n",
      " [12] \u001b[1mmaybe_parse_from_cache!\u001b[22m\u001b[1m(\u001b[22m::Revise.PkgData, ::String\u001b[1m)\u001b[22m at \u001b[1m/home/mat/.julia/packages/Revise/agmgx/src/pkgs.jl:224\u001b[22m\n",
      " [13] \u001b[1m(::getfield(Revise, Symbol(\"##26#27\")){String})\u001b[22m\u001b[1m(\u001b[22m\u001b[1m)\u001b[22m at \u001b[1m/home/mat/.julia/packages/Revise/agmgx/src/pkgs.jl:370\u001b[22m\n",
      " [14] \u001b[1mwith_logstate\u001b[22m\u001b[1m(\u001b[22m::getfield(Revise, Symbol(\"##26#27\")){String}, ::Base.CoreLogging.LogState\u001b[1m)\u001b[22m at \u001b[1m./logging.jl:395\u001b[22m\n",
      " [15] \u001b[1mwith_logger\u001b[22m at \u001b[1m./logging.jl:491\u001b[22m [inlined]\n",
      " [16] \u001b[1mwatch_manifest\u001b[22m\u001b[1m(\u001b[22m::String\u001b[1m)\u001b[22m at \u001b[1m/home/mat/.julia/packages/Revise/agmgx/src/pkgs.jl:349\u001b[22m\n",
      " [17] \u001b[1m(::Revise.Rescheduler{typeof(Revise.watch_manifest),Tuple{String}})\u001b[22m\u001b[1m(\u001b[22m\u001b[1m)\u001b[22m at \u001b[1m/home/mat/.julia/packages/Revise/agmgx/src/types.jl:235\u001b[22m\n",
      "while evaluating\n",
      "using BandedMatrices\n",
      "in module Main.SparseDiffTools\n",
      "\u001b[91mArgumentError: Package BlockBandedMatrices not found in current path:\u001b[39m\n",
      "\u001b[91m- Run `import Pkg; Pkg.add(\"BlockBandedMatrices\")` to install the BlockBandedMatrices package.\u001b[39m\n",
      "\n",
      "Stacktrace:\n",
      " [1] \u001b[1mrequire\u001b[22m\u001b[1m(\u001b[22m::Module, ::Symbol\u001b[1m)\u001b[22m at \u001b[1m./loading.jl:823\u001b[22m\n",
      " [2] \u001b[1meval\u001b[22m at \u001b[1m./boot.jl:328\u001b[22m [inlined]\n",
      " [3] \u001b[1mprepare_thunk\u001b[22m\u001b[1m(\u001b[22m::Module, ::Expr, ::Bool\u001b[1m)\u001b[22m at \u001b[1m/home/mat/.julia/packages/JuliaInterpreter/VHjfX/src/construct.jl:355\u001b[22m\n",
      " [4] \u001b[1mprepare_thunk\u001b[22m\u001b[1m(\u001b[22m::Module, ::Expr, ::Bool\u001b[1m)\u001b[22m at \u001b[1m/home/mat/.julia/packages/JuliaInterpreter/VHjfX/src/construct.jl:361\u001b[22m\n",
      " [5] \u001b[1mprepare_thunk\u001b[22m at \u001b[1m/home/mat/.julia/packages/JuliaInterpreter/VHjfX/src/construct.jl:347\u001b[22m [inlined]\n",
      " [6] \u001b[1m#methods_by_execution!#9\u001b[22m\u001b[1m(\u001b[22m::Base.Iterators.Pairs{Symbol,Bool,Tuple{Symbol},NamedTuple{(:define,),Tuple{Bool}}}, ::Function, ::Any, ::Revise.CodeTrackingMethodInfo, ::Dict{Module,Array{Expr,1}}, ::Module, ::Expr\u001b[1m)\u001b[22m at \u001b[1m/home/mat/.julia/packages/Revise/agmgx/src/lowered.jl:47\u001b[22m\n",
      " [7] \u001b[1m#methods_by_execution!\u001b[22m at \u001b[1m./none:0\u001b[22m [inlined]\n",
      " [8] \u001b[1m#eval_with_signatures#59\u001b[22m\u001b[1m(\u001b[22m::Bool, ::Base.Iterators.Pairs{Union{},Union{},Tuple{},NamedTuple{(),Tuple{}}}, ::Function, ::Module, ::Expr\u001b[1m)\u001b[22m at \u001b[1m/home/mat/.julia/packages/Revise/agmgx/src/Revise.jl:344\u001b[22m\n",
      " [9] \u001b[1m#eval_with_signatures\u001b[22m at \u001b[1m/home/mat/.julia/packages/Revise/agmgx/src/Revise.jl:0\u001b[22m [inlined]\n",
      " [10] \u001b[1m#instantiate_sigs!#60\u001b[22m\u001b[1m(\u001b[22m::Bool, ::Base.Iterators.Pairs{Union{},Union{},Tuple{},NamedTuple{(),Tuple{}}}, ::Function, ::OrderedCollections.OrderedDict{Module,OrderedCollections.OrderedDict{Revise.RelocatableExpr,Union{Nothing, Array{Any,1}}}}\u001b[1m)\u001b[22m at \u001b[1m/home/mat/.julia/packages/Revise/agmgx/src/Revise.jl:352\u001b[22m\n",
      " [11] \u001b[1minstantiate_sigs!\u001b[22m at \u001b[1m/home/mat/.julia/packages/Revise/agmgx/src/Revise.jl:349\u001b[22m [inlined]\n",
      " [12] \u001b[1mmaybe_parse_from_cache!\u001b[22m\u001b[1m(\u001b[22m::Revise.PkgData, ::String\u001b[1m)\u001b[22m at \u001b[1m/home/mat/.julia/packages/Revise/agmgx/src/pkgs.jl:224\u001b[22m\n",
      " [13] \u001b[1m(::getfield(Revise, Symbol(\"##26#27\")){String})\u001b[22m\u001b[1m(\u001b[22m\u001b[1m)\u001b[22m at \u001b[1m/home/mat/.julia/packages/Revise/agmgx/src/pkgs.jl:370\u001b[22m\n",
      " [14] \u001b[1mwith_logstate\u001b[22m\u001b[1m(\u001b[22m::getfield(Revise, Symbol(\"##26#27\")){String}, ::Base.CoreLogging.LogState\u001b[1m)\u001b[22m at \u001b[1m./logging.jl:395\u001b[22m\n",
      " [15] \u001b[1mwith_logger\u001b[22m at \u001b[1m./logging.jl:491\u001b[22m [inlined]\n",
      " [16] \u001b[1mwatch_manifest\u001b[22m\u001b[1m(\u001b[22m::String\u001b[1m)\u001b[22m at \u001b[1m/home/mat/.julia/packages/Revise/agmgx/src/pkgs.jl:349\u001b[22m\n",
      " [17] \u001b[1m(::Revise.Rescheduler{typeof(Revise.watch_manifest),Tuple{String}})\u001b[22m\u001b[1m(\u001b[22m\u001b[1m)\u001b[22m at \u001b[1m/home/mat/.julia/packages/Revise/agmgx/src/types.jl:235\u001b[22m\n",
      "while evaluating\n",
      "using BlockBandedMatrices\n",
      "in module Main.SparseDiffTools\n",
      "\u001b[91mArgumentError: Package DiffEqDiffTools not found in current path:\u001b[39m\n",
      "\u001b[91m- Run `import Pkg; Pkg.add(\"DiffEqDiffTools\")` to install the DiffEqDiffTools package.\u001b[39m\n",
      "\n",
      "Stacktrace:\n",
      " [1] \u001b[1mrequire\u001b[22m\u001b[1m(\u001b[22m::Module, ::Symbol\u001b[1m)\u001b[22m at \u001b[1m./loading.jl:823\u001b[22m\n",
      " [2] \u001b[1meval\u001b[22m at \u001b[1m./boot.jl:328\u001b[22m [inlined]\n",
      " [3] \u001b[1mprepare_thunk\u001b[22m\u001b[1m(\u001b[22m::Module, ::Expr, ::Bool\u001b[1m)\u001b[22m at \u001b[1m/home/mat/.julia/packages/JuliaInterpreter/VHjfX/src/construct.jl:355\u001b[22m\n",
      " [4] \u001b[1mprepare_thunk\u001b[22m\u001b[1m(\u001b[22m::Module, ::Expr, ::Bool\u001b[1m)\u001b[22m at \u001b[1m/home/mat/.julia/packages/JuliaInterpreter/VHjfX/src/construct.jl:361\u001b[22m\n",
      " [5] \u001b[1mprepare_thunk\u001b[22m at \u001b[1m/home/mat/.julia/packages/JuliaInterpreter/VHjfX/src/construct.jl:347\u001b[22m [inlined]\n",
      " [6] \u001b[1m#methods_by_execution!#9\u001b[22m\u001b[1m(\u001b[22m::Base.Iterators.Pairs{Symbol,Bool,Tuple{Symbol},NamedTuple{(:define,),Tuple{Bool}}}, ::Function, ::Any, ::Revise.CodeTrackingMethodInfo, ::Dict{Module,Array{Expr,1}}, ::Module, ::Expr\u001b[1m)\u001b[22m at \u001b[1m/home/mat/.julia/packages/Revise/agmgx/src/lowered.jl:47\u001b[22m\n",
      " [7] \u001b[1m#methods_by_execution!\u001b[22m at \u001b[1m./none:0\u001b[22m [inlined]\n",
      " [8] \u001b[1m#eval_with_signatures#59\u001b[22m\u001b[1m(\u001b[22m::Bool, ::Base.Iterators.Pairs{Union{},Union{},Tuple{},NamedTuple{(),Tuple{}}}, ::Function, ::Module, ::Expr\u001b[1m)\u001b[22m at \u001b[1m/home/mat/.julia/packages/Revise/agmgx/src/Revise.jl:344\u001b[22m\n",
      " [9] \u001b[1m#eval_with_signatures\u001b[22m at \u001b[1m/home/mat/.julia/packages/Revise/agmgx/src/Revise.jl:0\u001b[22m [inlined]\n",
      " [10] \u001b[1m#instantiate_sigs!#60\u001b[22m\u001b[1m(\u001b[22m::Bool, ::Base.Iterators.Pairs{Union{},Union{},Tuple{},NamedTuple{(),Tuple{}}}, ::Function, ::OrderedCollections.OrderedDict{Module,OrderedCollections.OrderedDict{Revise.RelocatableExpr,Union{Nothing, Array{Any,1}}}}\u001b[1m)\u001b[22m at \u001b[1m/home/mat/.julia/packages/Revise/agmgx/src/Revise.jl:352\u001b[22m\n",
      " [11] \u001b[1minstantiate_sigs!\u001b[22m at \u001b[1m/home/mat/.julia/packages/Revise/agmgx/src/Revise.jl:349\u001b[22m [inlined]\n",
      " [12] \u001b[1mmaybe_parse_from_cache!\u001b[22m\u001b[1m(\u001b[22m::Revise.PkgData, ::String\u001b[1m)\u001b[22m at \u001b[1m/home/mat/.julia/packages/Revise/agmgx/src/pkgs.jl:224\u001b[22m\n",
      " [13] \u001b[1m(::getfield(Revise, Symbol(\"##26#27\")){String})\u001b[22m\u001b[1m(\u001b[22m\u001b[1m)\u001b[22m at \u001b[1m/home/mat/.julia/packages/Revise/agmgx/src/pkgs.jl:370\u001b[22m\n",
      " [14] \u001b[1mwith_logstate\u001b[22m\u001b[1m(\u001b[22m::getfield(Revise, Symbol(\"##26#27\")){String}, ::Base.CoreLogging.LogState\u001b[1m)\u001b[22m at \u001b[1m./logging.jl:395\u001b[22m\n",
      " [15] \u001b[1mwith_logger\u001b[22m at \u001b[1m./logging.jl:491\u001b[22m [inlined]\n",
      " [16] \u001b[1mwatch_manifest\u001b[22m\u001b[1m(\u001b[22m::String\u001b[1m)\u001b[22m at \u001b[1m/home/mat/.julia/packages/Revise/agmgx/src/pkgs.jl:349\u001b[22m\n",
      " [17] \u001b[1m(::Revise.Rescheduler{typeof(Revise.watch_manifest),Tuple{String}})\u001b[22m\u001b[1m(\u001b[22m\u001b[1m)\u001b[22m at \u001b[1m/home/mat/.julia/packages/Revise/agmgx/src/types.jl:235\u001b[22m\n",
      "while evaluating\n",
      "using DiffEqDiffTools\n",
      "in module Main.SparseDiffTools\n",
      "\u001b[91mArgumentError: Package ForwardDiff not found in current path:\u001b[39m\n",
      "\u001b[91m- Run `import Pkg; Pkg.add(\"ForwardDiff\")` to install the ForwardDiff package.\u001b[39m\n",
      "\n",
      "Stacktrace:\n",
      " [1] \u001b[1mrequire\u001b[22m\u001b[1m(\u001b[22m::Module, ::Symbol\u001b[1m)\u001b[22m at \u001b[1m./loading.jl:823\u001b[22m\n",
      " [2] \u001b[1meval\u001b[22m at \u001b[1m./boot.jl:328\u001b[22m [inlined]\n",
      " [3] \u001b[1mprepare_thunk\u001b[22m\u001b[1m(\u001b[22m::Module, ::Expr, ::Bool\u001b[1m)\u001b[22m at \u001b[1m/home/mat/.julia/packages/JuliaInterpreter/VHjfX/src/construct.jl:355\u001b[22m\n",
      " [4] \u001b[1mprepare_thunk\u001b[22m\u001b[1m(\u001b[22m::Module, ::Expr, ::Bool\u001b[1m)\u001b[22m at \u001b[1m/home/mat/.julia/packages/JuliaInterpreter/VHjfX/src/construct.jl:361\u001b[22m\n",
      " [5] \u001b[1mprepare_thunk\u001b[22m at \u001b[1m/home/mat/.julia/packages/JuliaInterpreter/VHjfX/src/construct.jl:347\u001b[22m [inlined]\n",
      " [6] \u001b[1m#methods_by_execution!#9\u001b[22m\u001b[1m(\u001b[22m::Base.Iterators.Pairs{Symbol,Bool,Tuple{Symbol},NamedTuple{(:define,),Tuple{Bool}}}, ::Function, ::Any, ::Revise.CodeTrackingMethodInfo, ::Dict{Module,Array{Expr,1}}, ::Module, ::Expr\u001b[1m)\u001b[22m at \u001b[1m/home/mat/.julia/packages/Revise/agmgx/src/lowered.jl:47\u001b[22m\n",
      " [7] \u001b[1m#methods_by_execution!\u001b[22m at \u001b[1m./none:0\u001b[22m [inlined]\n",
      " [8] \u001b[1m#eval_with_signatures#59\u001b[22m\u001b[1m(\u001b[22m::Bool, ::Base.Iterators.Pairs{Union{},Union{},Tuple{},NamedTuple{(),Tuple{}}}, ::Function, ::Module, ::Expr\u001b[1m)\u001b[22m at \u001b[1m/home/mat/.julia/packages/Revise/agmgx/src/Revise.jl:344\u001b[22m\n",
      " [9] \u001b[1m#eval_with_signatures\u001b[22m at \u001b[1m/home/mat/.julia/packages/Revise/agmgx/src/Revise.jl:0\u001b[22m [inlined]\n",
      " [10] \u001b[1m#instantiate_sigs!#60\u001b[22m\u001b[1m(\u001b[22m::Bool, ::Base.Iterators.Pairs{Union{},Union{},Tuple{},NamedTuple{(),Tuple{}}}, ::Function, ::OrderedCollections.OrderedDict{Module,OrderedCollections.OrderedDict{Revise.RelocatableExpr,Union{Nothing, Array{Any,1}}}}\u001b[1m)\u001b[22m at \u001b[1m/home/mat/.julia/packages/Revise/agmgx/src/Revise.jl:352\u001b[22m\n"
     ]
    },
    {
     "name": "stderr",
     "output_type": "stream",
     "text": [
      " [11] \u001b[1minstantiate_sigs!\u001b[22m at \u001b[1m/home/mat/.julia/packages/Revise/agmgx/src/Revise.jl:349\u001b[22m [inlined]\n",
      " [12] \u001b[1mmaybe_parse_from_cache!\u001b[22m\u001b[1m(\u001b[22m::Revise.PkgData, ::String\u001b[1m)\u001b[22m at \u001b[1m/home/mat/.julia/packages/Revise/agmgx/src/pkgs.jl:224\u001b[22m\n",
      " [13] \u001b[1m(::getfield(Revise, Symbol(\"##26#27\")){String})\u001b[22m\u001b[1m(\u001b[22m\u001b[1m)\u001b[22m at \u001b[1m/home/mat/.julia/packages/Revise/agmgx/src/pkgs.jl:370\u001b[22m\n",
      " [14] \u001b[1mwith_logstate\u001b[22m\u001b[1m(\u001b[22m::getfield(Revise, Symbol(\"##26#27\")){String}, ::Base.CoreLogging.LogState\u001b[1m)\u001b[22m at \u001b[1m./logging.jl:395\u001b[22m\n",
      " [15] \u001b[1mwith_logger\u001b[22m at \u001b[1m./logging.jl:491\u001b[22m [inlined]\n",
      " [16] \u001b[1mwatch_manifest\u001b[22m\u001b[1m(\u001b[22m::String\u001b[1m)\u001b[22m at \u001b[1m/home/mat/.julia/packages/Revise/agmgx/src/pkgs.jl:349\u001b[22m\n",
      " [17] \u001b[1m(::Revise.Rescheduler{typeof(Revise.watch_manifest),Tuple{String}})\u001b[22m\u001b[1m(\u001b[22m\u001b[1m)\u001b[22m at \u001b[1m/home/mat/.julia/packages/Revise/agmgx/src/types.jl:235\u001b[22m\n",
      "while evaluating\n",
      "using ForwardDiff\n",
      "in module Main.SparseDiffTools\n",
      "\u001b[91mArgumentError: Package LightGraphs not found in current path:\u001b[39m\n",
      "\u001b[91m- Run `import Pkg; Pkg.add(\"LightGraphs\")` to install the LightGraphs package.\u001b[39m\n",
      "\n",
      "Stacktrace:\n",
      " [1] \u001b[1mrequire\u001b[22m\u001b[1m(\u001b[22m::Module, ::Symbol\u001b[1m)\u001b[22m at \u001b[1m./loading.jl:823\u001b[22m\n",
      " [2] \u001b[1meval\u001b[22m at \u001b[1m./boot.jl:328\u001b[22m [inlined]\n",
      " [3] \u001b[1mprepare_thunk\u001b[22m\u001b[1m(\u001b[22m::Module, ::Expr, ::Bool\u001b[1m)\u001b[22m at \u001b[1m/home/mat/.julia/packages/JuliaInterpreter/VHjfX/src/construct.jl:355\u001b[22m\n",
      " [4] \u001b[1mprepare_thunk\u001b[22m\u001b[1m(\u001b[22m::Module, ::Expr, ::Bool\u001b[1m)\u001b[22m at \u001b[1m/home/mat/.julia/packages/JuliaInterpreter/VHjfX/src/construct.jl:361\u001b[22m\n",
      " [5] \u001b[1mprepare_thunk\u001b[22m at \u001b[1m/home/mat/.julia/packages/JuliaInterpreter/VHjfX/src/construct.jl:347\u001b[22m [inlined]\n",
      " [6] \u001b[1m#methods_by_execution!#9\u001b[22m\u001b[1m(\u001b[22m::Base.Iterators.Pairs{Symbol,Bool,Tuple{Symbol},NamedTuple{(:define,),Tuple{Bool}}}, ::Function, ::Any, ::Revise.CodeTrackingMethodInfo, ::Dict{Module,Array{Expr,1}}, ::Module, ::Expr\u001b[1m)\u001b[22m at \u001b[1m/home/mat/.julia/packages/Revise/agmgx/src/lowered.jl:47\u001b[22m\n",
      " [7] \u001b[1m#methods_by_execution!\u001b[22m at \u001b[1m./none:0\u001b[22m [inlined]\n",
      " [8] \u001b[1m#eval_with_signatures#59\u001b[22m\u001b[1m(\u001b[22m::Bool, ::Base.Iterators.Pairs{Union{},Union{},Tuple{},NamedTuple{(),Tuple{}}}, ::Function, ::Module, ::Expr\u001b[1m)\u001b[22m at \u001b[1m/home/mat/.julia/packages/Revise/agmgx/src/Revise.jl:344\u001b[22m\n",
      " [9] \u001b[1m#eval_with_signatures\u001b[22m at \u001b[1m/home/mat/.julia/packages/Revise/agmgx/src/Revise.jl:0\u001b[22m [inlined]\n",
      " [10] \u001b[1m#instantiate_sigs!#60\u001b[22m\u001b[1m(\u001b[22m::Bool, ::Base.Iterators.Pairs{Union{},Union{},Tuple{},NamedTuple{(),Tuple{}}}, ::Function, ::OrderedCollections.OrderedDict{Module,OrderedCollections.OrderedDict{Revise.RelocatableExpr,Union{Nothing, Array{Any,1}}}}\u001b[1m)\u001b[22m at \u001b[1m/home/mat/.julia/packages/Revise/agmgx/src/Revise.jl:352\u001b[22m\n",
      " [11] \u001b[1minstantiate_sigs!\u001b[22m at \u001b[1m/home/mat/.julia/packages/Revise/agmgx/src/Revise.jl:349\u001b[22m [inlined]\n",
      " [12] \u001b[1mmaybe_parse_from_cache!\u001b[22m\u001b[1m(\u001b[22m::Revise.PkgData, ::String\u001b[1m)\u001b[22m at \u001b[1m/home/mat/.julia/packages/Revise/agmgx/src/pkgs.jl:224\u001b[22m\n",
      " [13] \u001b[1m(::getfield(Revise, Symbol(\"##26#27\")){String})\u001b[22m\u001b[1m(\u001b[22m\u001b[1m)\u001b[22m at \u001b[1m/home/mat/.julia/packages/Revise/agmgx/src/pkgs.jl:370\u001b[22m\n",
      " [14] \u001b[1mwith_logstate\u001b[22m\u001b[1m(\u001b[22m::getfield(Revise, Symbol(\"##26#27\")){String}, ::Base.CoreLogging.LogState\u001b[1m)\u001b[22m at \u001b[1m./logging.jl:395\u001b[22m\n",
      " [15] \u001b[1mwith_logger\u001b[22m at \u001b[1m./logging.jl:491\u001b[22m [inlined]\n",
      " [16] \u001b[1mwatch_manifest\u001b[22m\u001b[1m(\u001b[22m::String\u001b[1m)\u001b[22m at \u001b[1m/home/mat/.julia/packages/Revise/agmgx/src/pkgs.jl:349\u001b[22m\n",
      " [17] \u001b[1m(::Revise.Rescheduler{typeof(Revise.watch_manifest),Tuple{String}})\u001b[22m\u001b[1m(\u001b[22m\u001b[1m)\u001b[22m at \u001b[1m/home/mat/.julia/packages/Revise/agmgx/src/types.jl:235\u001b[22m\n",
      "while evaluating\n",
      "using LightGraphs\n",
      "in module Main.SparseDiffTools\n",
      "\u001b[91mArgumentError: Package Requires not found in current path:\u001b[39m\n",
      "\u001b[91m- Run `import Pkg; Pkg.add(\"Requires\")` to install the Requires package.\u001b[39m\n",
      "\n",
      "Stacktrace:\n",
      " [1] \u001b[1mrequire\u001b[22m\u001b[1m(\u001b[22m::Module, ::Symbol\u001b[1m)\u001b[22m at \u001b[1m./loading.jl:823\u001b[22m\n",
      " [2] \u001b[1meval\u001b[22m at \u001b[1m./boot.jl:328\u001b[22m [inlined]\n",
      " [3] \u001b[1mprepare_thunk\u001b[22m\u001b[1m(\u001b[22m::Module, ::Expr, ::Bool\u001b[1m)\u001b[22m at \u001b[1m/home/mat/.julia/packages/JuliaInterpreter/VHjfX/src/construct.jl:355\u001b[22m\n",
      " [4] \u001b[1mprepare_thunk\u001b[22m\u001b[1m(\u001b[22m::Module, ::Expr, ::Bool\u001b[1m)\u001b[22m at \u001b[1m/home/mat/.julia/packages/JuliaInterpreter/VHjfX/src/construct.jl:361\u001b[22m\n",
      " [5] \u001b[1mprepare_thunk\u001b[22m at \u001b[1m/home/mat/.julia/packages/JuliaInterpreter/VHjfX/src/construct.jl:347\u001b[22m [inlined]\n",
      " [6] \u001b[1m#methods_by_execution!#9\u001b[22m\u001b[1m(\u001b[22m::Base.Iterators.Pairs{Symbol,Bool,Tuple{Symbol},NamedTuple{(:define,),Tuple{Bool}}}, ::Function, ::Any, ::Revise.CodeTrackingMethodInfo, ::Dict{Module,Array{Expr,1}}, ::Module, ::Expr\u001b[1m)\u001b[22m at \u001b[1m/home/mat/.julia/packages/Revise/agmgx/src/lowered.jl:47\u001b[22m\n",
      " [7] \u001b[1m#methods_by_execution!\u001b[22m at \u001b[1m./none:0\u001b[22m [inlined]\n",
      " [8] \u001b[1m#eval_with_signatures#59\u001b[22m\u001b[1m(\u001b[22m::Bool, ::Base.Iterators.Pairs{Union{},Union{},Tuple{},NamedTuple{(),Tuple{}}}, ::Function, ::Module, ::Expr\u001b[1m)\u001b[22m at \u001b[1m/home/mat/.julia/packages/Revise/agmgx/src/Revise.jl:344\u001b[22m\n",
      " [9] \u001b[1m#eval_with_signatures\u001b[22m at \u001b[1m/home/mat/.julia/packages/Revise/agmgx/src/Revise.jl:0\u001b[22m [inlined]\n",
      " [10] \u001b[1m#instantiate_sigs!#60\u001b[22m\u001b[1m(\u001b[22m::Bool, ::Base.Iterators.Pairs{Union{},Union{},Tuple{},NamedTuple{(),Tuple{}}}, ::Function, ::OrderedCollections.OrderedDict{Module,OrderedCollections.OrderedDict{Revise.RelocatableExpr,Union{Nothing, Array{Any,1}}}}\u001b[1m)\u001b[22m at \u001b[1m/home/mat/.julia/packages/Revise/agmgx/src/Revise.jl:352\u001b[22m\n",
      " [11] \u001b[1minstantiate_sigs!\u001b[22m at \u001b[1m/home/mat/.julia/packages/Revise/agmgx/src/Revise.jl:349\u001b[22m [inlined]\n",
      " [12] \u001b[1mmaybe_parse_from_cache!\u001b[22m\u001b[1m(\u001b[22m::Revise.PkgData, ::String\u001b[1m)\u001b[22m at \u001b[1m/home/mat/.julia/packages/Revise/agmgx/src/pkgs.jl:224\u001b[22m\n",
      " [13] \u001b[1m(::getfield(Revise, Symbol(\"##26#27\")){String})\u001b[22m\u001b[1m(\u001b[22m\u001b[1m)\u001b[22m at \u001b[1m/home/mat/.julia/packages/Revise/agmgx/src/pkgs.jl:370\u001b[22m\n",
      " [14] \u001b[1mwith_logstate\u001b[22m\u001b[1m(\u001b[22m::getfield(Revise, Symbol(\"##26#27\")){String}, ::Base.CoreLogging.LogState\u001b[1m)\u001b[22m at \u001b[1m./logging.jl:395\u001b[22m\n",
      " [15] \u001b[1mwith_logger\u001b[22m at \u001b[1m./logging.jl:491\u001b[22m [inlined]\n",
      " [16] \u001b[1mwatch_manifest\u001b[22m\u001b[1m(\u001b[22m::String\u001b[1m)\u001b[22m at \u001b[1m/home/mat/.julia/packages/Revise/agmgx/src/pkgs.jl:349\u001b[22m\n",
      " [17] \u001b[1m(::Revise.Rescheduler{typeof(Revise.watch_manifest),Tuple{String}})\u001b[22m\u001b[1m(\u001b[22m\u001b[1m)\u001b[22m at \u001b[1m/home/mat/.julia/packages/Revise/agmgx/src/types.jl:235\u001b[22m\n",
      "while evaluating\n",
      "using Requires\n",
      "in module Main.SparseDiffTools\n",
      "\u001b[91mArgumentError: Package VertexSafeGraphs not found in current path:\u001b[39m\n",
      "\u001b[91m- Run `import Pkg; Pkg.add(\"VertexSafeGraphs\")` to install the VertexSafeGraphs package.\u001b[39m\n",
      "\n",
      "Stacktrace:\n",
      " [1] \u001b[1mrequire\u001b[22m\u001b[1m(\u001b[22m::Module, ::Symbol\u001b[1m)\u001b[22m at \u001b[1m./loading.jl:823\u001b[22m\n",
      " [2] \u001b[1meval\u001b[22m at \u001b[1m./boot.jl:328\u001b[22m [inlined]\n",
      " [3] \u001b[1mprepare_thunk\u001b[22m\u001b[1m(\u001b[22m::Module, ::Expr, ::Bool\u001b[1m)\u001b[22m at \u001b[1m/home/mat/.julia/packages/JuliaInterpreter/VHjfX/src/construct.jl:355\u001b[22m\n",
      " [4] \u001b[1mprepare_thunk\u001b[22m\u001b[1m(\u001b[22m::Module, ::Expr, ::Bool\u001b[1m)\u001b[22m at \u001b[1m/home/mat/.julia/packages/JuliaInterpreter/VHjfX/src/construct.jl:361\u001b[22m\n",
      " [5] \u001b[1mprepare_thunk\u001b[22m at \u001b[1m/home/mat/.julia/packages/JuliaInterpreter/VHjfX/src/construct.jl:347\u001b[22m [inlined]\n",
      " [6] \u001b[1m#methods_by_execution!#9\u001b[22m\u001b[1m(\u001b[22m::Base.Iterators.Pairs{Symbol,Bool,Tuple{Symbol},NamedTuple{(:define,),Tuple{Bool}}}, ::Function, ::Any, ::Revise.CodeTrackingMethodInfo, ::Dict{Module,Array{Expr,1}}, ::Module, ::Expr\u001b[1m)\u001b[22m at \u001b[1m/home/mat/.julia/packages/Revise/agmgx/src/lowered.jl:47\u001b[22m\n",
      " [7] \u001b[1m#methods_by_execution!\u001b[22m at \u001b[1m./none:0\u001b[22m [inlined]\n",
      " [8] \u001b[1m#eval_with_signatures#59\u001b[22m\u001b[1m(\u001b[22m::Bool, ::Base.Iterators.Pairs{Union{},Union{},Tuple{},NamedTuple{(),Tuple{}}}, ::Function, ::Module, ::Expr\u001b[1m)\u001b[22m at \u001b[1m/home/mat/.julia/packages/Revise/agmgx/src/Revise.jl:344\u001b[22m\n",
      " [9] \u001b[1m#eval_with_signatures\u001b[22m at \u001b[1m/home/mat/.julia/packages/Revise/agmgx/src/Revise.jl:0\u001b[22m [inlined]\n",
      " [10] \u001b[1m#instantiate_sigs!#60\u001b[22m\u001b[1m(\u001b[22m::Bool, ::Base.Iterators.Pairs{Union{},Union{},Tuple{},NamedTuple{(),Tuple{}}}, ::Function, ::OrderedCollections.OrderedDict{Module,OrderedCollections.OrderedDict{Revise.RelocatableExpr,Union{Nothing, Array{Any,1}}}}\u001b[1m)\u001b[22m at \u001b[1m/home/mat/.julia/packages/Revise/agmgx/src/Revise.jl:352\u001b[22m\n",
      " [11] \u001b[1minstantiate_sigs!\u001b[22m at \u001b[1m/home/mat/.julia/packages/Revise/agmgx/src/Revise.jl:349\u001b[22m [inlined]\n",
      " [12] \u001b[1mmaybe_parse_from_cache!\u001b[22m\u001b[1m(\u001b[22m::Revise.PkgData, ::String\u001b[1m)\u001b[22m at \u001b[1m/home/mat/.julia/packages/Revise/agmgx/src/pkgs.jl:224\u001b[22m\n",
      " [13] \u001b[1m(::getfield(Revise, Symbol(\"##26#27\")){String})\u001b[22m\u001b[1m(\u001b[22m\u001b[1m)\u001b[22m at \u001b[1m/home/mat/.julia/packages/Revise/agmgx/src/pkgs.jl:370\u001b[22m\n",
      " [14] \u001b[1mwith_logstate\u001b[22m\u001b[1m(\u001b[22m::getfield(Revise, Symbol(\"##26#27\")){String}, ::Base.CoreLogging.LogState\u001b[1m)\u001b[22m at \u001b[1m./logging.jl:395\u001b[22m\n",
      " [15] \u001b[1mwith_logger\u001b[22m at \u001b[1m./logging.jl:491\u001b[22m [inlined]\n",
      " [16] \u001b[1mwatch_manifest\u001b[22m\u001b[1m(\u001b[22m::String\u001b[1m)\u001b[22m at \u001b[1m/home/mat/.julia/packages/Revise/agmgx/src/pkgs.jl:349\u001b[22m\n",
      " [17] \u001b[1m(::Revise.Rescheduler{typeof(Revise.watch_manifest),Tuple{String}})\u001b[22m\u001b[1m(\u001b[22m\u001b[1m)\u001b[22m at \u001b[1m/home/mat/.julia/packages/Revise/agmgx/src/types.jl:235\u001b[22m\n",
      "while evaluating\n",
      "using VertexSafeGraphs\n",
      "in module Main.SparseDiffTools\n",
      "\u001b[91mArgumentError: Package Adapt not found in current path:\u001b[39m\n",
      "\u001b[91m- Run `import Pkg; Pkg.add(\"Adapt\")` to install the Adapt package.\u001b[39m\n",
      "\n",
      "Stacktrace:\n",
      " [1] \u001b[1mrequire\u001b[22m\u001b[1m(\u001b[22m::Module, ::Symbol\u001b[1m)\u001b[22m at \u001b[1m./loading.jl:823\u001b[22m\n",
      " [2] \u001b[1meval\u001b[22m at \u001b[1m./boot.jl:328\u001b[22m [inlined]\n",
      " [3] \u001b[1mprepare_thunk\u001b[22m\u001b[1m(\u001b[22m::Module, ::Expr, ::Bool\u001b[1m)\u001b[22m at \u001b[1m/home/mat/.julia/packages/JuliaInterpreter/VHjfX/src/construct.jl:355\u001b[22m\n",
      " [4] \u001b[1mprepare_thunk\u001b[22m\u001b[1m(\u001b[22m::Module, ::Expr, ::Bool\u001b[1m)\u001b[22m at \u001b[1m/home/mat/.julia/packages/JuliaInterpreter/VHjfX/src/construct.jl:361\u001b[22m\n",
      " [5] \u001b[1mprepare_thunk\u001b[22m at \u001b[1m/home/mat/.julia/packages/JuliaInterpreter/VHjfX/src/construct.jl:347\u001b[22m [inlined]\n"
     ]
    },
    {
     "name": "stderr",
     "output_type": "stream",
     "text": [
      " [6] \u001b[1m#methods_by_execution!#9\u001b[22m\u001b[1m(\u001b[22m::Base.Iterators.Pairs{Symbol,Bool,Tuple{Symbol},NamedTuple{(:define,),Tuple{Bool}}}, ::Function, ::Any, ::Revise.CodeTrackingMethodInfo, ::Dict{Module,Array{Expr,1}}, ::Module, ::Expr\u001b[1m)\u001b[22m at \u001b[1m/home/mat/.julia/packages/Revise/agmgx/src/lowered.jl:47\u001b[22m\n",
      " [7] \u001b[1m#methods_by_execution!\u001b[22m at \u001b[1m./none:0\u001b[22m [inlined]\n",
      " [8] \u001b[1m#eval_with_signatures#59\u001b[22m\u001b[1m(\u001b[22m::Bool, ::Base.Iterators.Pairs{Union{},Union{},Tuple{},NamedTuple{(),Tuple{}}}, ::Function, ::Module, ::Expr\u001b[1m)\u001b[22m at \u001b[1m/home/mat/.julia/packages/Revise/agmgx/src/Revise.jl:344\u001b[22m\n",
      " [9] \u001b[1m#eval_with_signatures\u001b[22m at \u001b[1m/home/mat/.julia/packages/Revise/agmgx/src/Revise.jl:0\u001b[22m [inlined]\n",
      " [10] \u001b[1m#instantiate_sigs!#60\u001b[22m\u001b[1m(\u001b[22m::Bool, ::Base.Iterators.Pairs{Union{},Union{},Tuple{},NamedTuple{(),Tuple{}}}, ::Function, ::OrderedCollections.OrderedDict{Module,OrderedCollections.OrderedDict{Revise.RelocatableExpr,Union{Nothing, Array{Any,1}}}}\u001b[1m)\u001b[22m at \u001b[1m/home/mat/.julia/packages/Revise/agmgx/src/Revise.jl:352\u001b[22m\n",
      " [11] \u001b[1minstantiate_sigs!\u001b[22m at \u001b[1m/home/mat/.julia/packages/Revise/agmgx/src/Revise.jl:349\u001b[22m [inlined]\n",
      " [12] \u001b[1mmaybe_parse_from_cache!\u001b[22m\u001b[1m(\u001b[22m::Revise.PkgData, ::String\u001b[1m)\u001b[22m at \u001b[1m/home/mat/.julia/packages/Revise/agmgx/src/pkgs.jl:224\u001b[22m\n",
      " [13] \u001b[1m(::getfield(Revise, Symbol(\"##26#27\")){String})\u001b[22m\u001b[1m(\u001b[22m\u001b[1m)\u001b[22m at \u001b[1m/home/mat/.julia/packages/Revise/agmgx/src/pkgs.jl:370\u001b[22m\n",
      " [14] \u001b[1mwith_logstate\u001b[22m\u001b[1m(\u001b[22m::getfield(Revise, Symbol(\"##26#27\")){String}, ::Base.CoreLogging.LogState\u001b[1m)\u001b[22m at \u001b[1m./logging.jl:395\u001b[22m\n",
      " [15] \u001b[1mwith_logger\u001b[22m at \u001b[1m./logging.jl:491\u001b[22m [inlined]\n",
      " [16] \u001b[1mwatch_manifest\u001b[22m\u001b[1m(\u001b[22m::String\u001b[1m)\u001b[22m at \u001b[1m/home/mat/.julia/packages/Revise/agmgx/src/pkgs.jl:349\u001b[22m\n",
      " [17] \u001b[1m(::Revise.Rescheduler{typeof(Revise.watch_manifest),Tuple{String}})\u001b[22m\u001b[1m(\u001b[22m\u001b[1m)\u001b[22m at \u001b[1m/home/mat/.julia/packages/Revise/agmgx/src/types.jl:235\u001b[22m\n",
      "while evaluating\n",
      "using Adapt\n",
      "in module Main.SparseDiffTools\n",
      "\u001b[91mArgumentError: Package ArrayInterface not found in current path:\u001b[39m\n",
      "\u001b[91m- Run `import Pkg; Pkg.add(\"ArrayInterface\")` to install the ArrayInterface package.\u001b[39m\n",
      "\n",
      "Stacktrace:\n",
      " [1] \u001b[1mrequire\u001b[22m\u001b[1m(\u001b[22m::Module, ::Symbol\u001b[1m)\u001b[22m at \u001b[1m./loading.jl:823\u001b[22m\n",
      " [2] \u001b[1meval\u001b[22m at \u001b[1m./boot.jl:328\u001b[22m [inlined]\n",
      " [3] \u001b[1mprepare_thunk\u001b[22m\u001b[1m(\u001b[22m::Module, ::Expr, ::Bool\u001b[1m)\u001b[22m at \u001b[1m/home/mat/.julia/packages/JuliaInterpreter/VHjfX/src/construct.jl:355\u001b[22m\n",
      " [4] \u001b[1mprepare_thunk\u001b[22m\u001b[1m(\u001b[22m::Module, ::Expr, ::Bool\u001b[1m)\u001b[22m at \u001b[1m/home/mat/.julia/packages/JuliaInterpreter/VHjfX/src/construct.jl:361\u001b[22m\n",
      " [5] \u001b[1mprepare_thunk\u001b[22m at \u001b[1m/home/mat/.julia/packages/JuliaInterpreter/VHjfX/src/construct.jl:347\u001b[22m [inlined]\n",
      " [6] \u001b[1m#methods_by_execution!#9\u001b[22m\u001b[1m(\u001b[22m::Base.Iterators.Pairs{Symbol,Bool,Tuple{Symbol},NamedTuple{(:define,),Tuple{Bool}}}, ::Function, ::Any, ::Revise.CodeTrackingMethodInfo, ::Dict{Module,Array{Expr,1}}, ::Module, ::Expr\u001b[1m)\u001b[22m at \u001b[1m/home/mat/.julia/packages/Revise/agmgx/src/lowered.jl:47\u001b[22m\n",
      " [7] \u001b[1m#methods_by_execution!\u001b[22m at \u001b[1m./none:0\u001b[22m [inlined]\n",
      " [8] \u001b[1m#eval_with_signatures#59\u001b[22m\u001b[1m(\u001b[22m::Bool, ::Base.Iterators.Pairs{Union{},Union{},Tuple{},NamedTuple{(),Tuple{}}}, ::Function, ::Module, ::Expr\u001b[1m)\u001b[22m at \u001b[1m/home/mat/.julia/packages/Revise/agmgx/src/Revise.jl:344\u001b[22m\n",
      " [9] \u001b[1m#eval_with_signatures\u001b[22m at \u001b[1m/home/mat/.julia/packages/Revise/agmgx/src/Revise.jl:0\u001b[22m [inlined]\n",
      " [10] \u001b[1m#instantiate_sigs!#60\u001b[22m\u001b[1m(\u001b[22m::Bool, ::Base.Iterators.Pairs{Union{},Union{},Tuple{},NamedTuple{(),Tuple{}}}, ::Function, ::OrderedCollections.OrderedDict{Module,OrderedCollections.OrderedDict{Revise.RelocatableExpr,Union{Nothing, Array{Any,1}}}}\u001b[1m)\u001b[22m at \u001b[1m/home/mat/.julia/packages/Revise/agmgx/src/Revise.jl:352\u001b[22m\n",
      " [11] \u001b[1minstantiate_sigs!\u001b[22m at \u001b[1m/home/mat/.julia/packages/Revise/agmgx/src/Revise.jl:349\u001b[22m [inlined]\n",
      " [12] \u001b[1mmaybe_parse_from_cache!\u001b[22m\u001b[1m(\u001b[22m::Revise.PkgData, ::String\u001b[1m)\u001b[22m at \u001b[1m/home/mat/.julia/packages/Revise/agmgx/src/pkgs.jl:224\u001b[22m\n",
      " [13] \u001b[1m(::getfield(Revise, Symbol(\"##26#27\")){String})\u001b[22m\u001b[1m(\u001b[22m\u001b[1m)\u001b[22m at \u001b[1m/home/mat/.julia/packages/Revise/agmgx/src/pkgs.jl:370\u001b[22m\n",
      " [14] \u001b[1mwith_logstate\u001b[22m\u001b[1m(\u001b[22m::getfield(Revise, Symbol(\"##26#27\")){String}, ::Base.CoreLogging.LogState\u001b[1m)\u001b[22m at \u001b[1m./logging.jl:395\u001b[22m\n",
      " [15] \u001b[1mwith_logger\u001b[22m at \u001b[1m./logging.jl:491\u001b[22m [inlined]\n",
      " [16] \u001b[1mwatch_manifest\u001b[22m\u001b[1m(\u001b[22m::String\u001b[1m)\u001b[22m at \u001b[1m/home/mat/.julia/packages/Revise/agmgx/src/pkgs.jl:349\u001b[22m\n",
      " [17] \u001b[1m(::Revise.Rescheduler{typeof(Revise.watch_manifest),Tuple{String}})\u001b[22m\u001b[1m(\u001b[22m\u001b[1m)\u001b[22m at \u001b[1m/home/mat/.julia/packages/Revise/agmgx/src/types.jl:235\u001b[22m\n",
      "while evaluating\n",
      "using SparseArrays, ArrayInterface\n",
      "in module Main.SparseDiffTools\n",
      "\u001b[91mArgumentError: Package BlockBandedMatrices not found in current path:\u001b[39m\n",
      "\u001b[91m- Run `import Pkg; Pkg.add(\"BlockBandedMatrices\")` to install the BlockBandedMatrices package.\u001b[39m\n",
      "\n",
      "Stacktrace:\n",
      " [1] \u001b[1mrequire\u001b[22m\u001b[1m(\u001b[22m::Module, ::Symbol\u001b[1m)\u001b[22m at \u001b[1m./loading.jl:823\u001b[22m\n",
      " [2] \u001b[1meval\u001b[22m at \u001b[1m./boot.jl:328\u001b[22m [inlined]\n",
      " [3] \u001b[1mprepare_thunk\u001b[22m\u001b[1m(\u001b[22m::Module, ::Expr, ::Bool\u001b[1m)\u001b[22m at \u001b[1m/home/mat/.julia/packages/JuliaInterpreter/VHjfX/src/construct.jl:355\u001b[22m\n",
      " [4] \u001b[1mprepare_thunk\u001b[22m\u001b[1m(\u001b[22m::Module, ::Expr, ::Bool\u001b[1m)\u001b[22m at \u001b[1m/home/mat/.julia/packages/JuliaInterpreter/VHjfX/src/construct.jl:361\u001b[22m\n",
      " [5] \u001b[1mprepare_thunk\u001b[22m at \u001b[1m/home/mat/.julia/packages/JuliaInterpreter/VHjfX/src/construct.jl:347\u001b[22m [inlined]\n",
      " [6] \u001b[1m#methods_by_execution!#9\u001b[22m\u001b[1m(\u001b[22m::Base.Iterators.Pairs{Symbol,Bool,Tuple{Symbol},NamedTuple{(:define,),Tuple{Bool}}}, ::Function, ::Any, ::Revise.CodeTrackingMethodInfo, ::Dict{Module,Array{Expr,1}}, ::Module, ::Expr\u001b[1m)\u001b[22m at \u001b[1m/home/mat/.julia/packages/Revise/agmgx/src/lowered.jl:47\u001b[22m\n",
      " [7] \u001b[1m#methods_by_execution!\u001b[22m at \u001b[1m./none:0\u001b[22m [inlined]\n",
      " [8] \u001b[1m#eval_with_signatures#59\u001b[22m\u001b[1m(\u001b[22m::Bool, ::Base.Iterators.Pairs{Union{},Union{},Tuple{},NamedTuple{(),Tuple{}}}, ::Function, ::Module, ::Expr\u001b[1m)\u001b[22m at \u001b[1m/home/mat/.julia/packages/Revise/agmgx/src/Revise.jl:344\u001b[22m\n",
      " [9] \u001b[1m#eval_with_signatures\u001b[22m at \u001b[1m/home/mat/.julia/packages/Revise/agmgx/src/Revise.jl:0\u001b[22m [inlined]\n",
      " [10] \u001b[1m#instantiate_sigs!#60\u001b[22m\u001b[1m(\u001b[22m::Bool, ::Base.Iterators.Pairs{Union{},Union{},Tuple{},NamedTuple{(),Tuple{}}}, ::Function, ::OrderedCollections.OrderedDict{Module,OrderedCollections.OrderedDict{Revise.RelocatableExpr,Union{Nothing, Array{Any,1}}}}\u001b[1m)\u001b[22m at \u001b[1m/home/mat/.julia/packages/Revise/agmgx/src/Revise.jl:352\u001b[22m\n",
      " [11] \u001b[1minstantiate_sigs!\u001b[22m at \u001b[1m/home/mat/.julia/packages/Revise/agmgx/src/Revise.jl:349\u001b[22m [inlined]\n",
      " [12] \u001b[1mmaybe_parse_from_cache!\u001b[22m\u001b[1m(\u001b[22m::Revise.PkgData, ::String\u001b[1m)\u001b[22m at \u001b[1m/home/mat/.julia/packages/Revise/agmgx/src/pkgs.jl:224\u001b[22m\n",
      " [13] \u001b[1m(::getfield(Revise, Symbol(\"##26#27\")){String})\u001b[22m\u001b[1m(\u001b[22m\u001b[1m)\u001b[22m at \u001b[1m/home/mat/.julia/packages/Revise/agmgx/src/pkgs.jl:370\u001b[22m\n",
      " [14] \u001b[1mwith_logstate\u001b[22m\u001b[1m(\u001b[22m::getfield(Revise, Symbol(\"##26#27\")){String}, ::Base.CoreLogging.LogState\u001b[1m)\u001b[22m at \u001b[1m./logging.jl:395\u001b[22m\n",
      " [15] \u001b[1mwith_logger\u001b[22m at \u001b[1m./logging.jl:491\u001b[22m [inlined]\n",
      " [16] \u001b[1mwatch_manifest\u001b[22m\u001b[1m(\u001b[22m::String\u001b[1m)\u001b[22m at \u001b[1m/home/mat/.julia/packages/Revise/agmgx/src/pkgs.jl:349\u001b[22m\n",
      " [17] \u001b[1m(::Revise.Rescheduler{typeof(Revise.watch_manifest),Tuple{String}})\u001b[22m\u001b[1m(\u001b[22m\u001b[1m)\u001b[22m at \u001b[1m/home/mat/.julia/packages/Revise/agmgx/src/types.jl:235\u001b[22m\n",
      "while evaluating\n",
      "using BlockBandedMatrices: blocksize, nblocks\n",
      "in module Main.SparseDiffTools\n",
      "\u001b[91mArgumentError: Package ForwardDiff not found in current path:\u001b[39m\n",
      "\u001b[91m- Run `import Pkg; Pkg.add(\"ForwardDiff\")` to install the ForwardDiff package.\u001b[39m\n",
      "\n",
      "Stacktrace:\n",
      " [1] \u001b[1mrequire\u001b[22m\u001b[1m(\u001b[22m::Module, ::Symbol\u001b[1m)\u001b[22m at \u001b[1m./loading.jl:823\u001b[22m\n",
      " [2] \u001b[1meval\u001b[22m at \u001b[1m./boot.jl:328\u001b[22m [inlined]\n",
      " [3] \u001b[1mprepare_thunk\u001b[22m\u001b[1m(\u001b[22m::Module, ::Expr, ::Bool\u001b[1m)\u001b[22m at \u001b[1m/home/mat/.julia/packages/JuliaInterpreter/VHjfX/src/construct.jl:355\u001b[22m\n",
      " [4] \u001b[1mprepare_thunk\u001b[22m\u001b[1m(\u001b[22m::Module, ::Expr, ::Bool\u001b[1m)\u001b[22m at \u001b[1m/home/mat/.julia/packages/JuliaInterpreter/VHjfX/src/construct.jl:361\u001b[22m\n",
      " [5] \u001b[1mprepare_thunk\u001b[22m at \u001b[1m/home/mat/.julia/packages/JuliaInterpreter/VHjfX/src/construct.jl:347\u001b[22m [inlined]\n",
      " [6] \u001b[1m#methods_by_execution!#9\u001b[22m\u001b[1m(\u001b[22m::Base.Iterators.Pairs{Symbol,Bool,Tuple{Symbol},NamedTuple{(:define,),Tuple{Bool}}}, ::Function, ::Any, ::Revise.CodeTrackingMethodInfo, ::Dict{Module,Array{Expr,1}}, ::Module, ::Expr\u001b[1m)\u001b[22m at \u001b[1m/home/mat/.julia/packages/Revise/agmgx/src/lowered.jl:47\u001b[22m\n",
      " [7] \u001b[1m#methods_by_execution!\u001b[22m at \u001b[1m./none:0\u001b[22m [inlined]\n",
      " [8] \u001b[1m#eval_with_signatures#59\u001b[22m\u001b[1m(\u001b[22m::Bool, ::Base.Iterators.Pairs{Union{},Union{},Tuple{},NamedTuple{(),Tuple{}}}, ::Function, ::Module, ::Expr\u001b[1m)\u001b[22m at \u001b[1m/home/mat/.julia/packages/Revise/agmgx/src/Revise.jl:344\u001b[22m\n",
      " [9] \u001b[1m#eval_with_signatures\u001b[22m at \u001b[1m/home/mat/.julia/packages/Revise/agmgx/src/Revise.jl:0\u001b[22m [inlined]\n",
      " [10] \u001b[1m#instantiate_sigs!#60\u001b[22m\u001b[1m(\u001b[22m::Bool, ::Base.Iterators.Pairs{Union{},Union{},Tuple{},NamedTuple{(),Tuple{}}}, ::Function, ::OrderedCollections.OrderedDict{Module,OrderedCollections.OrderedDict{Revise.RelocatableExpr,Union{Nothing, Array{Any,1}}}}\u001b[1m)\u001b[22m at \u001b[1m/home/mat/.julia/packages/Revise/agmgx/src/Revise.jl:352\u001b[22m\n",
      " [11] \u001b[1minstantiate_sigs!\u001b[22m at \u001b[1m/home/mat/.julia/packages/Revise/agmgx/src/Revise.jl:349\u001b[22m [inlined]\n",
      " [12] \u001b[1mmaybe_parse_from_cache!\u001b[22m\u001b[1m(\u001b[22m::Revise.PkgData, ::String\u001b[1m)\u001b[22m at \u001b[1m/home/mat/.julia/packages/Revise/agmgx/src/pkgs.jl:224\u001b[22m\n",
      " [13] \u001b[1m(::getfield(Revise, Symbol(\"##26#27\")){String})\u001b[22m\u001b[1m(\u001b[22m\u001b[1m)\u001b[22m at \u001b[1m/home/mat/.julia/packages/Revise/agmgx/src/pkgs.jl:370\u001b[22m\n",
      " [14] \u001b[1mwith_logstate\u001b[22m\u001b[1m(\u001b[22m::getfield(Revise, Symbol(\"##26#27\")){String}, ::Base.CoreLogging.LogState\u001b[1m)\u001b[22m at \u001b[1m./logging.jl:395\u001b[22m\n",
      " [15] \u001b[1mwith_logger\u001b[22m at \u001b[1m./logging.jl:491\u001b[22m [inlined]\n",
      " [16] \u001b[1mwatch_manifest\u001b[22m\u001b[1m(\u001b[22m::String\u001b[1m)\u001b[22m at \u001b[1m/home/mat/.julia/packages/Revise/agmgx/src/pkgs.jl:349\u001b[22m\n"
     ]
    },
    {
     "name": "stderr",
     "output_type": "stream",
     "text": [
      " [17] \u001b[1m(::Revise.Rescheduler{typeof(Revise.watch_manifest),Tuple{String}})\u001b[22m\u001b[1m(\u001b[22m\u001b[1m)\u001b[22m at \u001b[1m/home/mat/.julia/packages/Revise/agmgx/src/types.jl:235\u001b[22m\n",
      "while evaluating\n",
      "using ForwardDiff: Dual, jacobian, partials, DEFAULT_CHUNK_THRESHOLD\n",
      "in module Main.SparseDiffTools\n",
      "\u001b[91mArgumentError: Package ArrayInterface not found in current path:\u001b[39m\n",
      "\u001b[91m- Run `import Pkg; Pkg.add(\"ArrayInterface\")` to install the ArrayInterface package.\u001b[39m\n",
      "\n",
      "Stacktrace:\n",
      " [1] \u001b[1mrequire\u001b[22m\u001b[1m(\u001b[22m::Module, ::Symbol\u001b[1m)\u001b[22m at \u001b[1m./loading.jl:823\u001b[22m\n",
      " [2] \u001b[1meval\u001b[22m at \u001b[1m./boot.jl:328\u001b[22m [inlined]\n",
      " [3] \u001b[1mprepare_thunk\u001b[22m\u001b[1m(\u001b[22m::Module, ::Expr, ::Bool\u001b[1m)\u001b[22m at \u001b[1m/home/mat/.julia/packages/JuliaInterpreter/VHjfX/src/construct.jl:355\u001b[22m\n",
      " [4] \u001b[1mprepare_thunk\u001b[22m\u001b[1m(\u001b[22m::Module, ::Expr, ::Bool\u001b[1m)\u001b[22m at \u001b[1m/home/mat/.julia/packages/JuliaInterpreter/VHjfX/src/construct.jl:361\u001b[22m\n",
      " [5] \u001b[1mprepare_thunk\u001b[22m at \u001b[1m/home/mat/.julia/packages/JuliaInterpreter/VHjfX/src/construct.jl:347\u001b[22m [inlined]\n",
      " [6] \u001b[1m#methods_by_execution!#9\u001b[22m\u001b[1m(\u001b[22m::Base.Iterators.Pairs{Symbol,Bool,Tuple{Symbol},NamedTuple{(:define,),Tuple{Bool}}}, ::Function, ::Any, ::Revise.CodeTrackingMethodInfo, ::Dict{Module,Array{Expr,1}}, ::Module, ::Expr\u001b[1m)\u001b[22m at \u001b[1m/home/mat/.julia/packages/Revise/agmgx/src/lowered.jl:47\u001b[22m\n",
      " [7] \u001b[1m#methods_by_execution!\u001b[22m at \u001b[1m./none:0\u001b[22m [inlined]\n",
      " [8] \u001b[1m#eval_with_signatures#59\u001b[22m\u001b[1m(\u001b[22m::Bool, ::Base.Iterators.Pairs{Union{},Union{},Tuple{},NamedTuple{(),Tuple{}}}, ::Function, ::Module, ::Expr\u001b[1m)\u001b[22m at \u001b[1m/home/mat/.julia/packages/Revise/agmgx/src/Revise.jl:344\u001b[22m\n",
      " [9] \u001b[1m#eval_with_signatures\u001b[22m at \u001b[1m/home/mat/.julia/packages/Revise/agmgx/src/Revise.jl:0\u001b[22m [inlined]\n",
      " [10] \u001b[1m#instantiate_sigs!#60\u001b[22m\u001b[1m(\u001b[22m::Bool, ::Base.Iterators.Pairs{Union{},Union{},Tuple{},NamedTuple{(),Tuple{}}}, ::Function, ::OrderedCollections.OrderedDict{Module,OrderedCollections.OrderedDict{Revise.RelocatableExpr,Union{Nothing, Array{Any,1}}}}\u001b[1m)\u001b[22m at \u001b[1m/home/mat/.julia/packages/Revise/agmgx/src/Revise.jl:352\u001b[22m\n",
      " [11] \u001b[1minstantiate_sigs!\u001b[22m at \u001b[1m/home/mat/.julia/packages/Revise/agmgx/src/Revise.jl:349\u001b[22m [inlined]\n",
      " [12] \u001b[1mmaybe_parse_from_cache!\u001b[22m\u001b[1m(\u001b[22m::Revise.PkgData, ::String\u001b[1m)\u001b[22m at \u001b[1m/home/mat/.julia/packages/Revise/agmgx/src/pkgs.jl:224\u001b[22m\n",
      " [13] \u001b[1m(::getfield(Revise, Symbol(\"##26#27\")){String})\u001b[22m\u001b[1m(\u001b[22m\u001b[1m)\u001b[22m at \u001b[1m/home/mat/.julia/packages/Revise/agmgx/src/pkgs.jl:370\u001b[22m\n",
      " [14] \u001b[1mwith_logstate\u001b[22m\u001b[1m(\u001b[22m::getfield(Revise, Symbol(\"##26#27\")){String}, ::Base.CoreLogging.LogState\u001b[1m)\u001b[22m at \u001b[1m./logging.jl:395\u001b[22m\n",
      " [15] \u001b[1mwith_logger\u001b[22m at \u001b[1m./logging.jl:491\u001b[22m [inlined]\n",
      " [16] \u001b[1mwatch_manifest\u001b[22m\u001b[1m(\u001b[22m::String\u001b[1m)\u001b[22m at \u001b[1m/home/mat/.julia/packages/Revise/agmgx/src/pkgs.jl:349\u001b[22m\n",
      " [17] \u001b[1m(::Revise.Rescheduler{typeof(Revise.watch_manifest),Tuple{String}})\u001b[22m\u001b[1m(\u001b[22m\u001b[1m)\u001b[22m at \u001b[1m/home/mat/.julia/packages/Revise/agmgx/src/types.jl:235\u001b[22m\n",
      "while evaluating\n",
      "using ArrayInterface: matrix_colors\n",
      "in module Main.SparseDiffTools\n",
      "LoadError: \u001b[91mUndefVarError: @require not defined\u001b[39m\n",
      "Stacktrace:\n",
      " [1] top-level scope\n",
      " [2] \u001b[1mlower\u001b[22m at \u001b[1m./meta.jl:68\u001b[22m [inlined]\n",
      " [3] \u001b[1mprepare_thunk\u001b[22m\u001b[1m(\u001b[22m::Module, ::Expr, ::Bool\u001b[1m)\u001b[22m at \u001b[1m/home/mat/.julia/packages/JuliaInterpreter/VHjfX/src/construct.jl:360\u001b[22m\n",
      " [4] \u001b[1mprepare_thunk\u001b[22m at \u001b[1m/home/mat/.julia/packages/JuliaInterpreter/VHjfX/src/construct.jl:347\u001b[22m [inlined]\n",
      " [5] \u001b[1m#methods_by_execution!#9\u001b[22m\u001b[1m(\u001b[22m::Base.Iterators.Pairs{Symbol,Bool,Tuple{Symbol},NamedTuple{(:define,),Tuple{Bool}}}, ::Function, ::Any, ::Revise.CodeTrackingMethodInfo, ::Dict{Module,Array{Expr,1}}, ::Module, ::Expr\u001b[1m)\u001b[22m at \u001b[1m/home/mat/.julia/packages/Revise/agmgx/src/lowered.jl:47\u001b[22m\n",
      " [6] \u001b[1m#methods_by_execution!\u001b[22m at \u001b[1m./none:0\u001b[22m [inlined]\n",
      " [7] \u001b[1m#eval_with_signatures#59\u001b[22m\u001b[1m(\u001b[22m::Bool, ::Base.Iterators.Pairs{Union{},Union{},Tuple{},NamedTuple{(),Tuple{}}}, ::Function, ::Module, ::Expr\u001b[1m)\u001b[22m at \u001b[1m/home/mat/.julia/packages/Revise/agmgx/src/Revise.jl:344\u001b[22m\n",
      " [8] \u001b[1m#eval_with_signatures\u001b[22m at \u001b[1m/home/mat/.julia/packages/Revise/agmgx/src/Revise.jl:0\u001b[22m [inlined]\n",
      " [9] \u001b[1m#instantiate_sigs!#60\u001b[22m\u001b[1m(\u001b[22m::Bool, ::Base.Iterators.Pairs{Union{},Union{},Tuple{},NamedTuple{(),Tuple{}}}, ::Function, ::OrderedCollections.OrderedDict{Module,OrderedCollections.OrderedDict{Revise.RelocatableExpr,Union{Nothing, Array{Any,1}}}}\u001b[1m)\u001b[22m at \u001b[1m/home/mat/.julia/packages/Revise/agmgx/src/Revise.jl:352\u001b[22m\n",
      " [10] \u001b[1minstantiate_sigs!\u001b[22m at \u001b[1m/home/mat/.julia/packages/Revise/agmgx/src/Revise.jl:349\u001b[22m [inlined]\n",
      " [11] \u001b[1mmaybe_parse_from_cache!\u001b[22m\u001b[1m(\u001b[22m::Revise.PkgData, ::String\u001b[1m)\u001b[22m at \u001b[1m/home/mat/.julia/packages/Revise/agmgx/src/pkgs.jl:224\u001b[22m\n",
      " [12] \u001b[1m(::getfield(Revise, Symbol(\"##26#27\")){String})\u001b[22m\u001b[1m(\u001b[22m\u001b[1m)\u001b[22m at \u001b[1m/home/mat/.julia/packages/Revise/agmgx/src/pkgs.jl:370\u001b[22m\n",
      " [13] \u001b[1mwith_logstate\u001b[22m\u001b[1m(\u001b[22m::getfield(Revise, Symbol(\"##26#27\")){String}, ::Base.CoreLogging.LogState\u001b[1m)\u001b[22m at \u001b[1m./logging.jl:395\u001b[22m\n",
      " [14] \u001b[1mwith_logger\u001b[22m at \u001b[1m./logging.jl:491\u001b[22m [inlined]\n",
      " [15] \u001b[1mwatch_manifest\u001b[22m\u001b[1m(\u001b[22m::String\u001b[1m)\u001b[22m at \u001b[1m/home/mat/.julia/packages/Revise/agmgx/src/pkgs.jl:349\u001b[22m\n",
      " [16] \u001b[1m(::Revise.Rescheduler{typeof(Revise.watch_manifest),Tuple{String}})\u001b[22m\u001b[1m(\u001b[22m\u001b[1m)\u001b[22m at \u001b[1m/home/mat/.julia/packages/Revise/agmgx/src/types.jl:235\u001b[22m\n",
      "in expression starting at /home/mat/.julia/packages/SparseDiffTools/nsrHH/src/SparseDiffTools.jl:49\n",
      "while evaluating\n",
      "function __init__()\n",
      "    #= /home/mat/.julia/packages/SparseDiffTools/nsrHH/src/SparseDiffTools.jl:49 =#\n",
      "    #= /home/mat/.julia/packages/SparseDiffTools/nsrHH/src/SparseDiffTools.jl:49 =# @require Zygote = \"e88e6eb3-aa80-5325-afca-941959d7151f\" begin\n",
      "            #= /home/mat/.julia/packages/SparseDiffTools/nsrHH/src/SparseDiffTools.jl:50 =#\n",
      "            export numback_hesvec, numback_hesvec!, autoback_hesvec, autoback_hesvec!\n",
      "            #= /home/mat/.julia/packages/SparseDiffTools/nsrHH/src/SparseDiffTools.jl:52 =#\n",
      "            include(\"differentiation/jaches_products_zygote.jl\")\n",
      "        end\n",
      "end\n",
      "in module Main.SparseDiffTools\n"
     ]
    }
   ],
   "source": [
    "f = regen_forces(T, mean.(states), config);\n",
    "plot(re500_data[\"force\"][\"t\"], abs.(re500_data[\"force\"][\"F\"]), label = \"\\$\\\\mathrm{Re} = 500\\$ CFD\", xlim = (0,5),\n",
    "legend = false, linewidth = 2)\n",
    "plot!(T, 2abs.(f)[1:end-1], ylim = (0, 3), label = \"EnKF Mean\", ylabel=\"\\$F_n\\$\", xlabel = \"Convective Time\", size = (600, 300),\n",
    "linewidth = 2, linestyle = :dash)\n",
    "# savefig(\"EnKF\\ Results/Re500/2pulse01/no_inflation/force.pdf\")"
   ]
  },
  {
   "cell_type": "code",
   "execution_count": 574,
   "metadata": {},
   "outputs": [
    {
     "data": {
      "text/plain": [
       "0-element Array{Float64,1}"
      ]
     },
     "execution_count": 574,
     "metadata": {},
     "output_type": "execute_result"
    }
   ],
   "source": [
    "abs.(f)"
   ]
  },
  {
   "cell_type": "code",
   "execution_count": 575,
   "metadata": {},
   "outputs": [
    {
     "name": "stderr",
     "output_type": "stream",
     "text": [
      "\u001b[32mProgress:  61%|█████████████████████████▎               |  ETA: 0:00:37\u001b[39m"
     ]
    },
    {
     "ename": "InterruptException",
     "evalue": "InterruptException:",
     "output_type": "error",
     "traceback": [
      "InterruptException:",
      "",
      "Stacktrace:",
      " [1] Type at ./generator.jl:32 [inlined]",
      " [2] Type at ./generator.jl:38 [inlined]",
      " [3] map at ./abstractarray.jl:2018 [inlined]",
      " [4] FFTW.r2rFFTWPlan{Complex{Float64},Any,true,1}(::Array{Complex{Float64},1}, ::Array{Complex{Float64},1}, ::UnitRange{Int64}, ::Int64, ::UInt32, ::Float64) at /home/mat/.julia/packages/FFTW/2okGQ/src/fft.jl:595",
      " [5] #plan_r2r!#28 at /home/mat/.julia/packages/FFTW/2okGQ/src/fft.jl:774 [inlined]",
      " [6] plan_r2r! at /home/mat/.julia/packages/FFTW/2okGQ/src/fft.jl:774 [inlined]",
      " [7] #plan_r2r!#24 at /home/mat/.julia/packages/FFTW/2okGQ/src/fft.jl:756 [inlined]",
      " [8] plan_r2r! at /home/mat/.julia/packages/FFTW/2okGQ/src/fft.jl:756 [inlined]",
      " [9] plan_transform!(::Array{Complex{Float64},1}) at /home/mat/.julia/packages/PotentialFlow/InuJP/src/elements/plates/chebyshev.jl:12",
      " [10] Plate(::Int64, ::Float64, ::Complex{Float64}, ::Float64) at /home/mat/.julia/packages/PotentialFlow/InuJP/src/elements/Plates.jl:77",
      " [11] state_equation(::Array{Float64,1}, ::Float64, ::Config) at /media/mat/HDD/VortexModels/SparseVortex/Jupyter notebooks/merging_model.jl:92",
      " [12] top-level scope at In[575]:23",
      " [13] top-level scope at /home/mat/.julia/packages/ProgressMeter/NIpPa/src/ProgressMeter.jl:606",
      " [14] top-level scope at In[575]:7"
     ]
    }
   ],
   "source": [
    "tf = 5.0\n",
    "pressure_taps = 10:10:config.N-10\n",
    "T = 0:config.Δt:tf\n",
    "ϵ = 1e-4\n",
    "α = 1.01\n",
    "isenkf = true\n",
    "\n",
    "@showprogress for (n,t) in enumerate(T)\n",
    "    N = length(ens)\n",
    "    NZ = meas_size\n",
    "#     global ens\n",
    "#     global states\n",
    "##########################################################################\n",
    "    \"Propagate each ensemble member\"\n",
    "#     enkf.f(t, ens)\n",
    "    \n",
    "    push!(states, [])\n",
    "    empty_inds = Vector{Int}[]\n",
    "    len = Int[]\n",
    "    \n",
    "    # predicted_states (with merging)\n",
    "    for (i, state) in enumerate(states[end-1])\n",
    "        new_state = state_equation(state, t, config)\n",
    "        new_blobs, lesp, tesp = state_to_blobs(new_state, config.δ)\n",
    "        push!(empty_inds, findall(b -> circulation(b) == 0, new_blobs))\n",
    "        push!(len, length(new_blobs))\n",
    "        push!(states[end], new_state)\n",
    "    end\n",
    "    \n",
    "    # trim zeros\n",
    "    @assert all(len .== len[1])\n",
    "    toremove = intersect(empty_inds...)\n",
    "    tokeep = filter(i -> i ∉ toremove, 1:len[1])\n",
    "    for (i, state) in enumerate(states[end])\n",
    "        new_blobs, lesp, tesp = state_to_blobs(state, config.δ)\n",
    "        states[end][i] = blobs_to_state(new_blobs[tokeep], lesp, tesp)\n",
    "    end\n",
    "    \n",
    "\n",
    "\n",
    "##########################################################################\n",
    "    \"Covariance inflation if 'isinflated==true' \"\n",
    "#     if enkf.isinflated ==true\n",
    "#         enkf.A(ens)\n",
    "#     end\n",
    "    \n",
    "    \"State filtering if 'isfiltered==true' \"\n",
    "#     if enkf.isfiltered ==true\n",
    "#         enkf.G(ens)\n",
    "#     end\n",
    "\n",
    "#     states = deepcopy(ens.S)\n",
    "    \n",
    "    mean_state = mean(states[end])\n",
    "    \n",
    "    # Covariance inflation\n",
    "    for (j,x) in enumerate(states[end])\n",
    "        x .= mean_state .+ 1.01*(x .- mean_state)\n",
    "        if n > 5\n",
    "        for i in 1:3:size(mean_state, 1)-3\n",
    "            x[i:i+1] += 1e-5*randn(2)\n",
    "            x[i+2]   += 1e-5*randn()\n",
    "        end\n",
    "                x[end-1] = clamp(x[end-1] + 5e-5*randn(), 0.0, 3.0)\n",
    "        end\n",
    "    end\n",
    "    \n",
    "###########################################################################\n",
    "    \"Compute mean and deviation\"\n",
    "    \n",
    "#     Ŝ = deepcopy(mean(ens))\n",
    "\n",
    "#     ensfluc = EnsembleState(N, ens.S[1])\n",
    "\n",
    "#     deviation(ensfluc, ens)\n",
    "\n",
    "#     A′ = hcat(ensfluc)\n",
    "    \n",
    "    # Compute deviation from mean state\n",
    "\n",
    "    \n",
    "#     mean_state .= mean(ens)\n",
    "    \n",
    "    mean_state .= mean(states[end])\n",
    "    A′ = hcat(states[end]...)\n",
    "    A′ .-= mean_state\n",
    "\n",
    "\n",
    "##########################################################################    \n",
    "    \"Compute measurement\"\n",
    "    \n",
    "#     mens = EnsembleState(N, zeros(NZ))\n",
    "\n",
    "#     for (i, s) in enumerate(ens.S)\n",
    "#         mens.S[i] = enkf.m(t, deepcopy(s))\n",
    "#     end\n",
    "    \n",
    "    # compute measurements\n",
    "    P = [measure_state(s, t, config, pressure_taps) for s in states[end]]\n",
    "    \n",
    "    \n",
    "###########################################################################    \n",
    "#     Â = hcat(deepcopy(mens))\n",
    "#     # println(\"good measurement\")\n",
    "\n",
    "    \"Compute deviation from measurement of the mean\"\n",
    "#     Â′  = Â .- enkf.m(t, Ŝ)\n",
    "    \n",
    "    # compute deviation from measurement of the mean\n",
    "    Â = hcat(P...)\n",
    "    Â′= Â .- measure_state(mean_state, t, config, pressure_taps)\n",
    "\n",
    "\n",
    "##########################################################################    \n",
    "    \"Get actual measurement\"\n",
    "#     zens = EnsembleState(N, zeros(NZ))\n",
    "#     enkf.z(t+config.Δt, zens)\n",
    "    \n",
    "    \n",
    "    # get actual measurements\n",
    "D = repeat(cfd_pressure(t+config.Δt, pressure_taps, config, pressure_data), 1, ensemble_size)\n",
    "\n",
    "    \n",
    "##########################################################################    \n",
    "    \"Perturb actual measurement\"\n",
    "#     enkf.ϵ(zens)\n",
    "\n",
    "#     D = hcat(zens)\n",
    "    \n",
    "    # perturbe actual measurements\n",
    "    E = η*randn(size(Â′))\n",
    "    D .+= E\n",
    "    \n",
    "    \n",
    "\n",
    "##########################################################################\n",
    "    \"Analysis step with representers, Evensen, Leeuwen et al. 1998\"\n",
    "\n",
    "#     if enkf.isaugmented ==true\n",
    "#     \"Construct representers\"\n",
    "\n",
    "#     b = ((Â′*Â′') + (N-1)*cov(enkf.ϵ)*I) \\ (D - Â)\n",
    "\n",
    "#     Bᵀb = (A′*Â′')*b\n",
    "    \n",
    "    b = ((Â′*Â′') + (ensemble_size-1)*(η^2)*I) \\ (D - Â)\n",
    "    Bᵀb = (A′*Â′')*b\n",
    "    \n",
    "    \n",
    "    # print(size(Bᵀb))\n",
    "    # print(size(ens))\n",
    "    \n",
    "    \n",
    "###########################################################################\n",
    "#     \"Analysis step\"\n",
    "#     ens += cut(Bᵀb)\n",
    "\n",
    "\n",
    "#     \"State filtering if 'isfiltered==true' \"\n",
    "#     if enkf.isfiltered ==true\n",
    "#         enkf.G(ens)\n",
    "#     end\n",
    "    \n",
    "    for i in 1:ensemble_size\n",
    "        states[end][i] .+= Bᵀb[:,i]\n",
    "        states[end][i][end-1] = clamp(states[end][i][end-1], 0, 3)\n",
    "    end\n",
    "    \n",
    "    mean_state .= mean(states[end])\n",
    "\n",
    "#     end\n",
    "\n",
    "#     return t+Δt, ens\n",
    "#     push!(ttab, t + config.Δt)\n",
    "#     push!(enstab, states)\n",
    "end"
   ]
  },
  {
   "cell_type": "code",
   "execution_count": 576,
   "metadata": {},
   "outputs": [
    {
     "ename": "DimensionMismatch",
     "evalue": "DimensionMismatch(\"array could not be broadcast to match destination\")",
     "output_type": "error",
     "traceback": [
      "DimensionMismatch(\"array could not be broadcast to match destination\")",
      "",
      "Stacktrace:",
      " [1] check_broadcast_shape at ./broadcast.jl:456 [inlined]",
      " [2] check_broadcast_shape at ./broadcast.jl:457 [inlined]",
      " [3] check_broadcast_axes at /home/mat/.julia/packages/DiffEqBase/LCorD/src/diffeqfastbc.jl:19 [inlined]",
      " [4] check_broadcast_axes at ./broadcast.jl:463 [inlined]",
      " [5] instantiate at ./broadcast.jl:258 [inlined]",
      " [6] materialize!(::Array{Float64,2}, ::Base.Broadcast.Broadcasted{Base.Broadcast.DefaultArrayStyle{2},Nothing,typeof(+),Tuple{Array{Float64,2},Array{Float64,2}}}) at ./broadcast.jl:756",
      " [7] top-level scope at In[576]:63",
      " [8] top-level scope at /home/mat/.julia/packages/ProgressMeter/NIpPa/src/ProgressMeter.jl:606",
      " [9] top-level scope at In[576]:7"
     ]
    }
   ],
   "source": [
    "tf = 5.0\n",
    "pressure_taps = 10:10:config.N-10\n",
    "T = 0:config.Δt:tf\n",
    "ϵ = 1e-4\n",
    "α = 1.01\n",
    "isenkf = true\n",
    "@showprogress for (n,t) in enumerate(T)\n",
    "    push!(states, [])\n",
    "    empty_inds = Vector{Int}[]\n",
    "    len = Int[]\n",
    "    \n",
    "    # predicted_states (with merging)\n",
    "    for (i, state) in enumerate(states[end-1])\n",
    "        new_state = state_equation(state, t, config)\n",
    "        new_blobs, lesp, tesp = state_to_blobs(new_state, config.δ)\n",
    "        push!(empty_inds, findall(b -> circulation(b) == 0, new_blobs))\n",
    "        push!(len, length(new_blobs))\n",
    "        push!(states[end], new_state)\n",
    "    end\n",
    "    \n",
    "    # trim zeros\n",
    "    @assert all(len .== len[1])\n",
    "    toremove = intersect(empty_inds...)\n",
    "    tokeep = filter(i -> i ∉ toremove, 1:len[1])\n",
    "    for (i, state) in enumerate(states[end])\n",
    "        new_blobs, lesp, tesp = state_to_blobs(state, config.δ)\n",
    "        states[end][i] = blobs_to_state(new_blobs[tokeep], lesp, tesp)\n",
    "    end\n",
    "    \n",
    "    mean_state = mean(states[end])\n",
    "    \n",
    "    # Covariance inflation\n",
    "    if isenkf\n",
    "    for (j,x) in enumerate(states[end])\n",
    "        x .= mean_state .+ α*(x .- mean_state)\n",
    "        if n > 5\n",
    "        for i in 1:3:size(mean_state, 1)-3\n",
    "            x[i:i+1] += 1e-5*randn(2)\n",
    "            x[i+2]   += 1e-5*randn()\n",
    "        end\n",
    "                x[end-1] = clamp(x[end-1] + 5e-5*randn(), 0.0, 3.0)\n",
    "        end\n",
    "    end\n",
    "    mean_state .= mean(states[end])\n",
    "    \n",
    "    # Compute deviation from mean state\n",
    "    A′ = hcat(states[end]...)\n",
    "    A′ .-= mean_state\n",
    "\n",
    "    # compute measurements\n",
    "    P = [measure_state(s, t, config, pressure_taps) for s in states[end]]\n",
    "\n",
    "    # compute deviation from measurement of the mean\n",
    "    Â = hcat(P...)\n",
    "    Â′= Â .- measure_state(mean_state, t, config, pressure_taps)\n",
    "\n",
    "\n",
    "    # get actual measurements\n",
    "    D = repeat(cfd_pressure(t+config.Δt, pressure_taps, config, pressure_data), 1, ensemble_size)\n",
    "\n",
    "    # perturbe actual measurements\n",
    "    E = ϵ*randn(size(Â′))\n",
    "    D .+= E\n",
    "\n",
    "    b = ((Â′*Â′') + (ensemble_size-1)*(ϵ^2)*I) \\ (D - Â)\n",
    "    Bᵀb = (A′*Â′')*b\n",
    "\n",
    "\n",
    "    for i in 1:ensemble_size\n",
    "        states[end][i] .+= Bᵀb[:,i]\n",
    "        states[end][i][end-1] = clamp(states[end][i][end-1], 0, 3)\n",
    "    end\n",
    "    \n",
    "    mean_state .= mean(states[end])\n",
    "    # Compute deviation from mean state\n",
    "    A′ = hcat(states[end]...)\n",
    "    A′ .-= mean_state\n",
    "    push!(covs, A′*A′')\n",
    "    end\n",
    "    \n",
    "end"
   ]
  },
  {
   "cell_type": "markdown",
   "metadata": {},
   "source": [
    "One of the ensemble member"
   ]
  },
  {
   "cell_type": "code",
   "execution_count": 577,
   "metadata": {},
   "outputs": [
    {
     "ename": "DimensionMismatch",
     "evalue": "DimensionMismatch(\"array could not be broadcast to match destination\")",
     "output_type": "error",
     "traceback": [
      "DimensionMismatch(\"array could not be broadcast to match destination\")",
      "",
      "Stacktrace:",
      " [1] check_broadcast_shape at ./broadcast.jl:456 [inlined]",
      " [2] check_broadcast_shape at ./broadcast.jl:457 [inlined]",
      " [3] check_broadcast_axes at /home/mat/.julia/packages/DiffEqBase/LCorD/src/diffeqfastbc.jl:19 [inlined]",
      " [4] check_broadcast_axes at ./broadcast.jl:463 [inlined]",
      " [5] instantiate at ./broadcast.jl:258 [inlined]",
      " [6] materialize!(::Array{Float64,2}, ::Base.Broadcast.Broadcasted{Base.Broadcast.DefaultArrayStyle{2},Nothing,typeof(+),Tuple{Array{Float64,2},Array{Float64,2}}}) at ./broadcast.jl:756",
      " [7] top-level scope at In[577]:61",
      " [8] top-level scope at /home/mat/.julia/packages/ProgressMeter/NIpPa/src/ProgressMeter.jl:606",
      " [9] top-level scope at In[577]:5"
     ]
    }
   ],
   "source": [
    "\n",
    "ϵ = 1e-4\n",
    "α = 1.01\n",
    "isenkf = true\n",
    "@showprogress for (n,t) in enumerate(T)\n",
    "    push!(states, [])\n",
    "    empty_inds = Vector{Int}[]\n",
    "    len = Int[]\n",
    "    \n",
    "    # predicted_states (with merging)\n",
    "    for (i, state) in enumerate(states[end-1])\n",
    "        new_state = state_equation(state, t, config)\n",
    "        new_blobs, lesp, tesp = state_to_blobs(new_state, config.δ)\n",
    "        push!(empty_inds, findall(b -> circulation(b) == 0, new_blobs))\n",
    "        push!(len, length(new_blobs))\n",
    "        push!(states[end], new_state)\n",
    "    end\n",
    "    \n",
    "    # trim zeros\n",
    "    @assert all(len .== len[1])\n",
    "    toremove = intersect(empty_inds...)\n",
    "    tokeep = filter(i -> i ∉ toremove, 1:len[1])\n",
    "    for (i, state) in enumerate(states[end])\n",
    "        new_blobs, lesp, tesp = state_to_blobs(state, config.δ)\n",
    "        states[end][i] = blobs_to_state(new_blobs[tokeep], lesp, tesp)\n",
    "    end\n",
    "    \n",
    "    mean_state = mean(states[end])\n",
    "    \n",
    "    # Covariance inflation\n",
    "    if isenkf\n",
    "    for (j,x) in enumerate(states[end])\n",
    "        x .= mean_state .+ α*(x .- mean_state)\n",
    "        if n > 5\n",
    "        for i in 1:3:size(mean_state, 1)-3\n",
    "            x[i:i+1] += 1e-5*randn(2)\n",
    "            x[i+2]   += 1e-5*randn()\n",
    "        end\n",
    "                x[end-1] = clamp(x[end-1] + 5e-5*randn(), 0.0, 3.0)\n",
    "        end\n",
    "    end\n",
    "    mean_state .= mean(states[end])\n",
    "    \n",
    "    # Compute deviation from mean state\n",
    "    A′ = hcat(states[end]...)\n",
    "    A′ .-= mean_state\n",
    "\n",
    "    # compute measurements\n",
    "    P = [measure_state(s, t, config, pressure_taps) for s in states[end]]\n",
    "\n",
    "    # compute deviation from measurement of the mean\n",
    "    Â = hcat(P...)\n",
    "    Â′= Â .- measure_state(mean_state, t, config, pressure_taps)\n",
    "\n",
    "\n",
    "    # get actual measurements\n",
    "    D = repeat(cfd_pressure(t+config.Δt, pressure_taps, config, pressure_data), 1, ensemble_size)\n",
    "\n",
    "    # perturbe actual measurements\n",
    "    E = ϵ*randn(size(Â′))\n",
    "    D .+= E\n",
    "\n",
    "    b = ((Â′*Â′') + (ensemble_size-1)*(ϵ^2)*I) \\ (D - Â)\n",
    "    Bᵀb = (A′*Â′')*b\n",
    "\n",
    "\n",
    "    for i in 1:ensemble_size\n",
    "        states[end][i] .+= Bᵀb[:,i]\n",
    "        states[end][i][end-1] = clamp(states[end][i][end-1], 0, 3)\n",
    "    end\n",
    "    \n",
    "    mean_state .= mean(states[end])\n",
    "    # Compute deviation from mean state\n",
    "    A′ = hcat(states[end]...)\n",
    "    A′ .-= mean_state\n",
    "    push!(covs, A′*A′')\n",
    "    end\n",
    "    \n",
    "end"
   ]
  },
  {
   "cell_type": "code",
   "execution_count": 578,
   "metadata": {},
   "outputs": [
    {
     "data": {
      "text/plain": [
       "member_state (generic function with 1 method)"
      ]
     },
     "execution_count": 578,
     "metadata": {},
     "output_type": "execute_result"
    }
   ],
   "source": [
    "member_state(ensemble_state, i) =  [ensemble_state[t][i] for t = 1:size(ensemble_state,1)]"
   ]
  },
  {
   "cell_type": "code",
   "execution_count": 579,
   "metadata": {},
   "outputs": [
    {
     "ename": "BoundsError",
     "evalue": "BoundsError: attempt to access 2-element Array{Array{Float64,1},1} at index [10]",
     "output_type": "error",
     "traceback": [
      "BoundsError: attempt to access 2-element Array{Array{Float64,1},1} at index [10]",
      "",
      "Stacktrace:",
      " [1] getindex at ./array.jl:729 [inlined]",
      " [2] #291 at ./none:0 [inlined]",
      " [3] iterate at ./generator.jl:47 [inlined]",
      " [4] collect_to! at ./array.jl:651 [inlined]",
      " [5] collect_to_with_first! at ./array.jl:630 [inlined]",
      " [6] collect(::Base.Generator{UnitRange{Int64},getfield(Main, Symbol(\"##291#292\")){Array{Array{Array{Float64,1},1},1},Int64}}) at ./array.jl:611",
      " [7] member_state(::Array{Array{Array{Float64,1},1},1}, ::Int64) at ./In[578]:1",
      " [8] top-level scope at In[579]:1"
     ]
    }
   ],
   "source": [
    "member_state(states,10)[4] - states[4][10]\n",
    "\n",
    "member_state(states,50)[150] - states[150][50];"
   ]
  },
  {
   "cell_type": "code",
   "execution_count": 580,
   "metadata": {},
   "outputs": [
    {
     "data": {
      "text/plain": [
       "20-element Array{Float64,1}:\n",
       "  0.4997659794938844   \n",
       "  0.18134935773014457  \n",
       " -0.010890823597862857 \n",
       " -0.4643504918481886   \n",
       " -0.1695835153903572   \n",
       " -0.16026700306495217  \n",
       "  0.4569735045792772   \n",
       "  0.1674518119307742   \n",
       "  0.015001972995016842 \n",
       " -0.49829991627617914  \n",
       " -0.15899666307221186  \n",
       " -0.017594881638576226 \n",
       "  0.4818697713736404   \n",
       "  0.1649349254260933   \n",
       "  0.036704981609432905 \n",
       " -0.4745649245225691   \n",
       " -0.18212170235903538  \n",
       " -0.0035193335797679536\n",
       "  0.5160343878997691   \n",
       "  0.0                  "
      ]
     },
     "execution_count": 580,
     "metadata": {},
     "output_type": "execute_result"
    }
   ],
   "source": [
    "mean.(states)[4]"
   ]
  },
  {
   "cell_type": "code",
   "execution_count": 581,
   "metadata": {},
   "outputs": [
    {
     "ename": "BoundsError",
     "evalue": "BoundsError: attempt to access 2-element Array{Array{Float64,1},1} at index [25]",
     "output_type": "error",
     "traceback": [
      "BoundsError: attempt to access 2-element Array{Array{Float64,1},1} at index [25]",
      "",
      "Stacktrace:",
      " [1] getindex at ./array.jl:729 [inlined]",
      " [2] #291 at ./none:0 [inlined]",
      " [3] iterate at ./generator.jl:47 [inlined]",
      " [4] collect_to! at ./array.jl:651 [inlined]",
      " [5] collect_to_with_first! at ./array.jl:630 [inlined]",
      " [6] collect(::Base.Generator{UnitRange{Int64},getfield(Main, Symbol(\"##291#292\")){Array{Array{Array{Float64,1},1},1},Int64}}) at ./array.jl:611",
      " [7] member_state(::Array{Array{Array{Float64,1},1},1}, ::Int64) at ./In[578]:1",
      " [8] top-level scope at In[581]:1"
     ]
    }
   ],
   "source": [
    "member_state(states,25)[150] "
   ]
  },
  {
   "cell_type": "code",
   "execution_count": 582,
   "metadata": {},
   "outputs": [
    {
     "ename": "BoundsError",
     "evalue": "BoundsError: attempt to access 501-element StepRangeLen{Float64,Base.TwicePrecision{Float64},Base.TwicePrecision{Float64}} at index [502]",
     "output_type": "error",
     "traceback": [
      "BoundsError: attempt to access 501-element StepRangeLen{Float64,Base.TwicePrecision{Float64},Base.TwicePrecision{Float64}} at index [502]",
      "",
      "Stacktrace:",
      " [1] throw_boundserror(::StepRangeLen{Float64,Base.TwicePrecision{Float64},Base.TwicePrecision{Float64}}, ::Tuple{Int64}) at ./abstractarray.jl:484",
      " [2] checkbounds at ./abstractarray.jl:449 [inlined]",
      " [3] getindex at ./range.jl:638 [inlined]",
      " [4] regen_forces(::StepRangeLen{Float64,Base.TwicePrecision{Float64},Base.TwicePrecision{Float64}}, ::Array{Array{Float64,1},1}, ::Config) at /media/mat/HDD/VortexModels/SparseVortex/Jupyter notebooks/merging_model.jl:171",
      " [5] top-level scope at In[582]:1"
     ]
    }
   ],
   "source": [
    "f1 = regen_forces(T, member_state(states,1), config);\n",
    "plot(re500_data[\"force\"][\"t\"], abs.(re500_data[\"force\"][\"F\"]), label = \"\\$\\\\mathrm{Re} = 500\\$ CFD\", xlim = (0,5),\n",
    "legend = false, linewidth = 2)\n",
    "plot!(T, 2abs.(f1)[1:end-1], ylim = (0, 3), label = \"EnKF Mean\", ylabel=\"\\$F_n\\$\", xlabel = \"Convective Time\", size = (600, 300),\n",
    "linewidth = 2, linestyle = :dash)\n",
    "# savefig(\"EnKF\\ Results/Re500/2pulse01/no_inflation/force.pdf\")"
   ]
  },
  {
   "cell_type": "code",
   "execution_count": 583,
   "metadata": {},
   "outputs": [
    {
     "ename": "BoundsError",
     "evalue": "BoundsError: attempt to access 2-element Array{Array{Float64,1},1} at index [50]",
     "output_type": "error",
     "traceback": [
      "BoundsError: attempt to access 2-element Array{Array{Float64,1},1} at index [50]",
      "",
      "Stacktrace:",
      " [1] getindex at ./array.jl:729 [inlined]",
      " [2] #291 at ./none:0 [inlined]",
      " [3] iterate at ./generator.jl:47 [inlined]",
      " [4] collect_to! at ./array.jl:651 [inlined]",
      " [5] collect_to_with_first! at ./array.jl:630 [inlined]",
      " [6] collect(::Base.Generator{UnitRange{Int64},getfield(Main, Symbol(\"##291#292\")){Array{Array{Array{Float64,1},1},1},Int64}}) at ./array.jl:611",
      " [7] member_state(::Array{Array{Array{Float64,1},1},1}, ::Int64) at ./In[578]:1",
      " [8] top-level scope at In[583]:1"
     ]
    }
   ],
   "source": [
    "# plt = plot(re500_data[\"force\"][\"t\"], abs.(re500_data[\"force\"][\"F\"]), label = \"\\$\\\\mathrm{Re} = 500\\$ CFD\", xlim = (0,5),\n",
    "# legend = false, linewidth = 2)\n",
    "# for i = 1:10#ensemble_size\n",
    "\n",
    "f = regen_forces(T, member_state(states,50), config);\n",
    "\n",
    "plot!(T, 2abs.(f)[1:end-1], ylim = (0, 3), label = \"EnKF Mean\", ylabel=\"\\$F_n\\$\", xlabel = \"Convective Time\", size = (600, 300),\n",
    "linewidth = 1, linestyle = :dash)\n",
    "# savefig(\"EnKF\\ Results/Re500/2pulse01/no_inflation/force.pdf\")\n",
    "# end\n",
    "# plt"
   ]
  },
  {
   "cell_type": "code",
   "execution_count": 584,
   "metadata": {},
   "outputs": [
    {
     "ename": "BoundsError",
     "evalue": "BoundsError: attempt to access 2-element Array{Array{Float64,1},1} at index [10]",
     "output_type": "error",
     "traceback": [
      "BoundsError: attempt to access 2-element Array{Array{Float64,1},1} at index [10]",
      "",
      "Stacktrace:",
      " [1] getindex at ./array.jl:729 [inlined]",
      " [2] #291 at ./none:0 [inlined]",
      " [3] iterate at ./generator.jl:47 [inlined]",
      " [4] collect_to! at ./array.jl:651 [inlined]",
      " [5] collect_to_with_first! at ./array.jl:630 [inlined]",
      " [6] collect(::Base.Generator{UnitRange{Int64},getfield(Main, Symbol(\"##291#292\")){Array{Array{Array{Float64,1},1},1},Int64}}) at ./array.jl:611",
      " [7] member_state(::Array{Array{Array{Float64,1},1},1}, ::Int64) at ./In[578]:1",
      " [8] top-level scope at In[584]:1"
     ]
    }
   ],
   "source": [
    "f1 = regen_forces(T, member_state(states,10), config);\n",
    "f2 = regen_forces(T, member_state(states,50), config);"
   ]
  },
  {
   "cell_type": "code",
   "execution_count": 585,
   "metadata": {},
   "outputs": [
    {
     "ename": "UndefVarError",
     "evalue": "UndefVarError: f1 not defined",
     "output_type": "error",
     "traceback": [
      "UndefVarError: f1 not defined",
      "",
      "Stacktrace:",
      " [1] top-level scope at In[585]:1"
     ]
    }
   ],
   "source": [
    "plot(T, 2abs.(f1)[1:end-1])#, ylim = (0, 3), label = \"EnKF Mean\", ylabel=\"\\$F_n\\$\", xlabel = \"Convective Time\", size = (600, 300),\n",
    "# linewidth = 2, linestyle = :dash)\n",
    "plot!(T, 2abs.(f2)[1:end-1])#, ylim = (0, 3), label = \"EnKF Mean\", ylabel=\"\\$F_n\\$\", xlabel = \"Convective Time\", size = (600, 300),\n",
    "# linewidth = 2, linestyle = :dash)"
   ]
  },
  {
   "cell_type": "code",
   "execution_count": 586,
   "metadata": {},
   "outputs": [
    {
     "ename": "UndefVarError",
     "evalue": "UndefVarError: f1 not defined",
     "output_type": "error",
     "traceback": [
      "UndefVarError: f1 not defined",
      "",
      "Stacktrace:",
      " [1] top-level scope at In[586]:1"
     ]
    }
   ],
   "source": [
    "plot(T, 2abs.(f1)[1:end-1])#, ylim = (0, 3), label = \"EnKF Mean\", ylabel=\"\\$F_n\\$\", xlabel = \"Convective Time\", size = (600, 300),\n",
    "# linewidth = 2, linestyle = :dash)\n",
    "plot!(T, 2abs.(f2)[1:end-1])#, ylim = (0, 3), label = \"EnKF Mean\", ylabel=\"\\$F_n\\$\", xlabel = \"Convective Time\", size = (600, 300),\n",
    "# linewidth = 2, linestyle = :dash)"
   ]
  },
  {
   "cell_type": "code",
   "execution_count": 587,
   "metadata": {},
   "outputs": [],
   "source": [
    "# f = regen_forces(T, mean.(states), config);\n",
    "# plot(re500_data[\"force\"][\"t\"], abs.(re500_data[\"force\"][\"F\"]), label = \"\\$\\\\mathrm{Re} = 500\\$ CFD\", xlim = (0,5),\n",
    "# legend = false, linewidth = 2)\n",
    "# plot!(T, 2abs.(f)[1:end-1], ylim = (0, 3), label = \"EnKF Mean\", ylabel=\"\\$F_n\\$\", xlabel = \"Convective Time\", size = (600, 300),\n",
    "# linewidth = 2, linestyle = :dash)\n",
    "# # savefig(\"EnKF\\ Results/Re500/2pulse01/no_inflation/force.pdf\")"
   ]
  },
  {
   "cell_type": "code",
   "execution_count": 588,
   "metadata": {},
   "outputs": [
    {
     "name": "stderr",
     "output_type": "stream",
     "text": [
      "Internal error: encountered unexpected error in runtime:\n",
      "InterruptException()\n",
      "jl_mutex_unlock at /buildworker/worker/package_linux64/build/src/locks.h:138 [inlined]\n",
      "jl_typeinf_end at /buildworker/worker/package_linux64/build/src/gf.c:2623\n",
      "typeinf_ext at ./compiler/typeinfer.jl:577\n",
      "typeinf_ext at ./compiler/typeinfer.jl:613\n",
      "jfptr_typeinf_ext_1.clone_1 at /home/mat/julia-1.1.1/lib/julia/sys.so (unknown line)\n",
      "jl_apply_generic at /buildworker/worker/package_linux64/build/src/gf.c:2197\n",
      "jl_apply at /buildworker/worker/package_linux64/build/src/julia.h:1571 [inlined]\n",
      "jl_type_infer at /buildworker/worker/package_linux64/build/src/gf.c:255\n",
      "jl_compile_method_internal at /buildworker/worker/package_linux64/build/src/gf.c:1797 [inlined]\n",
      "jl_fptr_trampoline at /buildworker/worker/package_linux64/build/src/gf.c:1841\n",
      "jl_apply_generic at /buildworker/worker/package_linux64/build/src/gf.c:2197\n",
      "do_call at /buildworker/worker/package_linux64/build/src/interpreter.c:323\n",
      "eval_value at /buildworker/worker/package_linux64/build/src/interpreter.c:411\n",
      "eval_stmt_value at /buildworker/worker/package_linux64/build/src/interpreter.c:362 [inlined]\n",
      "eval_body at /buildworker/worker/package_linux64/build/src/interpreter.c:773\n",
      "jl_interpret_toplevel_thunk_callback at /buildworker/worker/package_linux64/build/src/interpreter.c:885\n",
      "Interpreter frame (ip: 53)\n",
      "Core.CodeInfo(code=Array{Any, (71,)}[\n",
      "  Expr(:thunk, Core.CodeInfo(code=Array{Any, (4,)}[\n",
      "  Expr(:global, Symbol(\"##293#296\")),\n",
      "  Expr(:const, Symbol(\"##293#296\")),\n",
      "  Expr(:struct_type, Symbol(\"##293#296\"), Expr(:call, Core.svec), Expr(:call, Core.svec), Core.Function, Expr(:call, Core.svec), false, 0),\n",
      "  Expr(:return, nothing)], codelocs=Array{Int32, (4,)}[1, 1, 1, 1], method_for_inference_limit_heuristics=nothing, ssavaluetypes=4, linetable=Array{Any, (1,)}[Core.LineInfoNode(mod=Main, method=Symbol(\"top-level scope\"), file=:none, line=0, inlined_at=0)], ssaflags=Array{UInt8, (0,)}[], slotflags=Array{UInt8, (0,)}[], slotnames=Array{Any, (0,)}[], inferred=false, inlineable=false, propagate_inbounds=false, pure=false)),\n",
      "  Expr(:call, Core.svec, Symbol(\"##293#296\"), Core.Any),\n",
      "  Expr(:call, Core.svec),\n",
      "  Expr(:call, Core.svec, SSAValue(2), SSAValue(3)),\n",
      "  Expr(:method, false, SSAValue(4), Core.CodeInfo(code=Array{Any, (5,)}[\n",
      "  Expr(:call, Base.getproperty, Main.config, :(:L)),\n",
      "  Expr(:call, Main.:(*), -0.5, SSAValue(1)),\n",
      "  Expr(:call, Main.cos, Core.SlotNumber(id=2)),\n",
      "  Expr(:call, Main.:(*), SSAValue(2), SSAValue(3)),\n",
      "  Expr(:return, SSAValue(4))], codelocs=Array{Int32, (5,)}[1, 1, 1, 1, 1], method_for_inference_limit_heuristics=nothing, ssavaluetypes=5, linetable=Array{Any, (1,)}[Core.LineInfoNode(mod=Main, method=Symbol(\"#293\"), file=:none, line=0, inlined_at=0)], ssaflags=Array{UInt8, (0,)}[], slotflags=Array{UInt8, (2,)}[0x00, 0x00], slotnames=Array{Any, (2,)}[\n",
      "  Symbol(\"#self#\"),\n",
      "  :θ], inferred=false, inlineable=false, propagate_inbounds=false, pure=false)),\n",
      "  Core.SlotNumber(id=1) = Expr(:new, Symbol(\"##293#296\")),\n",
      "  Core.SlotNumber(id=1),\n",
      "  Expr(:call, Core.tuple, :(:stop), :(:length)),\n",
      "  Expr(:call, Core.apply_type, Core.NamedTuple, SSAValue(8)),\n",
      "  Expr(:call, Base.getproperty, :config, :(:N)),\n",
      "  Expr(:call, Core.tuple, :π, SSAValue(10)),\n",
      "  Expr(:call, SSAValue(9), SSAValue(11)),\n",
      "  Expr(:call, Core.kwfunc, :range),\n",
      "  Expr(:call, SSAValue(13), SSAValue(12), :range, 0),\n",
      "  Expr(:call, Base.Generator, SSAValue(7), SSAValue(14)),\n",
      "  Expr(:call, Base.collect, SSAValue(15)),\n",
      "  Core.SlotNumber(id=2) = Expr(:call, Base.getindex, SSAValue(16), :pressure_taps),\n",
      "  Expr(:thunk, Core.CodeInfo(code=Array{Any, (4,)}[\n",
      "  Expr(:global, Symbol(\"##294#297\")),\n",
      "  Expr(:const, Symbol(\"##294#297\")),\n",
      "  Expr(:struct_type, Symbol(\"##294#297\"), Expr(:call, Core.svec), Expr(:call, Core.svec), Core.Function, Expr(:call, Core.svec), false, 0),\n",
      "  Expr(:return, nothing)], codelocs=Array{Int32, (4,)}[1, 1, 1, 1], method_for_inference_limit_heuristics=nothing, ssavaluetypes=4, linetable=Array{Any, (1,)}[Core.LineInfoNode(mod=Main, method=Symbol(\"top-level scope\"), file=:none, line=0, inlined_at=0)], ssaflags=Array{UInt8, (0,)}[], slotflags=Array{UInt8, (0,)}[], slotnames=Array{Any, (0,)}[], inferred=false, inlineable=false, propagate_inbounds=false, pure=false)),\n",
      "  Expr(:call, Core.svec, Symbol(\"##294#297\"), Core.Any),\n",
      "  Expr(:call, Core.svec),\n",
      "  Expr(:call, Core.svec, SSAValue(19), SSAValue(20)),\n",
      "  Expr(:method, false, SSAValue(21), Core.CodeInfo(code=Array{Any, (11,)}[\n",
      "  Expr(:call, Base.indexed_iterate, Core.SlotNumber(id=2), 1),\n",
      "  Core.SlotNumber(id=3) = Expr(:call, Core.getfield, SSAValue(1), 1),\n",
      "  Core.SlotNumber(id=5) = Expr(:call, Core.getfield, SSAValue(1), 2),\n",
      "  Expr(:call, Base.indexed_iterate, Core.SlotNumber(id=2), 2, Core.SlotNumber(id=5)),\n",
      "  Core.SlotNumber(id=4) = Expr(:call, Core.getfield, SSAValue(4), 1),\n",
      "  Expr(:call, Main.:(+), Core.SlotNumber(id=3), 1),\n",
      "  Expr(:call, Base.getindex, Main.states, SSAValue(6)),\n",
      "  Expr(:call, Main.mean, SSAValue(7)),\n",
      "  Core.SlotNumber(id=4),\n",
      "  Expr(:call, Main.measure_state, SSAValue(8), SSAValue(9), Main.config, Main.pressure_taps),\n",
      "  Expr(:return, SSAValue(10))], codelocs=Array{Int32, (11,)}[1, 1, 1, 1, 1, 1, 1, 1, 1, 1, 1], method_for_inference_limit_heuristics=nothing, ssavaluetypes=11, linetable=Array{Any, (1,)}[Core.LineInfoNode(mod=Main, method=Symbol(\"#294\"), file=:none, line=0, inlined_at=0)], ssaflags=Array{UInt8, (0,)}[], slotflags=Array{UInt8, (5,)}[0x00, 0x00, 0x10, 0x10, 0x10], slotnames=Array{Any, (5,)}[\n",
      "  Symbol(\"#self#\"),\n",
      "  Symbol(\"#temp#\"),\n",
      "  :i,\n",
      "  :t,\n",
      "  Symbol(\"#temp#\")], inferred=false, inlineable=false, propagate_inbounds=false, pure=false)),\n",
      "  Core.SlotNumber(id=3) = Expr(:new, Symbol(\"##294#297\")),\n",
      "  Core.SlotNumber(id=3),\n",
      "  Expr(:call, :enumerate, :T),\n",
      "  Expr(:call, Base.Generator, SSAValue(24), SSAValue(25)),\n",
      "  Core.SlotNumber(id=4) = Expr(:call, Core._apply, :hcat, SSAValue(26)),\n",
      "  Expr(:thunk, Core.CodeInfo(code=Array{Any, (4,)}[\n",
      "  Expr(:global, Symbol(\"##295#298\")),\n",
      "  Expr(:const, Symbol(\"##295#298\")),\n",
      "  Expr(:struct_type, Symbol(\"##295#298\"), Expr(:call, Core.svec), Expr(:call, Core.svec), Core.Function, Expr(:call, Core.svec), false, 0),\n",
      "  Expr(:return, nothing)], codelocs=Array{Int32, (4,)}[1, 1, 1, 1], method_for_inference_limit_heuristics=nothing, ssavaluetypes=4, linetable=Array{Any, (1,)}[Core.LineInfoNode(mod=Main, method=Symbol(\"top-level scope\"), file=:none, line=0, inlined_at=0)], ssaflags=Array{UInt8, (0,)}[], slotflags=Array{UInt8, (0,)}[], slotnames=Array{Any, (0,)}[], inferred=false, inlineable=false, propagate_inbounds=false, pure=false)),\n",
      "  Expr(:call, Core.svec, Symbol(\"##295#298\"), Core.Any),\n",
      "  Expr(:call, Core.svec),\n",
      "  Expr(:call, Core.svec, SSAValue(29), SSAValue(30)),\n",
      "  Expr(:method, false, SSAValue(31), Core.CodeInfo(code=Array{Any, (2,)}[\n",
      "  Expr(:call, Main.cfd_pressure, Core.SlotNumber(id=2), Main.pressure_taps, Main.config, Main.pressure_data),\n",
      "  Expr(:return, SSAValue(1))], codelocs=Array{Int32, (2,)}[1, 1], method_for_inference_limit_heuristics=nothing, ssavaluetypes=2, linetable=Array{Any, (1,)}[Core.LineInfoNode(mod=Main, method=Symbol(\"#295\"), file=:none, line=0, inlined_at=0)], ssaflags=Array{UInt8, (0,)}[], slotflags=Array{UInt8, (2,)}[0x00, 0x00], slotnames=Array{Any, (2,)}[\n",
      "  Symbol(\"#self#\"),\n",
      "  :t], inferred=false, inlineable=false, propagate_inbounds=false, pure=false)),\n",
      "  Core.SlotNumber(id=5) = Expr(:new, Symbol(\"##295#298\")),\n",
      "  Core.SlotNumber(id=5),\n",
      "  Expr(:call, Base.Generator, SSAValue(34), :T),\n",
      "  Core.SlotNumber(id=7) = Expr(:call, Core._apply, :hcat, SSAValue(35)),\n",
      "  Expr(:call, Core.tuple, 2, 1),\n",
      "  Expr(:call, Core.tuple, 800, 400),\n",
      "  Expr(:call, Core.tuple, :(:layout), :(:size)),\n",
      "  Expr(:call, Core.apply_type, Core.NamedTuple, SSAValue(39)),\n",
      "  Expr(:call, Core.tuple, SSAValue(37), SSAValue(38)),\n",
      "  Expr(:call, SSAValue(40), SSAValue(41)),\n",
      "  Expr(:call, Core.kwfunc, :plot),\n",
      "  Core.SlotNumber(id=6) = Expr(:call, SSAValue(43), SSAValue(42), :plot),\n",
      "  Expr(:call, Base.vect, Core.SlotNumber(id=7), Core.SlotNumber(id=4)),\n",
      "  Expr(:call, Base.hcat, \"$\\mathrm{Re} = 500$ CFD\", \"EnKF Mean\"),\n",
      "  Expr(:call, Core.tuple, :(:stop), :(:length)),\n",
      "  Expr(:call, Core.apply_type, Core.NamedTuple, SSAValue(47)),\n",
      "  Expr(:call, Core.tuple, 2, 151),\n",
      "  Expr(:call, SSAValue(48), SSAValue(49)),\n",
      "  Expr(:call, Core.kwfunc, :range),\n",
      "  Expr(:call, SSAValue(51), SSAValue(50), :range, -2),\n",
      "  Expr(:call, Core.tuple, -2, 2),\n",
      "  Expr(:call, :colormap, \"RdBu\"),\n",
      "  Expr(:call, :reverse, SSAValue(54)),\n",
      "  Expr(:call, :cgrad, SSAValue(55)),\n",
      "  Expr(:call, Base.hcat, \"\", \"Convective Time\"),\n",
      "  Expr(:call, Base.vect, 0.5, -0.5),\n",
      "  Expr(:call, Base.vect, \"LE\", \"TE\"),\n",
      "  Expr(:call, Core.tuple, SSAValue(58), SSAValue(59)),\n",
      "  Expr(:call, :colormap, \"RdBu\"),\n",
      "  Expr(:call, Base.lastindex, SSAValue(61)),\n",
      "  Expr(:call, Base.getindex, SSAValue(61), SSAValue(62)),\n",
      "  Expr(:call, Core.tuple, :(:title), :(:levels), :(:clims), :(:color), :(:xlabel), :(:yticks), :(:background_color_inside), :(:colorbar_title)),\n",
      "  Expr(:call, Core.apply_type, Core.NamedTuple, SSAValue(64)),\n",
      "  Expr(:call, Core.tuple, SSAValue(46), SSAValue(52), SSAValue(53), SSAValue(56), SSAValue(57), SSAValue(60), SSAValue(63), \"Pressure\"),\n",
      "  Expr(:call, SSAValue(65), SSAValue(66)),\n",
      "  Expr(:call, Core.kwfunc, :contourf!),\n",
      "  Core.SlotNumber(id=2),\n",
      "  Expr(:call, SSAValue(68), SSAValue(67), :contourf!, :T, SSAValue(69), SSAValue(45)),\n",
      "  Expr(:return, SSAValue(70))], codelocs=Array{Int32, (71,)}[1, 1, 1, 1, 1, 1, 1, 1, 1, 1, 1, 1, 1, 1, 1, 1, 1, 1, 1, 1, 1, 1, 1, 1, 1, 1, 1, 1, 1, 1, 1, 1, 1, 1, 1, 1, 2, 2, 2, 2, 2, 2, 2, 2, 3, 3, 3, 3, 3, 3, 3, 3, 3, 3, 3, 3, 3, 3, 3, 3, 3, 3, 3, 3, 3, 3, 3, 3, 3, 3, 3], method_for_inference_limit_heuristics=nothing, ssavaluetypes=71, linetable=Array{Any, (3,)}[\n",
      "  Core.LineInfoNode(mod=Main, method=Symbol(\"top-level scope\"), file=Symbol(\"In[588]\"), line=1, inlined_at=0),\n",
      "  Core.LineInfoNode(mod=Main, method=Symbol(\"top-level scope\"), file=Symbol(\"In[588]\"), line=5, inlined_at=0),\n",
      "  Core.LineInfoNode(mod=Main, method=Symbol(\"top-level scope\"), file=Symbol(\"In[588]\"), line=6, inlined_at=0)], ssaflags=Array{UInt8, (0,)}[], slotflags=Array{UInt8, (7,)}[0x10, 0x10, 0x10, 0x10, 0x10, 0x10, 0x10], slotnames=Array{Any, (7,)}[\n",
      "  Symbol(\"#293\"),\n",
      "  :s,\n",
      "  Symbol(\"#294\"),\n",
      "  :model_pressures,\n",
      "  Symbol(\"#295\"),\n",
      "  :plt,\n",
      "  :cfd_pressures], inferred=false, inlineable=false, propagate_inbounds=false, pure=false)jl_interpret_toplevel_thunk at /buildworker/worker/package_linux64/build/src/interpreter.c:894\n",
      "jl_toplevel_eval_flex at /buildworker/worker/package_linux64/build/src/toplevel.c:764\n",
      "jl_toplevel_eval_in at /buildworker/worker/package_linux64/build/src/toplevel.c:793\n",
      "eval at ./boot.jl:328 [inlined]\n",
      "softscope_include_string at /home/mat/.julia/packages/SoftGlobalScope/cSbw5/src/SoftGlobalScope.jl:218\n",
      "execute_request at /home/mat/.julia/packages/IJulia/cwvsj/src/execute_request.jl:67\n",
      "jl_apply_generic at /buildworker/worker/package_linux64/build/src/gf.c:2197\n",
      "jl_apply at /buildworker/worker/package_linux64/build/src/julia.h:1571 [inlined]\n",
      "jl_f__apply at /buildworker/worker/package_linux64/build/src/builtins.c:556\n",
      "jl_f__apply_latest at /buildworker/worker/package_linux64/build/src/builtins.c:594\n",
      "#invokelatest#1 at ./essentials.jl:742 [inlined]\n",
      "invokelatest at ./essentials.jl:741 [inlined]\n",
      "eventloop at /home/mat/.julia/packages/IJulia/cwvsj/src/eventloop.jl:8\n",
      "#15 at ./task.jl:259\n",
      "jl_fptr_trampoline at /buildworker/worker/package_linux64/build/src/gf.c:1842\n",
      "jl_apply_generic at /buildworker/worker/package_linux64/build/src/gf.c:2197\n",
      "jl_apply at /buildworker/worker/package_linux64/build/src/julia.h:1571 [inlined]\n",
      "start_task at /buildworker/worker/package_linux64/build/src/task.c:572\n",
      "unknown function (ip: 0xffffffffffffffff)\n"
     ]
    },
    {
     "ename": "ErrorException",
     "evalue": "type Array has no field surf",
     "output_type": "error",
     "traceback": [
      "type Array has no field surf",
      "",
      "Stacktrace:",
      " [1] getproperty(::Any, ::Symbol) at ./sysimg.jl:18",
      " [2] py_add_series(::Plots.Plot{Plots.PyPlotBackend}, ::Plots.Series) at /home/mat/.julia/packages/Plots/l0VjU/src/backends/pyplot.jl:643",
      " [3] _before_layout_calcs(::Plots.Plot{Plots.PyPlotBackend}) at /home/mat/.julia/packages/Plots/l0VjU/src/backends/pyplot.jl:975",
      " [4] prepare_output(::Plots.Plot{Plots.PyPlotBackend}) at /home/mat/.julia/packages/Plots/l0VjU/src/plot.jl:254",
      " [5] show(::Base64.Base64EncodePipe, ::MIME{Symbol(\"image/png\")}, ::Plots.Plot{Plots.PyPlotBackend}) at /home/mat/.julia/packages/Plots/l0VjU/src/output.jl:197",
      " [6] #base64encode#3(::Nothing, ::Function, ::Function, ::MIME{Symbol(\"image/png\")}, ::Vararg{Any,N} where N) at /buildworker/worker/package_linux64/build/usr/share/julia/stdlib/v1.1/Base64/src/encode.jl:206",
      " [7] base64encode(::Function, ::MIME{Symbol(\"image/png\")}, ::Vararg{Any,N} where N) at /buildworker/worker/package_linux64/build/usr/share/julia/stdlib/v1.1/Base64/src/encode.jl:203",
      " [8] _ijulia_display_dict(::Plots.Plot{Plots.PyPlotBackend}) at /home/mat/.julia/packages/Plots/l0VjU/src/ijulia.jl:47",
      " [9] display_dict(::Plots.Plot{Plots.PyPlotBackend}) at /home/mat/.julia/packages/Plots/l0VjU/src/init.jl:42",
      " [10] #invokelatest#1 at ./essentials.jl:742 [inlined]",
      " [11] invokelatest at ./essentials.jl:741 [inlined]",
      " [12] execute_request(::ZMQ.Socket, ::IJulia.Msg) at /home/mat/.julia/packages/IJulia/cwvsj/src/execute_request.jl:112",
      " [13] #invokelatest#1 at ./essentials.jl:742 [inlined]",
      " [14] invokelatest at ./essentials.jl:741 [inlined]",
      " [15] eventloop(::ZMQ.Socket) at /home/mat/.julia/packages/IJulia/cwvsj/src/eventloop.jl:8",
      " [16] (::getfield(IJulia, Symbol(\"##15#18\")))() at ./task.jl:259"
     ]
    }
   ],
   "source": [
    "let s = [-0.5config.L*cos(θ) for θ in range(0.0, stop = π, length = config.N)][pressure_taps],\n",
    "    model_pressures = hcat((measure_state(mean(states[i+1]), t, config, pressure_taps) for (i,t) in enumerate(T))...),\n",
    "    cfd_pressures = hcat((cfd_pressure(t, pressure_taps, config, pressure_data) for t in T)...)\n",
    "    \n",
    "    plt = plot(layout = (2,1), size = (800, 400))\n",
    "    contourf!(T, s, [cfd_pressures, model_pressures], title = [\"\\$\\\\mathrm{Re} = 500\\$ CFD\" \"EnKF Mean\"],\n",
    "        levels = range(-2.0, stop  = 2.0, length = 151), clims = (-2, 2), color = cgrad(reverse(colormap(\"RdBu\"))), xlabel = [\"\" \"Convective Time\"],\n",
    "        yticks = ([0.5, -0.5], [\"LE\", \"TE\"]), background_color_inside = colormap(\"RdBu\")[end], colorbar_title=\"Pressure\")\n",
    "end\n",
    "# savefig(\"EnKF\\ Results/Re500"
   ]
  },
  {
   "cell_type": "code",
   "execution_count": 589,
   "metadata": {},
   "outputs": [],
   "source": [
    "# let s = [-0.5config.L*cos(θ) for θ in linspace(0, π, config.N)][pressure_taps],\n",
    "#     model_pressures = hcat((measure_state(mean(states[i+1]), t, config, pressure_taps) for (i,t) in enumerate(T))...),\n",
    "#     cfd_pressures = hcat((cfd_pressure(t, pressure_taps, config, pressure_data) for t in T)...)\n",
    "    \n",
    "#     plt = plot(layout = (2,1), size = (800, 400))\n",
    "#     contourf!(T, s, [cfd_pressures, model_pressures], title = [\"\\$\\\\mathrm{Re} = 500\\$ CFD\" \"EnKF Mean\"],\n",
    "#         levels = linspace(-2, 2, 151), clims = (-2, 2), color = cgrad(reverse(colormap(\"RdBu\"))), xlabel = [\"\" \"Convective Time\"],\n",
    "#         yticks = ([0.5, -0.5], [\"LE\", \"TE\"]), background_color_inside = colormap(\"RdBu\")[end], colorbar_title=\"Pressure\")\n",
    "# end\n",
    "# # savefig(\"EnKF\\ Results/Re500/2pulse01/no_inflation/pressure_comparison.pdf\")"
   ]
  },
  {
   "cell_type": "code",
   "execution_count": 590,
   "metadata": {},
   "outputs": [
    {
     "data": {
      "image/png": "[encoded data removed]"
     },
     "execution_count": 590,
     "metadata": {},
     "output_type": "execute_result"
    }
   ],
   "source": [
    "plot(T, [mean((x -> x[end-1]).(s)) for s in states[2:end]], legend = false,\n",
    "    xlabel = \"Convective Time\", ylabel = \"Critical LESP\", linewidth = 2, size = (600, 200),\n",
    "ylim = (0, 1))\n",
    "# savefig(\"EnKF\\ Results/Re500/2pulse01/no_inflation/lesp.pdf\")"
   ]
  },
  {
   "cell_type": "code",
   "execution_count": 591,
   "metadata": {},
   "outputs": [
    {
     "data": {
      "image/png": "[encoded data removed]"
     },
     "execution_count": 591,
     "metadata": {},
     "output_type": "execute_result"
    }
   ],
   "source": [
    "plot(T, [mean((x -> x[end-1]).(s)) for s in states[2:end]], legend = false,\n",
    "    xlabel = \"Convective Time\", ylabel = \"Critical LESP\", linewidth = 2, size = (600, 200),\n",
    "ylim = (0, 1))\n",
    "# savefig(\"EnKF\\ Results/Re500/2pulse01/no_inflation/lesp.pdf\")"
   ]
  },
  {
   "cell_type": "code",
   "execution_count": 592,
   "metadata": {},
   "outputs": [
    {
     "data": {
      "image/png": "[encoded data removed]"
     },
     "execution_count": 592,
     "metadata": {},
     "output_type": "execute_result"
    }
   ],
   "source": [
    "plot(T, [(length(s[1]) - 2) ÷ 3 for s in states[1:end-1]], linewidth = 2, size = (600, 200), legend = false,\n",
    "xlabel = \"Convective Time\", ylabel=\"Particle Count\")\n",
    "# savefig(\"EnKF\\ Results/Re500/2pulse01/no_inflation/particle_count.pdf\")"
   ]
  },
  {
   "cell_type": "code",
   "execution_count": 593,
   "metadata": {},
   "outputs": [
    {
     "data": {
      "image/png": "[encoded data removed]"
     },
     "execution_count": 593,
     "metadata": {},
     "output_type": "execute_result"
    }
   ],
   "source": [
    "plot(T, [(length(s[1]) - 2) ÷ 3 for s in states[1:end-1]], linewidth = 2, size = (600, 200), legend = false,\n",
    "xlabel = \"Convective Time\", ylabel=\"Particle Count\")\n",
    "# savefig(\"EnKF\\ Results/Re500/2pulse01/no_inflation/particle_count.pdf\")"
   ]
  },
  {
   "cell_type": "code",
   "execution_count": 594,
   "metadata": {},
   "outputs": [
    {
     "ename": "DivideError",
     "evalue": "DivideError: integer division error",
     "output_type": "error",
     "traceback": [
      "DivideError: integer division error",
      "",
      "Stacktrace:",
      " [1] div at ./int.jl:232 [inlined]",
      " [2] fld at ./int.jl:241 [inlined]",
      " [3] mod at ./int.jl:221 [inlined]",
      " [4] mod1(::Int64, ::Int64) at ./operators.jl:736",
      " [5] fix_xy_lengths!(::Plots.Plot{Plots.PyPlotBackend}, ::Plots.Series) at /home/mat/.julia/packages/Plots/l0VjU/src/backends/pyplot.jl:226",
      " [6] py_add_series(::Plots.Plot{Plots.PyPlotBackend}, ::Plots.Series) at /home/mat/.julia/packages/Plots/l0VjU/src/backends/pyplot.jl:377",
      " [7] _before_layout_calcs(::Plots.Plot{Plots.PyPlotBackend}) at /home/mat/.julia/packages/Plots/l0VjU/src/backends/pyplot.jl:975",
      " [8] prepare_output(::Plots.Plot{Plots.PyPlotBackend}) at /home/mat/.julia/packages/Plots/l0VjU/src/plot.jl:254",
      " [9] show(::Base64.Base64EncodePipe, ::MIME{Symbol(\"image/png\")}, ::Plots.Plot{Plots.PyPlotBackend}) at /home/mat/.julia/packages/Plots/l0VjU/src/output.jl:197",
      " [10] #base64encode#3(::Nothing, ::Function, ::Function, ::MIME{Symbol(\"image/png\")}, ::Vararg{Any,N} where N) at /buildworker/worker/package_linux64/build/usr/share/julia/stdlib/v1.1/Base64/src/encode.jl:206",
      " [11] base64encode(::Function, ::MIME{Symbol(\"image/png\")}, ::Vararg{Any,N} where N) at /buildworker/worker/package_linux64/build/usr/share/julia/stdlib/v1.1/Base64/src/encode.jl:203",
      " [12] _ijulia_display_dict(::Plots.Plot{Plots.PyPlotBackend}) at /home/mat/.julia/packages/Plots/l0VjU/src/ijulia.jl:47",
      " [13] display_dict(::Plots.Plot{Plots.PyPlotBackend}) at /home/mat/.julia/packages/Plots/l0VjU/src/init.jl:42",
      " [14] #invokelatest#1 at ./essentials.jl:742 [inlined]",
      " [15] invokelatest at ./essentials.jl:741 [inlined]",
      " [16] execute_request(::ZMQ.Socket, ::IJulia.Msg) at /home/mat/.julia/packages/IJulia/cwvsj/src/execute_request.jl:112",
      " [17] #invokelatest#1 at ./essentials.jl:742 [inlined]",
      " [18] invokelatest at ./essentials.jl:741 [inlined]",
      " [19] eventloop(::ZMQ.Socket) at /home/mat/.julia/packages/IJulia/cwvsj/src/eventloop.jl:8",
      " [20] (::getfield(IJulia, Symbol(\"##15#18\")))() at ./task.jl:259"
     ]
    }
   ],
   "source": [
    "plt = plot(layout = (2,2), size = (800, 500), legend = false)\n",
    "plot!(plt[1], T, map(covs) do P\n",
    "        mean(diag(P)[1:3:end-3]) + eps()\n",
    "        end, ylim = (1e-15, 1e-2), yscale = :log10, linewidth = 2, xlabel = \"Convective Time\",\n",
    "ylabel = \"\\$\\\\sigma_x^2\\$\")\n",
    "plot!(plt[2], T, map(covs) do P\n",
    "        mean(diag(P)[2:3:end-3]) + eps()\n",
    "        end, ylim = (1e-15, 1e-2), yscale = :log10, linewidth = 2, xlabel = \"Convective Time\",\n",
    "ylabel = \"\\$\\\\sigma_y^2\\$\")\n",
    "plot!(plt[3],T,  map(covs) do P\n",
    "        mean(diag(P)[3:3:end-3]) + eps()\n",
    "        end, ylim = (1e-15, 1e-2), yscale = :log10, linewidth = 2, xlabel = \"Convective Time\",\n",
    "ylabel = \"\\$\\\\sigma_\\\\Gamma^2\\$\")\n",
    "plot!(plt[4], T, map(covs) do P\n",
    "        mean(diag(P)[end-1]) + eps()\n",
    "        end, ylim = (1e-15, 1e-2), yscale = :log10, linewidth = 2, xlabel = \"Convective Time\",\n",
    "ylabel = \"\\$\\\\sigma_\\\\mathrm{LESP}^2\\$\")\n",
    "# savefig(\"EnKF\\ Results/Re500/2pulse01/no_inflation/covariance.pdf\")"
   ]
  },
  {
   "cell_type": "markdown",
   "metadata": {},
   "source": [
    "### Snapshot Figures"
   ]
  },
  {
   "cell_type": "code",
   "execution_count": 595,
   "metadata": {},
   "outputs": [
    {
     "data": {
      "image/png": "[encoded data removed]"
     },
     "execution_count": 595,
     "metadata": {},
     "output_type": "execute_result"
    }
   ],
   "source": [
    "n = 500\n",
    "# for n in [250, 300, 350, 400, 450, 500]\n",
    "plt = plot(colorbar = :none, size = (750, 450), dpi = 120)\n",
    "plot!(plt, Plate(config.N, config.L, config.Δt*n, config.α), ratio = 1, legend = false)\n",
    "plot!(plt, state_to_blobs(mean(states[n]), config.δ)[1], markersize = 15sqrt.(abs.(mean(states[n])[3:3:end-2])), markerstrokealpha = 0, color = cgrad(reverse(colormap(\"RdBu\"))), clim = (-0.02, 0.02), \n",
    "    ratio = 1, xlim = (n/100 - 2, n/100 + 1), ylim = (-0.75,1), xticks = (n/100 - 2):0.5:(n/100 + 1)\n",
    ")\n",
    "# savefig(\"EnKF\\ Results/Re500/2pulse01/no_inflation/enkf_t$(lpad(n, 3, 0)).pdf\")\n",
    "\n",
    "# plt = plot(colorbar = :none, size = (750, 450), dpi = 120)\n",
    "# contour!(plt, n/100 - re500_data[\"vorticity\"][\"x\"], re500_data[\"vorticity\"][\"y\"],\n",
    "#     transpose(re500_data[\"vorticity\"][\"vorticity\"][n÷5]), levels = linspace(-30, 30, 100),\n",
    "#     color = :RdBu, clim = (-20, 20),\n",
    "#     xlim = (n/100 - 2, n/100 + 1), ylim = (-0.75, 1), ratio = 1, legend = :none, xticks = (n/100 - 2):0.5:(n/100 + 1))\n",
    "# savefig(\"EnKF\\ Results/Re500/2pulse01/multiplicative_inflation/cfd_t$(lpad(n, 3, 0)).pdf\")\n",
    "# end"
   ]
  },
  {
   "cell_type": "code",
   "execution_count": 596,
   "metadata": {},
   "outputs": [
    {
     "data": {
      "text/plain": [
       "Array{RGB{Float64},1}"
      ]
     },
     "execution_count": 596,
     "metadata": {},
     "output_type": "execute_result"
    }
   ],
   "source": [
    "typeof(reverse(colormap(\"RdBu\")))"
   ]
  },
  {
   "cell_type": "code",
   "execution_count": 597,
   "metadata": {},
   "outputs": [
    {
     "ename": "LoadError",
     "evalue": "syntax: extra token \")\" after end of expression",
     "output_type": "error",
     "traceback": [
      "syntax: extra token \")\" after end of expression",
      ""
     ]
    }
   ],
   "source": [
    "ColorSchemes.RdBu_9)"
   ]
  },
  {
   "cell_type": "code",
   "execution_count": 598,
   "metadata": {},
   "outputs": [
    {
     "ename": "MethodError",
     "evalue": "MethodError: no method matching cgrad_colors(::ColorScheme)\nClosest candidates are:\n  cgrad_colors(!Matched::Array{RGBA{Float64},1}) at /home/mat/.julia/packages/PlotUtils/35TGG/src/color_gradients.jl:173\n  cgrad_colors(!Matched::ColorGradient) at /home/mat/.julia/packages/PlotUtils/35TGG/src/color_gradients.jl:172\n  cgrad_colors(!Matched::Symbol; color_library) at /home/mat/.julia/packages/PlotUtils/35TGG/src/color_gradients.jl:164\n  ...",
     "output_type": "error",
     "traceback": [
      "MethodError: no method matching cgrad_colors(::ColorScheme)\nClosest candidates are:\n  cgrad_colors(!Matched::Array{RGBA{Float64},1}) at /home/mat/.julia/packages/PlotUtils/35TGG/src/color_gradients.jl:173\n  cgrad_colors(!Matched::ColorGradient) at /home/mat/.julia/packages/PlotUtils/35TGG/src/color_gradients.jl:172\n  cgrad_colors(!Matched::Symbol; color_library) at /home/mat/.julia/packages/PlotUtils/35TGG/src/color_gradients.jl:164\n  ...",
      "",
      "Stacktrace:",
      " [1] _color_list(::ColorScheme, ::Nothing) at /home/mat/.julia/packages/PlotUtils/35TGG/src/color_gradients.jl:177",
      " [2] #cgrad#21(::Nothing, ::Symbol, ::Function, ::ColorScheme) at /home/mat/.julia/packages/PlotUtils/35TGG/src/color_gradients.jl:206",
      " [3] cgrad(::ColorScheme) at /home/mat/.julia/packages/PlotUtils/35TGG/src/color_gradients.jl:206",
      " [4] top-level scope at In[598]:1"
     ]
    }
   ],
   "source": [
    "cgrad(ColorSchemes.RdBu_9)"
   ]
  },
  {
   "cell_type": "code",
   "execution_count": 599,
   "metadata": {},
   "outputs": [
    {
     "ename": "BoundsError",
     "evalue": "BoundsError: attempt to access 501-element StepRangeLen{Float64,Base.TwicePrecision{Float64},Base.TwicePrecision{Float64}} at index [502]",
     "output_type": "error",
     "traceback": [
      "BoundsError: attempt to access 501-element StepRangeLen{Float64,Base.TwicePrecision{Float64},Base.TwicePrecision{Float64}} at index [502]",
      "",
      "Stacktrace:",
      " [1] throw_boundserror(::StepRangeLen{Float64,Base.TwicePrecision{Float64},Base.TwicePrecision{Float64}}, ::Tuple{Int64}) at ./abstractarray.jl:484",
      " [2] checkbounds at ./abstractarray.jl:449 [inlined]",
      " [3] getindex at ./range.jl:638 [inlined]",
      " [4] regen_forces(::StepRangeLen{Float64,Base.TwicePrecision{Float64},Base.TwicePrecision{Float64}}, ::Array{Array{Float64,1},1}, ::Config) at /media/mat/HDD/VortexModels/SparseVortex/Jupyter notebooks/merging_model.jl:171",
      " [5] top-level scope at In[599]:1"
     ]
    }
   ],
   "source": [
    "f = regen_forces(T, mean.(states), config);\n",
    "n = 350\n",
    "# @showprogress for (i,n) in enumerate(5:5:500)\n",
    "l = @layout [  grid(1, 2)\n",
    "               b{0.5h} ]\n",
    "\n",
    "plt = plot(layout = l, colorbar = :none, size = (1000, 800), dpi = 120)\n",
    "plot!(plt[1], Plate(config.N, config.L, config.Δt*n, config.α), ratio = 1, legend = false)\n",
    "plot!(plt[1], state_to_blobs(mean(states[n]), config.δ)[1], markersize = 15sqrt.(abs.(mean(states[n])[3:3:end-2])), markerstrokealpha = 0, color = cgrad(reverse(colormap(\"RdBu\"))), clim = (-0.02, 0.02), \n",
    "    ratio = 1, xlim = (n/100 - 2, n/100 + 1), ylim = (-0.75,1),\n",
    "    xticks = [], yticks = [])\n",
    "    contour!(plt[2], re500_data[\"vorticity\"][\"x\"], re500_data[\"vorticity\"][\"y\"],\n",
    "    reverse(transpose(re500_data[\"vorticity\"][\"vorticity\"][n÷5 + 1]), dims = 2), levels = range(-20.0, stop = 20.0, length = 100),\n",
    "    color = cgrad((colormap(\"RdBu\"))), clim = (-20, 20),\n",
    "    xlim = (1.5, 4.5), ylim = (-0.75, 1), ratio = 1, legend = :none, xticks = [], yticks = []\n",
    ")   \n",
    "plot!(plt[3], re500_data[\"force\"][\"t\"][1:10n], abs.(re500_data[\"force\"][\"F\"][1:10n]), linewidth = 2, label = \"\\$\\\\mathrm{Re} = 500\\$ CFD\")\n",
    "plot!(plt[3], T[1:n], 2abs.(f)[1:n], label = \"EnKF Mean\", linewidth = 2, linestyle = :dash, ylabel=\"\\$F_n\\$\", xlabel = \"Convective Time\", xlim = (0, 5), ylim = (0, 3))\n",
    "# plot!(plt[3], T[1:n], abs.(re500_data[\"force\"][\"F\"])[1:n], label = \"EnKF Mean\", linewidth = 2, linestyle = :dash, ylabel=\"\\$F_n\\$\", xlabel = \"Convective Time\", xlim = (0, 5), ylim = (0, 3))\n",
    "\n",
    "# savefig(\"EnKF\\ Results/Re500/2pulse01/no_inflation/state_$(lpad(i,3,0)).png\")\n",
    "# end"
   ]
  },
  {
   "cell_type": "code",
   "execution_count": 600,
   "metadata": {},
   "outputs": [],
   "source": [
    "# # for n in [3, 4, 6, 8]\n",
    "# n = 3\n",
    "# let s = [-0.5config.L*cos(θ) for θ in range(0.0, stop = π, length = config.N)][pressure_taps],\n",
    "#     model_pressures = hcat((measure_state(states[i+1][n], t, config, pressure_taps) for (i,t) in enumerate(T[1:300]))...),\n",
    "# #     cfd_pressures = hcat((cfd_pressure(t, pressure_taps, config, pressure_data) for t in T)...)\n",
    "    \n",
    "#     plt = plot(size = (800, 200))\n",
    "#     contourf!(T[1:300], s, model_pressures,\n",
    "#         levels = range(-2.0, stop = 2.0, length = 151), clims = (-2, 2), color = cgrad(reverse(colormap(\"RdBu\"))), xlabel = [\"\" \"Convective Time\"],\n",
    "#         yticks = ([0.5, -0.5], [\"LE\", \"TE\"]), background_color_inside = colormap(\"RdBu\")[end], colorbar_title=\"Pressure\")\n",
    "# end\n",
    "# savefig(\"EnKF\\ Results/Ensemble/pressure_n$(lpad(n,2,0)).pdf\")\n",
    "# # end"
   ]
  },
  {
   "cell_type": "code",
   "execution_count": 601,
   "metadata": {},
   "outputs": [
    {
     "data": {
      "image/png": "[encoded data removed]"
     },
     "execution_count": 601,
     "metadata": {},
     "output_type": "execute_result"
    }
   ],
   "source": [
    "let s = [-0.5config.L*cos(θ) for θ in range(0.0, stop = π, length = config.N)][pressure_taps],\n",
    "    model_pressures = hcat((measure_state(states[i+1][1], t, config, pressure_taps) for (i,t) in enumerate(T[1:300]))...),\n",
    "#     cfd_pressures = hcat((cfd_pressure(t, pressure_taps, config, pressure_data) for t in T)...)\n",
    "    \n",
    "    plt = plot(size = (800, 200))\n",
    "    contourf!(T[1:300], s, model_pressures,\n",
    "        levels = range(-2.0, stop = 2.0, length = 151), clims = (-2, 2), color = cgrad(reverse(colormap(\"RdBu\"))), xlabel = [\"\" \"Convective Time\"],\n",
    "        yticks = ([0.5, -0.5], [\"LE\", \"TE\"]), background_color_inside = colormap(\"RdBu\")[end], colorbar_title=\"Pressure\")\n",
    "end\n",
    "#savefig(\"EnKF\\ Results/Ensemble/pressure_n$(lpad(n,2,0)).pdf\")"
   ]
  },
  {
   "cell_type": "code",
   "execution_count": null,
   "metadata": {},
   "outputs": [],
   "source": []
  },
  {
   "cell_type": "code",
   "execution_count": null,
   "metadata": {},
   "outputs": [],
   "source": []
  }
 ],
 "metadata": {
  "@webio": {
   "lastCommId": null,
   "lastKernelId": null
  },
  "kernelspec": {
   "display_name": "Julia 1.2.0",
   "language": "julia",
   "name": "julia-1.2"
  },
  "language_info": {
   "file_extension": ".jl",
   "mimetype": "application/julia",
   "name": "julia",
   "version": "1.2.0"
  }
 },
 "nbformat": 4,
 "nbformat_minor": 2
}
