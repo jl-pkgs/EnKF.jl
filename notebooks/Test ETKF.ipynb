{
 "cells": [
  {
   "cell_type": "code",
   "execution_count": null,
   "metadata": {},
   "outputs": [
    {
     "name": "stdout",
     "output_type": "stream",
     "text": [
      "\u001b[32m\u001b[1mActivating\u001b[22m\u001b[39m environment at `/media/mat/HDD/EnKF/Project.toml`\n"
     ]
    }
   ],
   "source": [
    "using Pkg\n",
    "Pkg.activate(\"/media/mat/HDD/EnKF/\")"
   ]
  },
  {
   "cell_type": "code",
   "execution_count": 6,
   "metadata": {},
   "outputs": [
    {
     "name": "stderr",
     "output_type": "stream",
     "text": [
      "┌ Info: Precompiling EnKF [685896a8-a41b-11e9-3419-3315e75b5d74]\n",
      "└ @ Base loading.jl:1242\n",
      "┌ Warning: Replacing docs for `EnKF.A :: Union{Tuple{EnKF.EnsembleState{N,TS}}, Tuple{TS}, Tuple{NS}, Tuple{N}} where TS where NS where N` in module `EnKF`\n",
      "└ @ Base.Docs docs/Docs.jl:223\n",
      "┌ Warning: Replacing docs for `EnKF.A :: Union{Tuple{EnKF.EnsembleState{N,TS}}, Tuple{TS}, Tuple{NS}, Tuple{N}} where TS where NS where N` in module `EnKF`\n",
      "└ @ Base.Docs docs/Docs.jl:223\n"
     ]
    }
   ],
   "source": [
    "using Revise\n",
    "using EnKF\n",
    "using LinearAlgebra"
   ]
  },
  {
   "cell_type": "code",
   "execution_count": 56,
   "metadata": {},
   "outputs": [
    {
     "data": {
      "text/plain": [
       "3×3 Array{Float64,2}:\n",
       "  4.0  -3.0  -3.0\n",
       "  3.0  -2.0  -3.0\n",
       " -1.0   1.0   2.0"
      ]
     },
     "execution_count": 56,
     "metadata": {},
     "output_type": "execute_result"
    }
   ],
   "source": [
    "A = [4.0 -3.0 -3.0; 3.0 -2.0 -3.0; -1.0 1.0 2.0]"
   ]
  },
  {
   "cell_type": "code",
   "execution_count": 57,
   "metadata": {},
   "outputs": [
    {
     "data": {
      "text/plain": [
       "3×3 Diagonal{Float64,Array{Float64,1}}:\n",
       " 1.0   ⋅    ⋅ \n",
       "  ⋅   1.0   ⋅ \n",
       "  ⋅    ⋅   2.0"
      ]
     },
     "execution_count": 57,
     "metadata": {},
     "output_type": "execute_result"
    }
   ],
   "source": [
    "U = eigen(A).vectors\n",
    "Σ = Diagonal(real(eigen(A).values))"
   ]
  },
  {
   "cell_type": "code",
   "execution_count": 58,
   "metadata": {},
   "outputs": [
    {
     "data": {
      "text/plain": [
       "3×3 Array{Complex{Float64},2}:\n",
       "  1.03328+0.0im        0.957915-0.0733132im  -1.01163+0.0257125im\n",
       " 0.957915+0.0733132im   1.03328+0.0im        -1.01163-0.0257125im\n",
       " -1.01163-0.0257125im  -1.01163+0.0257125im   1.05263+0.0im      "
      ]
     },
     "execution_count": 58,
     "metadata": {},
     "output_type": "execute_result"
    }
   ],
   "source": [
    "U'*Σ*U"
   ]
  },
  {
   "cell_type": "code",
   "execution_count": 59,
   "metadata": {},
   "outputs": [
    {
     "name": "stdout",
     "output_type": "stream",
     "text": [
      "  0.000104 seconds (28 allocations: 5.453 KiB)\n"
     ]
    },
    {
     "data": {
      "text/plain": [
       "Eigen{Complex{Float64},Complex{Float64},Array{Complex{Float64},2},Array{Complex{Float64},1}}\n",
       "eigenvalues:\n",
       "3-element Array{Complex{Float64},1}:\n",
       " 1.0000000000000004 - 6.004449063730081e-16im\n",
       " 1.0000000000000004 + 6.004449063730081e-16im\n",
       " 1.9999999999999996 + 0.0im                  \n",
       "eigenvectors:\n",
       "3×3 Array{Complex{Float64},2}:\n",
       "  -0.61497-0.112078im   -0.61497+0.112078im   0.688247+0.0im\n",
       " -0.758924-0.0im       -0.758924+0.0im        0.688247+0.0im\n",
       "  0.143954-0.112078im   0.143954+0.112078im  -0.229416+0.0im"
      ]
     },
     "execution_count": 59,
     "metadata": {},
     "output_type": "execute_result"
    }
   ],
   "source": [
    "@time Σ, U = eigen([4.0 -3.0 -3.0; 3.0 -2.0 -3.0; -1.0 1.0 2.0])"
   ]
  },
  {
   "cell_type": "code",
   "execution_count": 48,
   "metadata": {},
   "outputs": [
    {
     "data": {
      "text/plain": [
       "3-element Array{Complex{Float64},1}:\n",
       " 1.0000000000000004 - 6.004449063730081e-16im\n",
       " 1.0000000000000004 + 6.004449063730081e-16im\n",
       " 1.9999999999999996 + 0.0im                  "
      ]
     },
     "execution_count": 48,
     "metadata": {},
     "output_type": "execute_result"
    }
   ],
   "source": [
    "Σ"
   ]
  },
  {
   "cell_type": "code",
   "execution_count": 63,
   "metadata": {},
   "outputs": [
    {
     "data": {
      "text/plain": [
       "3×3 Array{Float64,2}:\n",
       " 0.0          8.88178e-16   1.77636e-15\n",
       " 8.88178e-16  0.0          -1.77636e-15\n",
       " 0.0          0.0           0.0        "
      ]
     },
     "execution_count": 63,
     "metadata": {},
     "output_type": "execute_result"
    }
   ],
   "source": [
    "real(U*Diagonal(Σ)*inv(U))-A"
   ]
  }
 ],
 "metadata": {
  "kernelspec": {
   "display_name": "Julia 1.2.0",
   "language": "julia",
   "name": "julia-1.2"
  },
  "language_info": {
   "file_extension": ".jl",
   "mimetype": "application/julia",
   "name": "julia",
   "version": "1.2.0"
  }
 },
 "nbformat": 4,
 "nbformat_minor": 2
}
